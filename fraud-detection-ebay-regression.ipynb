{
 "cells": [
  {
   "cell_type": "markdown",
   "metadata": {},
   "source": [
    "# Fraud Detection (Using Ebay Dataset)\n",
    "\n",
    "* [Data Understanding](#Data-Understanding)\n",
    "    - Data collection/acquisition\n",
    "    - Exploring Raw Data (Initial EDA)\n",
    "        + Describing Data\n",
    "        + Viewing Structure/Data Types\n",
    "        + Verifying Data Quality\n",
    "* [Data Preparation](#Data-Preparation)\n",
    "    - Tidying Data (Data Wrangling)\n",
    "        + Reshaping Data (melting, pivoting vs.)\n",
    "        + Splitting Cells\n",
    "    - Data Preprocessing (Data Wrangling?)\n",
    "        + Data Cleansing\n",
    "            - Missing, Outlier, Inconsistent and Noisy Data Analysis\n",
    "            - Converting Data Types\n",
    "        + Data Transformation (Manipulation)\n",
    "            - Feature Engineering\n",
    "            - Feature Scaling (Standardization, Normalization)\n",
    "            - Feature Selection (Data Reduction)\n",
    "    - Data Exploration (EDA)\n",
    "        + Summary\n",
    "        + Visual\n",
    "    - Sampling (Data cok buyukse)?\n",
    "    - Data Splitting\n",
    "    - Setting up a Pipeline (Asagidaki asamada olabilir)?\n",
    "* [Modelling](#Modelling)\n",
    "    - Selecting Modeling Techniques\n",
    "    - Building Model\n",
    "    - Assessing Model\n",
    "* [Evaluation](#Evaluation)\n",
    "    - Evaluating Results\n",
    "    - Reviewing Process\n",
    "\n",
    "---"
   ]
  },
  {
   "cell_type": "markdown",
   "metadata": {},
   "source": [
    "## Data Understanding"
   ]
  },
  {
   "cell_type": "markdown",
   "metadata": {},
   "source": [
    "### Data collection/acquisition"
   ]
  },
  {
   "cell_type": "code",
   "execution_count": null,
   "metadata": {},
   "outputs": [],
   "source": []
  },
  {
   "cell_type": "markdown",
   "metadata": {},
   "source": [
    "### Data Preprocessing"
   ]
  },
  {
   "cell_type": "code",
   "execution_count": null,
   "metadata": {},
   "outputs": [],
   "source": []
  },
  {
   "cell_type": "markdown",
   "metadata": {},
   "source": [
    "### Data Preprocessing "
   ]
  },
  {
   "cell_type": "code",
   "execution_count": null,
   "metadata": {},
   "outputs": [],
   "source": []
  },
  {
   "cell_type": "markdown",
   "metadata": {},
   "source": [
    "### Exploring Raw Data (Initial EDA)"
   ]
  },
  {
   "cell_type": "code",
   "execution_count": null,
   "metadata": {},
   "outputs": [],
   "source": []
  },
  {
   "cell_type": "markdown",
   "metadata": {},
   "source": [
    "---"
   ]
  },
  {
   "cell_type": "markdown",
   "metadata": {},
   "source": [
    "## Data Preparation"
   ]
  },
  {
   "cell_type": "markdown",
   "metadata": {},
   "source": [
    "### Tidying Data (Data Wrangling)"
   ]
  },
  {
   "cell_type": "markdown",
   "metadata": {},
   "source": [
    "### Data Exploration (EDA)"
   ]
  },
  {
   "cell_type": "code",
   "execution_count": null,
   "metadata": {},
   "outputs": [],
   "source": []
  },
  {
   "cell_type": "markdown",
   "metadata": {},
   "source": [
    "---"
   ]
  },
  {
   "cell_type": "markdown",
   "metadata": {},
   "source": [
    "## Modelling"
   ]
  },
  {
   "cell_type": "code",
   "execution_count": null,
   "metadata": {},
   "outputs": [],
   "source": []
  },
  {
   "cell_type": "markdown",
   "metadata": {},
   "source": [
    "---"
   ]
  },
  {
   "cell_type": "markdown",
   "metadata": {},
   "source": [
    "## Evaluation"
   ]
  },
  {
   "cell_type": "code",
   "execution_count": null,
   "metadata": {},
   "outputs": [],
   "source": []
  },
  {
   "cell_type": "markdown",
   "metadata": {},
   "source": [
    "---"
   ]
  }
 ],
 "metadata": {
  "kernelspec": {
   "display_name": "Python 3",
   "language": "python",
   "name": "python3"
  },
  "language_info": {
   "codemirror_mode": {
    "name": "ipython",
    "version": 3
   },
   "file_extension": ".py",
   "mimetype": "text/x-python",
   "name": "python",
   "nbconvert_exporter": "python",
   "pygments_lexer": "ipython3",
   "version": "3.6.8"
  },
  "toc-autonumbering": false,
  "toc-showcode": false,
  "toc-showmarkdowntxt": false
 },
 "nbformat": 4,
 "nbformat_minor": 2
}
