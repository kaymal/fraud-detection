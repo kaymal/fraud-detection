{
 "cells": [
  {
   "cell_type": "markdown",
   "metadata": {},
   "source": [
    "# Scraping the List of Auto Models"
   ]
  },
  {
   "cell_type": "code",
   "execution_count": 1,
   "metadata": {},
   "outputs": [],
   "source": [
    "from bs4 import BeautifulSoup # Parsing the web page\n",
    "import pandas as pd"
   ]
  },
  {
   "cell_type": "code",
   "execution_count": 2,
   "metadata": {},
   "outputs": [],
   "source": [
    "HtmlFile = open(\"data/ScoutBody.html\", 'r', encoding='utf-8')\n",
    "source_code = HtmlFile.read()"
   ]
  },
  {
   "cell_type": "code",
   "execution_count": 3,
   "metadata": {},
   "outputs": [
    {
     "data": {
      "text/plain": [
       "bs4.BeautifulSoup"
      ]
     },
     "execution_count": 3,
     "metadata": {},
     "output_type": "execute_result"
    }
   ],
   "source": [
    "soup = BeautifulSoup(source_code,'html.parser')\n",
    "type(soup)"
   ]
  },
  {
   "cell_type": "code",
   "execution_count": 4,
   "metadata": {},
   "outputs": [
    {
     "data": {
      "text/plain": [
       "<title>Used cars for sale - AutoScout24</title>"
      ]
     },
     "execution_count": 4,
     "metadata": {},
     "output_type": "execute_result"
    }
   ],
   "source": [
    "soup.title"
   ]
  },
  {
   "cell_type": "code",
   "execution_count": 5,
   "metadata": {},
   "outputs": [],
   "source": [
    "div = soup.find(class_ = 'cl-classified-list-container')\n",
    "script = div.find('script')"
   ]
  },
  {
   "cell_type": "code",
   "execution_count": 6,
   "metadata": {},
   "outputs": [],
   "source": [
    "df = pd.DataFrame(script.text.split(\"{\"))"
   ]
  },
  {
   "cell_type": "code",
   "execution_count": 7,
   "metadata": {},
   "outputs": [],
   "source": [
    "df = df[df[0].str.find('\"isModel\" : true') != -1]"
   ]
  },
  {
   "cell_type": "code",
   "execution_count": 8,
   "metadata": {},
   "outputs": [],
   "source": [
    "models = df[0].str.extract(r'(\"name\" : )(\\\".*?\\\")')[1]"
   ]
  },
  {
   "cell_type": "code",
   "execution_count": 9,
   "metadata": {},
   "outputs": [
    {
     "data": {
      "text/plain": [
       "7                   \"114\"\n",
       "8                   \"116\"\n",
       "9                   \"118\"\n",
       "10                  \"120\"\n",
       "11                  \"123\"\n",
       "12                  \"125\"\n",
       "13                  \"130\"\n",
       "14                  \"135\"\n",
       "15                  \"140\"\n",
       "17                  \"214\"\n",
       "18                  \"216\"\n",
       "19                  \"218\"\n",
       "20                  \"220\"\n",
       "21                  \"225\"\n",
       "22                  \"228\"\n",
       "23                  \"230\"\n",
       "24                  \"235\"\n",
       "25                  \"240\"\n",
       "26                 \"2002\"\n",
       "28                  \"315\"\n",
       "29                  \"316\"\n",
       "30                  \"318\"\n",
       "31                  \"320\"\n",
       "32                  \"323\"\n",
       "33                  \"324\"\n",
       "34                  \"325\"\n",
       "35                  \"328\"\n",
       "36                  \"330\"\n",
       "37                  \"335\"\n",
       "38                  \"340\"\n",
       "              ...        \n",
       "83                  \"840\"\n",
       "84                  \"850\"\n",
       "85                   \"i3\"\n",
       "86                   \"i8\"\n",
       "88          \"1er M Coupé\"\n",
       "89                   \"M2\"\n",
       "90                   \"M3\"\n",
       "91                   \"M4\"\n",
       "92                   \"M5\"\n",
       "93                   \"M6\"\n",
       "94                   \"M1\"\n",
       "96     \"Active Hybrid X6\"\n",
       "97                   \"X1\"\n",
       "98                   \"X2\"\n",
       "99                   \"X3\"\n",
       "100                  \"X4\"\n",
       "101                \"X4 M\"\n",
       "102                  \"X5\"\n",
       "103                \"X5 M\"\n",
       "104                  \"X6\"\n",
       "105                \"X6 M\"\n",
       "106                  \"X7\"\n",
       "107                \"X7 M\"\n",
       "109                  \"Z1\"\n",
       "110                  \"Z3\"\n",
       "111                \"Z3 M\"\n",
       "112                  \"Z4\"\n",
       "113                \"Z4 M\"\n",
       "114                  \"Z8\"\n",
       "115              \"Others\"\n",
       "Name: 1, Length: 99, dtype: object"
      ]
     },
     "execution_count": 9,
     "metadata": {},
     "output_type": "execute_result"
    }
   ],
   "source": [
    "models"
   ]
  },
  {
   "cell_type": "code",
   "execution_count": null,
   "metadata": {},
   "outputs": [],
   "source": []
  }
 ],
 "metadata": {
  "kernelspec": {
   "display_name": "Python 3",
   "language": "python",
   "name": "python3"
  },
  "language_info": {
   "codemirror_mode": {
    "name": "ipython",
    "version": 3
   },
   "file_extension": ".py",
   "mimetype": "text/x-python",
   "name": "python",
   "nbconvert_exporter": "python",
   "pygments_lexer": "ipython3",
   "version": "3.7.3"
  }
 },
 "nbformat": 4,
 "nbformat_minor": 2
}
