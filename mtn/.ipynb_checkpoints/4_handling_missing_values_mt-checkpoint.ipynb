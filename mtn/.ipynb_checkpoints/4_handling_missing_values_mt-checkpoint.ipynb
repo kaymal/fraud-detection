{
 "cells": [
  {
   "cell_type": "markdown",
   "metadata": {},
   "source": [
    "**IMPORT**"
   ]
  },
  {
   "cell_type": "code",
   "execution_count": 156,
   "metadata": {},
   "outputs": [],
   "source": [
    "import pandas as pd\n",
    "import json       \n",
    "import numpy as np \n",
    "import matplotlib.pyplot as plt\n",
    "import seaborn as sns\n",
    "from scipy.stats import norm\n",
    "from sklearn.preprocessing import StandardScaler\n",
    "from scipy import stats\n",
    "import pandas_profiling\n",
    "import warnings\n",
    "warnings.filterwarnings('ignore')"
   ]
  },
  {
   "cell_type": "code",
   "execution_count": 157,
   "metadata": {},
   "outputs": [],
   "source": [
    "df=pd.read_pickle(\"autos_20190708.pkl\")"
   ]
  },
  {
   "cell_type": "code",
   "execution_count": 158,
   "metadata": {},
   "outputs": [
    {
     "data": {
      "text/plain": [
       "(15919, 136)"
      ]
     },
     "execution_count": 158,
     "metadata": {},
     "output_type": "execute_result"
    }
   ],
   "source": [
    "df.shape"
   ]
  },
  {
   "cell_type": "markdown",
   "metadata": {},
   "source": [
    "**HANDLING MISSING VALUES and OUTLIERS**"
   ]
  },
  {
   "cell_type": "code",
   "execution_count": 159,
   "metadata": {},
   "outputs": [],
   "source": [
    "# drop columns which have missing values more than %20.\n",
    "drop_list=df.columns[df.isnull().mean() > 0.20]\n",
    "df.drop(drop_list, axis=1, inplace=True)"
   ]
  },
  {
   "cell_type": "code",
   "execution_count": 160,
   "metadata": {},
   "outputs": [],
   "source": [
    "#drop double columns:\n",
    "df.drop(['body_type', 'first_registration'], axis=1, inplace=True)"
   ]
  },
  {
   "cell_type": "code",
   "execution_count": 161,
   "metadata": {},
   "outputs": [],
   "source": [
    "# offer_number has many unique values.(5956). Let's drop it.\n",
    "df.drop('offer_number', axis=1, inplace=True)"
   ]
  },
  {
   "cell_type": "code",
   "execution_count": 162,
   "metadata": {},
   "outputs": [
    {
     "data": {
      "text/plain": [
       "type                                 0.000126\n",
       "short_description                    0.002890\n",
       "body                                 0.003769\n",
       "hp                                   0.005528\n",
       "nr_of_doors                          0.013317\n",
       "displacement                         0.031158\n",
       "body_color                           0.037502\n",
       "cc_heated_steering_wheel             0.057793\n",
       "cc_heads_up_display                  0.057793\n",
       "cc_electrically_heated_windshield    0.057793\n",
       "cc_electrically_adjustable_seats     0.057793\n",
       "cc_electrical_side_mirrors           0.057793\n",
       "cc_electric_tailgate                 0.057793\n",
       "cc_air_suspension                    0.057793\n",
       "cc_cruise_control                    0.057793\n",
       "cc_auxiliary_heating                 0.057793\n",
       "cc_hill_holder                       0.057793\n",
       "cc_armrest                           0.057793\n",
       "cc_wind_deflector                    0.057793\n",
       "cc_air_conditioning                  0.057793\n",
       "cc_electric_starter                  0.057793\n",
       "cc_automatic_climate_control         0.057793\n",
       "cc_leather_seats                     0.057793\n",
       "cc_leather_steering_wheel            0.057793\n",
       "cc_start_stop_system                 0.057793\n",
       "cc_split_rear_seats                  0.057793\n",
       "cc_seat_ventilation                  0.057793\n",
       "cc_seat_heating                      0.057793\n",
       "cc_rain_sensor                       0.057793\n",
       "cc_power_windows                     0.057793\n",
       "                                       ...   \n",
       "ent_media_radio                      0.086312\n",
       "ent_media_bluetooth                  0.086312\n",
       "ent_media_cd_player                  0.086312\n",
       "ent_media_digital_radio              0.086312\n",
       "ent_media_hands_free_equipment       0.086312\n",
       "ent_media_usb                        0.086312\n",
       "ent_media_television                 0.086312\n",
       "ent_media_sound_system               0.086312\n",
       "ent_media_mp3                        0.086312\n",
       "ent_media_on_board_computer          0.086312\n",
       "age                                  0.100320\n",
       "co2_emission                         0.153025\n",
       "consumption_comb                     0.181104\n",
       "ext_tuned_car                        0.186067\n",
       "ext_trailer_hitch                    0.186067\n",
       "ext_touch_screen                     0.186067\n",
       "ext_sport_suspension                 0.186067\n",
       "ext_sport_seats                      0.186067\n",
       "ext_sport_package                    0.186067\n",
       "ext_sliding_door                     0.186067\n",
       "ext_ski_bag                          0.186067\n",
       "ext_shift_paddles                    0.186067\n",
       "ext_roof_rack                        0.186067\n",
       "ext_right_hand_drive                 0.186067\n",
       "ext_handicapped_enabled              0.186067\n",
       "ext_catalytic_converter              0.186067\n",
       "ext_cab_or_rented_car                0.186067\n",
       "ext_alloy_wheels                     0.186067\n",
       "ext_voice_control                    0.186067\n",
       "ext_winter_tyres                     0.186067\n",
       "Length: 106, dtype: float64"
      ]
     },
     "execution_count": 162,
     "metadata": {},
     "output_type": "execute_result"
    }
   ],
   "source": [
    "# see the missing values in each columns:\n",
    "df.isnull().mean()[df.isnull().mean() > 0].sort_values(ascending=True)"
   ]
  },
  {
   "cell_type": "markdown",
   "metadata": {},
   "source": [
    "**type**"
   ]
  },
  {
   "cell_type": "code",
   "execution_count": 163,
   "metadata": {},
   "outputs": [
    {
     "data": {
      "text/plain": [
       "Used              11096\n",
       "New                1650\n",
       "Pre-registered     1364\n",
       "Employee's car     1011\n",
       "Demonstration       796\n",
       "NaN                   2\n",
       "Name: type, dtype: int64"
      ]
     },
     "execution_count": 163,
     "metadata": {},
     "output_type": "execute_result"
    }
   ],
   "source": [
    "df.type.value_counts(dropna=False)"
   ]
  },
  {
   "cell_type": "code",
   "execution_count": 164,
   "metadata": {},
   "outputs": [
    {
     "data": {
      "text/plain": [
       "<matplotlib.axes._subplots.AxesSubplot at 0x13a0534c908>"
      ]
     },
     "execution_count": 164,
     "metadata": {},
     "output_type": "execute_result"
    },
    {
     "data": {
      "image/png": "[encoded data removed]",
      "text/plain": [
       "<Figure size 576x216 with 1 Axes>"
      ]
     },
     "metadata": {
      "needs_background": "light"
     },
     "output_type": "display_data"
    }
   ],
   "source": [
    "plt.figure(figsize=(8,3))\n",
    "sns.countplot(df.type)"
   ]
  },
  {
   "cell_type": "code",
   "execution_count": 165,
   "metadata": {},
   "outputs": [],
   "source": [
    "df[\"type\"].fillna(\"Used\", inplace = True) "
   ]
  },
  {
   "cell_type": "markdown",
   "metadata": {},
   "source": [
    "**body**"
   ]
  },
  {
   "cell_type": "code",
   "execution_count": 166,
   "metadata": {},
   "outputs": [
    {
     "data": {
      "text/plain": [
       "Sedans           7903\n",
       "Station wagon    3553\n",
       "Compact          3153\n",
       "Van               783\n",
       "Other             290\n",
       "Transporter        88\n",
       "NaN                60\n",
       "Off-Road           56\n",
       "Coupe              25\n",
       "Convertible         8\n",
       "Name: body, dtype: int64"
      ]
     },
     "execution_count": 166,
     "metadata": {},
     "output_type": "execute_result"
    }
   ],
   "source": [
    "df.body.value_counts(dropna=False)"
   ]
  },
  {
   "cell_type": "code",
   "execution_count": 167,
   "metadata": {},
   "outputs": [
    {
     "data": {
      "text/plain": [
       "<matplotlib.axes._subplots.AxesSubplot at 0x13a051370f0>"
      ]
     },
     "execution_count": 167,
     "metadata": {},
     "output_type": "execute_result"
    },
    {
     "data": {
      "image/png": "[encoded data removed]",
      "text/plain": [
       "<Figure size 720x216 with 1 Axes>"
      ]
     },
     "metadata": {
      "needs_background": "light"
     },
     "output_type": "display_data"
    }
   ],
   "source": [
    "plt.figure(figsize=(10,3))\n",
    "sns.countplot(df.body)"
   ]
  },
  {
   "cell_type": "code",
   "execution_count": 168,
   "metadata": {},
   "outputs": [],
   "source": [
    "df[\"body\"].fillna(\"Sedans\", inplace = True) "
   ]
  },
  {
   "cell_type": "markdown",
   "metadata": {},
   "source": [
    "**hp**"
   ]
  },
  {
   "cell_type": "code",
   "execution_count": 169,
   "metadata": {},
   "outputs": [
    {
     "data": {
      "text/plain": [
       "<matplotlib.axes._subplots.AxesSubplot at 0x13a03341e48>"
      ]
     },
     "execution_count": 169,
     "metadata": {},
     "output_type": "execute_result"
    },
    {
     "data": {
      "text/plain": [
       "<Figure size 216x216 with 0 Axes>"
      ]
     },
     "metadata": {},
     "output_type": "display_data"
    },
    {
     "data": {
      "image/png": "[encoded data removed]",
      "text/plain": [
       "<Figure size 432x288 with 1 Axes>"
      ]
     },
     "metadata": {
      "needs_background": "light"
     },
     "output_type": "display_data"
    }
   ],
   "source": [
    "plt.figure(figsize=(3,3))\n",
    "df.boxplot(column='hp', by = 'model')"
   ]
  },
  {
   "cell_type": "code",
   "execution_count": 170,
   "metadata": {},
   "outputs": [
    {
     "data": {
      "text/plain": [
       "88"
      ]
     },
     "execution_count": 170,
     "metadata": {},
     "output_type": "execute_result"
    }
   ],
   "source": [
    "df.hp.isnull().sum()"
   ]
  },
  {
   "cell_type": "code",
   "execution_count": 171,
   "metadata": {},
   "outputs": [
    {
     "data": {
      "text/plain": [
       "count    15831.000000\n",
       "mean        88.367696\n",
       "std         26.835135\n",
       "min          1.000000\n",
       "25%         66.000000\n",
       "50%         85.000000\n",
       "75%        101.000000\n",
       "max        294.000000\n",
       "Name: hp, dtype: float64"
      ]
     },
     "execution_count": 171,
     "metadata": {},
     "output_type": "execute_result"
    }
   ],
   "source": [
    "df.hp.describe()"
   ]
  },
  {
   "cell_type": "code",
   "execution_count": 169,
   "metadata": {},
   "outputs": [],
   "source": [
    "# min 1 hp is not normal."
   ]
  },
  {
   "cell_type": "code",
   "execution_count": 172,
   "metadata": {},
   "outputs": [
    {
     "data": {
      "text/plain": [
       "<matplotlib.axes._subplots.AxesSubplot at 0x13a03480320>"
      ]
     },
     "execution_count": 172,
     "metadata": {},
     "output_type": "execute_result"
    },
    {
     "data": {
      "image/png": "[encoded data removed]",
      "text/plain": [
       "<Figure size 432x288 with 1 Axes>"
      ]
     },
     "metadata": {
      "needs_background": "light"
     },
     "output_type": "display_data"
    }
   ],
   "source": [
    "df.plot.scatter(x='hp', y='price')"
   ]
  },
  {
   "cell_type": "code",
   "execution_count": 173,
   "metadata": {},
   "outputs": [],
   "source": [
    "# Replace hp below 30 with mean value.\n",
    "df.loc[(df['hp']<30), 'hp']=88"
   ]
  },
  {
   "cell_type": "code",
   "execution_count": 174,
   "metadata": {},
   "outputs": [],
   "source": [
    "df['hp'].fillna(df.groupby('model')['hp'].transform(\"mean\"), inplace=True)"
   ]
  },
  {
   "cell_type": "markdown",
   "metadata": {},
   "source": [
    "**nr_of_doors**"
   ]
  },
  {
   "cell_type": "code",
   "execution_count": 175,
   "metadata": {},
   "outputs": [
    {
     "data": {
      "text/plain": [
       "<matplotlib.axes._subplots.AxesSubplot at 0x13a034d9f98>"
      ]
     },
     "execution_count": 175,
     "metadata": {},
     "output_type": "execute_result"
    },
    {
     "data": {
      "image/png": "[encoded data removed]",
      "text/plain": [
       "<Figure size 432x288 with 1 Axes>"
      ]
     },
     "metadata": {
      "needs_background": "light"
     },
     "output_type": "display_data"
    }
   ],
   "source": [
    "df.boxplot(column='nr_of_doors', by = 'model')"
   ]
  },
  {
   "cell_type": "code",
   "execution_count": 176,
   "metadata": {},
   "outputs": [
    {
     "data": {
      "text/plain": [
       "<matplotlib.axes._subplots.AxesSubplot at 0x13a03507ef0>"
      ]
     },
     "execution_count": 176,
     "metadata": {},
     "output_type": "execute_result"
    },
    {
     "data": {
      "image/png": "[encoded data removed]",
      "text/plain": [
       "<Figure size 432x288 with 1 Axes>"
      ]
     },
     "metadata": {
      "needs_background": "light"
     },
     "output_type": "display_data"
    }
   ],
   "source": [
    "sns.countplot(df.nr_of_doors)"
   ]
  },
  {
   "cell_type": "code",
   "execution_count": 177,
   "metadata": {},
   "outputs": [],
   "source": [
    "df[\"nr_of_doors\"]=df[\"nr_of_doors\"].fillna(5) "
   ]
  },
  {
   "cell_type": "markdown",
   "metadata": {},
   "source": [
    "**displacement**"
   ]
  },
  {
   "cell_type": "code",
   "execution_count": 178,
   "metadata": {},
   "outputs": [
    {
     "data": {
      "text/plain": [
       "<matplotlib.axes._subplots.AxesSubplot at 0x13a0363cdd8>"
      ]
     },
     "execution_count": 178,
     "metadata": {},
     "output_type": "execute_result"
    },
    {
     "data": {
      "image/png": "[encoded data removed]",
      "text/plain": [
       "<Figure size 432x288 with 1 Axes>"
      ]
     },
     "metadata": {
      "needs_background": "light"
     },
     "output_type": "display_data"
    }
   ],
   "source": [
    "df.boxplot('displacement')"
   ]
  },
  {
   "cell_type": "code",
   "execution_count": 177,
   "metadata": {},
   "outputs": [],
   "source": [
    "# dispacements around 16000 are strange. We'll detect and drop them."
   ]
  },
  {
   "cell_type": "code",
   "execution_count": 179,
   "metadata": {},
   "outputs": [
    {
     "data": {
      "text/plain": [
       "7169     15898.0\n",
       "10932    16000.0\n",
       "Name: displacement, dtype: float64"
      ]
     },
     "execution_count": 179,
     "metadata": {},
     "output_type": "execute_result"
    }
   ],
   "source": [
    "df.displacement[df.displacement>4000]"
   ]
  },
  {
   "cell_type": "code",
   "execution_count": 180,
   "metadata": {},
   "outputs": [],
   "source": [
    "df = df.drop([7169, 10932])"
   ]
  },
  {
   "cell_type": "code",
   "execution_count": 181,
   "metadata": {},
   "outputs": [
    {
     "data": {
      "text/plain": [
       "<matplotlib.axes._subplots.AxesSubplot at 0x13a036a1828>"
      ]
     },
     "execution_count": 181,
     "metadata": {},
     "output_type": "execute_result"
    },
    {
     "data": {
      "image/png": "[encoded data removed]",
      "text/plain": [
       "<Figure size 432x288 with 1 Axes>"
      ]
     },
     "metadata": {
      "needs_background": "light"
     },
     "output_type": "display_data"
    }
   ],
   "source": [
    "df.boxplot('displacement')"
   ]
  },
  {
   "cell_type": "code",
   "execution_count": 181,
   "metadata": {},
   "outputs": [],
   "source": [
    "# displacement values below 500 doesn't seem normal."
   ]
  },
  {
   "cell_type": "code",
   "execution_count": 182,
   "metadata": {},
   "outputs": [
    {
     "data": {
      "text/plain": [
       "1.0      36\n",
       "160.0     6\n",
       "139.0     4\n",
       "2.0       2\n",
       "54.0      1\n",
       "122.0     1\n",
       "140.0     1\n",
       "Name: displacement, dtype: int64"
      ]
     },
     "execution_count": 182,
     "metadata": {},
     "output_type": "execute_result"
    }
   ],
   "source": [
    "df.displacement[df.displacement<500].value_counts()"
   ]
  },
  {
   "cell_type": "code",
   "execution_count": 183,
   "metadata": {},
   "outputs": [],
   "source": [
    "drop_list_disp=df.displacement[df.displacement<500].index"
   ]
  },
  {
   "cell_type": "code",
   "execution_count": 184,
   "metadata": {},
   "outputs": [],
   "source": [
    "df = df.drop(drop_list_disp)"
   ]
  },
  {
   "cell_type": "code",
   "execution_count": 185,
   "metadata": {},
   "outputs": [
    {
     "data": {
      "text/plain": [
       "<matplotlib.axes._subplots.AxesSubplot at 0x13a036ed2e8>"
      ]
     },
     "execution_count": 185,
     "metadata": {},
     "output_type": "execute_result"
    },
    {
     "data": {
      "image/png": "[encoded data removed]",
      "text/plain": [
       "<Figure size 432x288 with 1 Axes>"
      ]
     },
     "metadata": {
      "needs_background": "light"
     },
     "output_type": "display_data"
    }
   ],
   "source": [
    "df.boxplot(column='displacement', by = 'model')"
   ]
  },
  {
   "cell_type": "code",
   "execution_count": 186,
   "metadata": {},
   "outputs": [
    {
     "data": {
      "text/plain": [
       "496"
      ]
     },
     "execution_count": 186,
     "metadata": {},
     "output_type": "execute_result"
    }
   ],
   "source": [
    "df.displacement.isnull().sum()"
   ]
  },
  {
   "cell_type": "code",
   "execution_count": 187,
   "metadata": {},
   "outputs": [],
   "source": [
    "df['displacement'].fillna(df.groupby('model')['displacement'].transform(\"mean\"), inplace=True)"
   ]
  },
  {
   "cell_type": "markdown",
   "metadata": {},
   "source": [
    "**body_color**"
   ]
  },
  {
   "cell_type": "code",
   "execution_count": 188,
   "metadata": {},
   "outputs": [
    {
     "data": {
      "text/plain": [
       "597"
      ]
     },
     "execution_count": 188,
     "metadata": {},
     "output_type": "execute_result"
    }
   ],
   "source": [
    "df.body_color.isnull().sum()"
   ]
  },
  {
   "cell_type": "code",
   "execution_count": 189,
   "metadata": {},
   "outputs": [
    {
     "data": {
      "text/plain": [
       "<matplotlib.axes._subplots.AxesSubplot at 0x13a0372def0>"
      ]
     },
     "execution_count": 189,
     "metadata": {},
     "output_type": "execute_result"
    },
    {
     "data": {
      "image/png": "[encoded data removed]",
      "text/plain": [
       "<Figure size 720x216 with 1 Axes>"
      ]
     },
     "metadata": {
      "needs_background": "light"
     },
     "output_type": "display_data"
    }
   ],
   "source": [
    "plt.figure(figsize=(10,3))\n",
    "sns.countplot(df.body_color)"
   ]
  },
  {
   "cell_type": "code",
   "execution_count": 190,
   "metadata": {},
   "outputs": [],
   "source": [
    "df[\"body_color\"].fillna(\"Black\", inplace = True) "
   ]
  },
  {
   "cell_type": "markdown",
   "metadata": {},
   "source": [
    "**age**"
   ]
  },
  {
   "cell_type": "code",
   "execution_count": 191,
   "metadata": {},
   "outputs": [
    {
     "data": {
      "text/plain": [
       "<matplotlib.axes._subplots.AxesSubplot at 0x13a03cb4f60>"
      ]
     },
     "execution_count": 191,
     "metadata": {},
     "output_type": "execute_result"
    },
    {
     "data": {
      "image/png": "[encoded data removed]",
      "text/plain": [
       "<Figure size 432x288 with 1 Axes>"
      ]
     },
     "metadata": {
      "needs_background": "light"
     },
     "output_type": "display_data"
    }
   ],
   "source": [
    "sns.countplot(df.age)"
   ]
  },
  {
   "cell_type": "code",
   "execution_count": 192,
   "metadata": {},
   "outputs": [
    {
     "data": {
      "text/plain": [
       "1595"
      ]
     },
     "execution_count": 192,
     "metadata": {},
     "output_type": "execute_result"
    }
   ],
   "source": [
    "df.age.isnull().sum()"
   ]
  },
  {
   "cell_type": "code",
   "execution_count": 193,
   "metadata": {},
   "outputs": [],
   "source": [
    "# In heat meap (in EDA file) age has huge corr with km, price and cons_comb.\n",
    "# Due to price is target value we don't use price to fill age column's missing values.\n",
    "# Also km and cons_comb have missing values.\n",
    "# firstly fill these columns then make a classification."
   ]
  },
  {
   "cell_type": "code",
   "execution_count": 193,
   "metadata": {},
   "outputs": [
    {
     "data": {
      "text/plain": [
       "1017"
      ]
     },
     "execution_count": 193,
     "metadata": {},
     "output_type": "execute_result"
    }
   ],
   "source": [
    "df.km.isnull().sum()"
   ]
  },
  {
   "cell_type": "code",
   "execution_count": 194,
   "metadata": {},
   "outputs": [
    {
     "data": {
      "text/plain": [
       "2836"
      ]
     },
     "execution_count": 194,
     "metadata": {},
     "output_type": "execute_result"
    }
   ],
   "source": [
    "df.consumption_comb.isnull().sum()"
   ]
  },
  {
   "cell_type": "markdown",
   "metadata": {},
   "source": [
    "**km**"
   ]
  },
  {
   "cell_type": "code",
   "execution_count": 195,
   "metadata": {},
   "outputs": [
    {
     "data": {
      "text/plain": [
       "<matplotlib.axes._subplots.AxesSubplot at 0x13a03c5e898>"
      ]
     },
     "execution_count": 195,
     "metadata": {},
     "output_type": "execute_result"
    },
    {
     "data": {
      "image/png": "[encoded data removed]",
      "text/plain": [
       "<Figure size 432x288 with 1 Axes>"
      ]
     },
     "metadata": {
      "needs_background": "light"
     },
     "output_type": "display_data"
    }
   ],
   "source": [
    "df.boxplot(column='km', by = 'age')"
   ]
  },
  {
   "cell_type": "code",
   "execution_count": 196,
   "metadata": {},
   "outputs": [
    {
     "data": {
      "text/plain": [
       "age\n",
       "0.0     2095.863755\n",
       "1.0    18039.908745\n",
       "2.0    41766.574182\n",
       "3.0    77440.801198\n",
       "Name: km, dtype: float64"
      ]
     },
     "execution_count": 196,
     "metadata": {},
     "output_type": "execute_result"
    }
   ],
   "source": [
    "df.groupby('age')['km'].mean()"
   ]
  },
  {
   "cell_type": "code",
   "execution_count": 198,
   "metadata": {},
   "outputs": [],
   "source": [
    "# we will fill missing values with means groupby age."
   ]
  },
  {
   "cell_type": "code",
   "execution_count": 197,
   "metadata": {},
   "outputs": [],
   "source": [
    "df.loc[(df['age']==0) & (df['km'].isnull()), 'km']=2095\n",
    "df.loc[(df['age']==1) & (df['km'].isnull()), 'km']=18039\n",
    "df.loc[(df['age']==2) & (df['km'].isnull()), 'km']=41766\n",
    "df.loc[(df['age']==3) & (df['km'].isnull()), 'km']=77440"
   ]
  },
  {
   "cell_type": "code",
   "execution_count": 198,
   "metadata": {},
   "outputs": [
    {
     "data": {
      "text/plain": [
       "837"
      ]
     },
     "execution_count": 198,
     "metadata": {},
     "output_type": "execute_result"
    }
   ],
   "source": [
    "df.km.isnull().sum()"
   ]
  },
  {
   "cell_type": "code",
   "execution_count": 201,
   "metadata": {},
   "outputs": [],
   "source": [
    "#in these 837 rows also age columns are missing. \n",
    "#so we can not fill these rows with age.\n",
    "#if we don't km and age info we can drop these rows."
   ]
  },
  {
   "cell_type": "code",
   "execution_count": 199,
   "metadata": {},
   "outputs": [],
   "source": [
    "df=df.dropna(subset=['km'])"
   ]
  },
  {
   "cell_type": "code",
   "execution_count": 200,
   "metadata": {},
   "outputs": [],
   "source": [
    "df.km = df.km.astype('int64')"
   ]
  },
  {
   "cell_type": "code",
   "execution_count": 201,
   "metadata": {},
   "outputs": [
    {
     "data": {
      "text/plain": [
       "count     15029.000000\n",
       "mean      33861.249584\n",
       "std       37287.425902\n",
       "min           0.000000\n",
       "25%        5000.000000\n",
       "50%       22439.000000\n",
       "75%       49198.000000\n",
       "max      317000.000000\n",
       "Name: km, dtype: float64"
      ]
     },
     "execution_count": 201,
     "metadata": {},
     "output_type": "execute_result"
    }
   ],
   "source": [
    "df.km.describe()"
   ]
  },
  {
   "cell_type": "markdown",
   "metadata": {},
   "source": [
    "**consumption_comb (linear reg)**"
   ]
  },
  {
   "cell_type": "code",
   "execution_count": 202,
   "metadata": {},
   "outputs": [
    {
     "data": {
      "text/plain": [
       "2732"
      ]
     },
     "execution_count": 202,
     "metadata": {},
     "output_type": "execute_result"
    }
   ],
   "source": [
    "df.consumption_comb.isnull().sum()"
   ]
  },
  {
   "cell_type": "code",
   "execution_count": 203,
   "metadata": {},
   "outputs": [
    {
     "data": {
      "text/plain": [
       "count    12297.000000\n",
       "mean         4.772497\n",
       "std          0.913574\n",
       "min          0.000000\n",
       "25%          4.000000\n",
       "50%          4.700000\n",
       "75%          5.400000\n",
       "max          9.100000\n",
       "Name: consumption_comb, dtype: float64"
      ]
     },
     "execution_count": 203,
     "metadata": {},
     "output_type": "execute_result"
    }
   ],
   "source": [
    "df.consumption_comb.describe()"
   ]
  },
  {
   "cell_type": "code",
   "execution_count": 204,
   "metadata": {},
   "outputs": [
    {
     "data": {
      "text/plain": [
       "<matplotlib.axes._subplots.AxesSubplot at 0x13a03393438>"
      ]
     },
     "execution_count": 204,
     "metadata": {},
     "output_type": "execute_result"
    },
    {
     "data": {
      "image/png": "[encoded data removed]",
      "text/plain": [
       "<Figure size 432x288 with 1 Axes>"
      ]
     },
     "metadata": {
      "needs_background": "light"
     },
     "output_type": "display_data"
    }
   ],
   "source": [
    "df.boxplot(column='consumption_comb')"
   ]
  },
  {
   "cell_type": "code",
   "execution_count": 208,
   "metadata": {},
   "outputs": [],
   "source": [
    "# consumption_comb has corr with co2_emission (0.91)\n",
    "# we can handle missing values by using co2_emission column.\n",
    "# firtly we will fill co2_emission column."
   ]
  },
  {
   "cell_type": "code",
   "execution_count": 205,
   "metadata": {},
   "outputs": [
    {
     "data": {
      "text/plain": [
       "2206"
      ]
     },
     "execution_count": 205,
     "metadata": {},
     "output_type": "execute_result"
    }
   ],
   "source": [
    "df.co2_emission.isnull().sum()"
   ]
  },
  {
   "cell_type": "code",
   "execution_count": 206,
   "metadata": {},
   "outputs": [
    {
     "data": {
      "text/plain": [
       "<matplotlib.axes._subplots.AxesSubplot at 0x13a057dd9e8>"
      ]
     },
     "execution_count": 206,
     "metadata": {},
     "output_type": "execute_result"
    },
    {
     "data": {
      "image/png": "[encoded data removed]",
      "text/plain": [
       "<Figure size 432x288 with 1 Axes>"
      ]
     },
     "metadata": {
      "needs_background": "light"
     },
     "output_type": "display_data"
    }
   ],
   "source": [
    "df.boxplot(column='co2_emission')"
   ]
  },
  {
   "cell_type": "code",
   "execution_count": 211,
   "metadata": {},
   "outputs": [],
   "source": [
    "#after we handle missing values of consumption_comb we will drop co2_emission. \n",
    "# so no need to handle outliers. just use median instead of mean fo fullfill the column. "
   ]
  },
  {
   "cell_type": "code",
   "execution_count": 207,
   "metadata": {},
   "outputs": [],
   "source": [
    "df[\"co2_emission\"] = df[\"co2_emission\"].fillna(value=df[\"co2_emission\"].median())"
   ]
  },
  {
   "cell_type": "code",
   "execution_count": 208,
   "metadata": {},
   "outputs": [
    {
     "data": {
      "text/plain": [
       "0"
      ]
     },
     "execution_count": 208,
     "metadata": {},
     "output_type": "execute_result"
    }
   ],
   "source": [
    "df[\"co2_emission\"].isnull().sum()"
   ]
  },
  {
   "cell_type": "code",
   "execution_count": 214,
   "metadata": {},
   "outputs": [],
   "source": [
    "#let's make a regression btwnn co2_emission and consumption_comb"
   ]
  },
  {
   "cell_type": "code",
   "execution_count": 209,
   "metadata": {},
   "outputs": [],
   "source": [
    "from sklearn.linear_model import LinearRegression\n",
    "linreg = LinearRegression()\n",
    "data = df[['co2_emission','consumption_comb']]"
   ]
  },
  {
   "cell_type": "code",
   "execution_count": 210,
   "metadata": {},
   "outputs": [],
   "source": [
    "x_train = data[data['consumption_comb'].notnull()].drop(columns='consumption_comb')\n",
    "y_train = data[data['consumption_comb'].notnull()]['consumption_comb']\n",
    "x_test = data[data['consumption_comb'].isnull()].drop(columns='consumption_comb')\n",
    "y_test = data[data['consumption_comb'].isnull()]['consumption_comb']"
   ]
  },
  {
   "cell_type": "code",
   "execution_count": 211,
   "metadata": {},
   "outputs": [
    {
     "data": {
      "text/plain": [
       "LinearRegression(copy_X=True, fit_intercept=True, n_jobs=None,\n",
       "         normalize=False)"
      ]
     },
     "execution_count": 211,
     "metadata": {},
     "output_type": "execute_result"
    }
   ],
   "source": [
    "linreg.fit(x_train, y_train)"
   ]
  },
  {
   "cell_type": "code",
   "execution_count": 212,
   "metadata": {},
   "outputs": [],
   "source": [
    "predicted = linreg.predict(x_test)"
   ]
  },
  {
   "cell_type": "code",
   "execution_count": 213,
   "metadata": {},
   "outputs": [],
   "source": [
    "df.consumption_comb[df.consumption_comb.isnull()] = predicted"
   ]
  },
  {
   "cell_type": "code",
   "execution_count": 214,
   "metadata": {},
   "outputs": [
    {
     "data": {
      "text/plain": [
       "count    15029.000000\n",
       "mean         4.783581\n",
       "std          0.845361\n",
       "min          0.000000\n",
       "25%          4.136298\n",
       "50%          4.733044\n",
       "75%          5.329791\n",
       "max          9.100000\n",
       "Name: consumption_comb, dtype: float64"
      ]
     },
     "execution_count": 214,
     "metadata": {},
     "output_type": "execute_result"
    }
   ],
   "source": [
    "df.consumption_comb.describe()"
   ]
  },
  {
   "cell_type": "code",
   "execution_count": 221,
   "metadata": {},
   "outputs": [],
   "source": [
    "# before regression mean was 4.77, after regression 4,78. it seems well.\n",
    "# but there are outliers to be handled. \n",
    "# We will handle outliers after making feature eng to fuel column."
   ]
  },
  {
   "cell_type": "code",
   "execution_count": 215,
   "metadata": {},
   "outputs": [
    {
     "data": {
      "text/plain": [
       "0"
      ]
     },
     "execution_count": 215,
     "metadata": {},
     "output_type": "execute_result"
    }
   ],
   "source": [
    "df.consumption_comb.isnull().sum()"
   ]
  },
  {
   "cell_type": "code",
   "execution_count": 216,
   "metadata": {},
   "outputs": [
    {
     "data": {
      "text/plain": [
       "<matplotlib.axes._subplots.AxesSubplot at 0x13a04b4f0f0>"
      ]
     },
     "execution_count": 216,
     "metadata": {},
     "output_type": "execute_result"
    },
    {
     "data": {
      "image/png": "[encoded data removed]",
      "text/plain": [
       "<Figure size 432x288 with 1 Axes>"
      ]
     },
     "metadata": {
      "needs_background": "light"
     },
     "output_type": "display_data"
    }
   ],
   "source": [
    "df.boxplot(column='consumption_comb')"
   ]
  },
  {
   "cell_type": "code",
   "execution_count": 217,
   "metadata": {},
   "outputs": [
    {
     "data": {
      "text/plain": [
       "<matplotlib.axes._subplots.AxesSubplot at 0x13a03d2cf60>"
      ]
     },
     "execution_count": 217,
     "metadata": {},
     "output_type": "execute_result"
    },
    {
     "data": {
      "image/png": "[encoded data removed]",
      "text/plain": [
       "<Figure size 432x288 with 1 Axes>"
      ]
     },
     "metadata": {
      "needs_background": "light"
     },
     "output_type": "display_data"
    }
   ],
   "source": [
    "sns.distplot(df.consumption_comb, fit=norm)"
   ]
  },
  {
   "cell_type": "markdown",
   "metadata": {},
   "source": [
    "**fuel**"
   ]
  },
  {
   "cell_type": "code",
   "execution_count": 218,
   "metadata": {},
   "outputs": [
    {
     "data": {
      "text/plain": [
       "0"
      ]
     },
     "execution_count": 218,
     "metadata": {},
     "output_type": "execute_result"
    }
   ],
   "source": [
    "df.fuel.isnull().sum()"
   ]
  },
  {
   "cell_type": "code",
   "execution_count": 219,
   "metadata": {},
   "outputs": [
    {
     "data": {
      "text/plain": [
       "76"
      ]
     },
     "execution_count": 219,
     "metadata": {},
     "output_type": "execute_result"
    }
   ],
   "source": [
    "df.fuel.nunique()"
   ]
  },
  {
   "cell_type": "code",
   "execution_count": 227,
   "metadata": {},
   "outputs": [],
   "source": [
    "# there are so many unique values in fuel column. we will make it simple."
   ]
  },
  {
   "cell_type": "code",
   "execution_count": 220,
   "metadata": {},
   "outputs": [],
   "source": [
    "fuel_dict = {r'Diesel.*': 'diesel', \n",
    "             r'(Gasoline|Super|Regular).*': 'gasoline',\n",
    "             r'.*(LPG|CNG|gas).*': 'lpg', \n",
    "             r'Electric.*':'electric',\n",
    "             r'Others.*': np.nan\n",
    "            }\n",
    "df.fuel.replace(fuel_dict, regex = True, inplace=True)"
   ]
  },
  {
   "cell_type": "code",
   "execution_count": 221,
   "metadata": {},
   "outputs": [
    {
     "data": {
      "text/plain": [
       "gasoline    7882\n",
       "diesel      7077\n",
       "lpg           59\n",
       "electric       5\n",
       "Name: fuel, dtype: int64"
      ]
     },
     "execution_count": 221,
     "metadata": {},
     "output_type": "execute_result"
    }
   ],
   "source": [
    "df.fuel.value_counts()"
   ]
  },
  {
   "cell_type": "markdown",
   "metadata": {},
   "source": [
    "**outliers in consumption_comb**"
   ]
  },
  {
   "cell_type": "code",
   "execution_count": 222,
   "metadata": {},
   "outputs": [
    {
     "data": {
      "text/plain": [
       "gasoline    22\n",
       "diesel       4\n",
       "electric     3\n",
       "Name: fuel, dtype: int64"
      ]
     },
     "execution_count": 222,
     "metadata": {},
     "output_type": "execute_result"
    }
   ],
   "source": [
    "df[df.consumption_comb<2].fuel.value_counts()"
   ]
  },
  {
   "cell_type": "code",
   "execution_count": 231,
   "metadata": {},
   "outputs": [],
   "source": [
    "#it is not normal to have consumbtion below 2 for a gasoline powered car.\n",
    "#it seems these 29 values are outliers. "
   ]
  },
  {
   "cell_type": "code",
   "execution_count": 223,
   "metadata": {},
   "outputs": [],
   "source": [
    "drop_list_consumtion=df[df.consumption_comb<2].index"
   ]
  },
  {
   "cell_type": "code",
   "execution_count": 224,
   "metadata": {},
   "outputs": [
    {
     "data": {
      "text/plain": [
       "29"
      ]
     },
     "execution_count": 224,
     "metadata": {},
     "output_type": "execute_result"
    }
   ],
   "source": [
    "len(drop_list_consumtion)"
   ]
  },
  {
   "cell_type": "code",
   "execution_count": 225,
   "metadata": {},
   "outputs": [],
   "source": [
    "df = df.drop(drop_list_consumtion)"
   ]
  },
  {
   "cell_type": "code",
   "execution_count": 226,
   "metadata": {},
   "outputs": [
    {
     "data": {
      "text/plain": [
       "(15000, 116)"
      ]
     },
     "execution_count": 226,
     "metadata": {},
     "output_type": "execute_result"
    }
   ],
   "source": [
    "df.shape"
   ]
  },
  {
   "cell_type": "markdown",
   "metadata": {},
   "source": [
    "**filling age column with classification**"
   ]
  },
  {
   "cell_type": "code",
   "execution_count": 227,
   "metadata": {},
   "outputs": [
    {
     "data": {
      "text/plain": [
       "758"
      ]
     },
     "execution_count": 227,
     "metadata": {},
     "output_type": "execute_result"
    }
   ],
   "source": [
    "df.age.isnull().sum()"
   ]
  },
  {
   "cell_type": "code",
   "execution_count": 228,
   "metadata": {},
   "outputs": [
    {
     "data": {
      "text/plain": [
       "count    14242.000000\n",
       "mean         1.547887\n",
       "std          1.075280\n",
       "min          0.000000\n",
       "25%          1.000000\n",
       "50%          1.000000\n",
       "75%          3.000000\n",
       "max          3.000000\n",
       "Name: age, dtype: float64"
      ]
     },
     "execution_count": 228,
     "metadata": {},
     "output_type": "execute_result"
    }
   ],
   "source": [
    "df.age.describe()"
   ]
  },
  {
   "cell_type": "code",
   "execution_count": 229,
   "metadata": {},
   "outputs": [],
   "source": [
    "data=df[['age', 'km', 'consumption_comb']]"
   ]
  },
  {
   "cell_type": "code",
   "execution_count": 230,
   "metadata": {},
   "outputs": [],
   "source": [
    "from sklearn.linear_model import LogisticRegression\n",
    "classifier=LogisticRegression(random_state=0)"
   ]
  },
  {
   "cell_type": "code",
   "execution_count": 231,
   "metadata": {},
   "outputs": [],
   "source": [
    "x_train = data[data['age'].notnull()].drop(columns='age')\n",
    "y_train = data[data['age'].notnull()]['age']\n",
    "x_test = data[data['age'].isnull()].drop(columns='age')\n",
    "y_test = data[data['age'].isnull()]['age']"
   ]
  },
  {
   "cell_type": "code",
   "execution_count": 232,
   "metadata": {},
   "outputs": [
    {
     "data": {
      "text/plain": [
       "LogisticRegression(C=1.0, class_weight=None, dual=False, fit_intercept=True,\n",
       "          intercept_scaling=1, max_iter=100, multi_class='warn',\n",
       "          n_jobs=None, penalty='l2', random_state=0, solver='warn',\n",
       "          tol=0.0001, verbose=0, warm_start=False)"
      ]
     },
     "execution_count": 232,
     "metadata": {},
     "output_type": "execute_result"
    }
   ],
   "source": [
    "classifier.fit(x_train, y_train)"
   ]
  },
  {
   "cell_type": "code",
   "execution_count": 233,
   "metadata": {},
   "outputs": [],
   "source": [
    "predicted = classifier.predict(x_test)"
   ]
  },
  {
   "cell_type": "code",
   "execution_count": 234,
   "metadata": {},
   "outputs": [],
   "source": [
    "df.age[df.age.isnull()] = predicted"
   ]
  },
  {
   "cell_type": "code",
   "execution_count": 235,
   "metadata": {},
   "outputs": [],
   "source": [
    "df.age = df.age.astype('int64')"
   ]
  },
  {
   "cell_type": "code",
   "execution_count": 236,
   "metadata": {},
   "outputs": [
    {
     "data": {
      "text/plain": [
       "0"
      ]
     },
     "execution_count": 236,
     "metadata": {},
     "output_type": "execute_result"
    }
   ],
   "source": [
    "df.age.isnull().sum()"
   ]
  },
  {
   "cell_type": "code",
   "execution_count": 237,
   "metadata": {},
   "outputs": [
    {
     "data": {
      "text/plain": [
       "count    15000.000000\n",
       "mean         1.471800\n",
       "std          1.100281\n",
       "min          0.000000\n",
       "25%          1.000000\n",
       "50%          1.000000\n",
       "75%          2.000000\n",
       "max          3.000000\n",
       "Name: age, dtype: float64"
      ]
     },
     "execution_count": 237,
     "metadata": {},
     "output_type": "execute_result"
    }
   ],
   "source": [
    "df.age.describe()"
   ]
  },
  {
   "cell_type": "code",
   "execution_count": 247,
   "metadata": {},
   "outputs": [],
   "source": [
    "#mean was 1.54 but now 1.47. anyway it's ok."
   ]
  },
  {
   "cell_type": "markdown",
   "metadata": {},
   "source": [
    "**ss_ columns**"
   ]
  },
  {
   "cell_type": "code",
   "execution_count": 238,
   "metadata": {},
   "outputs": [
    {
     "data": {
      "text/plain": [
       "Index(['ss_abs', 'ss_adaptive_cruise_control', 'ss_adaptive_headlights',\n",
       "       'ss_alarm_system', 'ss_blind_spot_monitor', 'ss_central_door_lock',\n",
       "       'ss_central_door_lock_with_remote_control', 'ss_daytime_running_lights',\n",
       "       'ss_driver_drowsiness_detection', 'ss_driver_side_airbag',\n",
       "       'ss_electronic_stability_control', 'ss_emergency_brake_assistant',\n",
       "       'ss_emergency_system', 'ss_fog_lights', 'ss_head_airbag',\n",
       "       'ss_immobilizer', 'ss_isofix', 'ss_led_daytime_running_lights',\n",
       "       'ss_led_headlights', 'ss_lane_departure_warning_system',\n",
       "       'ss_night_view_assist', 'ss_passenger_side_airbag', 'ss_power_steering',\n",
       "       'ss_rear_airbag', 'ss_side_airbag',\n",
       "       'ss_tire_pressure_monitoring_system', 'ss_traction_control',\n",
       "       'ss_traffic_sign_recognition', 'ss_xenon_headlights',\n",
       "       'cc_keyless_central_door_lock'],\n",
       "      dtype='object')"
      ]
     },
     "execution_count": 238,
     "metadata": {},
     "output_type": "execute_result"
    }
   ],
   "source": [
    "df.filter(like = 'ss_', axis = 1).columns"
   ]
  },
  {
   "cell_type": "code",
   "execution_count": 239,
   "metadata": {},
   "outputs": [],
   "source": [
    "ss_list=['ss_abs', 'ss_adaptive_cruise_control', 'ss_adaptive_headlights',\n",
    "       'ss_alarm_system', 'ss_blind_spot_monitor', 'ss_central_door_lock',\n",
    "       'ss_central_door_lock_with_remote_control', 'ss_daytime_running_lights',\n",
    "       'ss_driver_drowsiness_detection', 'ss_driver_side_airbag',\n",
    "       'ss_electronic_stability_control', 'ss_emergency_brake_assistant',\n",
    "       'ss_emergency_system', 'ss_fog_lights', 'ss_head_airbag',\n",
    "       'ss_immobilizer', 'ss_isofix', 'ss_led_daytime_running_lights',\n",
    "       'ss_led_headlights', 'ss_lane_departure_warning_system',\n",
    "       'ss_night_view_assist', 'ss_passenger_side_airbag', 'ss_power_steering',\n",
    "       'ss_rear_airbag', 'ss_side_airbag',\n",
    "       'ss_tire_pressure_monitoring_system', 'ss_traction_control',\n",
    "       'ss_traffic_sign_recognition', 'ss_xenon_headlights']"
   ]
  },
  {
   "cell_type": "code",
   "execution_count": 240,
   "metadata": {},
   "outputs": [],
   "source": [
    "df_ss=df[ss_list]"
   ]
  },
  {
   "cell_type": "code",
   "execution_count": 241,
   "metadata": {},
   "outputs": [
    {
     "data": {
      "text/plain": [
       "(15000, 29)"
      ]
     },
     "execution_count": 241,
     "metadata": {},
     "output_type": "execute_result"
    }
   ],
   "source": [
    "df_ss.shape"
   ]
  },
  {
   "cell_type": "code",
   "execution_count": null,
   "metadata": {},
   "outputs": [],
   "source": [
    "# let's heatmap if we can acquire some corr btwn columns to make regression."
   ]
  },
  {
   "cell_type": "code",
   "execution_count": 242,
   "metadata": {},
   "outputs": [
    {
     "data": {
      "text/plain": [
       "<matplotlib.axes._subplots.AxesSubplot at 0x13a057ed940>"
      ]
     },
     "execution_count": 242,
     "metadata": {},
     "output_type": "execute_result"
    },
    {
     "data": {
      "image/png": "[encoded data removed]",
      "text/plain": [
       "<Figure size 1440x1440 with 2 Axes>"
      ]
     },
     "metadata": {
      "needs_background": "light"
     },
     "output_type": "display_data"
    }
   ],
   "source": [
    "plt.figure(figsize=(20,20))\n",
    "sns.heatmap(df_ss.corr(),annot=True,cmap='RdYlGn',linewidths=0.2,annot_kws={'size':8})"
   ]
  },
  {
   "cell_type": "code",
   "execution_count": 243,
   "metadata": {},
   "outputs": [
    {
     "data": {
      "text/plain": [
       "ss_abs                                      842\n",
       "ss_adaptive_cruise_control                  842\n",
       "ss_adaptive_headlights                      842\n",
       "ss_alarm_system                             842\n",
       "ss_blind_spot_monitor                       842\n",
       "ss_central_door_lock                        842\n",
       "ss_central_door_lock_with_remote_control    842\n",
       "ss_daytime_running_lights                   842\n",
       "ss_driver_drowsiness_detection              842\n",
       "ss_driver_side_airbag                       842\n",
       "ss_electronic_stability_control             842\n",
       "ss_emergency_brake_assistant                842\n",
       "ss_emergency_system                         842\n",
       "ss_fog_lights                               842\n",
       "ss_head_airbag                              842\n",
       "ss_immobilizer                              842\n",
       "ss_isofix                                   842\n",
       "ss_led_daytime_running_lights               842\n",
       "ss_led_headlights                           842\n",
       "ss_lane_departure_warning_system            842\n",
       "ss_night_view_assist                        842\n",
       "ss_passenger_side_airbag                    842\n",
       "ss_power_steering                           842\n",
       "ss_rear_airbag                              842\n",
       "ss_side_airbag                              842\n",
       "ss_tire_pressure_monitoring_system          842\n",
       "ss_traction_control                         842\n",
       "ss_traffic_sign_recognition                 842\n",
       "ss_xenon_headlights                         842\n",
       "dtype: int64"
      ]
     },
     "execution_count": 243,
     "metadata": {},
     "output_type": "execute_result"
    }
   ],
   "source": [
    "df_ss.isnull().sum()"
   ]
  },
  {
   "cell_type": "code",
   "execution_count": 254,
   "metadata": {},
   "outputs": [],
   "source": [
    "# it is not easy to make a model by using heatmap. Maybe we can use  make, model and age columns. \n",
    "# let' try to fill ss_abs with make, model and age columns."
   ]
  },
  {
   "cell_type": "code",
   "execution_count": 244,
   "metadata": {},
   "outputs": [],
   "source": [
    "data1=df[['age', 'make', 'model']]\n",
    "data1=pd.get_dummies(data1)\n",
    "data2=df[['ss_abs']]\n",
    "data=data1.join(data2)"
   ]
  },
  {
   "cell_type": "code",
   "execution_count": 245,
   "metadata": {},
   "outputs": [
    {
     "data": {
      "text/plain": [
       "Index(['age', 'make_Audi', 'make_Opel', 'make_Renault', 'model_A1', 'model_A2',\n",
       "       'model_A3', 'model_Astra', 'model_Clio', 'model_Corsa', 'model_Espace',\n",
       "       'model_Insignia', 'ss_abs'],\n",
       "      dtype='object')"
      ]
     },
     "execution_count": 245,
     "metadata": {},
     "output_type": "execute_result"
    }
   ],
   "source": [
    "data.columns"
   ]
  },
  {
   "cell_type": "code",
   "execution_count": 246,
   "metadata": {},
   "outputs": [],
   "source": [
    "from sklearn.ensemble import RandomForestClassifier\n",
    "classifier=RandomForestClassifier(n_estimators=10, criterion='entropy', random_state=0)"
   ]
  },
  {
   "cell_type": "code",
   "execution_count": 247,
   "metadata": {},
   "outputs": [],
   "source": [
    "x_train = data[data['ss_abs'].notnull()].drop(columns='ss_abs')\n",
    "y_train = data[data['ss_abs'].notnull()]['ss_abs']\n",
    "x_test = data[data['ss_abs'].isnull()].drop(columns='ss_abs')\n",
    "y_test = data[data['ss_abs'].isnull()]['ss_abs']\n",
    "y_train=y_train.astype('int64')"
   ]
  },
  {
   "cell_type": "code",
   "execution_count": 248,
   "metadata": {},
   "outputs": [
    {
     "data": {
      "text/plain": [
       "RandomForestClassifier(bootstrap=True, class_weight=None, criterion='entropy',\n",
       "            max_depth=None, max_features='auto', max_leaf_nodes=None,\n",
       "            min_impurity_decrease=0.0, min_impurity_split=None,\n",
       "            min_samples_leaf=1, min_samples_split=2,\n",
       "            min_weight_fraction_leaf=0.0, n_estimators=10, n_jobs=None,\n",
       "            oob_score=False, random_state=0, verbose=0, warm_start=False)"
      ]
     },
     "execution_count": 248,
     "metadata": {},
     "output_type": "execute_result"
    }
   ],
   "source": [
    "classifier.fit(x_train, y_train)"
   ]
  },
  {
   "cell_type": "code",
   "execution_count": 249,
   "metadata": {},
   "outputs": [],
   "source": [
    "predicted = classifier.predict(x_test)"
   ]
  },
  {
   "cell_type": "code",
   "execution_count": 250,
   "metadata": {},
   "outputs": [],
   "source": [
    "data.ss_abs[data.ss_abs.isnull()] = predicted"
   ]
  },
  {
   "cell_type": "code",
   "execution_count": 251,
   "metadata": {},
   "outputs": [
    {
     "data": {
      "text/plain": [
       "0"
      ]
     },
     "execution_count": 251,
     "metadata": {},
     "output_type": "execute_result"
    }
   ],
   "source": [
    "data.ss_abs.isnull().sum()"
   ]
  },
  {
   "cell_type": "code",
   "execution_count": 264,
   "metadata": {},
   "outputs": [],
   "source": [
    "# ok. it's full. let's compare the means before and after.\n",
    "# now we can make for loop to fill all columns in ss_"
   ]
  },
  {
   "cell_type": "code",
   "execution_count": 252,
   "metadata": {},
   "outputs": [],
   "source": [
    "from sklearn.ensemble import RandomForestClassifier\n",
    "classifier=RandomForestClassifier(n_estimators=10, criterion='entropy', random_state=0)\n",
    "data1=df[['age', 'make', 'model']]\n",
    "data1=pd.get_dummies(data1)\n",
    "\n",
    "for i in df_ss.columns:\n",
    "    data2=df[[i]]\n",
    "    data=data1.join(data2)\n",
    "    x_train = data[data[i].notnull()].drop(columns=i)\n",
    "    y_train = data[data[i].notnull()][i]\n",
    "    x_test = data[data[i].isnull()].drop(columns=i)\n",
    "    y_test = data[data[i].isnull()][i]\n",
    "    y_train=y_train.astype('int64')\n",
    "    classifier.fit(x_train, y_train)\n",
    "    predicted = classifier.predict(x_test)\n",
    "    df[i][df[i].isnull()] = predicted"
   ]
  },
  {
   "cell_type": "code",
   "execution_count": 253,
   "metadata": {},
   "outputs": [
    {
     "data": {
      "text/plain": [
       "ss_abs                                        0\n",
       "ss_adaptive_cruise_control                    0\n",
       "ss_adaptive_headlights                        0\n",
       "ss_alarm_system                               0\n",
       "ss_blind_spot_monitor                         0\n",
       "ss_central_door_lock                          0\n",
       "ss_central_door_lock_with_remote_control      0\n",
       "ss_daytime_running_lights                     0\n",
       "ss_driver_drowsiness_detection                0\n",
       "ss_driver_side_airbag                         0\n",
       "ss_electronic_stability_control               0\n",
       "ss_emergency_brake_assistant                  0\n",
       "ss_emergency_system                           0\n",
       "ss_fog_lights                                 0\n",
       "ss_head_airbag                                0\n",
       "ss_immobilizer                                0\n",
       "ss_isofix                                     0\n",
       "ss_led_daytime_running_lights                 0\n",
       "ss_led_headlights                             0\n",
       "ss_lane_departure_warning_system              0\n",
       "ss_night_view_assist                          0\n",
       "ss_passenger_side_airbag                      0\n",
       "ss_power_steering                             0\n",
       "ss_rear_airbag                                0\n",
       "ss_side_airbag                                0\n",
       "ss_tire_pressure_monitoring_system            0\n",
       "ss_traction_control                           0\n",
       "ss_traffic_sign_recognition                   0\n",
       "ss_xenon_headlights                           0\n",
       "cc_keyless_central_door_lock                779\n",
       "dtype: int64"
      ]
     },
     "execution_count": 253,
     "metadata": {},
     "output_type": "execute_result"
    }
   ],
   "source": [
    "df.filter(like = 'ss_', axis = 1).isnull().sum()"
   ]
  },
  {
   "cell_type": "markdown",
   "metadata": {},
   "source": [
    "**ent_columns**"
   ]
  },
  {
   "cell_type": "code",
   "execution_count": 254,
   "metadata": {},
   "outputs": [
    {
     "data": {
      "text/plain": [
       "Index(['ent_media_bluetooth', 'ent_media_cd_player', 'ent_media_digital_radio',\n",
       "       'ent_media_hands_free_equipment', 'ent_media_mp3',\n",
       "       'ent_media_on_board_computer', 'ent_media_radio',\n",
       "       'ent_media_sound_system', 'ent_media_television', 'ent_media_usb'],\n",
       "      dtype='object')"
      ]
     },
     "execution_count": 254,
     "metadata": {},
     "output_type": "execute_result"
    }
   ],
   "source": [
    "df.filter(like = 'ent_', axis = 1).columns"
   ]
  },
  {
   "cell_type": "code",
   "execution_count": 255,
   "metadata": {},
   "outputs": [],
   "source": [
    "ent_list=['ent_media_bluetooth', 'ent_media_cd_player', 'ent_media_digital_radio',\n",
    "       'ent_media_hands_free_equipment', 'ent_media_mp3',\n",
    "       'ent_media_on_board_computer', 'ent_media_radio',\n",
    "       'ent_media_sound_system', 'ent_media_television', 'ent_media_usb']"
   ]
  },
  {
   "cell_type": "code",
   "execution_count": 256,
   "metadata": {},
   "outputs": [],
   "source": [
    "df_ent=df[ent_list]"
   ]
  },
  {
   "cell_type": "code",
   "execution_count": 257,
   "metadata": {},
   "outputs": [],
   "source": [
    "from sklearn.ensemble import RandomForestClassifier\n",
    "classifier=RandomForestClassifier(n_estimators=10, criterion='entropy', random_state=0)\n",
    "data1=df[['age', 'make', 'model']]\n",
    "data1=pd.get_dummies(data1)\n",
    "\n",
    "for i in df_ent.columns:\n",
    "    data2=df[[i]]\n",
    "    data=data1.join(data2)\n",
    "    x_train = data[data[i].notnull()].drop(columns=i)\n",
    "    y_train = data[data[i].notnull()][i]\n",
    "    x_test = data[data[i].isnull()].drop(columns=i)\n",
    "    y_test = data[data[i].isnull()][i]\n",
    "    y_train=y_train.astype('int64')\n",
    "    classifier.fit(x_train, y_train)\n",
    "    predicted = classifier.predict(x_test)\n",
    "    df[i][df[i].isnull()] = predicted"
   ]
  },
  {
   "cell_type": "code",
   "execution_count": 258,
   "metadata": {},
   "outputs": [
    {
     "data": {
      "text/plain": [
       "ent_media_bluetooth               0\n",
       "ent_media_cd_player               0\n",
       "ent_media_digital_radio           0\n",
       "ent_media_hands_free_equipment    0\n",
       "ent_media_mp3                     0\n",
       "ent_media_on_board_computer       0\n",
       "ent_media_radio                   0\n",
       "ent_media_sound_system            0\n",
       "ent_media_television              0\n",
       "ent_media_usb                     0\n",
       "dtype: int64"
      ]
     },
     "execution_count": 258,
     "metadata": {},
     "output_type": "execute_result"
    }
   ],
   "source": [
    "df.filter(like = 'ent_', axis = 1).isnull().sum()"
   ]
  },
  {
   "cell_type": "markdown",
   "metadata": {},
   "source": [
    "**cc_columns**"
   ]
  },
  {
   "cell_type": "code",
   "execution_count": 259,
   "metadata": {},
   "outputs": [
    {
     "data": {
      "text/plain": [
       "Index(['cc_air_conditioning', 'cc_air_suspension', 'cc_armrest',\n",
       "       'cc_automatic_climate_control', 'cc_auxiliary_heating',\n",
       "       'cc_cruise_control', 'cc_electric_starter', 'cc_electric_tailgate',\n",
       "       'cc_electrical_side_mirrors', 'cc_electrically_adjustable_seats',\n",
       "       'cc_electrically_heated_windshield', 'cc_heads_up_display',\n",
       "       'cc_heated_steering_wheel', 'cc_hill_holder',\n",
       "       'cc_keyless_central_door_lock', 'cc_leather_seats',\n",
       "       'cc_leather_steering_wheel', 'cc_light_sensor', 'cc_lumbar_support',\n",
       "       'cc_massage_seats', 'cc_multi_function_steering_wheel',\n",
       "       'cc_navigation_system', 'cc_panorama_roof', 'cc_park_distance_control',\n",
       "       'cc_parking_assist_system_camera',\n",
       "       'cc_parking_assist_system_self_steering',\n",
       "       'cc_parking_assist_system_sensors_front',\n",
       "       'cc_parking_assist_system_sensors_rear', 'cc_power_windows',\n",
       "       'cc_rain_sensor', 'cc_seat_heating', 'cc_seat_ventilation',\n",
       "       'cc_split_rear_seats', 'cc_start_stop_system', 'cc_sunroof',\n",
       "       'cc_tinted_windows', 'cc_wind_deflector', 'cc_windshield'],\n",
       "      dtype='object')"
      ]
     },
     "execution_count": 259,
     "metadata": {},
     "output_type": "execute_result"
    }
   ],
   "source": [
    "df.filter(like = 'cc_', axis = 1).columns"
   ]
  },
  {
   "cell_type": "code",
   "execution_count": 260,
   "metadata": {},
   "outputs": [],
   "source": [
    "cc_list=['cc_air_conditioning', 'cc_air_suspension', 'cc_armrest',\n",
    "       'cc_automatic_climate_control', 'cc_auxiliary_heating',\n",
    "       'cc_cruise_control', 'cc_electric_starter', 'cc_electric_tailgate',\n",
    "       'cc_electrical_side_mirrors', 'cc_electrically_adjustable_seats',\n",
    "       'cc_electrically_heated_windshield', 'cc_heads_up_display',\n",
    "       'cc_heated_steering_wheel', 'cc_hill_holder',\n",
    "       'cc_keyless_central_door_lock', 'cc_leather_seats',\n",
    "       'cc_leather_steering_wheel', 'cc_light_sensor', 'cc_lumbar_support',\n",
    "       'cc_massage_seats', 'cc_multi_function_steering_wheel',\n",
    "       'cc_navigation_system', 'cc_panorama_roof', 'cc_park_distance_control',\n",
    "       'cc_parking_assist_system_camera',\n",
    "       'cc_parking_assist_system_self_steering',\n",
    "       'cc_parking_assist_system_sensors_front',\n",
    "       'cc_parking_assist_system_sensors_rear', 'cc_power_windows',\n",
    "       'cc_rain_sensor', 'cc_seat_heating', 'cc_seat_ventilation',\n",
    "       'cc_split_rear_seats', 'cc_start_stop_system', 'cc_sunroof',\n",
    "       'cc_tinted_windows', 'cc_wind_deflector', 'cc_windshield']"
   ]
  },
  {
   "cell_type": "code",
   "execution_count": 261,
   "metadata": {},
   "outputs": [],
   "source": [
    "df_cc=df[cc_list]"
   ]
  },
  {
   "cell_type": "code",
   "execution_count": 262,
   "metadata": {},
   "outputs": [],
   "source": [
    "from sklearn.ensemble import RandomForestClassifier\n",
    "classifier=RandomForestClassifier(n_estimators=10, criterion='entropy', random_state=0)\n",
    "data1=df[['age', 'make', 'model']]\n",
    "data1=pd.get_dummies(data1)\n",
    "\n",
    "for i in df_cc.columns:\n",
    "    data2=df[[i]]\n",
    "    data=data1.join(data2)\n",
    "    x_train = data[data[i].notnull()].drop(columns=i)\n",
    "    y_train = data[data[i].notnull()][i]\n",
    "    x_test = data[data[i].isnull()].drop(columns=i)\n",
    "    y_test = data[data[i].isnull()][i]\n",
    "    y_train=y_train.astype('int64')\n",
    "    classifier.fit(x_train, y_train)\n",
    "    predicted = classifier.predict(x_test)\n",
    "    df[i][df[i].isnull()] = predicted"
   ]
  },
  {
   "cell_type": "code",
   "execution_count": 263,
   "metadata": {},
   "outputs": [
    {
     "data": {
      "text/plain": [
       "cc_air_conditioning                       0\n",
       "cc_air_suspension                         0\n",
       "cc_armrest                                0\n",
       "cc_automatic_climate_control              0\n",
       "cc_auxiliary_heating                      0\n",
       "cc_cruise_control                         0\n",
       "cc_electric_starter                       0\n",
       "cc_electric_tailgate                      0\n",
       "cc_electrical_side_mirrors                0\n",
       "cc_electrically_adjustable_seats          0\n",
       "cc_electrically_heated_windshield         0\n",
       "cc_heads_up_display                       0\n",
       "cc_heated_steering_wheel                  0\n",
       "cc_hill_holder                            0\n",
       "cc_keyless_central_door_lock              0\n",
       "cc_leather_seats                          0\n",
       "cc_leather_steering_wheel                 0\n",
       "cc_light_sensor                           0\n",
       "cc_lumbar_support                         0\n",
       "cc_massage_seats                          0\n",
       "cc_multi_function_steering_wheel          0\n",
       "cc_navigation_system                      0\n",
       "cc_panorama_roof                          0\n",
       "cc_park_distance_control                  0\n",
       "cc_parking_assist_system_camera           0\n",
       "cc_parking_assist_system_self_steering    0\n",
       "cc_parking_assist_system_sensors_front    0\n",
       "cc_parking_assist_system_sensors_rear     0\n",
       "cc_power_windows                          0\n",
       "cc_rain_sensor                            0\n",
       "cc_seat_heating                           0\n",
       "cc_seat_ventilation                       0\n",
       "cc_split_rear_seats                       0\n",
       "cc_start_stop_system                      0\n",
       "cc_sunroof                                0\n",
       "cc_tinted_windows                         0\n",
       "cc_wind_deflector                         0\n",
       "cc_windshield                             0\n",
       "dtype: int64"
      ]
     },
     "execution_count": 263,
     "metadata": {},
     "output_type": "execute_result"
    }
   ],
   "source": [
    "df.filter(like = 'cc_', axis = 1).isnull().sum()"
   ]
  },
  {
   "cell_type": "markdown",
   "metadata": {},
   "source": [
    "**ext_columns**"
   ]
  },
  {
   "cell_type": "code",
   "execution_count": 264,
   "metadata": {},
   "outputs": [
    {
     "data": {
      "text/plain": [
       "Index(['next_inspection_bool', 'ext_alloy_wheels', 'ext_cab_or_rented_car',\n",
       "       'ext_catalytic_converter', 'ext_handicapped_enabled',\n",
       "       'ext_right_hand_drive', 'ext_roof_rack', 'ext_shift_paddles',\n",
       "       'ext_ski_bag', 'ext_sliding_door', 'ext_sport_package',\n",
       "       'ext_sport_seats', 'ext_sport_suspension', 'ext_touch_screen',\n",
       "       'ext_trailer_hitch', 'ext_tuned_car', 'ext_voice_control',\n",
       "       'ext_winter_tyres'],\n",
       "      dtype='object')"
      ]
     },
     "execution_count": 264,
     "metadata": {},
     "output_type": "execute_result"
    }
   ],
   "source": [
    "df.filter(like = 'ext_', axis = 1).columns"
   ]
  },
  {
   "cell_type": "code",
   "execution_count": 265,
   "metadata": {},
   "outputs": [],
   "source": [
    "ext_list=['next_inspection_bool', 'ext_alloy_wheels', 'ext_cab_or_rented_car',\n",
    "       'ext_catalytic_converter', 'ext_handicapped_enabled',\n",
    "       'ext_right_hand_drive', 'ext_roof_rack', 'ext_shift_paddles',\n",
    "       'ext_ski_bag', 'ext_sliding_door', 'ext_sport_package',\n",
    "       'ext_sport_seats', 'ext_sport_suspension', 'ext_touch_screen',\n",
    "       'ext_trailer_hitch', 'ext_tuned_car', 'ext_voice_control',\n",
    "       'ext_winter_tyres']"
   ]
  },
  {
   "cell_type": "code",
   "execution_count": 266,
   "metadata": {},
   "outputs": [],
   "source": [
    "df_ext=df[ext_list]"
   ]
  },
  {
   "cell_type": "code",
   "execution_count": 281,
   "metadata": {},
   "outputs": [],
   "source": [
    "# RF model gives error due to some columns have almast all 0 values. \n",
    "# after split it might be actually all zero in x_test, or x_train etc.\n",
    "# so i'll drop some of them with low ocupancy rate from both df and df_ext."
   ]
  },
  {
   "cell_type": "code",
   "execution_count": 267,
   "metadata": {},
   "outputs": [
    {
     "data": {
      "text/plain": [
       "next_inspection_bool       0.233600\n",
       "ext_alloy_wheels           0.872157\n",
       "ext_cab_or_rented_car      0.025179\n",
       "ext_catalytic_converter    0.162606\n",
       "ext_handicapped_enabled    0.004224\n",
       "ext_right_hand_drive       0.000244\n",
       "ext_roof_rack              0.206546\n",
       "ext_shift_paddles          0.040123\n",
       "ext_ski_bag                0.019818\n",
       "ext_sliding_door           0.000244\n",
       "ext_sport_package          0.093405\n",
       "ext_sport_seats            0.243015\n",
       "ext_sport_suspension       0.128574\n",
       "ext_touch_screen           0.309292\n",
       "ext_trailer_hitch          0.052550\n",
       "ext_tuned_car              0.000893\n",
       "ext_voice_control          0.334795\n",
       "ext_winter_tyres           0.019250\n",
       "dtype: float64"
      ]
     },
     "execution_count": 267,
     "metadata": {},
     "output_type": "execute_result"
    }
   ],
   "source": [
    "df_ext.mean()"
   ]
  },
  {
   "cell_type": "code",
   "execution_count": 268,
   "metadata": {},
   "outputs": [],
   "source": [
    "drop_list=[\"ext_cab_or_rented_car\", \"ext_handicapped_enabled\", \"ext_right_hand_drive\", \"ext_ski_bag\", \"ext_sliding_door\", \"ext_tuned_car\", \"ext_winter_tyres\"]"
   ]
  },
  {
   "cell_type": "code",
   "execution_count": 269,
   "metadata": {},
   "outputs": [],
   "source": [
    "df.drop(drop_list, axis=1, inplace=True)\n",
    "df_ext.drop(drop_list, axis=1, inplace=True)"
   ]
  },
  {
   "cell_type": "code",
   "execution_count": 270,
   "metadata": {},
   "outputs": [],
   "source": [
    "#still have problem RF. So go deeper. and drop some more."
   ]
  },
  {
   "cell_type": "code",
   "execution_count": 271,
   "metadata": {},
   "outputs": [
    {
     "data": {
      "text/plain": [
       "next_inspection_bool       0.233600\n",
       "ext_alloy_wheels           0.872157\n",
       "ext_catalytic_converter    0.162606\n",
       "ext_roof_rack              0.206546\n",
       "ext_shift_paddles          0.040123\n",
       "ext_sport_package          0.093405\n",
       "ext_sport_seats            0.243015\n",
       "ext_sport_suspension       0.128574\n",
       "ext_touch_screen           0.309292\n",
       "ext_trailer_hitch          0.052550\n",
       "ext_voice_control          0.334795\n",
       "dtype: float64"
      ]
     },
     "execution_count": 271,
     "metadata": {},
     "output_type": "execute_result"
    }
   ],
   "source": [
    "df_ext.mean()"
   ]
  },
  {
   "cell_type": "code",
   "execution_count": 272,
   "metadata": {},
   "outputs": [],
   "source": [
    "drop_list_deeper=[\"next_inspection_bool\", \"ext_catalytic_converter\", \"ext_roof_rack\",\n",
    "                 \"ext_shift_paddles\", \"ext_sport_package\", \"ext_sport_seats\", \"ext_sport_suspension\"]"
   ]
  },
  {
   "cell_type": "code",
   "execution_count": 273,
   "metadata": {},
   "outputs": [],
   "source": [
    "df.drop(drop_list_deeper, axis=1, inplace=True)\n",
    "df_ext.drop(drop_list_deeper, axis=1, inplace=True)"
   ]
  },
  {
   "cell_type": "code",
   "execution_count": 274,
   "metadata": {},
   "outputs": [],
   "source": [
    "from sklearn.ensemble import RandomForestClassifier\n",
    "classifier=RandomForestClassifier(n_estimators=10, criterion='entropy', random_state=0)\n",
    "data1=df[['age', 'make', 'model']]\n",
    "data1=pd.get_dummies(data1)\n",
    "\n",
    "for i in df_ext.columns:\n",
    "    data2=df[[i]]\n",
    "    data=data1.join(data2)\n",
    "    x_train = data[data[i].notnull()].drop(columns=i)\n",
    "    y_train = data[data[i].notnull()][i]\n",
    "    x_test = data[data[i].isnull()].drop(columns=i)\n",
    "    y_test = data[data[i].isnull()][i]\n",
    "    y_train=y_train.astype('int64')\n",
    "    classifier.fit(x_train, y_train)\n",
    "    predicted = classifier.predict(x_test)\n",
    "    df[i][df[i].isnull()] = predicted"
   ]
  },
  {
   "cell_type": "code",
   "execution_count": 275,
   "metadata": {},
   "outputs": [
    {
     "data": {
      "text/plain": [
       "ext_alloy_wheels     0\n",
       "ext_touch_screen     0\n",
       "ext_trailer_hitch    0\n",
       "ext_voice_control    0\n",
       "dtype: int64"
      ]
     },
     "execution_count": 275,
     "metadata": {},
     "output_type": "execute_result"
    }
   ],
   "source": [
    "df.filter(like = 'ext_', axis = 1).isnull().sum()"
   ]
  },
  {
   "cell_type": "markdown",
   "metadata": {},
   "source": [
    "**CHECK IF ARE THERE ANY COLUMNS WITH MISSING VALUE**"
   ]
  },
  {
   "cell_type": "code",
   "execution_count": 276,
   "metadata": {},
   "outputs": [
    {
     "data": {
      "text/plain": [
       "Index(['short_description', 'fuel', 'nr_of_seats'], dtype='object')"
      ]
     },
     "execution_count": 276,
     "metadata": {},
     "output_type": "execute_result"
    }
   ],
   "source": [
    "df.columns[(df.isnull().sum()>0)]"
   ]
  },
  {
   "cell_type": "code",
   "execution_count": 277,
   "metadata": {},
   "outputs": [
    {
     "data": {
      "text/plain": [
       "6"
      ]
     },
     "execution_count": 277,
     "metadata": {},
     "output_type": "execute_result"
    }
   ],
   "source": [
    "df.fuel.isnull().sum()"
   ]
  },
  {
   "cell_type": "code",
   "execution_count": 278,
   "metadata": {},
   "outputs": [],
   "source": [
    "df=df.dropna(subset=['fuel'])"
   ]
  },
  {
   "cell_type": "code",
   "execution_count": 279,
   "metadata": {},
   "outputs": [
    {
     "data": {
      "text/plain": [
       "897"
      ]
     },
     "execution_count": 279,
     "metadata": {},
     "output_type": "execute_result"
    }
   ],
   "source": [
    "df.nr_of_seats.isnull().sum()"
   ]
  },
  {
   "cell_type": "code",
   "execution_count": 280,
   "metadata": {},
   "outputs": [],
   "source": [
    "#we ve forgotten this column. we will fill missing values of nr_of_seats column later."
   ]
  },
  {
   "cell_type": "code",
   "execution_count": 281,
   "metadata": {},
   "outputs": [],
   "source": [
    "df.drop('short_description', axis=1, inplace=True)"
   ]
  },
  {
   "cell_type": "markdown",
   "metadata": {},
   "source": [
    "**nr_of_seats column**"
   ]
  },
  {
   "cell_type": "code",
   "execution_count": 282,
   "metadata": {},
   "outputs": [],
   "source": [
    "df['nr_of_seats'].fillna(df.groupby('model')['nr_of_seats'].transform(\"median\"), inplace=True)"
   ]
  },
  {
   "cell_type": "code",
   "execution_count": 283,
   "metadata": {},
   "outputs": [
    {
     "data": {
      "text/plain": [
       "0"
      ]
     },
     "execution_count": 283,
     "metadata": {},
     "output_type": "execute_result"
    }
   ],
   "source": [
    "df.nr_of_seats.isnull().sum()"
   ]
  },
  {
   "cell_type": "code",
   "execution_count": 284,
   "metadata": {},
   "outputs": [
    {
     "data": {
      "text/plain": [
       "Index([], dtype='object')"
      ]
     },
     "execution_count": 284,
     "metadata": {},
     "output_type": "execute_result"
    }
   ],
   "source": [
    "df.columns[(df.isnull().sum()>0)]"
   ]
  },
  {
   "cell_type": "code",
   "execution_count": 285,
   "metadata": {},
   "outputs": [],
   "source": [
    "# i think missing values mission is ok. let's cheak df again."
   ]
  },
  {
   "cell_type": "code",
   "execution_count": 301,
   "metadata": {},
   "outputs": [
    {
     "data": {
      "text/html": [
       "<div>\n",
       "<style scoped>\n",
       "    .dataframe tbody tr th:only-of-type {\n",
       "        vertical-align: middle;\n",
       "    }\n",
       "\n",
       "    .dataframe tbody tr th {\n",
       "        vertical-align: top;\n",
       "    }\n",
       "\n",
       "    .dataframe thead th {\n",
       "        text-align: right;\n",
       "    }\n",
       "</style>\n",
       "<table border=\"1\" class=\"dataframe\">\n",
       "  <thead>\n",
       "    <tr style=\"text-align: right;\">\n",
       "      <th></th>\n",
       "      <th>co2_emission</th>\n",
       "      <th>displacement</th>\n",
       "      <th>make</th>\n",
       "      <th>model</th>\n",
       "      <th>description</th>\n",
       "      <th>hp</th>\n",
       "      <th>km</th>\n",
       "      <th>ss_abs</th>\n",
       "      <th>ss_adaptive_cruise_control</th>\n",
       "      <th>ss_adaptive_headlights</th>\n",
       "      <th>...</th>\n",
       "      <th>cc_split_rear_seats</th>\n",
       "      <th>cc_start_stop_system</th>\n",
       "      <th>cc_sunroof</th>\n",
       "      <th>cc_tinted_windows</th>\n",
       "      <th>cc_wind_deflector</th>\n",
       "      <th>cc_windshield</th>\n",
       "      <th>ext_alloy_wheels</th>\n",
       "      <th>ext_touch_screen</th>\n",
       "      <th>ext_trailer_hitch</th>\n",
       "      <th>ext_voice_control</th>\n",
       "    </tr>\n",
       "  </thead>\n",
       "  <tbody>\n",
       "    <tr>\n",
       "      <th>0</th>\n",
       "      <td>99.0</td>\n",
       "      <td>1422.0</td>\n",
       "      <td>Audi</td>\n",
       "      <td>A1</td>\n",
       "      <td>Sicherheit: Deaktivierung für Beifahrer-Airbag...</td>\n",
       "      <td>66.0</td>\n",
       "      <td>56013</td>\n",
       "      <td>1.0</td>\n",
       "      <td>0.0</td>\n",
       "      <td>0.0</td>\n",
       "      <td>...</td>\n",
       "      <td>0.0</td>\n",
       "      <td>1.0</td>\n",
       "      <td>0.0</td>\n",
       "      <td>0.0</td>\n",
       "      <td>0.0</td>\n",
       "      <td>0.0</td>\n",
       "      <td>1.0</td>\n",
       "      <td>0.0</td>\n",
       "      <td>0.0</td>\n",
       "      <td>1.0</td>\n",
       "    </tr>\n",
       "    <tr>\n",
       "      <th>1</th>\n",
       "      <td>129.0</td>\n",
       "      <td>1798.0</td>\n",
       "      <td>Audi</td>\n",
       "      <td>A1</td>\n",
       "      <td>Sicherheit: Deaktivierung für Beifahrer-Airbag...</td>\n",
       "      <td>141.0</td>\n",
       "      <td>80000</td>\n",
       "      <td>1.0</td>\n",
       "      <td>0.0</td>\n",
       "      <td>0.0</td>\n",
       "      <td>...</td>\n",
       "      <td>0.0</td>\n",
       "      <td>1.0</td>\n",
       "      <td>0.0</td>\n",
       "      <td>1.0</td>\n",
       "      <td>0.0</td>\n",
       "      <td>0.0</td>\n",
       "      <td>1.0</td>\n",
       "      <td>0.0</td>\n",
       "      <td>0.0</td>\n",
       "      <td>1.0</td>\n",
       "    </tr>\n",
       "    <tr>\n",
       "      <th>2</th>\n",
       "      <td>99.0</td>\n",
       "      <td>1598.0</td>\n",
       "      <td>Audi</td>\n",
       "      <td>A1</td>\n",
       "      <td>Sicherheit: Deaktivierung für Beifahrer-Airbag...</td>\n",
       "      <td>85.0</td>\n",
       "      <td>83450</td>\n",
       "      <td>1.0</td>\n",
       "      <td>0.0</td>\n",
       "      <td>0.0</td>\n",
       "      <td>...</td>\n",
       "      <td>0.0</td>\n",
       "      <td>1.0</td>\n",
       "      <td>0.0</td>\n",
       "      <td>0.0</td>\n",
       "      <td>0.0</td>\n",
       "      <td>0.0</td>\n",
       "      <td>1.0</td>\n",
       "      <td>0.0</td>\n",
       "      <td>0.0</td>\n",
       "      <td>1.0</td>\n",
       "    </tr>\n",
       "    <tr>\n",
       "      <th>3</th>\n",
       "      <td>99.0</td>\n",
       "      <td>1422.0</td>\n",
       "      <td>Audi</td>\n",
       "      <td>A1</td>\n",
       "      <td>Sicherheit: Deaktivierung für Beifahrer-Airbag...</td>\n",
       "      <td>66.0</td>\n",
       "      <td>73000</td>\n",
       "      <td>1.0</td>\n",
       "      <td>0.0</td>\n",
       "      <td>0.0</td>\n",
       "      <td>...</td>\n",
       "      <td>1.0</td>\n",
       "      <td>1.0</td>\n",
       "      <td>0.0</td>\n",
       "      <td>0.0</td>\n",
       "      <td>0.0</td>\n",
       "      <td>0.0</td>\n",
       "      <td>1.0</td>\n",
       "      <td>0.0</td>\n",
       "      <td>0.0</td>\n",
       "      <td>1.0</td>\n",
       "    </tr>\n",
       "    <tr>\n",
       "      <th>4</th>\n",
       "      <td>109.0</td>\n",
       "      <td>1422.0</td>\n",
       "      <td>Audi</td>\n",
       "      <td>A1</td>\n",
       "      <td>Sicherheit: Deaktivierung für Beifahrer-Airbag...</td>\n",
       "      <td>66.0</td>\n",
       "      <td>16200</td>\n",
       "      <td>1.0</td>\n",
       "      <td>0.0</td>\n",
       "      <td>0.0</td>\n",
       "      <td>...</td>\n",
       "      <td>0.0</td>\n",
       "      <td>1.0</td>\n",
       "      <td>0.0</td>\n",
       "      <td>0.0</td>\n",
       "      <td>0.0</td>\n",
       "      <td>0.0</td>\n",
       "      <td>1.0</td>\n",
       "      <td>0.0</td>\n",
       "      <td>0.0</td>\n",
       "      <td>1.0</td>\n",
       "    </tr>\n",
       "  </tbody>\n",
       "</table>\n",
       "<p>5 rows × 101 columns</p>\n",
       "</div>"
      ],
      "text/plain": [
       "   co2_emission  displacement  make model  \\\n",
       "0          99.0        1422.0  Audi    A1   \n",
       "1         129.0        1798.0  Audi    A1   \n",
       "2          99.0        1598.0  Audi    A1   \n",
       "3          99.0        1422.0  Audi    A1   \n",
       "4         109.0        1422.0  Audi    A1   \n",
       "\n",
       "                                         description     hp     km  ss_abs  \\\n",
       "0  Sicherheit: Deaktivierung für Beifahrer-Airbag...   66.0  56013     1.0   \n",
       "1  Sicherheit: Deaktivierung für Beifahrer-Airbag...  141.0  80000     1.0   \n",
       "2  Sicherheit: Deaktivierung für Beifahrer-Airbag...   85.0  83450     1.0   \n",
       "3  Sicherheit: Deaktivierung für Beifahrer-Airbag...   66.0  73000     1.0   \n",
       "4  Sicherheit: Deaktivierung für Beifahrer-Airbag...   66.0  16200     1.0   \n",
       "\n",
       "   ss_adaptive_cruise_control  ss_adaptive_headlights  ...  \\\n",
       "0                         0.0                     0.0  ...   \n",
       "1                         0.0                     0.0  ...   \n",
       "2                         0.0                     0.0  ...   \n",
       "3                         0.0                     0.0  ...   \n",
       "4                         0.0                     0.0  ...   \n",
       "\n",
       "   cc_split_rear_seats  cc_start_stop_system  cc_sunroof  cc_tinted_windows  \\\n",
       "0                  0.0                   1.0         0.0                0.0   \n",
       "1                  0.0                   1.0         0.0                1.0   \n",
       "2                  0.0                   1.0         0.0                0.0   \n",
       "3                  1.0                   1.0         0.0                0.0   \n",
       "4                  0.0                   1.0         0.0                0.0   \n",
       "\n",
       "   cc_wind_deflector  cc_windshield  ext_alloy_wheels  ext_touch_screen  \\\n",
       "0                0.0            0.0               1.0               0.0   \n",
       "1                0.0            0.0               1.0               0.0   \n",
       "2                0.0            0.0               1.0               0.0   \n",
       "3                0.0            0.0               1.0               0.0   \n",
       "4                0.0            0.0               1.0               0.0   \n",
       "\n",
       "   ext_trailer_hitch  ext_voice_control  \n",
       "0                0.0                1.0  \n",
       "1                0.0                1.0  \n",
       "2                0.0                1.0  \n",
       "3                0.0                1.0  \n",
       "4                0.0                1.0  \n",
       "\n",
       "[5 rows x 101 columns]"
      ]
     },
     "execution_count": 301,
     "metadata": {},
     "output_type": "execute_result"
    }
   ],
   "source": [
    "df.head()"
   ]
  },
  {
   "cell_type": "code",
   "execution_count": 286,
   "metadata": {},
   "outputs": [],
   "source": [
    "df.drop('url', axis=1, inplace=True) #no need during modeling"
   ]
  },
  {
   "cell_type": "code",
   "execution_count": 287,
   "metadata": {},
   "outputs": [],
   "source": [
    "df.drop(['co2_emission'], axis=1, inplace=True) # high corr with consumption_comb\n",
    "df.drop('description', axis=1, inplace=True) #no need during modeling"
   ]
  },
  {
   "cell_type": "code",
   "execution_count": 288,
   "metadata": {},
   "outputs": [
    {
     "data": {
      "text/html": [
       "<div>\n",
       "<style scoped>\n",
       "    .dataframe tbody tr th:only-of-type {\n",
       "        vertical-align: middle;\n",
       "    }\n",
       "\n",
       "    .dataframe tbody tr th {\n",
       "        vertical-align: top;\n",
       "    }\n",
       "\n",
       "    .dataframe thead th {\n",
       "        text-align: right;\n",
       "    }\n",
       "</style>\n",
       "<table border=\"1\" class=\"dataframe\">\n",
       "  <thead>\n",
       "    <tr style=\"text-align: right;\">\n",
       "      <th></th>\n",
       "      <th>displacement</th>\n",
       "      <th>make</th>\n",
       "      <th>model</th>\n",
       "      <th>hp</th>\n",
       "      <th>km</th>\n",
       "      <th>ss_abs</th>\n",
       "      <th>ss_adaptive_cruise_control</th>\n",
       "      <th>ss_adaptive_headlights</th>\n",
       "      <th>ss_alarm_system</th>\n",
       "      <th>ss_blind_spot_monitor</th>\n",
       "      <th>...</th>\n",
       "      <th>cc_split_rear_seats</th>\n",
       "      <th>cc_start_stop_system</th>\n",
       "      <th>cc_sunroof</th>\n",
       "      <th>cc_tinted_windows</th>\n",
       "      <th>cc_wind_deflector</th>\n",
       "      <th>cc_windshield</th>\n",
       "      <th>ext_alloy_wheels</th>\n",
       "      <th>ext_touch_screen</th>\n",
       "      <th>ext_trailer_hitch</th>\n",
       "      <th>ext_voice_control</th>\n",
       "    </tr>\n",
       "  </thead>\n",
       "  <tbody>\n",
       "    <tr>\n",
       "      <th>0</th>\n",
       "      <td>1422.0</td>\n",
       "      <td>Audi</td>\n",
       "      <td>A1</td>\n",
       "      <td>66.0</td>\n",
       "      <td>56013</td>\n",
       "      <td>1.0</td>\n",
       "      <td>0.0</td>\n",
       "      <td>0.0</td>\n",
       "      <td>0.0</td>\n",
       "      <td>0.0</td>\n",
       "      <td>...</td>\n",
       "      <td>0.0</td>\n",
       "      <td>1.0</td>\n",
       "      <td>0.0</td>\n",
       "      <td>0.0</td>\n",
       "      <td>0.0</td>\n",
       "      <td>0.0</td>\n",
       "      <td>1.0</td>\n",
       "      <td>0.0</td>\n",
       "      <td>0.0</td>\n",
       "      <td>1.0</td>\n",
       "    </tr>\n",
       "    <tr>\n",
       "      <th>1</th>\n",
       "      <td>1798.0</td>\n",
       "      <td>Audi</td>\n",
       "      <td>A1</td>\n",
       "      <td>141.0</td>\n",
       "      <td>80000</td>\n",
       "      <td>1.0</td>\n",
       "      <td>0.0</td>\n",
       "      <td>0.0</td>\n",
       "      <td>0.0</td>\n",
       "      <td>0.0</td>\n",
       "      <td>...</td>\n",
       "      <td>0.0</td>\n",
       "      <td>1.0</td>\n",
       "      <td>0.0</td>\n",
       "      <td>1.0</td>\n",
       "      <td>0.0</td>\n",
       "      <td>0.0</td>\n",
       "      <td>1.0</td>\n",
       "      <td>0.0</td>\n",
       "      <td>0.0</td>\n",
       "      <td>1.0</td>\n",
       "    </tr>\n",
       "    <tr>\n",
       "      <th>2</th>\n",
       "      <td>1598.0</td>\n",
       "      <td>Audi</td>\n",
       "      <td>A1</td>\n",
       "      <td>85.0</td>\n",
       "      <td>83450</td>\n",
       "      <td>1.0</td>\n",
       "      <td>0.0</td>\n",
       "      <td>0.0</td>\n",
       "      <td>0.0</td>\n",
       "      <td>0.0</td>\n",
       "      <td>...</td>\n",
       "      <td>0.0</td>\n",
       "      <td>1.0</td>\n",
       "      <td>0.0</td>\n",
       "      <td>0.0</td>\n",
       "      <td>0.0</td>\n",
       "      <td>0.0</td>\n",
       "      <td>1.0</td>\n",
       "      <td>0.0</td>\n",
       "      <td>0.0</td>\n",
       "      <td>1.0</td>\n",
       "    </tr>\n",
       "  </tbody>\n",
       "</table>\n",
       "<p>3 rows × 98 columns</p>\n",
       "</div>"
      ],
      "text/plain": [
       "   displacement  make model     hp     km  ss_abs  ss_adaptive_cruise_control  \\\n",
       "0        1422.0  Audi    A1   66.0  56013     1.0                         0.0   \n",
       "1        1798.0  Audi    A1  141.0  80000     1.0                         0.0   \n",
       "2        1598.0  Audi    A1   85.0  83450     1.0                         0.0   \n",
       "\n",
       "   ss_adaptive_headlights  ss_alarm_system  ss_blind_spot_monitor  ...  \\\n",
       "0                     0.0              0.0                    0.0  ...   \n",
       "1                     0.0              0.0                    0.0  ...   \n",
       "2                     0.0              0.0                    0.0  ...   \n",
       "\n",
       "   cc_split_rear_seats  cc_start_stop_system  cc_sunroof  cc_tinted_windows  \\\n",
       "0                  0.0                   1.0         0.0                0.0   \n",
       "1                  0.0                   1.0         0.0                1.0   \n",
       "2                  0.0                   1.0         0.0                0.0   \n",
       "\n",
       "   cc_wind_deflector  cc_windshield  ext_alloy_wheels  ext_touch_screen  \\\n",
       "0                0.0            0.0               1.0               0.0   \n",
       "1                0.0            0.0               1.0               0.0   \n",
       "2                0.0            0.0               1.0               0.0   \n",
       "\n",
       "   ext_trailer_hitch  ext_voice_control  \n",
       "0                0.0                1.0  \n",
       "1                0.0                1.0  \n",
       "2                0.0                1.0  \n",
       "\n",
       "[3 rows x 98 columns]"
      ]
     },
     "execution_count": 288,
     "metadata": {},
     "output_type": "execute_result"
    }
   ],
   "source": [
    "df.head(3)"
   ]
  },
  {
   "cell_type": "code",
   "execution_count": 289,
   "metadata": {},
   "outputs": [
    {
     "data": {
      "text/plain": [
       "displacement                                float64\n",
       "make                                         object\n",
       "model                                        object\n",
       "hp                                          float64\n",
       "km                                            int64\n",
       "ss_abs                                      float64\n",
       "ss_adaptive_cruise_control                  float64\n",
       "ss_adaptive_headlights                      float64\n",
       "ss_alarm_system                             float64\n",
       "ss_blind_spot_monitor                       float64\n",
       "ss_central_door_lock                        float64\n",
       "ss_central_door_lock_with_remote_control    float64\n",
       "ss_daytime_running_lights                   float64\n",
       "ss_driver_drowsiness_detection              float64\n",
       "ss_driver_side_airbag                       float64\n",
       "ss_electronic_stability_control             float64\n",
       "ss_emergency_brake_assistant                float64\n",
       "ss_emergency_system                         float64\n",
       "ss_fog_lights                               float64\n",
       "ss_head_airbag                              float64\n",
       "ss_immobilizer                              float64\n",
       "ss_isofix                                   float64\n",
       "ss_led_daytime_running_lights               float64\n",
       "ss_led_headlights                           float64\n",
       "ss_lane_departure_warning_system            float64\n",
       "ss_night_view_assist                        float64\n",
       "ss_passenger_side_airbag                    float64\n",
       "ss_power_steering                           float64\n",
       "ss_rear_airbag                              float64\n",
       "ss_side_airbag                              float64\n",
       "                                             ...   \n",
       "cc_heated_steering_wheel                    float64\n",
       "cc_hill_holder                              float64\n",
       "cc_keyless_central_door_lock                float64\n",
       "cc_leather_seats                            float64\n",
       "cc_leather_steering_wheel                   float64\n",
       "cc_light_sensor                             float64\n",
       "cc_lumbar_support                           float64\n",
       "cc_massage_seats                            float64\n",
       "cc_multi_function_steering_wheel            float64\n",
       "cc_navigation_system                        float64\n",
       "cc_panorama_roof                            float64\n",
       "cc_park_distance_control                    float64\n",
       "cc_parking_assist_system_camera             float64\n",
       "cc_parking_assist_system_self_steering      float64\n",
       "cc_parking_assist_system_sensors_front      float64\n",
       "cc_parking_assist_system_sensors_rear       float64\n",
       "cc_power_windows                            float64\n",
       "cc_rain_sensor                              float64\n",
       "cc_seat_heating                             float64\n",
       "cc_seat_ventilation                         float64\n",
       "cc_split_rear_seats                         float64\n",
       "cc_start_stop_system                        float64\n",
       "cc_sunroof                                  float64\n",
       "cc_tinted_windows                           float64\n",
       "cc_wind_deflector                           float64\n",
       "cc_windshield                               float64\n",
       "ext_alloy_wheels                            float64\n",
       "ext_touch_screen                            float64\n",
       "ext_trailer_hitch                           float64\n",
       "ext_voice_control                           float64\n",
       "Length: 98, dtype: object"
      ]
     },
     "execution_count": 289,
     "metadata": {},
     "output_type": "execute_result"
    }
   ],
   "source": [
    "df.dtypes"
   ]
  },
  {
   "cell_type": "markdown",
   "metadata": {},
   "source": [
    "**price column**"
   ]
  },
  {
   "cell_type": "code",
   "execution_count": 290,
   "metadata": {},
   "outputs": [
    {
     "data": {
      "text/plain": [
       "<matplotlib.axes._subplots.AxesSubplot at 0x13a053a4eb8>"
      ]
     },
     "execution_count": 290,
     "metadata": {},
     "output_type": "execute_result"
    },
    {
     "data": {
      "image/png": "[encoded data removed]",
      "text/plain": [
       "<Figure size 432x288 with 1 Axes>"
      ]
     },
     "metadata": {
      "needs_background": "light"
     },
     "output_type": "display_data"
    }
   ],
   "source": [
    "df.boxplot('price')"
   ]
  },
  {
   "cell_type": "code",
   "execution_count": 291,
   "metadata": {},
   "outputs": [
    {
     "data": {
      "text/plain": [
       "8594      13\n",
       "8828     120\n",
       "6066     255\n",
       "8829     331\n",
       "8827    4950\n",
       "Name: price, dtype: int64"
      ]
     },
     "execution_count": 291,
     "metadata": {},
     "output_type": "execute_result"
    }
   ],
   "source": [
    "df.price.sort_values(ascending = True)[:5]"
   ]
  },
  {
   "cell_type": "code",
   "execution_count": 292,
   "metadata": {},
   "outputs": [],
   "source": [
    "# 13 euro or 331 euro are not normal. We'll drop these rows."
   ]
  },
  {
   "cell_type": "code",
   "execution_count": 110,
   "metadata": {},
   "outputs": [],
   "source": [
    "df = df.drop([8594, 8828, 6066, 8829])"
   ]
  },
  {
   "cell_type": "code",
   "execution_count": 295,
   "metadata": {},
   "outputs": [],
   "source": [
    "df_orj=df.copy()"
   ]
  },
  {
   "cell_type": "code",
   "execution_count": 347,
   "metadata": {},
   "outputs": [
    {
     "data": {
      "text/plain": [
       "(14994, 98)"
      ]
     },
     "execution_count": 347,
     "metadata": {},
     "output_type": "execute_result"
    }
   ],
   "source": [
    "df_orj.shape"
   ]
  },
  {
   "cell_type": "code",
   "execution_count": 299,
   "metadata": {},
   "outputs": [],
   "source": [
    "df_orj.to_pickle('golden_data_not_dummied.pkl')"
   ]
  },
  {
   "cell_type": "markdown",
   "metadata": {},
   "source": [
    "**GET DUMMIES**"
   ]
  },
  {
   "cell_type": "code",
   "execution_count": 297,
   "metadata": {},
   "outputs": [],
   "source": [
    "df= pd.get_dummies(df)"
   ]
  },
  {
   "cell_type": "code",
   "execution_count": 305,
   "metadata": {},
   "outputs": [
    {
     "data": {
      "text/plain": [
       "(14990, 136)"
      ]
     },
     "execution_count": 305,
     "metadata": {},
     "output_type": "execute_result"
    }
   ],
   "source": [
    "df.shape"
   ]
  },
  {
   "cell_type": "code",
   "execution_count": 302,
   "metadata": {},
   "outputs": [],
   "source": [
    "df.to_pickle('golden_data_16_june.pkl')"
   ]
  },
  {
   "cell_type": "code",
   "execution_count": null,
   "metadata": {},
   "outputs": [],
   "source": [
    "#This is the first golden data set, dummied but feature importance not applied. \n",
    "# Later we will have a second golden data with reduced columns."
   ]
  },
  {
   "cell_type": "markdown",
   "metadata": {},
   "source": [
    "**FEATURE IMPORTANCE**"
   ]
  },
  {
   "cell_type": "code",
   "execution_count": 486,
   "metadata": {},
   "outputs": [],
   "source": [
    "df=pd.read_pickle(\"golden_data_16_june.pkl\")"
   ]
  },
  {
   "cell_type": "code",
   "execution_count": 487,
   "metadata": {},
   "outputs": [
    {
     "data": {
      "text/plain": [
       "(14990, 136)"
      ]
     },
     "execution_count": 487,
     "metadata": {},
     "output_type": "execute_result"
    }
   ],
   "source": [
    "df.shape"
   ]
  },
  {
   "cell_type": "code",
   "execution_count": 488,
   "metadata": {},
   "outputs": [],
   "source": [
    "import statsmodels.api as sm"
   ]
  },
  {
   "cell_type": "code",
   "execution_count": 489,
   "metadata": {},
   "outputs": [],
   "source": [
    "X=df.drop(['price'], axis=1)\n",
    "y=df['price']"
   ]
  },
  {
   "cell_type": "code",
   "execution_count": 313,
   "metadata": {},
   "outputs": [],
   "source": [
    "#we'll make feature imp test to reduce column number."
   ]
  },
  {
   "cell_type": "code",
   "execution_count": 490,
   "metadata": {},
   "outputs": [
    {
     "name": "stdout",
     "output_type": "stream",
     "text": [
      "['displacement', 'hp', 'km', 'ss_adaptive_headlights', 'ss_blind_spot_monitor', 'ss_central_door_lock', 'ss_daytime_running_lights', 'ss_electronic_stability_control', 'ss_emergency_system', 'ss_fog_lights', 'ss_immobilizer', 'ss_isofix', 'ss_led_daytime_running_lights', 'ss_led_headlights', 'ss_lane_departure_warning_system', 'ss_passenger_side_airbag', 'ss_power_steering', 'ss_rear_airbag', 'ss_side_airbag', 'ss_tire_pressure_monitoring_system', 'ss_traction_control', 'ss_xenon_headlights', 'consumption_comb', 'inspection_new', 'age', 'ent_media_bluetooth', 'ent_media_digital_radio', 'ent_media_mp3', 'ent_media_radio', 'ent_media_sound_system', 'ent_media_television', 'ent_media_usb', 'nr_of_doors', 'warranty', 'cc_air_conditioning', 'cc_automatic_climate_control', 'cc_cruise_control', 'cc_electrical_side_mirrors', 'cc_electrically_adjustable_seats', 'cc_electrically_heated_windshield', 'cc_heads_up_display', 'cc_heated_steering_wheel', 'cc_hill_holder', 'cc_keyless_central_door_lock', 'cc_light_sensor', 'cc_lumbar_support', 'cc_massage_seats', 'cc_multi_function_steering_wheel', 'cc_navigation_system', 'cc_panorama_roof', 'cc_park_distance_control', 'cc_parking_assist_system_self_steering', 'cc_parking_assist_system_sensors_front', 'cc_parking_assist_system_sensors_rear', 'cc_rain_sensor', 'cc_seat_ventilation', 'cc_split_rear_seats', 'cc_sunroof', 'ext_alloy_wheels', 'ext_touch_screen', 'ext_voice_control', 'make_Audi', 'make_Renault', 'model_A1', 'model_A2', 'model_Astra', 'model_Clio', 'model_Corsa', 'model_Espace', 'model_Insignia', 'body_Compact', 'body_Convertible', 'body_Sedans', 'body_Station wagon', 'body_Transporter', 'body_Van', 'body_color_Black', 'body_color_Blue', 'body_color_Green', 'body_color_Grey', 'body_color_Red', 'body_color_Silver', 'body_color_Violet', 'body_color_White', 'body_color_Yellow', 'gearing_type_Automatic', 'gearing_type_Semi-automatic', 'fuel_diesel', 'type_Demonstration', 'type_New', 'type_Pre-registered']\n"
     ]
    }
   ],
   "source": [
    "#Backward Elimination\n",
    "cols = list(X.columns)\n",
    "pmax = 1\n",
    "while (len(cols)>0):\n",
    "    p= []\n",
    "    X_1 = X[cols]\n",
    "    X_1 = sm.add_constant(X_1)\n",
    "    model = sm.OLS(y,X_1).fit()\n",
    "    p = pd.Series(model.pvalues.values[1:],index = cols)      \n",
    "    pmax = max(p)\n",
    "    feature_with_p_max = p.idxmax()\n",
    "    if(pmax>0.05):\n",
    "        cols.remove(feature_with_p_max)\n",
    "    else:\n",
    "        break\n",
    "selected_features_BE = cols\n",
    "print(selected_features_BE)"
   ]
  },
  {
   "cell_type": "code",
   "execution_count": 491,
   "metadata": {},
   "outputs": [],
   "source": [
    "reduced_column_list=cols"
   ]
  },
  {
   "cell_type": "code",
   "execution_count": 492,
   "metadata": {},
   "outputs": [
    {
     "data": {
      "text/plain": [
       "91"
      ]
     },
     "execution_count": 492,
     "metadata": {},
     "output_type": "execute_result"
    }
   ],
   "source": [
    "len(reduced_column_list)"
   ]
  },
  {
   "cell_type": "code",
   "execution_count": 340,
   "metadata": {},
   "outputs": [],
   "source": [
    "df=df[reduced_column_list]"
   ]
  },
  {
   "cell_type": "code",
   "execution_count": 341,
   "metadata": {},
   "outputs": [
    {
     "data": {
      "text/plain": [
       "(14990, 91)"
      ]
     },
     "execution_count": 341,
     "metadata": {},
     "output_type": "execute_result"
    }
   ],
   "source": [
    "df.shape"
   ]
  },
  {
   "cell_type": "code",
   "execution_count": 342,
   "metadata": {},
   "outputs": [
    {
     "data": {
      "text/html": [
       "<div>\n",
       "<style scoped>\n",
       "    .dataframe tbody tr th:only-of-type {\n",
       "        vertical-align: middle;\n",
       "    }\n",
       "\n",
       "    .dataframe tbody tr th {\n",
       "        vertical-align: top;\n",
       "    }\n",
       "\n",
       "    .dataframe thead th {\n",
       "        text-align: right;\n",
       "    }\n",
       "</style>\n",
       "<table border=\"1\" class=\"dataframe\">\n",
       "  <thead>\n",
       "    <tr style=\"text-align: right;\">\n",
       "      <th></th>\n",
       "      <th>displacement</th>\n",
       "      <th>hp</th>\n",
       "      <th>km</th>\n",
       "      <th>ss_adaptive_headlights</th>\n",
       "      <th>ss_blind_spot_monitor</th>\n",
       "      <th>ss_central_door_lock</th>\n",
       "      <th>ss_daytime_running_lights</th>\n",
       "      <th>ss_electronic_stability_control</th>\n",
       "      <th>ss_emergency_system</th>\n",
       "      <th>ss_fog_lights</th>\n",
       "      <th>...</th>\n",
       "      <th>body_color_Silver</th>\n",
       "      <th>body_color_Violet</th>\n",
       "      <th>body_color_White</th>\n",
       "      <th>body_color_Yellow</th>\n",
       "      <th>gearing_type_Automatic</th>\n",
       "      <th>gearing_type_Semi-automatic</th>\n",
       "      <th>fuel_diesel</th>\n",
       "      <th>type_Demonstration</th>\n",
       "      <th>type_New</th>\n",
       "      <th>type_Pre-registered</th>\n",
       "    </tr>\n",
       "  </thead>\n",
       "  <tbody>\n",
       "    <tr>\n",
       "      <th>0</th>\n",
       "      <td>1422.0</td>\n",
       "      <td>66.0</td>\n",
       "      <td>56013</td>\n",
       "      <td>0.0</td>\n",
       "      <td>0.0</td>\n",
       "      <td>1.0</td>\n",
       "      <td>1.0</td>\n",
       "      <td>1.0</td>\n",
       "      <td>0.0</td>\n",
       "      <td>1.0</td>\n",
       "      <td>...</td>\n",
       "      <td>0</td>\n",
       "      <td>0</td>\n",
       "      <td>0</td>\n",
       "      <td>0</td>\n",
       "      <td>1</td>\n",
       "      <td>0</td>\n",
       "      <td>1</td>\n",
       "      <td>0</td>\n",
       "      <td>0</td>\n",
       "      <td>0</td>\n",
       "    </tr>\n",
       "    <tr>\n",
       "      <th>1</th>\n",
       "      <td>1798.0</td>\n",
       "      <td>141.0</td>\n",
       "      <td>80000</td>\n",
       "      <td>0.0</td>\n",
       "      <td>0.0</td>\n",
       "      <td>1.0</td>\n",
       "      <td>1.0</td>\n",
       "      <td>1.0</td>\n",
       "      <td>0.0</td>\n",
       "      <td>0.0</td>\n",
       "      <td>...</td>\n",
       "      <td>0</td>\n",
       "      <td>0</td>\n",
       "      <td>0</td>\n",
       "      <td>0</td>\n",
       "      <td>1</td>\n",
       "      <td>0</td>\n",
       "      <td>0</td>\n",
       "      <td>0</td>\n",
       "      <td>0</td>\n",
       "      <td>0</td>\n",
       "    </tr>\n",
       "    <tr>\n",
       "      <th>2</th>\n",
       "      <td>1598.0</td>\n",
       "      <td>85.0</td>\n",
       "      <td>83450</td>\n",
       "      <td>0.0</td>\n",
       "      <td>0.0</td>\n",
       "      <td>1.0</td>\n",
       "      <td>1.0</td>\n",
       "      <td>1.0</td>\n",
       "      <td>0.0</td>\n",
       "      <td>0.0</td>\n",
       "      <td>...</td>\n",
       "      <td>0</td>\n",
       "      <td>0</td>\n",
       "      <td>0</td>\n",
       "      <td>0</td>\n",
       "      <td>1</td>\n",
       "      <td>0</td>\n",
       "      <td>1</td>\n",
       "      <td>0</td>\n",
       "      <td>0</td>\n",
       "      <td>0</td>\n",
       "    </tr>\n",
       "  </tbody>\n",
       "</table>\n",
       "<p>3 rows × 91 columns</p>\n",
       "</div>"
      ],
      "text/plain": [
       "   displacement     hp     km  ss_adaptive_headlights  ss_blind_spot_monitor  \\\n",
       "0        1422.0   66.0  56013                     0.0                    0.0   \n",
       "1        1798.0  141.0  80000                     0.0                    0.0   \n",
       "2        1598.0   85.0  83450                     0.0                    0.0   \n",
       "\n",
       "   ss_central_door_lock  ss_daytime_running_lights  \\\n",
       "0                   1.0                        1.0   \n",
       "1                   1.0                        1.0   \n",
       "2                   1.0                        1.0   \n",
       "\n",
       "   ss_electronic_stability_control  ss_emergency_system  ss_fog_lights  ...  \\\n",
       "0                              1.0                  0.0            1.0  ...   \n",
       "1                              1.0                  0.0            0.0  ...   \n",
       "2                              1.0                  0.0            0.0  ...   \n",
       "\n",
       "   body_color_Silver  body_color_Violet  body_color_White  body_color_Yellow  \\\n",
       "0                  0                  0                 0                  0   \n",
       "1                  0                  0                 0                  0   \n",
       "2                  0                  0                 0                  0   \n",
       "\n",
       "   gearing_type_Automatic  gearing_type_Semi-automatic  fuel_diesel  \\\n",
       "0                       1                            0            1   \n",
       "1                       1                            0            0   \n",
       "2                       1                            0            1   \n",
       "\n",
       "   type_Demonstration  type_New  type_Pre-registered  \n",
       "0                   0         0                    0  \n",
       "1                   0         0                    0  \n",
       "2                   0         0                    0  \n",
       "\n",
       "[3 rows x 91 columns]"
      ]
     },
     "execution_count": 342,
     "metadata": {},
     "output_type": "execute_result"
    }
   ],
   "source": [
    "df.head(3)"
   ]
  },
  {
   "cell_type": "code",
   "execution_count": 350,
   "metadata": {},
   "outputs": [
    {
     "data": {
      "text/html": [
       "<div>\n",
       "<style scoped>\n",
       "    .dataframe tbody tr th:only-of-type {\n",
       "        vertical-align: middle;\n",
       "    }\n",
       "\n",
       "    .dataframe tbody tr th {\n",
       "        vertical-align: top;\n",
       "    }\n",
       "\n",
       "    .dataframe thead th {\n",
       "        text-align: right;\n",
       "    }\n",
       "</style>\n",
       "<table border=\"1\" class=\"dataframe\">\n",
       "  <thead>\n",
       "    <tr style=\"text-align: right;\">\n",
       "      <th></th>\n",
       "      <th>displacement</th>\n",
       "      <th>hp</th>\n",
       "      <th>km</th>\n",
       "      <th>ss_adaptive_headlights</th>\n",
       "      <th>ss_blind_spot_monitor</th>\n",
       "      <th>ss_central_door_lock</th>\n",
       "      <th>ss_daytime_running_lights</th>\n",
       "      <th>ss_electronic_stability_control</th>\n",
       "      <th>ss_emergency_system</th>\n",
       "      <th>ss_fog_lights</th>\n",
       "      <th>...</th>\n",
       "      <th>body_color_Silver</th>\n",
       "      <th>body_color_Violet</th>\n",
       "      <th>body_color_White</th>\n",
       "      <th>body_color_Yellow</th>\n",
       "      <th>gearing_type_Automatic</th>\n",
       "      <th>gearing_type_Semi-automatic</th>\n",
       "      <th>fuel_diesel</th>\n",
       "      <th>type_Demonstration</th>\n",
       "      <th>type_New</th>\n",
       "      <th>type_Pre-registered</th>\n",
       "    </tr>\n",
       "  </thead>\n",
       "  <tbody>\n",
       "    <tr>\n",
       "      <th>count</th>\n",
       "      <td>14990.000000</td>\n",
       "      <td>14990.000000</td>\n",
       "      <td>14990.000000</td>\n",
       "      <td>14990.000000</td>\n",
       "      <td>14990.000000</td>\n",
       "      <td>14990.000000</td>\n",
       "      <td>14990.000000</td>\n",
       "      <td>14990.000000</td>\n",
       "      <td>14990.000000</td>\n",
       "      <td>14990.000000</td>\n",
       "      <td>...</td>\n",
       "      <td>14990.000000</td>\n",
       "      <td>14990.000000</td>\n",
       "      <td>14990.000000</td>\n",
       "      <td>14990.000000</td>\n",
       "      <td>14990.000000</td>\n",
       "      <td>14990.000000</td>\n",
       "      <td>14990.000000</td>\n",
       "      <td>14990.000000</td>\n",
       "      <td>14990.000000</td>\n",
       "      <td>14990.000000</td>\n",
       "    </tr>\n",
       "    <tr>\n",
       "      <th>mean</th>\n",
       "      <td>1432.258843</td>\n",
       "      <td>88.231744</td>\n",
       "      <td>33894.105203</td>\n",
       "      <td>0.133422</td>\n",
       "      <td>0.082188</td>\n",
       "      <td>0.859239</td>\n",
       "      <td>0.707605</td>\n",
       "      <td>0.888726</td>\n",
       "      <td>0.095197</td>\n",
       "      <td>0.568312</td>\n",
       "      <td>...</td>\n",
       "      <td>0.108072</td>\n",
       "      <td>0.001201</td>\n",
       "      <td>0.211074</td>\n",
       "      <td>0.002535</td>\n",
       "      <td>0.460040</td>\n",
       "      <td>0.030754</td>\n",
       "      <td>0.471781</td>\n",
       "      <td>0.051634</td>\n",
       "      <td>0.054236</td>\n",
       "      <td>0.090127</td>\n",
       "    </tr>\n",
       "    <tr>\n",
       "      <th>std</th>\n",
       "      <td>271.764876</td>\n",
       "      <td>26.617304</td>\n",
       "      <td>37284.577857</td>\n",
       "      <td>0.340042</td>\n",
       "      <td>0.274660</td>\n",
       "      <td>0.347786</td>\n",
       "      <td>0.454878</td>\n",
       "      <td>0.314482</td>\n",
       "      <td>0.293496</td>\n",
       "      <td>0.495328</td>\n",
       "      <td>...</td>\n",
       "      <td>0.310482</td>\n",
       "      <td>0.034633</td>\n",
       "      <td>0.408084</td>\n",
       "      <td>0.050287</td>\n",
       "      <td>0.498417</td>\n",
       "      <td>0.172656</td>\n",
       "      <td>0.499220</td>\n",
       "      <td>0.221295</td>\n",
       "      <td>0.226491</td>\n",
       "      <td>0.286373</td>\n",
       "    </tr>\n",
       "    <tr>\n",
       "      <th>min</th>\n",
       "      <td>890.000000</td>\n",
       "      <td>40.000000</td>\n",
       "      <td>0.000000</td>\n",
       "      <td>0.000000</td>\n",
       "      <td>0.000000</td>\n",
       "      <td>0.000000</td>\n",
       "      <td>0.000000</td>\n",
       "      <td>0.000000</td>\n",
       "      <td>0.000000</td>\n",
       "      <td>0.000000</td>\n",
       "      <td>...</td>\n",
       "      <td>0.000000</td>\n",
       "      <td>0.000000</td>\n",
       "      <td>0.000000</td>\n",
       "      <td>0.000000</td>\n",
       "      <td>0.000000</td>\n",
       "      <td>0.000000</td>\n",
       "      <td>0.000000</td>\n",
       "      <td>0.000000</td>\n",
       "      <td>0.000000</td>\n",
       "      <td>0.000000</td>\n",
       "    </tr>\n",
       "    <tr>\n",
       "      <th>25%</th>\n",
       "      <td>1229.000000</td>\n",
       "      <td>66.000000</td>\n",
       "      <td>5000.000000</td>\n",
       "      <td>0.000000</td>\n",
       "      <td>0.000000</td>\n",
       "      <td>1.000000</td>\n",
       "      <td>0.000000</td>\n",
       "      <td>1.000000</td>\n",
       "      <td>0.000000</td>\n",
       "      <td>0.000000</td>\n",
       "      <td>...</td>\n",
       "      <td>0.000000</td>\n",
       "      <td>0.000000</td>\n",
       "      <td>0.000000</td>\n",
       "      <td>0.000000</td>\n",
       "      <td>0.000000</td>\n",
       "      <td>0.000000</td>\n",
       "      <td>0.000000</td>\n",
       "      <td>0.000000</td>\n",
       "      <td>0.000000</td>\n",
       "      <td>0.000000</td>\n",
       "    </tr>\n",
       "    <tr>\n",
       "      <th>50%</th>\n",
       "      <td>1461.000000</td>\n",
       "      <td>85.000000</td>\n",
       "      <td>22487.000000</td>\n",
       "      <td>0.000000</td>\n",
       "      <td>0.000000</td>\n",
       "      <td>1.000000</td>\n",
       "      <td>1.000000</td>\n",
       "      <td>1.000000</td>\n",
       "      <td>0.000000</td>\n",
       "      <td>1.000000</td>\n",
       "      <td>...</td>\n",
       "      <td>0.000000</td>\n",
       "      <td>0.000000</td>\n",
       "      <td>0.000000</td>\n",
       "      <td>0.000000</td>\n",
       "      <td>0.000000</td>\n",
       "      <td>0.000000</td>\n",
       "      <td>0.000000</td>\n",
       "      <td>0.000000</td>\n",
       "      <td>0.000000</td>\n",
       "      <td>0.000000</td>\n",
       "    </tr>\n",
       "    <tr>\n",
       "      <th>75%</th>\n",
       "      <td>1598.000000</td>\n",
       "      <td>100.000000</td>\n",
       "      <td>49264.500000</td>\n",
       "      <td>0.000000</td>\n",
       "      <td>0.000000</td>\n",
       "      <td>1.000000</td>\n",
       "      <td>1.000000</td>\n",
       "      <td>1.000000</td>\n",
       "      <td>0.000000</td>\n",
       "      <td>1.000000</td>\n",
       "      <td>...</td>\n",
       "      <td>0.000000</td>\n",
       "      <td>0.000000</td>\n",
       "      <td>0.000000</td>\n",
       "      <td>0.000000</td>\n",
       "      <td>1.000000</td>\n",
       "      <td>0.000000</td>\n",
       "      <td>1.000000</td>\n",
       "      <td>0.000000</td>\n",
       "      <td>0.000000</td>\n",
       "      <td>0.000000</td>\n",
       "    </tr>\n",
       "    <tr>\n",
       "      <th>max</th>\n",
       "      <td>2967.000000</td>\n",
       "      <td>294.000000</td>\n",
       "      <td>317000.000000</td>\n",
       "      <td>1.000000</td>\n",
       "      <td>1.000000</td>\n",
       "      <td>1.000000</td>\n",
       "      <td>1.000000</td>\n",
       "      <td>1.000000</td>\n",
       "      <td>1.000000</td>\n",
       "      <td>1.000000</td>\n",
       "      <td>...</td>\n",
       "      <td>1.000000</td>\n",
       "      <td>1.000000</td>\n",
       "      <td>1.000000</td>\n",
       "      <td>1.000000</td>\n",
       "      <td>1.000000</td>\n",
       "      <td>1.000000</td>\n",
       "      <td>1.000000</td>\n",
       "      <td>1.000000</td>\n",
       "      <td>1.000000</td>\n",
       "      <td>1.000000</td>\n",
       "    </tr>\n",
       "  </tbody>\n",
       "</table>\n",
       "<p>8 rows × 91 columns</p>\n",
       "</div>"
      ],
      "text/plain": [
       "       displacement            hp             km  ss_adaptive_headlights  \\\n",
       "count  14990.000000  14990.000000   14990.000000            14990.000000   \n",
       "mean    1432.258843     88.231744   33894.105203                0.133422   \n",
       "std      271.764876     26.617304   37284.577857                0.340042   \n",
       "min      890.000000     40.000000       0.000000                0.000000   \n",
       "25%     1229.000000     66.000000    5000.000000                0.000000   \n",
       "50%     1461.000000     85.000000   22487.000000                0.000000   \n",
       "75%     1598.000000    100.000000   49264.500000                0.000000   \n",
       "max     2967.000000    294.000000  317000.000000                1.000000   \n",
       "\n",
       "       ss_blind_spot_monitor  ss_central_door_lock  ss_daytime_running_lights  \\\n",
       "count           14990.000000          14990.000000               14990.000000   \n",
       "mean                0.082188              0.859239                   0.707605   \n",
       "std                 0.274660              0.347786                   0.454878   \n",
       "min                 0.000000              0.000000                   0.000000   \n",
       "25%                 0.000000              1.000000                   0.000000   \n",
       "50%                 0.000000              1.000000                   1.000000   \n",
       "75%                 0.000000              1.000000                   1.000000   \n",
       "max                 1.000000              1.000000                   1.000000   \n",
       "\n",
       "       ss_electronic_stability_control  ss_emergency_system  ss_fog_lights  \\\n",
       "count                     14990.000000         14990.000000   14990.000000   \n",
       "mean                          0.888726             0.095197       0.568312   \n",
       "std                           0.314482             0.293496       0.495328   \n",
       "min                           0.000000             0.000000       0.000000   \n",
       "25%                           1.000000             0.000000       0.000000   \n",
       "50%                           1.000000             0.000000       1.000000   \n",
       "75%                           1.000000             0.000000       1.000000   \n",
       "max                           1.000000             1.000000       1.000000   \n",
       "\n",
       "       ...  body_color_Silver  body_color_Violet  body_color_White  \\\n",
       "count  ...       14990.000000       14990.000000      14990.000000   \n",
       "mean   ...           0.108072           0.001201          0.211074   \n",
       "std    ...           0.310482           0.034633          0.408084   \n",
       "min    ...           0.000000           0.000000          0.000000   \n",
       "25%    ...           0.000000           0.000000          0.000000   \n",
       "50%    ...           0.000000           0.000000          0.000000   \n",
       "75%    ...           0.000000           0.000000          0.000000   \n",
       "max    ...           1.000000           1.000000          1.000000   \n",
       "\n",
       "       body_color_Yellow  gearing_type_Automatic  gearing_type_Semi-automatic  \\\n",
       "count       14990.000000            14990.000000                 14990.000000   \n",
       "mean            0.002535                0.460040                     0.030754   \n",
       "std             0.050287                0.498417                     0.172656   \n",
       "min             0.000000                0.000000                     0.000000   \n",
       "25%             0.000000                0.000000                     0.000000   \n",
       "50%             0.000000                0.000000                     0.000000   \n",
       "75%             0.000000                1.000000                     0.000000   \n",
       "max             1.000000                1.000000                     1.000000   \n",
       "\n",
       "        fuel_diesel  type_Demonstration      type_New  type_Pre-registered  \n",
       "count  14990.000000        14990.000000  14990.000000         14990.000000  \n",
       "mean       0.471781            0.051634      0.054236             0.090127  \n",
       "std        0.499220            0.221295      0.226491             0.286373  \n",
       "min        0.000000            0.000000      0.000000             0.000000  \n",
       "25%        0.000000            0.000000      0.000000             0.000000  \n",
       "50%        0.000000            0.000000      0.000000             0.000000  \n",
       "75%        1.000000            0.000000      0.000000             0.000000  \n",
       "max        1.000000            1.000000      1.000000             1.000000  \n",
       "\n",
       "[8 rows x 91 columns]"
      ]
     },
     "execution_count": 350,
     "metadata": {},
     "output_type": "execute_result"
    }
   ],
   "source": [
    "df.describe()"
   ]
  },
  {
   "cell_type": "code",
   "execution_count": 351,
   "metadata": {},
   "outputs": [],
   "source": [
    "#during backward elemination we seperated price column from df. now we join it to df."
   ]
  },
  {
   "cell_type": "code",
   "execution_count": 343,
   "metadata": {},
   "outputs": [],
   "source": [
    "df=df.join(y)"
   ]
  },
  {
   "cell_type": "code",
   "execution_count": 344,
   "metadata": {},
   "outputs": [
    {
     "data": {
      "text/plain": [
       "(14990, 92)"
      ]
     },
     "execution_count": 344,
     "metadata": {},
     "output_type": "execute_result"
    }
   ],
   "source": [
    "df.shape"
   ]
  },
  {
   "cell_type": "code",
   "execution_count": 345,
   "metadata": {},
   "outputs": [],
   "source": [
    "df.to_pickle('golden_data_reduced_16june.pkl')"
   ]
  },
  {
   "cell_type": "code",
   "execution_count": 535,
   "metadata": {},
   "outputs": [],
   "source": [
    "#This is the second dataset with reduced columns."
   ]
  }
 ],
 "metadata": {
  "kernelspec": {
   "display_name": "Python 3",
   "language": "python",
   "name": "python3"
  },
  "language_info": {
   "codemirror_mode": {
    "name": "ipython",
    "version": 3
   },
   "file_extension": ".py",
   "mimetype": "text/x-python",
   "name": "python",
   "nbconvert_exporter": "python",
   "pygments_lexer": "ipython3",
   "version": "3.7.3"
  },
  "toc-autonumbering": true,
  "toc-showcode": false,
  "toc-showmarkdowntxt": true,
  "toc-showtags": false
 },
 "nbformat": 4,
 "nbformat_minor": 2
}
