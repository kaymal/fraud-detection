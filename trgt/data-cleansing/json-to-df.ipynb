{
 "cells": [
  {
   "cell_type": "markdown",
   "metadata": {},
   "source": [
    "# Convert JSON object to pandas DataFrame"
   ]
  },
  {
   "cell_type": "code",
   "execution_count": 1,
   "metadata": {},
   "outputs": [],
   "source": [
    "import json\n",
    "import pandas as pd"
   ]
  },
  {
   "cell_type": "code",
   "execution_count": null,
   "metadata": {},
   "outputs": [],
   "source": [
    "# with open('data/export.json','r') as file:\n",
    "#     autos = json.loads(file)"
   ]
  },
  {
   "cell_type": "code",
   "execution_count": 18,
   "metadata": {},
   "outputs": [],
   "source": [
    "ads_list = []\n",
    "with open('data/export.json','r') as file:\n",
    "    ads = file.read().split(\"\\n\")\n",
    "    for ad in ads:\n",
    "        ad_obj = json.loads(ad)\n",
    "        ads_list.append(ad_obj)"
   ]
  },
  {
   "cell_type": "code",
   "execution_count": 19,
   "metadata": {},
   "outputs": [],
   "source": [
    "autos = pd.DataFrame(ads_list)"
   ]
  },
  {
   "cell_type": "code",
   "execution_count": 23,
   "metadata": {},
   "outputs": [
    {
     "data": {
      "text/plain": [
       "(31500, 4)"
      ]
     },
     "execution_count": 23,
     "metadata": {},
     "output_type": "execute_result"
    }
   ],
   "source": [
    "autos.shape"
   ]
  },
  {
   "cell_type": "code",
   "execution_count": 20,
   "metadata": {},
   "outputs": [
    {
     "data": {
      "text/html": [
       "<div>\n",
       "<style scoped>\n",
       "    .dataframe tbody tr th:only-of-type {\n",
       "        vertical-align: middle;\n",
       "    }\n",
       "\n",
       "    .dataframe tbody tr th {\n",
       "        vertical-align: top;\n",
       "    }\n",
       "\n",
       "    .dataframe thead th {\n",
       "        text-align: right;\n",
       "    }\n",
       "</style>\n",
       "<table border=\"1\" class=\"dataframe\">\n",
       "  <thead>\n",
       "    <tr style=\"text-align: right;\">\n",
       "      <th></th>\n",
       "      <th>km</th>\n",
       "      <th>model</th>\n",
       "      <th>price</th>\n",
       "      <th>version</th>\n",
       "    </tr>\n",
       "  </thead>\n",
       "  <tbody>\n",
       "    <tr>\n",
       "      <th>0</th>\n",
       "      <td>\\n115,000 km\\n</td>\n",
       "      <td>Audi A1</td>\n",
       "      <td>\\n€ 9,500.-\\n</td>\n",
       "      <td>1.0 TFSI ultra Sportback TÜV NEU</td>\n",
       "    </tr>\n",
       "    <tr>\n",
       "      <th>1</th>\n",
       "      <td>\\n18,475 km\\n</td>\n",
       "      <td>Audi A1</td>\n",
       "      <td>\\n€ 11,890.-\\n</td>\n",
       "      <td>Sportback 1.0 TFSI admired</td>\n",
       "    </tr>\n",
       "    <tr>\n",
       "      <th>2</th>\n",
       "      <td>\\n118,500 km\\n</td>\n",
       "      <td>Audi A1</td>\n",
       "      <td>\\n€ 9,950.-\\n</td>\n",
       "      <td>1.0 TFSI Ultra Climatronic Media Paket Alufelgen</td>\n",
       "    </tr>\n",
       "    <tr>\n",
       "      <th>3</th>\n",
       "      <td>\\n86,635 km\\n</td>\n",
       "      <td>Audi A1</td>\n",
       "      <td>\\n€ 10,350.-\\n</td>\n",
       "      <td>.4 TDI Sitzheizung Klima</td>\n",
       "    </tr>\n",
       "    <tr>\n",
       "      <th>4</th>\n",
       "      <td>\\n130,000 km\\n</td>\n",
       "      <td>Audi A1</td>\n",
       "      <td>\\n€ 10,490.-\\n</td>\n",
       "      <td>1.4 TDI ultra Sportback|1.Hand|SERVICE NEU|..</td>\n",
       "    </tr>\n",
       "  </tbody>\n",
       "</table>\n",
       "</div>"
      ],
      "text/plain": [
       "               km    model           price  \\\n",
       "0  \\n115,000 km\\n  Audi A1   \\n€ 9,500.-\\n   \n",
       "1   \\n18,475 km\\n  Audi A1  \\n€ 11,890.-\\n   \n",
       "2  \\n118,500 km\\n  Audi A1   \\n€ 9,950.-\\n   \n",
       "3   \\n86,635 km\\n  Audi A1  \\n€ 10,350.-\\n   \n",
       "4  \\n130,000 km\\n  Audi A1  \\n€ 10,490.-\\n   \n",
       "\n",
       "                                            version  \n",
       "0                  1.0 TFSI ultra Sportback TÜV NEU  \n",
       "1                        Sportback 1.0 TFSI admired  \n",
       "2  1.0 TFSI Ultra Climatronic Media Paket Alufelgen  \n",
       "3                          .4 TDI Sitzheizung Klima  \n",
       "4     1.4 TDI ultra Sportback|1.Hand|SERVICE NEU|..  "
      ]
     },
     "execution_count": 20,
     "metadata": {},
     "output_type": "execute_result"
    }
   ],
   "source": [
    "autos.head()"
   ]
  },
  {
   "cell_type": "code",
   "execution_count": 22,
   "metadata": {},
   "outputs": [
    {
     "data": {
      "text/plain": [
       "3392"
      ]
     },
     "execution_count": 22,
     "metadata": {},
     "output_type": "execute_result"
    }
   ],
   "source": [
    "autos.duplicated().sum()"
   ]
  }
 ],
 "metadata": {
  "kernelspec": {
   "display_name": "Python 3",
   "language": "python",
   "name": "python3"
  },
  "language_info": {
   "codemirror_mode": {
    "name": "ipython",
    "version": 3
   },
   "file_extension": ".py",
   "mimetype": "text/x-python",
   "name": "python",
   "nbconvert_exporter": "python",
   "pygments_lexer": "ipython3",
   "version": "3.6.8"
  }
 },
 "nbformat": 4,
 "nbformat_minor": 2
}
