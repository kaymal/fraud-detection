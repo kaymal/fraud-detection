{
 "cells": [
  {
   "cell_type": "markdown",
   "metadata": {},
   "source": [
    "# Model"
   ]
  },
  {
   "cell_type": "markdown",
   "metadata": {},
   "source": [
    "## Importing Data"
   ]
  },
  {
   "cell_type": "code",
   "execution_count": 1,
   "metadata": {},
   "outputs": [],
   "source": [
    "# Import necessary modules\n",
    "import pandas as pd\n",
    "import numpy as np\n",
    "\n",
    "import matplotlib.pyplot as plt\n",
    "%matplotlib inline\n",
    "plt.style.use('ggplot')\n",
    "\n",
    "import seaborn as sns\n",
    "\n",
    "# Display 100 columns max\n",
    "pd.set_option('display.max_columns', 100)\n",
    "\n",
    "# Display 20 characters max within a cell\n",
    "# pd.set_option('max_colwidth',60)\n",
    "\n",
    "from sklearn.model_selection import train_test_split\n",
    "from sklearn.linear_model import Lasso\n",
    "from sklearn.model_selection import cross_val_score\n",
    "\n",
    "from sklearn.linear_model import LogisticRegression\n",
    "from sklearn.linear_model import LinearRegression\n",
    "from sklearn.model_selection import cross_val_score\n",
    "\n",
    "from sklearn.metrics import mean_squared_error, mean_absolute_error, r2_score\n",
    "\n",
    "import mlflow"
   ]
  },
  {
   "cell_type": "code",
   "execution_count": 2,
   "metadata": {},
   "outputs": [],
   "source": [
    "# Import imputed data\n",
    "df = pd.read_pickle(\"autos_golden_20190719.pkl\")\n",
    "\n",
    "# Import data without missing values (No imputation, no missing in the data)\n",
    "df_clean = pd.read_pickle(\"autos_clean_golden_20190719.pkl\")\n",
    "\n",
    "# Import data with missing values (No imputation)\n",
    "df_missing = pd.read_pickle(\"autos_missing_golden_20190719.pkl\")"
   ]
  },
  {
   "cell_type": "code",
   "execution_count": 3,
   "metadata": {},
   "outputs": [
    {
     "data": {
      "text/plain": [
       "((15911, 150), (15915, 150))"
      ]
     },
     "execution_count": 3,
     "metadata": {},
     "output_type": "execute_result"
    }
   ],
   "source": [
    "df.shape, df_missing.shape"
   ]
  },
  {
   "cell_type": "code",
   "execution_count": 4,
   "metadata": {},
   "outputs": [
    {
     "data": {
      "text/plain": [
       "(9975, 150)"
      ]
     },
     "execution_count": 4,
     "metadata": {},
     "output_type": "execute_result"
    }
   ],
   "source": [
    "df_clean.shape"
   ]
  },
  {
   "cell_type": "code",
   "execution_count": 5,
   "metadata": {},
   "outputs": [
    {
     "data": {
      "text/html": [
       "<div>\n",
       "<style scoped>\n",
       "    .dataframe tbody tr th:only-of-type {\n",
       "        vertical-align: middle;\n",
       "    }\n",
       "\n",
       "    .dataframe tbody tr th {\n",
       "        vertical-align: top;\n",
       "    }\n",
       "\n",
       "    .dataframe thead th {\n",
       "        text-align: right;\n",
       "    }\n",
       "</style>\n",
       "<table border=\"1\" class=\"dataframe\">\n",
       "  <thead>\n",
       "    <tr style=\"text-align: right;\">\n",
       "      <th></th>\n",
       "      <th>co2_emission</th>\n",
       "      <th>displacement</th>\n",
       "      <th>hp</th>\n",
       "      <th>km</th>\n",
       "      <th>ss_abs</th>\n",
       "      <th>ss_adaptive_cruise_control</th>\n",
       "      <th>ss_adaptive_headlights</th>\n",
       "      <th>ss_alarm_system</th>\n",
       "      <th>ss_blind_spot_monitor</th>\n",
       "      <th>ss_central_door_lock</th>\n",
       "      <th>ss_central_door_lock_with_remote_control</th>\n",
       "      <th>ss_daytime_running_lights</th>\n",
       "      <th>ss_driver_drowsiness_detection</th>\n",
       "      <th>ss_driver_side_airbag</th>\n",
       "      <th>ss_electronic_stability_control</th>\n",
       "      <th>ss_emergency_brake_assistant</th>\n",
       "      <th>ss_emergency_system</th>\n",
       "      <th>ss_fog_lights</th>\n",
       "      <th>ss_head_airbag</th>\n",
       "      <th>ss_immobilizer</th>\n",
       "      <th>ss_isofix</th>\n",
       "      <th>ss_led_daytime_running_lights</th>\n",
       "      <th>ss_led_headlights</th>\n",
       "      <th>ss_lane_departure_warning_system</th>\n",
       "      <th>ss_night_view_assist</th>\n",
       "      <th>ss_passenger_side_airbag</th>\n",
       "      <th>ss_power_steering</th>\n",
       "      <th>ss_rear_airbag</th>\n",
       "      <th>ss_side_airbag</th>\n",
       "      <th>ss_tire_pressure_monitoring_system</th>\n",
       "      <th>ss_traction_control</th>\n",
       "      <th>ss_traffic_sign_recognition</th>\n",
       "      <th>ss_xenon_headlights</th>\n",
       "      <th>inspection_new</th>\n",
       "      <th>age</th>\n",
       "      <th>ent_media_bluetooth</th>\n",
       "      <th>ent_media_cd_player</th>\n",
       "      <th>ent_media_digital_radio</th>\n",
       "      <th>ent_media_hands_free_equipment</th>\n",
       "      <th>ent_media_mp3</th>\n",
       "      <th>ent_media_on_board_computer</th>\n",
       "      <th>ent_media_radio</th>\n",
       "      <th>ent_media_sound_system</th>\n",
       "      <th>ent_media_television</th>\n",
       "      <th>ent_media_usb</th>\n",
       "      <th>nr_of_doors</th>\n",
       "      <th>nr_of_seats</th>\n",
       "      <th>warranty</th>\n",
       "      <th>cc_air_conditioning</th>\n",
       "      <th>cc_air_suspension</th>\n",
       "      <th>...</th>\n",
       "      <th>ext_tuned_car</th>\n",
       "      <th>ext_voice_control</th>\n",
       "      <th>ext_winter_tyres</th>\n",
       "      <th>make_Audi</th>\n",
       "      <th>make_Opel</th>\n",
       "      <th>make_Renault</th>\n",
       "      <th>model_A1</th>\n",
       "      <th>model_A2</th>\n",
       "      <th>model_A3</th>\n",
       "      <th>model_Astra</th>\n",
       "      <th>model_Clio</th>\n",
       "      <th>model_Corsa</th>\n",
       "      <th>model_Duster</th>\n",
       "      <th>model_Espace</th>\n",
       "      <th>model_Insignia</th>\n",
       "      <th>body_Compact</th>\n",
       "      <th>body_Convertible</th>\n",
       "      <th>body_Coupe</th>\n",
       "      <th>body_Off-Road</th>\n",
       "      <th>body_Other</th>\n",
       "      <th>body_Sedans</th>\n",
       "      <th>body_Station wagon</th>\n",
       "      <th>body_Transporter</th>\n",
       "      <th>body_Van</th>\n",
       "      <th>body_color_Beige</th>\n",
       "      <th>body_color_Black</th>\n",
       "      <th>body_color_Blue</th>\n",
       "      <th>body_color_Bronze</th>\n",
       "      <th>body_color_Brown</th>\n",
       "      <th>body_color_Green</th>\n",
       "      <th>body_color_Grey</th>\n",
       "      <th>body_color_Orange</th>\n",
       "      <th>body_color_Red</th>\n",
       "      <th>body_color_Silver</th>\n",
       "      <th>body_color_Violet</th>\n",
       "      <th>body_color_White</th>\n",
       "      <th>body_color_Yellow</th>\n",
       "      <th>gearing_type_Automatic</th>\n",
       "      <th>gearing_type_Manual</th>\n",
       "      <th>gearing_type_Semi-automatic</th>\n",
       "      <th>fuel_diesel</th>\n",
       "      <th>fuel_electric</th>\n",
       "      <th>fuel_gasoline</th>\n",
       "      <th>fuel_lpg</th>\n",
       "      <th>type_Demonstration</th>\n",
       "      <th>type_Employee's car</th>\n",
       "      <th>type_New</th>\n",
       "      <th>type_Pre-registered</th>\n",
       "      <th>type_Used</th>\n",
       "      <th>price</th>\n",
       "    </tr>\n",
       "  </thead>\n",
       "  <tbody>\n",
       "    <tr>\n",
       "      <th>0</th>\n",
       "      <td>99.0</td>\n",
       "      <td>1422.0</td>\n",
       "      <td>66.0</td>\n",
       "      <td>56013.0</td>\n",
       "      <td>1.0</td>\n",
       "      <td>0.0</td>\n",
       "      <td>0.0</td>\n",
       "      <td>0.0</td>\n",
       "      <td>0.0</td>\n",
       "      <td>1.0</td>\n",
       "      <td>0.0</td>\n",
       "      <td>1.0</td>\n",
       "      <td>0.0</td>\n",
       "      <td>1.0</td>\n",
       "      <td>1.0</td>\n",
       "      <td>0.0</td>\n",
       "      <td>0.0</td>\n",
       "      <td>1.0</td>\n",
       "      <td>0.0</td>\n",
       "      <td>1.0</td>\n",
       "      <td>1.0</td>\n",
       "      <td>0.0</td>\n",
       "      <td>0.0</td>\n",
       "      <td>0.0</td>\n",
       "      <td>0.0</td>\n",
       "      <td>1.0</td>\n",
       "      <td>1.0</td>\n",
       "      <td>0.0</td>\n",
       "      <td>1.0</td>\n",
       "      <td>1.0</td>\n",
       "      <td>1.0</td>\n",
       "      <td>0.0</td>\n",
       "      <td>1.0</td>\n",
       "      <td>1.0</td>\n",
       "      <td>3.0</td>\n",
       "      <td>1.0</td>\n",
       "      <td>0.0</td>\n",
       "      <td>0.0</td>\n",
       "      <td>1.0</td>\n",
       "      <td>0.0</td>\n",
       "      <td>1.0</td>\n",
       "      <td>1.0</td>\n",
       "      <td>0.0</td>\n",
       "      <td>0.0</td>\n",
       "      <td>0.0</td>\n",
       "      <td>5.0</td>\n",
       "      <td>5.0</td>\n",
       "      <td>1.0</td>\n",
       "      <td>1.0</td>\n",
       "      <td>0.0</td>\n",
       "      <td>...</td>\n",
       "      <td>0.0</td>\n",
       "      <td>1.0</td>\n",
       "      <td>0.0</td>\n",
       "      <td>1.0</td>\n",
       "      <td>0.0</td>\n",
       "      <td>0.0</td>\n",
       "      <td>1.0</td>\n",
       "      <td>0.0</td>\n",
       "      <td>0.0</td>\n",
       "      <td>0.0</td>\n",
       "      <td>0.0</td>\n",
       "      <td>0.0</td>\n",
       "      <td>0.0</td>\n",
       "      <td>0.0</td>\n",
       "      <td>0.0</td>\n",
       "      <td>0.0</td>\n",
       "      <td>0.0</td>\n",
       "      <td>0.0</td>\n",
       "      <td>0.0</td>\n",
       "      <td>0.0</td>\n",
       "      <td>1.0</td>\n",
       "      <td>0.0</td>\n",
       "      <td>0.0</td>\n",
       "      <td>0.0</td>\n",
       "      <td>0.0</td>\n",
       "      <td>1.0</td>\n",
       "      <td>0.0</td>\n",
       "      <td>0.0</td>\n",
       "      <td>0.0</td>\n",
       "      <td>0.0</td>\n",
       "      <td>0.0</td>\n",
       "      <td>0.0</td>\n",
       "      <td>0.0</td>\n",
       "      <td>0.0</td>\n",
       "      <td>0.0</td>\n",
       "      <td>0.0</td>\n",
       "      <td>0.0</td>\n",
       "      <td>1.0</td>\n",
       "      <td>0.0</td>\n",
       "      <td>0.0</td>\n",
       "      <td>1.0</td>\n",
       "      <td>0.0</td>\n",
       "      <td>0.0</td>\n",
       "      <td>0.0</td>\n",
       "      <td>0.0</td>\n",
       "      <td>0.0</td>\n",
       "      <td>0.0</td>\n",
       "      <td>0.0</td>\n",
       "      <td>1.0</td>\n",
       "      <td>15770.0</td>\n",
       "    </tr>\n",
       "    <tr>\n",
       "      <th>1</th>\n",
       "      <td>129.0</td>\n",
       "      <td>1798.0</td>\n",
       "      <td>141.0</td>\n",
       "      <td>80000.0</td>\n",
       "      <td>1.0</td>\n",
       "      <td>0.0</td>\n",
       "      <td>0.0</td>\n",
       "      <td>0.0</td>\n",
       "      <td>0.0</td>\n",
       "      <td>1.0</td>\n",
       "      <td>1.0</td>\n",
       "      <td>1.0</td>\n",
       "      <td>0.0</td>\n",
       "      <td>1.0</td>\n",
       "      <td>1.0</td>\n",
       "      <td>0.0</td>\n",
       "      <td>0.0</td>\n",
       "      <td>0.0</td>\n",
       "      <td>1.0</td>\n",
       "      <td>1.0</td>\n",
       "      <td>1.0</td>\n",
       "      <td>0.0</td>\n",
       "      <td>0.0</td>\n",
       "      <td>0.0</td>\n",
       "      <td>0.0</td>\n",
       "      <td>1.0</td>\n",
       "      <td>1.0</td>\n",
       "      <td>0.0</td>\n",
       "      <td>1.0</td>\n",
       "      <td>1.0</td>\n",
       "      <td>1.0</td>\n",
       "      <td>0.0</td>\n",
       "      <td>1.0</td>\n",
       "      <td>0.0</td>\n",
       "      <td>2.0</td>\n",
       "      <td>1.0</td>\n",
       "      <td>0.0</td>\n",
       "      <td>0.0</td>\n",
       "      <td>1.0</td>\n",
       "      <td>0.0</td>\n",
       "      <td>1.0</td>\n",
       "      <td>1.0</td>\n",
       "      <td>1.0</td>\n",
       "      <td>0.0</td>\n",
       "      <td>0.0</td>\n",
       "      <td>3.0</td>\n",
       "      <td>4.0</td>\n",
       "      <td>0.0</td>\n",
       "      <td>1.0</td>\n",
       "      <td>0.0</td>\n",
       "      <td>...</td>\n",
       "      <td>0.0</td>\n",
       "      <td>1.0</td>\n",
       "      <td>0.0</td>\n",
       "      <td>1.0</td>\n",
       "      <td>0.0</td>\n",
       "      <td>0.0</td>\n",
       "      <td>1.0</td>\n",
       "      <td>0.0</td>\n",
       "      <td>0.0</td>\n",
       "      <td>0.0</td>\n",
       "      <td>0.0</td>\n",
       "      <td>0.0</td>\n",
       "      <td>0.0</td>\n",
       "      <td>0.0</td>\n",
       "      <td>0.0</td>\n",
       "      <td>0.0</td>\n",
       "      <td>0.0</td>\n",
       "      <td>0.0</td>\n",
       "      <td>0.0</td>\n",
       "      <td>0.0</td>\n",
       "      <td>1.0</td>\n",
       "      <td>0.0</td>\n",
       "      <td>0.0</td>\n",
       "      <td>0.0</td>\n",
       "      <td>0.0</td>\n",
       "      <td>0.0</td>\n",
       "      <td>0.0</td>\n",
       "      <td>0.0</td>\n",
       "      <td>0.0</td>\n",
       "      <td>0.0</td>\n",
       "      <td>0.0</td>\n",
       "      <td>0.0</td>\n",
       "      <td>1.0</td>\n",
       "      <td>0.0</td>\n",
       "      <td>0.0</td>\n",
       "      <td>0.0</td>\n",
       "      <td>0.0</td>\n",
       "      <td>1.0</td>\n",
       "      <td>0.0</td>\n",
       "      <td>0.0</td>\n",
       "      <td>0.0</td>\n",
       "      <td>0.0</td>\n",
       "      <td>1.0</td>\n",
       "      <td>0.0</td>\n",
       "      <td>0.0</td>\n",
       "      <td>0.0</td>\n",
       "      <td>0.0</td>\n",
       "      <td>0.0</td>\n",
       "      <td>1.0</td>\n",
       "      <td>14500.0</td>\n",
       "    </tr>\n",
       "    <tr>\n",
       "      <th>2</th>\n",
       "      <td>99.0</td>\n",
       "      <td>1598.0</td>\n",
       "      <td>85.0</td>\n",
       "      <td>83450.0</td>\n",
       "      <td>1.0</td>\n",
       "      <td>0.0</td>\n",
       "      <td>0.0</td>\n",
       "      <td>0.0</td>\n",
       "      <td>0.0</td>\n",
       "      <td>1.0</td>\n",
       "      <td>0.0</td>\n",
       "      <td>1.0</td>\n",
       "      <td>0.0</td>\n",
       "      <td>1.0</td>\n",
       "      <td>1.0</td>\n",
       "      <td>0.0</td>\n",
       "      <td>0.0</td>\n",
       "      <td>0.0</td>\n",
       "      <td>0.0</td>\n",
       "      <td>1.0</td>\n",
       "      <td>1.0</td>\n",
       "      <td>0.0</td>\n",
       "      <td>0.0</td>\n",
       "      <td>0.0</td>\n",
       "      <td>0.0</td>\n",
       "      <td>1.0</td>\n",
       "      <td>1.0</td>\n",
       "      <td>0.0</td>\n",
       "      <td>1.0</td>\n",
       "      <td>1.0</td>\n",
       "      <td>1.0</td>\n",
       "      <td>0.0</td>\n",
       "      <td>0.0</td>\n",
       "      <td>0.0</td>\n",
       "      <td>3.0</td>\n",
       "      <td>0.0</td>\n",
       "      <td>0.0</td>\n",
       "      <td>0.0</td>\n",
       "      <td>0.0</td>\n",
       "      <td>1.0</td>\n",
       "      <td>1.0</td>\n",
       "      <td>0.0</td>\n",
       "      <td>0.0</td>\n",
       "      <td>0.0</td>\n",
       "      <td>0.0</td>\n",
       "      <td>4.0</td>\n",
       "      <td>4.0</td>\n",
       "      <td>1.0</td>\n",
       "      <td>1.0</td>\n",
       "      <td>0.0</td>\n",
       "      <td>...</td>\n",
       "      <td>0.0</td>\n",
       "      <td>1.0</td>\n",
       "      <td>0.0</td>\n",
       "      <td>1.0</td>\n",
       "      <td>0.0</td>\n",
       "      <td>0.0</td>\n",
       "      <td>1.0</td>\n",
       "      <td>0.0</td>\n",
       "      <td>0.0</td>\n",
       "      <td>0.0</td>\n",
       "      <td>0.0</td>\n",
       "      <td>0.0</td>\n",
       "      <td>0.0</td>\n",
       "      <td>0.0</td>\n",
       "      <td>0.0</td>\n",
       "      <td>0.0</td>\n",
       "      <td>0.0</td>\n",
       "      <td>0.0</td>\n",
       "      <td>0.0</td>\n",
       "      <td>0.0</td>\n",
       "      <td>1.0</td>\n",
       "      <td>0.0</td>\n",
       "      <td>0.0</td>\n",
       "      <td>0.0</td>\n",
       "      <td>0.0</td>\n",
       "      <td>1.0</td>\n",
       "      <td>0.0</td>\n",
       "      <td>0.0</td>\n",
       "      <td>0.0</td>\n",
       "      <td>0.0</td>\n",
       "      <td>0.0</td>\n",
       "      <td>0.0</td>\n",
       "      <td>0.0</td>\n",
       "      <td>0.0</td>\n",
       "      <td>0.0</td>\n",
       "      <td>0.0</td>\n",
       "      <td>0.0</td>\n",
       "      <td>1.0</td>\n",
       "      <td>0.0</td>\n",
       "      <td>0.0</td>\n",
       "      <td>1.0</td>\n",
       "      <td>0.0</td>\n",
       "      <td>0.0</td>\n",
       "      <td>0.0</td>\n",
       "      <td>0.0</td>\n",
       "      <td>0.0</td>\n",
       "      <td>0.0</td>\n",
       "      <td>0.0</td>\n",
       "      <td>1.0</td>\n",
       "      <td>14640.0</td>\n",
       "    </tr>\n",
       "    <tr>\n",
       "      <th>3</th>\n",
       "      <td>99.0</td>\n",
       "      <td>1422.0</td>\n",
       "      <td>66.0</td>\n",
       "      <td>73000.0</td>\n",
       "      <td>1.0</td>\n",
       "      <td>0.0</td>\n",
       "      <td>0.0</td>\n",
       "      <td>1.0</td>\n",
       "      <td>0.0</td>\n",
       "      <td>0.0</td>\n",
       "      <td>1.0</td>\n",
       "      <td>0.0</td>\n",
       "      <td>1.0</td>\n",
       "      <td>1.0</td>\n",
       "      <td>1.0</td>\n",
       "      <td>0.0</td>\n",
       "      <td>1.0</td>\n",
       "      <td>0.0</td>\n",
       "      <td>1.0</td>\n",
       "      <td>1.0</td>\n",
       "      <td>1.0</td>\n",
       "      <td>0.0</td>\n",
       "      <td>0.0</td>\n",
       "      <td>0.0</td>\n",
       "      <td>0.0</td>\n",
       "      <td>1.0</td>\n",
       "      <td>1.0</td>\n",
       "      <td>0.0</td>\n",
       "      <td>1.0</td>\n",
       "      <td>1.0</td>\n",
       "      <td>0.0</td>\n",
       "      <td>0.0</td>\n",
       "      <td>0.0</td>\n",
       "      <td>0.0</td>\n",
       "      <td>3.0</td>\n",
       "      <td>1.0</td>\n",
       "      <td>1.0</td>\n",
       "      <td>0.0</td>\n",
       "      <td>1.0</td>\n",
       "      <td>1.0</td>\n",
       "      <td>1.0</td>\n",
       "      <td>1.0</td>\n",
       "      <td>1.0</td>\n",
       "      <td>0.0</td>\n",
       "      <td>1.0</td>\n",
       "      <td>3.0</td>\n",
       "      <td>4.0</td>\n",
       "      <td>0.0</td>\n",
       "      <td>0.0</td>\n",
       "      <td>1.0</td>\n",
       "      <td>...</td>\n",
       "      <td>0.0</td>\n",
       "      <td>1.0</td>\n",
       "      <td>0.0</td>\n",
       "      <td>1.0</td>\n",
       "      <td>0.0</td>\n",
       "      <td>0.0</td>\n",
       "      <td>1.0</td>\n",
       "      <td>0.0</td>\n",
       "      <td>0.0</td>\n",
       "      <td>0.0</td>\n",
       "      <td>0.0</td>\n",
       "      <td>0.0</td>\n",
       "      <td>0.0</td>\n",
       "      <td>0.0</td>\n",
       "      <td>0.0</td>\n",
       "      <td>0.0</td>\n",
       "      <td>0.0</td>\n",
       "      <td>0.0</td>\n",
       "      <td>0.0</td>\n",
       "      <td>0.0</td>\n",
       "      <td>1.0</td>\n",
       "      <td>0.0</td>\n",
       "      <td>0.0</td>\n",
       "      <td>0.0</td>\n",
       "      <td>0.0</td>\n",
       "      <td>0.0</td>\n",
       "      <td>0.0</td>\n",
       "      <td>0.0</td>\n",
       "      <td>1.0</td>\n",
       "      <td>0.0</td>\n",
       "      <td>0.0</td>\n",
       "      <td>0.0</td>\n",
       "      <td>0.0</td>\n",
       "      <td>0.0</td>\n",
       "      <td>0.0</td>\n",
       "      <td>0.0</td>\n",
       "      <td>0.0</td>\n",
       "      <td>1.0</td>\n",
       "      <td>0.0</td>\n",
       "      <td>0.0</td>\n",
       "      <td>1.0</td>\n",
       "      <td>0.0</td>\n",
       "      <td>0.0</td>\n",
       "      <td>0.0</td>\n",
       "      <td>0.0</td>\n",
       "      <td>0.0</td>\n",
       "      <td>0.0</td>\n",
       "      <td>0.0</td>\n",
       "      <td>1.0</td>\n",
       "      <td>14500.0</td>\n",
       "    </tr>\n",
       "    <tr>\n",
       "      <th>4</th>\n",
       "      <td>109.0</td>\n",
       "      <td>1422.0</td>\n",
       "      <td>66.0</td>\n",
       "      <td>16200.0</td>\n",
       "      <td>1.0</td>\n",
       "      <td>0.0</td>\n",
       "      <td>0.0</td>\n",
       "      <td>0.0</td>\n",
       "      <td>0.0</td>\n",
       "      <td>1.0</td>\n",
       "      <td>0.0</td>\n",
       "      <td>0.0</td>\n",
       "      <td>0.0</td>\n",
       "      <td>1.0</td>\n",
       "      <td>1.0</td>\n",
       "      <td>0.0</td>\n",
       "      <td>0.0</td>\n",
       "      <td>1.0</td>\n",
       "      <td>0.0</td>\n",
       "      <td>1.0</td>\n",
       "      <td>1.0</td>\n",
       "      <td>0.0</td>\n",
       "      <td>0.0</td>\n",
       "      <td>0.0</td>\n",
       "      <td>0.0</td>\n",
       "      <td>1.0</td>\n",
       "      <td>1.0</td>\n",
       "      <td>0.0</td>\n",
       "      <td>1.0</td>\n",
       "      <td>1.0</td>\n",
       "      <td>1.0</td>\n",
       "      <td>0.0</td>\n",
       "      <td>1.0</td>\n",
       "      <td>1.0</td>\n",
       "      <td>3.0</td>\n",
       "      <td>1.0</td>\n",
       "      <td>1.0</td>\n",
       "      <td>0.0</td>\n",
       "      <td>1.0</td>\n",
       "      <td>1.0</td>\n",
       "      <td>1.0</td>\n",
       "      <td>1.0</td>\n",
       "      <td>0.0</td>\n",
       "      <td>0.0</td>\n",
       "      <td>1.0</td>\n",
       "      <td>5.0</td>\n",
       "      <td>5.0</td>\n",
       "      <td>1.0</td>\n",
       "      <td>1.0</td>\n",
       "      <td>0.0</td>\n",
       "      <td>...</td>\n",
       "      <td>0.0</td>\n",
       "      <td>1.0</td>\n",
       "      <td>0.0</td>\n",
       "      <td>1.0</td>\n",
       "      <td>0.0</td>\n",
       "      <td>0.0</td>\n",
       "      <td>1.0</td>\n",
       "      <td>0.0</td>\n",
       "      <td>0.0</td>\n",
       "      <td>0.0</td>\n",
       "      <td>0.0</td>\n",
       "      <td>0.0</td>\n",
       "      <td>0.0</td>\n",
       "      <td>0.0</td>\n",
       "      <td>0.0</td>\n",
       "      <td>0.0</td>\n",
       "      <td>0.0</td>\n",
       "      <td>0.0</td>\n",
       "      <td>0.0</td>\n",
       "      <td>0.0</td>\n",
       "      <td>1.0</td>\n",
       "      <td>0.0</td>\n",
       "      <td>0.0</td>\n",
       "      <td>0.0</td>\n",
       "      <td>0.0</td>\n",
       "      <td>1.0</td>\n",
       "      <td>0.0</td>\n",
       "      <td>0.0</td>\n",
       "      <td>0.0</td>\n",
       "      <td>0.0</td>\n",
       "      <td>0.0</td>\n",
       "      <td>0.0</td>\n",
       "      <td>0.0</td>\n",
       "      <td>0.0</td>\n",
       "      <td>0.0</td>\n",
       "      <td>0.0</td>\n",
       "      <td>0.0</td>\n",
       "      <td>1.0</td>\n",
       "      <td>0.0</td>\n",
       "      <td>0.0</td>\n",
       "      <td>1.0</td>\n",
       "      <td>0.0</td>\n",
       "      <td>0.0</td>\n",
       "      <td>0.0</td>\n",
       "      <td>0.0</td>\n",
       "      <td>0.0</td>\n",
       "      <td>0.0</td>\n",
       "      <td>0.0</td>\n",
       "      <td>1.0</td>\n",
       "      <td>16790.0</td>\n",
       "    </tr>\n",
       "  </tbody>\n",
       "</table>\n",
       "<p>5 rows × 150 columns</p>\n",
       "</div>"
      ],
      "text/plain": [
       "   co2_emission  displacement     hp       km  ss_abs  \\\n",
       "0          99.0        1422.0   66.0  56013.0     1.0   \n",
       "1         129.0        1798.0  141.0  80000.0     1.0   \n",
       "2          99.0        1598.0   85.0  83450.0     1.0   \n",
       "3          99.0        1422.0   66.0  73000.0     1.0   \n",
       "4         109.0        1422.0   66.0  16200.0     1.0   \n",
       "\n",
       "   ss_adaptive_cruise_control  ss_adaptive_headlights  ss_alarm_system  \\\n",
       "0                         0.0                     0.0              0.0   \n",
       "1                         0.0                     0.0              0.0   \n",
       "2                         0.0                     0.0              0.0   \n",
       "3                         0.0                     0.0              1.0   \n",
       "4                         0.0                     0.0              0.0   \n",
       "\n",
       "   ss_blind_spot_monitor  ss_central_door_lock  \\\n",
       "0                    0.0                   1.0   \n",
       "1                    0.0                   1.0   \n",
       "2                    0.0                   1.0   \n",
       "3                    0.0                   0.0   \n",
       "4                    0.0                   1.0   \n",
       "\n",
       "   ss_central_door_lock_with_remote_control  ss_daytime_running_lights  \\\n",
       "0                                       0.0                        1.0   \n",
       "1                                       1.0                        1.0   \n",
       "2                                       0.0                        1.0   \n",
       "3                                       1.0                        0.0   \n",
       "4                                       0.0                        0.0   \n",
       "\n",
       "   ss_driver_drowsiness_detection  ss_driver_side_airbag  \\\n",
       "0                             0.0                    1.0   \n",
       "1                             0.0                    1.0   \n",
       "2                             0.0                    1.0   \n",
       "3                             1.0                    1.0   \n",
       "4                             0.0                    1.0   \n",
       "\n",
       "   ss_electronic_stability_control  ss_emergency_brake_assistant  \\\n",
       "0                              1.0                           0.0   \n",
       "1                              1.0                           0.0   \n",
       "2                              1.0                           0.0   \n",
       "3                              1.0                           0.0   \n",
       "4                              1.0                           0.0   \n",
       "\n",
       "   ss_emergency_system  ss_fog_lights  ss_head_airbag  ss_immobilizer  \\\n",
       "0                  0.0            1.0             0.0             1.0   \n",
       "1                  0.0            0.0             1.0             1.0   \n",
       "2                  0.0            0.0             0.0             1.0   \n",
       "3                  1.0            0.0             1.0             1.0   \n",
       "4                  0.0            1.0             0.0             1.0   \n",
       "\n",
       "   ss_isofix  ss_led_daytime_running_lights  ss_led_headlights  \\\n",
       "0        1.0                            0.0                0.0   \n",
       "1        1.0                            0.0                0.0   \n",
       "2        1.0                            0.0                0.0   \n",
       "3        1.0                            0.0                0.0   \n",
       "4        1.0                            0.0                0.0   \n",
       "\n",
       "   ss_lane_departure_warning_system  ss_night_view_assist  \\\n",
       "0                               0.0                   0.0   \n",
       "1                               0.0                   0.0   \n",
       "2                               0.0                   0.0   \n",
       "3                               0.0                   0.0   \n",
       "4                               0.0                   0.0   \n",
       "\n",
       "   ss_passenger_side_airbag  ss_power_steering  ss_rear_airbag  \\\n",
       "0                       1.0                1.0             0.0   \n",
       "1                       1.0                1.0             0.0   \n",
       "2                       1.0                1.0             0.0   \n",
       "3                       1.0                1.0             0.0   \n",
       "4                       1.0                1.0             0.0   \n",
       "\n",
       "   ss_side_airbag  ss_tire_pressure_monitoring_system  ss_traction_control  \\\n",
       "0             1.0                                 1.0                  1.0   \n",
       "1             1.0                                 1.0                  1.0   \n",
       "2             1.0                                 1.0                  1.0   \n",
       "3             1.0                                 1.0                  0.0   \n",
       "4             1.0                                 1.0                  1.0   \n",
       "\n",
       "   ss_traffic_sign_recognition  ss_xenon_headlights  inspection_new  age  \\\n",
       "0                          0.0                  1.0             1.0  3.0   \n",
       "1                          0.0                  1.0             0.0  2.0   \n",
       "2                          0.0                  0.0             0.0  3.0   \n",
       "3                          0.0                  0.0             0.0  3.0   \n",
       "4                          0.0                  1.0             1.0  3.0   \n",
       "\n",
       "   ent_media_bluetooth  ent_media_cd_player  ent_media_digital_radio  \\\n",
       "0                  1.0                  0.0                      0.0   \n",
       "1                  1.0                  0.0                      0.0   \n",
       "2                  0.0                  0.0                      0.0   \n",
       "3                  1.0                  1.0                      0.0   \n",
       "4                  1.0                  1.0                      0.0   \n",
       "\n",
       "   ent_media_hands_free_equipment  ent_media_mp3  ent_media_on_board_computer  \\\n",
       "0                             1.0            0.0                          1.0   \n",
       "1                             1.0            0.0                          1.0   \n",
       "2                             0.0            1.0                          1.0   \n",
       "3                             1.0            1.0                          1.0   \n",
       "4                             1.0            1.0                          1.0   \n",
       "\n",
       "   ent_media_radio  ent_media_sound_system  ent_media_television  \\\n",
       "0              1.0                     0.0                   0.0   \n",
       "1              1.0                     1.0                   0.0   \n",
       "2              0.0                     0.0                   0.0   \n",
       "3              1.0                     1.0                   0.0   \n",
       "4              1.0                     0.0                   0.0   \n",
       "\n",
       "   ent_media_usb  nr_of_doors  nr_of_seats  warranty  cc_air_conditioning  \\\n",
       "0            0.0          5.0          5.0       1.0                  1.0   \n",
       "1            0.0          3.0          4.0       0.0                  1.0   \n",
       "2            0.0          4.0          4.0       1.0                  1.0   \n",
       "3            1.0          3.0          4.0       0.0                  0.0   \n",
       "4            1.0          5.0          5.0       1.0                  1.0   \n",
       "\n",
       "   cc_air_suspension  ...  ext_tuned_car  ext_voice_control  ext_winter_tyres  \\\n",
       "0                0.0  ...            0.0                1.0               0.0   \n",
       "1                0.0  ...            0.0                1.0               0.0   \n",
       "2                0.0  ...            0.0                1.0               0.0   \n",
       "3                1.0  ...            0.0                1.0               0.0   \n",
       "4                0.0  ...            0.0                1.0               0.0   \n",
       "\n",
       "   make_Audi  make_Opel  make_Renault  model_A1  model_A2  model_A3  \\\n",
       "0        1.0        0.0           0.0       1.0       0.0       0.0   \n",
       "1        1.0        0.0           0.0       1.0       0.0       0.0   \n",
       "2        1.0        0.0           0.0       1.0       0.0       0.0   \n",
       "3        1.0        0.0           0.0       1.0       0.0       0.0   \n",
       "4        1.0        0.0           0.0       1.0       0.0       0.0   \n",
       "\n",
       "   model_Astra  model_Clio  model_Corsa  model_Duster  model_Espace  \\\n",
       "0          0.0         0.0          0.0           0.0           0.0   \n",
       "1          0.0         0.0          0.0           0.0           0.0   \n",
       "2          0.0         0.0          0.0           0.0           0.0   \n",
       "3          0.0         0.0          0.0           0.0           0.0   \n",
       "4          0.0         0.0          0.0           0.0           0.0   \n",
       "\n",
       "   model_Insignia  body_Compact  body_Convertible  body_Coupe  body_Off-Road  \\\n",
       "0             0.0           0.0               0.0         0.0            0.0   \n",
       "1             0.0           0.0               0.0         0.0            0.0   \n",
       "2             0.0           0.0               0.0         0.0            0.0   \n",
       "3             0.0           0.0               0.0         0.0            0.0   \n",
       "4             0.0           0.0               0.0         0.0            0.0   \n",
       "\n",
       "   body_Other  body_Sedans  body_Station wagon  body_Transporter  body_Van  \\\n",
       "0         0.0          1.0                 0.0               0.0       0.0   \n",
       "1         0.0          1.0                 0.0               0.0       0.0   \n",
       "2         0.0          1.0                 0.0               0.0       0.0   \n",
       "3         0.0          1.0                 0.0               0.0       0.0   \n",
       "4         0.0          1.0                 0.0               0.0       0.0   \n",
       "\n",
       "   body_color_Beige  body_color_Black  body_color_Blue  body_color_Bronze  \\\n",
       "0               0.0               1.0              0.0                0.0   \n",
       "1               0.0               0.0              0.0                0.0   \n",
       "2               0.0               1.0              0.0                0.0   \n",
       "3               0.0               0.0              0.0                0.0   \n",
       "4               0.0               1.0              0.0                0.0   \n",
       "\n",
       "   body_color_Brown  body_color_Green  body_color_Grey  body_color_Orange  \\\n",
       "0               0.0               0.0              0.0                0.0   \n",
       "1               0.0               0.0              0.0                0.0   \n",
       "2               0.0               0.0              0.0                0.0   \n",
       "3               1.0               0.0              0.0                0.0   \n",
       "4               0.0               0.0              0.0                0.0   \n",
       "\n",
       "   body_color_Red  body_color_Silver  body_color_Violet  body_color_White  \\\n",
       "0             0.0                0.0                0.0               0.0   \n",
       "1             1.0                0.0                0.0               0.0   \n",
       "2             0.0                0.0                0.0               0.0   \n",
       "3             0.0                0.0                0.0               0.0   \n",
       "4             0.0                0.0                0.0               0.0   \n",
       "\n",
       "   body_color_Yellow  gearing_type_Automatic  gearing_type_Manual  \\\n",
       "0                0.0                     1.0                  0.0   \n",
       "1                0.0                     1.0                  0.0   \n",
       "2                0.0                     1.0                  0.0   \n",
       "3                0.0                     1.0                  0.0   \n",
       "4                0.0                     1.0                  0.0   \n",
       "\n",
       "   gearing_type_Semi-automatic  fuel_diesel  fuel_electric  fuel_gasoline  \\\n",
       "0                          0.0          1.0            0.0            0.0   \n",
       "1                          0.0          0.0            0.0            1.0   \n",
       "2                          0.0          1.0            0.0            0.0   \n",
       "3                          0.0          1.0            0.0            0.0   \n",
       "4                          0.0          1.0            0.0            0.0   \n",
       "\n",
       "   fuel_lpg  type_Demonstration  type_Employee's car  type_New  \\\n",
       "0       0.0                 0.0                  0.0       0.0   \n",
       "1       0.0                 0.0                  0.0       0.0   \n",
       "2       0.0                 0.0                  0.0       0.0   \n",
       "3       0.0                 0.0                  0.0       0.0   \n",
       "4       0.0                 0.0                  0.0       0.0   \n",
       "\n",
       "   type_Pre-registered  type_Used    price  \n",
       "0                  0.0        1.0  15770.0  \n",
       "1                  0.0        1.0  14500.0  \n",
       "2                  0.0        1.0  14640.0  \n",
       "3                  0.0        1.0  14500.0  \n",
       "4                  0.0        1.0  16790.0  \n",
       "\n",
       "[5 rows x 150 columns]"
      ]
     },
     "execution_count": 5,
     "metadata": {},
     "output_type": "execute_result"
    }
   ],
   "source": [
    "df.head()"
   ]
  },
  {
   "cell_type": "markdown",
   "metadata": {
    "toc-hr-collapsed": false
   },
   "source": [
    "## Model"
   ]
  },
  {
   "cell_type": "code",
   "execution_count": 6,
   "metadata": {},
   "outputs": [],
   "source": [
    "# Create features and target (df)\n",
    "X = df.drop('price', axis = 1) # features\n",
    "y = df['price'] # target"
   ]
  },
  {
   "cell_type": "code",
   "execution_count": 7,
   "metadata": {},
   "outputs": [],
   "source": [
    "# Create features and target (df)\n",
    "X_c = df_clean.drop('price', axis = 1) # features\n",
    "y_c = df_clean['price'] # target"
   ]
  },
  {
   "cell_type": "code",
   "execution_count": 8,
   "metadata": {},
   "outputs": [],
   "source": [
    "# # Create features and target (array)\n",
    "# X = df.drop('price', axis = 1).values # features\n",
    "# y = df['price'].values # target"
   ]
  },
  {
   "cell_type": "code",
   "execution_count": 9,
   "metadata": {},
   "outputs": [],
   "source": [
    "# Train-test split\n",
    "X_train, X_test, y_train, y_test = train_test_split(X, y, test_size = 0.3, random_state=57)"
   ]
  },
  {
   "cell_type": "code",
   "execution_count": 10,
   "metadata": {},
   "outputs": [],
   "source": [
    "# Train-test split\n",
    "X_train_c, X_test_c, y_train_c, y_test_c = train_test_split(X_c, y_c, test_size = 0.3, random_state=57)"
   ]
  },
  {
   "cell_type": "markdown",
   "metadata": {},
   "source": [
    "### Model Evaluation Metrics"
   ]
  },
  {
   "cell_type": "code",
   "execution_count": 11,
   "metadata": {},
   "outputs": [],
   "source": [
    "def eval_metrics(actual, pred):\n",
    "    rmse = np.sqrt(mean_squared_error(actual, pred))\n",
    "    mae = mean_absolute_error(actual, pred)\n",
    "    r2 = r2_score(actual, pred)\n",
    "    return rmse, mae, r2"
   ]
  },
  {
   "cell_type": "markdown",
   "metadata": {},
   "source": [
    "### Lasso"
   ]
  },
  {
   "cell_type": "code",
   "execution_count": 13,
   "metadata": {},
   "outputs": [],
   "source": [
    "# Create Alphas, and lists to store scores\n",
    "alpha_space = np.linspace(1, 10)\n",
    "lasso_scores = []\n",
    "\n",
    "# Create a regressor\n",
    "lasso_ = Lasso(normalize = True)\n",
    "\n",
    "# Compute scores over range of alphas\n",
    "for alpha in alpha_space:\n",
    "    \n",
    "    # Specify alpha\n",
    "    lasso_.alpha = alpha\n",
    "    \n",
    "    # Perfrom 5-fold CV\n",
    "    lasso_cv_scores = cross_val_score(lasso_, X_train, y_train, cv=5)\n",
    "    \n",
    "    # Append the mean and std to the lists\n",
    "    lasso_scores.append(np.mean(lasso_cv_scores))\n",
    "    \n",
    "    # Log parameter, metrics, and model to MLflow\n",
    "    with mlflow.start_run(run_name=\"Lasso CV\"): # \"with\" is necessary for multiple runs\n",
    "        mlflow.log_param(\"alpha\", alpha)\n",
    "        mlflow.log_metric(\"lasso_cv_score\", np.mean(lasso_cv_scores))"
   ]
  },
  {
   "cell_type": "code",
   "execution_count": 14,
   "metadata": {},
   "outputs": [
    {
     "data": {
      "image/png": "[encoded data removed]",
      "text/plain": [
       "<Figure size 432x288 with 1 Axes>"
      ]
     },
     "metadata": {
      "needs_background": "light"
     },
     "output_type": "display_data"
    }
   ],
   "source": [
    "# Create a function to display how cv scores changes with alphas\n",
    "def display_plot(cv_scores):\n",
    "    fig = plt.figure()\n",
    "    ax = fig.add_subplot(1,1,1)\n",
    "    ax.plot(alpha_space, cv_scores)\n",
    "\n",
    "    ax.set_ylabel('CV Score')\n",
    "    ax.set_xlabel('Alpha')\n",
    "    ax.axhline(np.max(cv_scores), linestyle='--', color='.5')\n",
    "    ax.set_xlim([alpha_space[0], alpha_space[-1]])\n",
    "    ax.set_xscale('log')\n",
    "    ax.axvline(x=1.4, c='b', linestyle='--', alpha=0.5)\n",
    "    plt.show()\n",
    "    \n",
    "display_plot(lasso_scores)"
   ]
  },
  {
   "cell_type": "markdown",
   "metadata": {},
   "source": [
    "$alpha = 1.4$ seems to be a good choice"
   ]
  },
  {
   "cell_type": "code",
   "execution_count": 15,
   "metadata": {},
   "outputs": [
    {
     "name": "stdout",
     "output_type": "stream",
     "text": [
      "R^2: 0.850\n"
     ]
    }
   ],
   "source": [
    "# Instantiate Lasso regressor\n",
    "lasso = Lasso(alpha = 1.4, normalize = True)\n",
    "\n",
    "# Fit the regressor\n",
    "lasso.fit(X_train, y_train)\n",
    "\n",
    "# Print the R-squared\n",
    "print(\"R^2: {0:.3f}\".format(lasso.score(X_test, y_test)))\n",
    "\n",
    "# Calculate evaluation metrics\n",
    "rmse, mae, r2 = eval_metrics(y_test, lasso.predict(X_test))\n",
    "\n",
    "# Log parameter, metrics, and model to MLflow\n",
    "with mlflow.start_run(run_name=\"Lasso Regression\"):\n",
    "    mlflow.log_param(\"alpha\", 1.4)\n",
    "    mlflow.log_metric(\"rmse\", rmse)\n",
    "    mlflow.log_metric(\"mae\", mae)\n",
    "    mlflow.log_metric(\"r2\", r2)\n",
    "#mlflow.end_run()"
   ]
  },
  {
   "cell_type": "code",
   "execution_count": 16,
   "metadata": {},
   "outputs": [
    {
     "name": "stdout",
     "output_type": "stream",
     "text": [
      "Average 5-Fold CV Score: 0.856\n"
     ]
    }
   ],
   "source": [
    "# Perform 5-fold cross-validation\n",
    "cv_scores = cross_val_score(lasso, X_test, y_test, cv=5)\n",
    "\n",
    "print(\"Average 5-Fold CV Score: {0:.3f}\".format(np.mean(cv_scores)))"
   ]
  },
  {
   "cell_type": "markdown",
   "metadata": {},
   "source": [
    "### Linear Regression"
   ]
  },
  {
   "cell_type": "code",
   "execution_count": 17,
   "metadata": {},
   "outputs": [
    {
     "name": "stdout",
     "output_type": "stream",
     "text": [
      "R^2: 0.86\n"
     ]
    }
   ],
   "source": [
    "# Create the regressor\n",
    "reg = LinearRegression()\n",
    "\n",
    "# Fit the regressor to the training data\n",
    "reg.fit(X_train, y_train)\n",
    "\n",
    "# Print the R-squared\n",
    "print(\"R^2: {0:.2f}\".format(reg.score(X_test, y_test)))\n",
    "\n",
    "# Calculate evaluation metrics\n",
    "rmse, mae, r2 = eval_metrics(y_test, reg.predict(X_test))\n",
    "\n",
    "# Log parameter, metrics, and model to MLflow\n",
    "mlflow.start_run(run_name=\"Linear Regression\")\n",
    "mlflow.log_param(\"normalize\", False)\n",
    "mlflow.log_metric(\"rmse\", rmse)\n",
    "mlflow.log_metric(\"mae\", mae)\n",
    "mlflow.log_metric(\"r2\", r2)\n",
    "mlflow.end_run()"
   ]
  },
  {
   "cell_type": "code",
   "execution_count": 18,
   "metadata": {},
   "outputs": [
    {
     "name": "stdout",
     "output_type": "stream",
     "text": [
      "R^2: 0.86\n"
     ]
    }
   ],
   "source": [
    "# Create the regressor\n",
    "reg = LinearRegression(normalize=True)\n",
    "\n",
    "# Fit the regressor to the training data\n",
    "reg.fit(X_train, y_train)\n",
    "\n",
    "# Print the R-squared\n",
    "print(\"R^2: {0:.2f}\".format(reg.score(X_test, y_test)))\n",
    "\n",
    "# Calculate evaluation metrics\n",
    "rmse, mae, r2 = eval_metrics(y_test, reg.predict(X_test))\n",
    "\n",
    "# Log parameter, metrics, and model to MLflow\n",
    "mlflow.start_run(run_name=\"Linear Regression\")\n",
    "mlflow.log_param(\"normalize\", True)\n",
    "mlflow.log_metric(\"rmse\", rmse)\n",
    "mlflow.log_metric(\"mae\", mae)\n",
    "mlflow.log_metric(\"r2\", r2)\n",
    "mlflow.end_run()"
   ]
  },
  {
   "cell_type": "code",
   "execution_count": 21,
   "metadata": {},
   "outputs": [
    {
     "name": "stdout",
     "output_type": "stream",
     "text": [
      "R^2: 0.89\n"
     ]
    }
   ],
   "source": [
    "# Create the regressor\n",
    "reg = LinearRegression()\n",
    "\n",
    "# Fit the regressor to the training data\n",
    "reg.fit(X_train_c, y_train_c)\n",
    "\n",
    "# Print the R-squared\n",
    "print(\"R^2: {0:.2f}\".format(reg.score(X_test_c, y_test_c)))\n",
    "\n",
    "# Calculate evaluation metrics\n",
    "rmse, mae, r2 = eval_metrics(y_test, reg.predict(X_test))\n",
    "\n",
    "# Log parameter, metrics, and model to MLflow\n",
    "with mlflow.start_run(run_name=\"Linear Regression 'Dropped Missing'\"):\n",
    "    mlflow.log_metric(\"rmse\", rmse)\n",
    "    mlflow.log_metric(\"mae\", mae)\n",
    "    mlflow.log_metric(\"r2\", r2)"
   ]
  },
  {
   "cell_type": "markdown",
   "metadata": {},
   "source": [
    "### Random Forest"
   ]
  },
  {
   "cell_type": "code",
   "execution_count": 22,
   "metadata": {},
   "outputs": [
    {
     "name": "stdout",
     "output_type": "stream",
     "text": [
      "0.9068614248872716\n"
     ]
    }
   ],
   "source": [
    "from sklearn.ensemble import RandomForestRegressor\n",
    "\n",
    "reg_rf = RandomForestRegressor(random_state=57, n_estimators=100)\n",
    "\n",
    "reg_rf.fit(X_train, y_train)\n",
    "\n",
    "print(reg_rf.score(X_test, y_test))\n",
    "\n",
    "#pd.DataFrame({'x':X_hp.columns.values, 'y':reg_rf.feature_importances_})\n",
    "\n",
    "# Calculate evaluation metrics\n",
    "rmse, mae, r2 = eval_metrics(y_test, reg_rf.predict(X_test))\n",
    "\n",
    "# Log parameter, metrics, and model to MLflow\n",
    "mlflow.start_run(run_name=\"Random Forest\")\n",
    "mlflow.log_param(\"n_estimators\", 100)\n",
    "mlflow.log_metric(\"rmse\", rmse)\n",
    "mlflow.log_metric(\"mae\", mae)\n",
    "mlflow.log_metric(\"r2\", r2)\n",
    "mlflow.end_run()"
   ]
  },
  {
   "cell_type": "code",
   "execution_count": 23,
   "metadata": {},
   "outputs": [
    {
     "name": "stdout",
     "output_type": "stream",
     "text": [
      "RMSE: 2263.214033\n"
     ]
    }
   ],
   "source": [
    "preds_rf = reg_rf.predict(X_test)\n",
    "\n",
    "rmse = np.sqrt(mean_squared_error(y_test, preds_rf))\n",
    "print(\"RMSE: %f\" % (rmse))"
   ]
  },
  {
   "cell_type": "code",
   "execution_count": 24,
   "metadata": {},
   "outputs": [],
   "source": [
    "reg_rf = RandomForestRegressor(random_state=57, n_estimators=100)\n",
    "\n",
    "reg_rf.fit(X_train_c, y_train_c)\n",
    "\n",
    "reg_rf.score(X_test_c, y_test_c)\n",
    "\n",
    "#pd.DataFrame({'x':X_hp.columns.values, 'y':reg_rf.feature_importances_})\n",
    "\n",
    "# Calculate evaluation metrics\n",
    "rmse, mae, r2 = eval_metrics(y_test_c, reg_rf.predict(X_test_c))\n",
    "\n",
    "# Log parameter, metrics, and model to MLflow\n",
    "with mlflow.start_run(run_name=\"Random Forest 'Dropped Missing'\"):\n",
    "    mlflow.log_metric(\"rmse\", rmse)\n",
    "    mlflow.log_metric(\"mae\", mae)\n",
    "    mlflow.log_metric(\"r2\", r2)"
   ]
  },
  {
   "cell_type": "code",
   "execution_count": 25,
   "metadata": {},
   "outputs": [
    {
     "name": "stdout",
     "output_type": "stream",
     "text": [
      "RMSE: 1417.694077\n"
     ]
    }
   ],
   "source": [
    "preds_rf = reg_rf.predict(X_test_c)\n",
    "\n",
    "rmse = np.sqrt(mean_squared_error(y_test_c, preds_rf))\n",
    "print(\"RMSE: %f\" % (rmse))"
   ]
  },
  {
   "cell_type": "code",
   "execution_count": 26,
   "metadata": {},
   "outputs": [
    {
     "data": {
      "text/html": [
       "<div>\n",
       "<style scoped>\n",
       "    .dataframe tbody tr th:only-of-type {\n",
       "        vertical-align: middle;\n",
       "    }\n",
       "\n",
       "    .dataframe tbody tr th {\n",
       "        vertical-align: top;\n",
       "    }\n",
       "\n",
       "    .dataframe thead th {\n",
       "        text-align: right;\n",
       "    }\n",
       "</style>\n",
       "<table border=\"1\" class=\"dataframe\">\n",
       "  <thead>\n",
       "    <tr style=\"text-align: right;\">\n",
       "      <th></th>\n",
       "      <th>importance</th>\n",
       "    </tr>\n",
       "    <tr>\n",
       "      <th>features</th>\n",
       "      <th></th>\n",
       "    </tr>\n",
       "  </thead>\n",
       "  <tbody>\n",
       "    <tr>\n",
       "      <th>hp</th>\n",
       "      <td>0.452566</td>\n",
       "    </tr>\n",
       "    <tr>\n",
       "      <th>age</th>\n",
       "      <td>0.189630</td>\n",
       "    </tr>\n",
       "    <tr>\n",
       "      <th>km</th>\n",
       "      <td>0.072461</td>\n",
       "    </tr>\n",
       "    <tr>\n",
       "      <th>make_Audi</th>\n",
       "      <td>0.057877</td>\n",
       "    </tr>\n",
       "    <tr>\n",
       "      <th>model_Espace</th>\n",
       "      <td>0.046592</td>\n",
       "    </tr>\n",
       "    <tr>\n",
       "      <th>gearing_type_Manual</th>\n",
       "      <td>0.021433</td>\n",
       "    </tr>\n",
       "    <tr>\n",
       "      <th>model_Astra</th>\n",
       "      <td>0.017461</td>\n",
       "    </tr>\n",
       "    <tr>\n",
       "      <th>model_A3</th>\n",
       "      <td>0.013834</td>\n",
       "    </tr>\n",
       "    <tr>\n",
       "      <th>displacement</th>\n",
       "      <td>0.012800</td>\n",
       "    </tr>\n",
       "    <tr>\n",
       "      <th>cc_park_distance_control</th>\n",
       "      <td>0.012353</td>\n",
       "    </tr>\n",
       "  </tbody>\n",
       "</table>\n",
       "</div>"
      ],
      "text/plain": [
       "                          importance\n",
       "features                            \n",
       "hp                          0.452566\n",
       "age                         0.189630\n",
       "km                          0.072461\n",
       "make_Audi                   0.057877\n",
       "model_Espace                0.046592\n",
       "gearing_type_Manual         0.021433\n",
       "model_Astra                 0.017461\n",
       "model_A3                    0.013834\n",
       "displacement                0.012800\n",
       "cc_park_distance_control    0.012353"
      ]
     },
     "execution_count": 26,
     "metadata": {},
     "output_type": "execute_result"
    }
   ],
   "source": [
    "feature_importance = pd.DataFrame({'features':X_c.columns.values, 'importance':reg_rf.feature_importances_}).sort_values('importance', ascending=False)\n",
    "feature_importance.head(10).set_index('features')"
   ]
  },
  {
   "cell_type": "code",
   "execution_count": 27,
   "metadata": {},
   "outputs": [
    {
     "data": {
      "text/plain": [
       "<matplotlib.axes._subplots.AxesSubplot at 0x1a2d8c6438>"
      ]
     },
     "execution_count": 27,
     "metadata": {},
     "output_type": "execute_result"
    },
    {
     "data": {
      "image/png": "[encoded data removed]",
      "text/plain": [
       "<Figure size 432x288 with 1 Axes>"
      ]
     },
     "metadata": {
      "needs_background": "light"
     },
     "output_type": "display_data"
    }
   ],
   "source": [
    "feature_importance.set_index('features')[:10].plot.bar(rot=60)"
   ]
  },
  {
   "cell_type": "markdown",
   "metadata": {},
   "source": [
    "### XGBoost with Imputed Missing Values"
   ]
  },
  {
   "cell_type": "code",
   "execution_count": 28,
   "metadata": {},
   "outputs": [
    {
     "name": "stderr",
     "output_type": "stream",
     "text": [
      "/anaconda3/lib/python3.7/site-packages/xgboost/core.py:587: FutureWarning: Series.base is deprecated and will be removed in a future version\n",
      "  if getattr(data, 'base', None) is not None and \\\n"
     ]
    },
    {
     "name": "stdout",
     "output_type": "stream",
     "text": [
      "RMSE: 2166.499875\n"
     ]
    }
   ],
   "source": [
    "import xgboost as xgb\n",
    "\n",
    "xg_reg = xgb.XGBRegressor(objective ='reg:linear', colsample_bytree = 0.3, learning_rate = 0.1,\n",
    "                max_depth = 5, alpha = 10, n_estimators = 100)\n",
    "\n",
    "xg_reg.fit(X_train, y_train)\n",
    "\n",
    "preds = xg_reg.predict(X_test)\n",
    "\n",
    "rmse = np.sqrt(mean_squared_error(y_test, preds))\n",
    "print(\"RMSE: %f\" % (rmse))\n",
    "\n",
    "# Calculate evaluation metrics\n",
    "rmse, mae, r2 = eval_metrics(y_test, xg_reg.predict(X_test))\n",
    "\n",
    "# Log parameter, metrics, and model to MLflow\n",
    "mlflow.start_run(run_name=\"XGBoost Imputed\")\n",
    "mlflow.log_param(\"alpha\", 10)\n",
    "mlflow.log_param(\"max_depth\", 5)\n",
    "mlflow.log_metric(\"rmse\", rmse)\n",
    "mlflow.log_metric(\"mae\", mae)\n",
    "mlflow.log_metric(\"r2\", r2)\n",
    "mlflow.end_run()"
   ]
  },
  {
   "cell_type": "code",
   "execution_count": 29,
   "metadata": {},
   "outputs": [
    {
     "data": {
      "text/plain": [
       "<matplotlib.axes._subplots.AxesSubplot at 0x1a2dd13b00>"
      ]
     },
     "execution_count": 29,
     "metadata": {},
     "output_type": "execute_result"
    },
    {
     "data": {
      "image/png": "[encoded data removed]",
      "text/plain": [
       "<Figure size 432x288 with 1 Axes>"
      ]
     },
     "metadata": {
      "needs_background": "light"
     },
     "output_type": "display_data"
    }
   ],
   "source": [
    "xgb.plot_importance(xg_reg, max_num_features=20)"
   ]
  },
  {
   "cell_type": "markdown",
   "metadata": {},
   "source": [
    "### XGBoost with Dropped Missing Values"
   ]
  },
  {
   "cell_type": "code",
   "execution_count": 30,
   "metadata": {},
   "outputs": [
    {
     "name": "stderr",
     "output_type": "stream",
     "text": [
      "/anaconda3/lib/python3.7/site-packages/xgboost/core.py:587: FutureWarning: Series.base is deprecated and will be removed in a future version\n",
      "  if getattr(data, 'base', None) is not None and \\\n"
     ]
    },
    {
     "name": "stdout",
     "output_type": "stream",
     "text": [
      "RMSE: 1482.357043\n"
     ]
    }
   ],
   "source": [
    "import xgboost as xgb\n",
    "\n",
    "xg_reg = xgb.XGBRegressor(objective ='reg:linear', colsample_bytree = 0.3, learning_rate = 0.1,\n",
    "                max_depth = 5, alpha = 10, n_estimators = 100)\n",
    "\n",
    "xg_reg.fit(X_train_c, y_train_c)\n",
    "\n",
    "preds = xg_reg.predict(X_test_c)\n",
    "\n",
    "rmse = np.sqrt(mean_squared_error(y_test_c, preds))\n",
    "print(\"RMSE: %f\" % (rmse))\n",
    "\n",
    "# Calculate evaluation metrics\n",
    "rmse, mae, r2 = eval_metrics(y_test_c, xg_reg.predict(X_test_c))\n",
    "\n",
    "# Log parameter, metrics, and model to MLflow\n",
    "mlflow.start_run(run_name=\"XGBoost - 'Dropped Missing'\")\n",
    "mlflow.log_param(\"alpha\", 10)\n",
    "mlflow.log_param(\"max_depth\", 5)\n",
    "mlflow.log_metric(\"rmse\", rmse)\n",
    "mlflow.log_metric(\"mae\", mae)\n",
    "mlflow.log_metric(\"r2\", r2)\n",
    "mlflow.end_run()"
   ]
  },
  {
   "cell_type": "code",
   "execution_count": 31,
   "metadata": {},
   "outputs": [
    {
     "data": {
      "text/plain": [
       "<matplotlib.axes._subplots.AxesSubplot at 0x1a2e0c4278>"
      ]
     },
     "execution_count": 31,
     "metadata": {},
     "output_type": "execute_result"
    },
    {
     "data": {
      "image/png": "[encoded data removed]",
      "text/plain": [
       "<Figure size 432x288 with 1 Axes>"
      ]
     },
     "metadata": {
      "needs_background": "light"
     },
     "output_type": "display_data"
    }
   ],
   "source": [
    "xgb.plot_importance(xg_reg, max_num_features=20)"
   ]
  },
  {
   "cell_type": "markdown",
   "metadata": {},
   "source": [
    "### XGBoost with Missing Values"
   ]
  },
  {
   "cell_type": "code",
   "execution_count": 32,
   "metadata": {},
   "outputs": [],
   "source": [
    "# Create features and target (df)\n",
    "X_m = df_missing.drop('price', axis = 1) # features\n",
    "y_m = df_missing['price'] # target\n",
    "\n",
    "# Train-test split\n",
    "X_train_m, X_test_m, y_train_m, y_test_m = train_test_split(X_m, y_m, test_size = 0.3, random_state=57)"
   ]
  },
  {
   "cell_type": "code",
   "execution_count": 33,
   "metadata": {},
   "outputs": [
    {
     "name": "stderr",
     "output_type": "stream",
     "text": [
      "/anaconda3/lib/python3.7/site-packages/xgboost/core.py:587: FutureWarning: Series.base is deprecated and will be removed in a future version\n",
      "  if getattr(data, 'base', None) is not None and \\\n"
     ]
    },
    {
     "name": "stdout",
     "output_type": "stream",
     "text": [
      "RMSE: 1689.542295\n"
     ]
    }
   ],
   "source": [
    "xg_reg = xgb.XGBRegressor(objective ='reg:linear', colsample_bytree = 0.3, learning_rate = 0.1,\n",
    "                max_depth = 5, alpha = 10, n_estimators = 100)\n",
    "\n",
    "xg_reg.fit(X_train_m, y_train_m)\n",
    "\n",
    "preds = xg_reg.predict(X_test_m)\n",
    "\n",
    "rmse = np.sqrt(mean_squared_error(y_test_m, preds))\n",
    "print(\"RMSE: %f\" % (rmse))\n",
    "\n",
    "# Calculate evaluation metrics\n",
    "rmse, mae, r2 = eval_metrics(y_test_m, xg_reg.predict(X_test_m))\n",
    "\n",
    "# Log parameter, metrics, and model to MLflow\n",
    "mlflow.start_run(run_name=\"XGBoost NOT Imputed\")\n",
    "mlflow.log_param(\"alpha\", 10)\n",
    "mlflow.log_param(\"max_depth\", 5)\n",
    "mlflow.log_metric(\"rmse\", rmse)\n",
    "mlflow.log_metric(\"mae\", mae)\n",
    "mlflow.log_metric(\"r2\", r2)\n",
    "mlflow.end_run()"
   ]
  },
  {
   "cell_type": "code",
   "execution_count": 34,
   "metadata": {},
   "outputs": [
    {
     "data": {
      "text/plain": [
       "<matplotlib.axes._subplots.AxesSubplot at 0x1a2d93d940>"
      ]
     },
     "execution_count": 34,
     "metadata": {},
     "output_type": "execute_result"
    },
    {
     "data": {
      "image/png": "[encoded data removed]",
      "text/plain": [
       "<Figure size 432x288 with 1 Axes>"
      ]
     },
     "metadata": {
      "needs_background": "light"
     },
     "output_type": "display_data"
    }
   ],
   "source": [
    "xgb.plot_importance(xg_reg, max_num_features=20)"
   ]
  }
 ],
 "metadata": {
  "kernelspec": {
   "display_name": "Python 3",
   "language": "python",
   "name": "python3"
  },
  "language_info": {
   "codemirror_mode": {
    "name": "ipython",
    "version": 3
   },
   "file_extension": ".py",
   "mimetype": "text/x-python",
   "name": "python",
   "nbconvert_exporter": "python",
   "pygments_lexer": "ipython3",
   "version": "3.7.3"
  }
 },
 "nbformat": 4,
 "nbformat_minor": 4
}
