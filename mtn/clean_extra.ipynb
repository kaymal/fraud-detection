{
 "cells": [
  {
   "cell_type": "markdown",
   "metadata": {},
   "source": [
    "**IMPORT**"
   ]
  },
  {
   "cell_type": "code",
   "execution_count": 2,
   "metadata": {},
   "outputs": [],
   "source": [
    "import pandas as pd\n",
    "import json       \n",
    "import numpy as np \n",
    "import matplotlib.pyplot as plt\n",
    "import seaborn as sns\n",
    "from scipy.stats import norm\n",
    "from sklearn.preprocessing import StandardScaler\n",
    "from scipy import stats\n",
    "import pandas_profiling\n",
    "import warnings\n",
    "warnings.filterwarnings('ignore')"
   ]
  },
  {
   "cell_type": "code",
   "execution_count": 3,
   "metadata": {},
   "outputs": [],
   "source": [
    "%run -i \"function_m.py\""
   ]
  },
  {
   "cell_type": "code",
   "execution_count": 4,
   "metadata": {},
   "outputs": [],
   "source": [
    "data = []\n",
    "with open('scout_3models.json') as f:\n",
    "    for line in f:\n",
    "        data.append(json.loads(line))       \n",
    "autos = pd.DataFrame(data)\n",
    "name_columns(autos)\n",
    "pd.options.display.max_columns=None"
   ]
  },
  {
   "cell_type": "code",
   "execution_count": 358,
   "metadata": {},
   "outputs": [],
   "source": [
    "t_cols = ['safety_security', 'co2_emission', 'consumption', 'country_version', \n",
    "          'cylinders', 'displacement', 'make', 'model', 'model_code', 'next_inspection',\n",
    "          'non_smoking_vehicle', 'body_type', 'description', \"hp\", 'kw', 'km', \"make_model\", \n",
    "          \"offer_number\"]"
   ]
  },
  {
   "cell_type": "code",
   "execution_count": 384,
   "metadata": {},
   "outputs": [],
   "source": [
    "df = autos[t_cols]"
   ]
  },
  {
   "cell_type": "code",
   "execution_count": 360,
   "metadata": {},
   "outputs": [
    {
     "data": {
      "text/plain": [
       "(15919, 18)"
      ]
     },
     "execution_count": 360,
     "metadata": {},
     "output_type": "execute_result"
    }
   ],
   "source": [
    "df.shape"
   ]
  },
  {
   "cell_type": "code",
   "execution_count": 444,
   "metadata": {},
   "outputs": [
    {
     "data": {
      "text/html": [
       "<div>\n",
       "<style scoped>\n",
       "    .dataframe tbody tr th:only-of-type {\n",
       "        vertical-align: middle;\n",
       "    }\n",
       "\n",
       "    .dataframe tbody tr th {\n",
       "        vertical-align: top;\n",
       "    }\n",
       "\n",
       "    .dataframe thead th {\n",
       "        text-align: right;\n",
       "    }\n",
       "</style>\n",
       "<table border=\"1\" class=\"dataframe\">\n",
       "  <thead>\n",
       "    <tr style=\"text-align: right;\">\n",
       "      <th></th>\n",
       "      <th>safety_security</th>\n",
       "      <th>co2_emission</th>\n",
       "      <th>consumption</th>\n",
       "      <th>country_version</th>\n",
       "      <th>cylinders</th>\n",
       "      <th>displacement</th>\n",
       "      <th>make</th>\n",
       "      <th>model</th>\n",
       "      <th>model_code</th>\n",
       "      <th>next_inspection</th>\n",
       "      <th>body_type</th>\n",
       "      <th>description</th>\n",
       "      <th>hp</th>\n",
       "      <th>km</th>\n",
       "      <th>offer_number</th>\n",
       "    </tr>\n",
       "  </thead>\n",
       "  <tbody>\n",
       "    <tr>\n",
       "      <th>0</th>\n",
       "      <td>[ABS, Central door lock, Daytime running light...</td>\n",
       "      <td>[\\n99 g CO2/km (comb)\\n]</td>\n",
       "      <td>[[3.8 l/100 km (comb)], [4.3 l/100 km (city)],...</td>\n",
       "      <td>NaN</td>\n",
       "      <td>[\\n3\\n]</td>\n",
       "      <td>[\\n1,422 cc\\n]</td>\n",
       "      <td>\\nAudi\\n</td>\n",
       "      <td>[\\n, A1, \\n]</td>\n",
       "      <td>[\\n0588/BDF\\n]</td>\n",
       "      <td>06/2021</td>\n",
       "      <td>Sedans</td>\n",
       "      <td>[\\n, Sicherheit:,  , Deaktivierung für Beifahr...</td>\n",
       "      <td>66</td>\n",
       "      <td>56013</td>\n",
       "      <td>LR-062483</td>\n",
       "    </tr>\n",
       "    <tr>\n",
       "      <th>1</th>\n",
       "      <td>[ABS, Central door lock, Central door lock wit...</td>\n",
       "      <td>[\\n129 g CO2/km (comb)\\n]</td>\n",
       "      <td>[[5.6 l/100 km (comb)], [7.1 l/100 km (city)],...</td>\n",
       "      <td>NaN</td>\n",
       "      <td>[\\n4\\n]</td>\n",
       "      <td>[\\n1,798 cc\\n]</td>\n",
       "      <td>\\nAudi\\n</td>\n",
       "      <td>[\\n, A1, \\n]</td>\n",
       "      <td>[\\n0588/BCY\\n]</td>\n",
       "      <td>NaN</td>\n",
       "      <td>Sedans</td>\n",
       "      <td>[\\nLangstreckenfahrzeug daher die hohe Kilomet...</td>\n",
       "      <td>141</td>\n",
       "      <td>80000</td>\n",
       "      <td>NaN</td>\n",
       "    </tr>\n",
       "    <tr>\n",
       "      <th>2</th>\n",
       "      <td>[ABS, Central door lock, Daytime running light...</td>\n",
       "      <td>[\\n99 g CO2/km (comb)\\n]</td>\n",
       "      <td>[[3.8 l/100 km (comb)], [4.4 l/100 km (city)],...</td>\n",
       "      <td>NaN</td>\n",
       "      <td>NaN</td>\n",
       "      <td>[\\n1,598 cc\\n]</td>\n",
       "      <td>\\nAudi\\n</td>\n",
       "      <td>[\\n, A1, \\n]</td>\n",
       "      <td>NaN</td>\n",
       "      <td>NaN</td>\n",
       "      <td>Sedans</td>\n",
       "      <td>[\\n, Fahrzeug-Nummer: AM-95365,  , Ehem. UPE 2...</td>\n",
       "      <td>85</td>\n",
       "      <td>83450</td>\n",
       "      <td>AM-95365</td>\n",
       "    </tr>\n",
       "  </tbody>\n",
       "</table>\n",
       "</div>"
      ],
      "text/plain": [
       "                                     safety_security  \\\n",
       "0  [ABS, Central door lock, Daytime running light...   \n",
       "1  [ABS, Central door lock, Central door lock wit...   \n",
       "2  [ABS, Central door lock, Daytime running light...   \n",
       "\n",
       "                co2_emission  \\\n",
       "0   [\\n99 g CO2/km (comb)\\n]   \n",
       "1  [\\n129 g CO2/km (comb)\\n]   \n",
       "2   [\\n99 g CO2/km (comb)\\n]   \n",
       "\n",
       "                                         consumption country_version  \\\n",
       "0  [[3.8 l/100 km (comb)], [4.3 l/100 km (city)],...             NaN   \n",
       "1  [[5.6 l/100 km (comb)], [7.1 l/100 km (city)],...             NaN   \n",
       "2  [[3.8 l/100 km (comb)], [4.4 l/100 km (city)],...             NaN   \n",
       "\n",
       "  cylinders    displacement      make         model      model_code  \\\n",
       "0   [\\n3\\n]  [\\n1,422 cc\\n]  \\nAudi\\n  [\\n, A1, \\n]  [\\n0588/BDF\\n]   \n",
       "1   [\\n4\\n]  [\\n1,798 cc\\n]  \\nAudi\\n  [\\n, A1, \\n]  [\\n0588/BCY\\n]   \n",
       "2       NaN  [\\n1,598 cc\\n]  \\nAudi\\n  [\\n, A1, \\n]             NaN   \n",
       "\n",
       "  next_inspection body_type  \\\n",
       "0         06/2021    Sedans   \n",
       "1             NaN    Sedans   \n",
       "2             NaN    Sedans   \n",
       "\n",
       "                                         description   hp     km offer_number  \n",
       "0  [\\n, Sicherheit:,  , Deaktivierung für Beifahr...   66  56013    LR-062483  \n",
       "1  [\\nLangstreckenfahrzeug daher die hohe Kilomet...  141  80000          NaN  \n",
       "2  [\\n, Fahrzeug-Nummer: AM-95365,  , Ehem. UPE 2...   85  83450     AM-95365  "
      ]
     },
     "execution_count": 444,
     "metadata": {},
     "output_type": "execute_result"
    }
   ],
   "source": [
    "df.head(3)"
   ]
  },
  {
   "cell_type": "markdown",
   "metadata": {},
   "source": [
    "**co2 emission**"
   ]
  },
  {
   "cell_type": "code",
   "execution_count": 385,
   "metadata": {},
   "outputs": [
    {
     "data": {
      "text/plain": [
       "1808"
      ]
     },
     "execution_count": 385,
     "metadata": {},
     "output_type": "execute_result"
    }
   ],
   "source": [
    "df.co2_emission.isnull().sum()"
   ]
  },
  {
   "cell_type": "code",
   "execution_count": 386,
   "metadata": {},
   "outputs": [
    {
     "data": {
      "text/plain": [
       "0     [\\n99 g CO2/km (comb)\\n]\n",
       "1    [\\n129 g CO2/km (comb)\\n]\n",
       "2     [\\n99 g CO2/km (comb)\\n]\n",
       "3     [\\n99 g CO2/km (comb)\\n]\n",
       "4    [\\n109 g CO2/km (comb)\\n]\n",
       "Name: co2_emission, dtype: object"
      ]
     },
     "execution_count": 386,
     "metadata": {},
     "output_type": "execute_result"
    }
   ],
   "source": [
    "df.co2_emission.head()"
   ]
  },
  {
   "cell_type": "code",
   "execution_count": 387,
   "metadata": {},
   "outputs": [
    {
     "data": {
      "text/plain": [
       "0     \\n99 g CO2/km (comb)\\n\n",
       "1    \\n129 g CO2/km (comb)\\n\n",
       "2     \\n99 g CO2/km (comb)\\n\n",
       "3     \\n99 g CO2/km (comb)\\n\n",
       "4    \\n109 g CO2/km (comb)\\n\n",
       "Name: co2_emission, dtype: object"
      ]
     },
     "execution_count": 387,
     "metadata": {},
     "output_type": "execute_result"
    }
   ],
   "source": [
    "df.co2_emission.str[0].head()"
   ]
  },
  {
   "cell_type": "code",
   "execution_count": 388,
   "metadata": {},
   "outputs": [
    {
     "data": {
      "text/plain": [
       "pandas.core.series.Series"
      ]
     },
     "execution_count": 388,
     "metadata": {},
     "output_type": "execute_result"
    }
   ],
   "source": [
    "type(df.co2_emission.str[0])"
   ]
  },
  {
   "cell_type": "code",
   "execution_count": 445,
   "metadata": {},
   "outputs": [],
   "source": [
    "df['co2_emission'] = df.co2_emission.str[0].str.extract(r'(\\d+)')"
   ]
  },
  {
   "cell_type": "code",
   "execution_count": 390,
   "metadata": {},
   "outputs": [
    {
     "data": {
      "text/plain": [
       "120    740\n",
       "99     545\n",
       "97     537\n",
       "104    501\n",
       "102    477\n",
       "Name: co2_emission, dtype: int64"
      ]
     },
     "execution_count": 390,
     "metadata": {},
     "output_type": "execute_result"
    }
   ],
   "source": [
    "df.co2_emission.value_counts()[:5]"
   ]
  },
  {
   "cell_type": "code",
   "execution_count": 391,
   "metadata": {},
   "outputs": [
    {
     "data": {
      "text/plain": [
       "0     99\n",
       "1    129\n",
       "2     99\n",
       "3     99\n",
       "4    109\n",
       "Name: co2_emission, dtype: object"
      ]
     },
     "execution_count": 391,
     "metadata": {},
     "output_type": "execute_result"
    }
   ],
   "source": [
    "df.co2_emission.head()"
   ]
  },
  {
   "cell_type": "markdown",
   "metadata": {},
   "source": [
    "**consumption**"
   ]
  },
  {
   "cell_type": "code",
   "execution_count": 392,
   "metadata": {},
   "outputs": [
    {
     "data": {
      "text/plain": [
       "0    [[3.8 l/100 km (comb)], [4.3 l/100 km (city)],...\n",
       "1    [[5.6 l/100 km (comb)], [7.1 l/100 km (city)],...\n",
       "2    [[3.8 l/100 km (comb)], [4.4 l/100 km (city)],...\n",
       "3    [[3.8 l/100 km (comb)], [4.3 l/100 km (city)],...\n",
       "4    [[4.1 l/100 km (comb)], [4.6 l/100 km (city)],...\n",
       "Name: consumption, dtype: object"
      ]
     },
     "execution_count": 392,
     "metadata": {},
     "output_type": "execute_result"
    }
   ],
   "source": [
    "df.consumption.head()"
   ]
  },
  {
   "cell_type": "code",
   "execution_count": 393,
   "metadata": {},
   "outputs": [
    {
     "data": {
      "text/plain": [
       "[['3.8 l/100 km (comb)'], ['4.3 l/100 km (city)'], ['3.5 l/100 km (country)']]"
      ]
     },
     "execution_count": 393,
     "metadata": {},
     "output_type": "execute_result"
    }
   ],
   "source": [
    "df.consumption[0]"
   ]
  },
  {
   "cell_type": "code",
   "execution_count": 394,
   "metadata": {},
   "outputs": [
    {
     "data": {
      "text/plain": [
       "['3.8 l/100 km (comb)']"
      ]
     },
     "execution_count": 394,
     "metadata": {},
     "output_type": "execute_result"
    }
   ],
   "source": [
    "df.consumption[0][0]"
   ]
  },
  {
   "cell_type": "code",
   "execution_count": 395,
   "metadata": {},
   "outputs": [
    {
     "data": {
      "text/plain": [
       "'3.8 l/100 km (comb)'"
      ]
     },
     "execution_count": 395,
     "metadata": {},
     "output_type": "execute_result"
    }
   ],
   "source": [
    "df.consumption[0][0][0]"
   ]
  },
  {
   "cell_type": "code",
   "execution_count": 396,
   "metadata": {},
   "outputs": [
    {
     "data": {
      "text/plain": [
       "0    [3.8 l/100 km (comb)]\n",
       "1    [5.6 l/100 km (comb)]\n",
       "2    [3.8 l/100 km (comb)]\n",
       "3    [3.8 l/100 km (comb)]\n",
       "4    [4.1 l/100 km (comb)]\n",
       "Name: consumption, dtype: object"
      ]
     },
     "execution_count": 396,
     "metadata": {},
     "output_type": "execute_result"
    }
   ],
   "source": [
    "df.consumption.str[0].head()"
   ]
  },
  {
   "cell_type": "code",
   "execution_count": 397,
   "metadata": {},
   "outputs": [
    {
     "data": {
      "text/plain": [
       "0    3.8 l/100 km (comb)\n",
       "1    5.6 l/100 km (comb)\n",
       "2    3.8 l/100 km (comb)\n",
       "3    3.8 l/100 km (comb)\n",
       "4    4.1 l/100 km (comb)\n",
       "Name: consumption, dtype: object"
      ]
     },
     "execution_count": 397,
     "metadata": {},
     "output_type": "execute_result"
    }
   ],
   "source": [
    "df.consumption.str[0].str[0].head()"
   ]
  },
  {
   "cell_type": "code",
   "execution_count": 139,
   "metadata": {},
   "outputs": [],
   "source": [
    "#import re\n",
    "#text='3.8 l/100 km (comb)'\n",
    "#a=re.findall(r'(\\d{1}\\.\\d{1})', text)\n",
    "#print(a)"
   ]
  },
  {
   "cell_type": "code",
   "execution_count": 454,
   "metadata": {},
   "outputs": [],
   "source": [
    "df['consumption_comb'] = df.consumption.str[0].str[0].str.extract(r'(\\d.\\d|\\d)')"
   ]
  },
  {
   "cell_type": "code",
   "execution_count": 457,
   "metadata": {},
   "outputs": [],
   "source": [
    "df.drop(\"consumption\", axis=1, inplace=True)"
   ]
  },
  {
   "cell_type": "code",
   "execution_count": 399,
   "metadata": {},
   "outputs": [
    {
     "data": {
      "text/plain": [
       "0    3.8\n",
       "1    5.6\n",
       "2    3.8\n",
       "3    3.8\n",
       "4    4.1\n",
       "Name: consumption_comb, dtype: object"
      ]
     },
     "execution_count": 399,
     "metadata": {},
     "output_type": "execute_result"
    }
   ],
   "source": [
    "df.consumption_comb.head()"
   ]
  },
  {
   "cell_type": "code",
   "execution_count": null,
   "metadata": {},
   "outputs": [],
   "source": [
    "# Create a boolean for checking \"combined\" consumption\n",
    "    #comb_bool = df.consumption.str[0].str[0].str.contains(\"comb\", na=False)\n",
    "    # Create a new column for 'consumption_comb'\n",
    "    #df['consumption_comb'] = df[comb_bool].consumption.str[0].str[0].str.extract(r'(\\d.\\d|\\d)')\n",
    "    # Drop 'consumption' column\n",
    "    #df.drop('consumption', axis=1, inplace=True)"
   ]
  },
  {
   "cell_type": "markdown",
   "metadata": {},
   "source": [
    "**country_version**"
   ]
  },
  {
   "cell_type": "code",
   "execution_count": 400,
   "metadata": {},
   "outputs": [
    {
     "data": {
      "text/plain": [
       "[\\nGermany\\n]           4502\n",
       "[\\nItaly\\n]             1038\n",
       "[\\nEuropean Union\\n]     507\n",
       "[\\nNetherlands\\n]        464\n",
       "[\\nSpain\\n]              325\n",
       "[\\nBelgium\\n]            314\n",
       "[\\nAustria\\n]            208\n",
       "[\\nCzech Republic\\n]      52\n",
       "[\\nPoland\\n]              49\n",
       "[\\nFrance\\n]              38\n",
       "[\\nDenmark\\n]             33\n",
       "[\\nHungary\\n]             28\n",
       "[\\nJapan\\n]                8\n",
       "[\\nCroatia\\n]              4\n",
       "[\\nSlovakia\\n]             4\n",
       "[\\nSweden\\n]               3\n",
       "[\\nBulgaria\\n]             2\n",
       "[\\nRomania\\n]              2\n",
       "[\\nSwitzerland\\n]          1\n",
       "[\\nLuxembourg\\n]           1\n",
       "[\\nSerbia\\n]               1\n",
       "[\\nSlovenia\\n]             1\n",
       "[\\nEgypt\\n]                1\n",
       "Name: country_version, dtype: int64"
      ]
     },
     "execution_count": 400,
     "metadata": {},
     "output_type": "execute_result"
    }
   ],
   "source": [
    "df.country_version.value_counts()"
   ]
  },
  {
   "cell_type": "code",
   "execution_count": 447,
   "metadata": {},
   "outputs": [],
   "source": [
    "df['country_version'] = df.country_version.str[0].str.strip(\"\\n\")"
   ]
  },
  {
   "cell_type": "code",
   "execution_count": 402,
   "metadata": {},
   "outputs": [
    {
     "data": {
      "text/plain": [
       "Germany           4502\n",
       "Italy             1038\n",
       "European Union     507\n",
       "Netherlands        464\n",
       "Spain              325\n",
       "Belgium            314\n",
       "Austria            208\n",
       "Czech Republic      52\n",
       "Poland              49\n",
       "France              38\n",
       "Denmark             33\n",
       "Hungary             28\n",
       "Japan                8\n",
       "Slovakia             4\n",
       "Croatia              4\n",
       "Sweden               3\n",
       "Romania              2\n",
       "Bulgaria             2\n",
       "Luxembourg           1\n",
       "Switzerland          1\n",
       "Egypt                1\n",
       "Slovenia             1\n",
       "Serbia               1\n",
       "Name: country_version, dtype: int64"
      ]
     },
     "execution_count": 402,
     "metadata": {},
     "output_type": "execute_result"
    }
   ],
   "source": [
    "df.country_version.value_counts()"
   ]
  },
  {
   "cell_type": "markdown",
   "metadata": {},
   "source": [
    "**cylinders**"
   ]
  },
  {
   "cell_type": "code",
   "execution_count": 403,
   "metadata": {},
   "outputs": [
    {
     "data": {
      "text/plain": [
       "[\\n4\\n]    8105\n",
       "[\\n3\\n]    2104\n",
       "[\\n5\\n]      22\n",
       "[\\n6\\n]       3\n",
       "[\\n2\\n]       2\n",
       "[\\n8\\n]       2\n",
       "[\\n1\\n]       1\n",
       "Name: cylinders, dtype: int64"
      ]
     },
     "execution_count": 403,
     "metadata": {},
     "output_type": "execute_result"
    }
   ],
   "source": [
    "df.cylinders.value_counts()"
   ]
  },
  {
   "cell_type": "code",
   "execution_count": 448,
   "metadata": {},
   "outputs": [],
   "source": [
    "df['cylinders'] = df.cylinders.str[0].str.strip(\"\\n\")"
   ]
  },
  {
   "cell_type": "code",
   "execution_count": 405,
   "metadata": {},
   "outputs": [
    {
     "data": {
      "text/plain": [
       "4    8105\n",
       "3    2104\n",
       "5      22\n",
       "6       3\n",
       "2       2\n",
       "8       2\n",
       "1       1\n",
       "Name: cylinders, dtype: int64"
      ]
     },
     "execution_count": 405,
     "metadata": {},
     "output_type": "execute_result"
    }
   ],
   "source": [
    "df.cylinders.value_counts()"
   ]
  },
  {
   "cell_type": "markdown",
   "metadata": {},
   "source": [
    "**displacement**"
   ]
  },
  {
   "cell_type": "code",
   "execution_count": 406,
   "metadata": {},
   "outputs": [
    {
     "data": {
      "text/plain": [
       "[\\n1,598 cc\\n]     4761\n",
       "[\\n999 cc\\n]       2438\n",
       "[\\n1,398 cc\\n]     1314\n",
       "[\\n1,399 cc\\n]      749\n",
       "[\\n1,229 cc\\n]      677\n",
       "[\\n1,956 cc\\n]      670\n",
       "[\\n1,461 cc\\n]      595\n",
       "[\\n1,490 cc\\n]      559\n",
       "[\\n1,422 cc\\n]      467\n",
       "[\\n1,197 cc\\n]      353\n",
       "[\\n898 cc\\n]        351\n",
       "[\\n1,395 cc\\n]      320\n",
       "[\\n1,968 cc\\n]      301\n",
       "[\\n1,149 cc\\n]      288\n",
       "[\\n1,618 cc\\n]      212\n",
       "[\\n1,798 cc\\n]      210\n",
       "[\\n1,498 cc\\n]      196\n",
       "[\\n1,600 cc\\n]      130\n",
       "[\\n1,248 cc\\n]      110\n",
       "[\\n1,997 cc\\n]      103\n",
       "[\\n1,364 cc\\n]      102\n",
       "[\\n1,400 cc\\n]       90\n",
       "[\\n998 cc\\n]         72\n",
       "[\\n1,500 cc\\n]       50\n",
       "[\\n2,000 cc\\n]       46\n",
       "[\\n1,000 cc\\n]       40\n",
       "[\\n1 cc\\n]           36\n",
       "[\\n1,998 cc\\n]       25\n",
       "[\\n2,480 cc\\n]       20\n",
       "[\\n1,200 cc\\n]       18\n",
       "                   ... \n",
       "[\\n2 cc\\n]            2\n",
       "[\\n16,000 cc\\n]       1\n",
       "[\\n1,856 cc\\n]        1\n",
       "[\\n2,967 cc\\n]        1\n",
       "[\\n1,568 cc\\n]        1\n",
       "[\\n890 cc\\n]          1\n",
       "[\\n1,496 cc\\n]        1\n",
       "[\\n1,580 cc\\n]        1\n",
       "[\\n1,195 cc\\n]        1\n",
       "[\\n1,533 cc\\n]        1\n",
       "[\\n1,198 cc\\n]        1\n",
       "[\\n122 cc\\n]          1\n",
       "[\\n1,390 cc\\n]        1\n",
       "[\\n140 cc\\n]          1\n",
       "[\\n1,368 cc\\n]        1\n",
       "[\\n1,369 cc\\n]        1\n",
       "[\\n1,350 cc\\n]        1\n",
       "[\\n1,333 cc\\n]        1\n",
       "[\\n1,584 cc\\n]        1\n",
       "[\\n1,239 cc\\n]        1\n",
       "[\\n1,100 cc\\n]        1\n",
       "[\\n973 cc\\n]          1\n",
       "[\\n54 cc\\n]           1\n",
       "[\\n996 cc\\n]          1\n",
       "[\\n1,696 cc\\n]        1\n",
       "[\\n1,686 cc\\n]        1\n",
       "[\\n1,995 cc\\n]        1\n",
       "[\\n15,898 cc\\n]       1\n",
       "[\\n1,800 cc\\n]        1\n",
       "[\\n1,896 cc\\n]        1\n",
       "Name: displacement, Length: 77, dtype: int64"
      ]
     },
     "execution_count": 406,
     "metadata": {},
     "output_type": "execute_result"
    }
   ],
   "source": [
    "df.displacement.value_counts()"
   ]
  },
  {
   "cell_type": "code",
   "execution_count": 449,
   "metadata": {},
   "outputs": [],
   "source": [
    "df['displacement'] = df.displacement.str[0].str.replace(\",\",\"\").str.extract(r'(\\d+)')"
   ]
  },
  {
   "cell_type": "code",
   "execution_count": 408,
   "metadata": {},
   "outputs": [
    {
     "data": {
      "text/plain": [
       "1598     4761\n",
       "999      2438\n",
       "1398     1314\n",
       "1399      749\n",
       "1229      677\n",
       "1956      670\n",
       "1461      595\n",
       "1490      559\n",
       "1422      467\n",
       "1197      353\n",
       "898       351\n",
       "1395      320\n",
       "1968      301\n",
       "1149      288\n",
       "1618      212\n",
       "1798      210\n",
       "1498      196\n",
       "1600      130\n",
       "1248      110\n",
       "1997      103\n",
       "1364      102\n",
       "1400       90\n",
       "998        72\n",
       "1500       50\n",
       "2000       46\n",
       "1000       40\n",
       "1          36\n",
       "1998       25\n",
       "2480       20\n",
       "1200       18\n",
       "         ... \n",
       "2           2\n",
       "1584        1\n",
       "1995        1\n",
       "1696        1\n",
       "1333        1\n",
       "1350        1\n",
       "16000       1\n",
       "1100        1\n",
       "1195        1\n",
       "2967        1\n",
       "1239        1\n",
       "1686        1\n",
       "1533        1\n",
       "122         1\n",
       "1390        1\n",
       "1568        1\n",
       "1800        1\n",
       "1369        1\n",
       "1896        1\n",
       "15898       1\n",
       "140         1\n",
       "1580        1\n",
       "890         1\n",
       "1198        1\n",
       "54          1\n",
       "996         1\n",
       "1856        1\n",
       "1496        1\n",
       "1368        1\n",
       "973         1\n",
       "Name: displacement, Length: 77, dtype: int64"
      ]
     },
     "execution_count": 408,
     "metadata": {},
     "output_type": "execute_result"
    }
   ],
   "source": [
    "df.displacement.value_counts()"
   ]
  },
  {
   "cell_type": "markdown",
   "metadata": {},
   "source": [
    "**make**"
   ]
  },
  {
   "cell_type": "code",
   "execution_count": 409,
   "metadata": {},
   "outputs": [
    {
     "data": {
      "text/plain": [
       "\\nOpel\\n       7343\n",
       "\\nAudi\\n       5712\n",
       "\\nRenault\\n    2864\n",
       "Name: make, dtype: int64"
      ]
     },
     "execution_count": 409,
     "metadata": {},
     "output_type": "execute_result"
    }
   ],
   "source": [
    "df.make.value_counts()"
   ]
  },
  {
   "cell_type": "code",
   "execution_count": 450,
   "metadata": {},
   "outputs": [],
   "source": [
    "df['make']=df.make.str.strip('\\n')"
   ]
  },
  {
   "cell_type": "code",
   "execution_count": 411,
   "metadata": {},
   "outputs": [
    {
     "data": {
      "text/plain": [
       "Opel       7343\n",
       "Audi       5712\n",
       "Renault    2864\n",
       "Name: make, dtype: int64"
      ]
     },
     "execution_count": 411,
     "metadata": {},
     "output_type": "execute_result"
    }
   ],
   "source": [
    "df.make.value_counts()"
   ]
  },
  {
   "cell_type": "markdown",
   "metadata": {},
   "source": [
    "**model**"
   ]
  },
  {
   "cell_type": "code",
   "execution_count": 412,
   "metadata": {},
   "outputs": [
    {
     "data": {
      "text/plain": [
       "[\\n, A3, \\n]          3097\n",
       "[\\n, A1, \\n]          2614\n",
       "[\\n, Insignia, \\n]    2598\n",
       "[\\n, Astra, \\n]       2526\n",
       "[\\n, Corsa, \\n]       2219\n",
       "[\\n, Clio, \\n]        1839\n",
       "[\\n, Espace, \\n]       991\n",
       "[\\n, Duster, \\n]        34\n",
       "[\\n, A2, \\n]             1\n",
       "Name: model, dtype: int64"
      ]
     },
     "execution_count": 412,
     "metadata": {},
     "output_type": "execute_result"
    }
   ],
   "source": [
    "df.model.value_counts()"
   ]
  },
  {
   "cell_type": "code",
   "execution_count": 413,
   "metadata": {},
   "outputs": [
    {
     "data": {
      "text/plain": [
       "A3          3097\n",
       "A1          2614\n",
       "Insignia    2598\n",
       "Astra       2526\n",
       "Corsa       2219\n",
       "Clio        1839\n",
       "Espace       991\n",
       "Duster        34\n",
       "A2             1\n",
       "Name: model, dtype: int64"
      ]
     },
     "execution_count": 413,
     "metadata": {},
     "output_type": "execute_result"
    }
   ],
   "source": [
    "df.model.str[1].value_counts()"
   ]
  },
  {
   "cell_type": "code",
   "execution_count": 451,
   "metadata": {},
   "outputs": [],
   "source": [
    "df['model']=df.model.str[1]"
   ]
  },
  {
   "cell_type": "code",
   "execution_count": 415,
   "metadata": {},
   "outputs": [
    {
     "data": {
      "text/plain": [
       "A3          3097\n",
       "A1          2614\n",
       "Insignia    2598\n",
       "Astra       2526\n",
       "Corsa       2219\n",
       "Clio        1839\n",
       "Espace       991\n",
       "Duster        34\n",
       "A2             1\n",
       "Name: model, dtype: int64"
      ]
     },
     "execution_count": 415,
     "metadata": {},
     "output_type": "execute_result"
    }
   ],
   "source": [
    "df.model.value_counts()"
   ]
  },
  {
   "cell_type": "markdown",
   "metadata": {},
   "source": [
    "**model_code**"
   ]
  },
  {
   "cell_type": "code",
   "execution_count": 416,
   "metadata": {},
   "outputs": [
    {
     "data": {
      "text/plain": [
       "0    [\\n0588/BDF\\n]\n",
       "1    [\\n0588/BCY\\n]\n",
       "2               NaN\n",
       "3               NaN\n",
       "4    [\\n0588/BDF\\n]\n",
       "Name: model_code, dtype: object"
      ]
     },
     "execution_count": 416,
     "metadata": {},
     "output_type": "execute_result"
    }
   ],
   "source": [
    "df.model_code.head()"
   ]
  },
  {
   "cell_type": "code",
   "execution_count": 452,
   "metadata": {},
   "outputs": [],
   "source": [
    "df['model_code']=df.model_code.str[0].str[1:-1]"
   ]
  },
  {
   "cell_type": "code",
   "execution_count": 418,
   "metadata": {},
   "outputs": [
    {
     "data": {
      "text/plain": [
       "0    0588/BDF\n",
       "1    0588/BCY\n",
       "2         NaN\n",
       "3         NaN\n",
       "4    0588/BDF\n",
       "Name: model_code, dtype: object"
      ]
     },
     "execution_count": 418,
     "metadata": {},
     "output_type": "execute_result"
    }
   ],
   "source": [
    "df.model_code.head()"
   ]
  },
  {
   "cell_type": "markdown",
   "metadata": {},
   "source": [
    "**next_inspection**"
   ]
  },
  {
   "cell_type": "code",
   "execution_count": 420,
   "metadata": {},
   "outputs": [
    {
     "data": {
      "text/plain": [
       "0    [\\n06/2021\\n, \\n99 g CO2/km (comb)\\n]\n",
       "1                                      NaN\n",
       "2                                      NaN\n",
       "3                                      NaN\n",
       "4                                      NaN\n",
       "Name: next_inspection, dtype: object"
      ]
     },
     "execution_count": 420,
     "metadata": {},
     "output_type": "execute_result"
    }
   ],
   "source": [
    "df.next_inspection.head()"
   ]
  },
  {
   "cell_type": "code",
   "execution_count": 421,
   "metadata": {},
   "outputs": [
    {
     "data": {
      "text/plain": [
       "2280                                                   NaN\n",
       "12381                                                  NaN\n",
       "13103                                                  NaN\n",
       "4045                                                   NaN\n",
       "7972                                                   NaN\n",
       "10456                                                  NaN\n",
       "11471    [\\n08/2020\\n, \\n, 6.1 l/100 km (comb), \\n, 7.5...\n",
       "9798                                                   NaN\n",
       "9456                                                   NaN\n",
       "195                                                    NaN\n",
       "11997                                                  NaN\n",
       "6322                                                   NaN\n",
       "6493                [\\n07/2019\\n, \\n102 g CO2/km (comb)\\n]\n",
       "13773                                                  NaN\n",
       "3563                [\\n06/2021\\n, \\n114 g CO2/km (comb)\\n]\n",
       "14354                                          \\n10/2022\\n\n",
       "9186                                                   NaN\n",
       "6904                                                   NaN\n",
       "9894                                                   NaN\n",
       "5230                                                   NaN\n",
       "Name: next_inspection, dtype: object"
      ]
     },
     "execution_count": 421,
     "metadata": {},
     "output_type": "execute_result"
    }
   ],
   "source": [
    "df.next_inspection.sample(20)"
   ]
  },
  {
   "cell_type": "code",
   "execution_count": 422,
   "metadata": {},
   "outputs": [],
   "source": [
    "df[\"next_inspection\"]=df.next_inspection.str[0].str.strip(\"\\n\")"
   ]
  },
  {
   "cell_type": "code",
   "execution_count": 423,
   "metadata": {},
   "outputs": [
    {
     "data": {
      "text/plain": [
       "0    06/2021\n",
       "1        NaN\n",
       "2        NaN\n",
       "3        NaN\n",
       "4        NaN\n",
       "Name: next_inspection, dtype: object"
      ]
     },
     "execution_count": 423,
     "metadata": {},
     "output_type": "execute_result"
    }
   ],
   "source": [
    "df.next_inspection.head()"
   ]
  },
  {
   "cell_type": "markdown",
   "metadata": {},
   "source": [
    "**non_smoking_vehicle**"
   ]
  },
  {
   "cell_type": "code",
   "execution_count": 424,
   "metadata": {},
   "outputs": [
    {
     "data": {
      "text/plain": [
       "7971                                  NaN\n",
       "9465                                  NaN\n",
       "6551                 [\\n, \\n, \\nEuro 6\\n]\n",
       "8325                             [\\n, \\n]\n",
       "15801                                 NaN\n",
       "8862                                  NaN\n",
       "13099               [\\n, \\n, \\nEuro 6c\\n]\n",
       "10995                                 NaN\n",
       "12697          [\\n, \\n, \\nEuro 6d-TEMP\\n]\n",
       "6371                             [\\n, \\n]\n",
       "4303                             [\\n, \\n]\n",
       "5806                 [\\n, \\n, \\nEuro 6\\n]\n",
       "6236                                  NaN\n",
       "6                 [\\n, \\n, \\n4 (Green)\\n]\n",
       "5996                             [\\n, \\n]\n",
       "12375                                 NaN\n",
       "13844    [\\n, \\n, \\n92 g CO2/km (comb)\\n]\n",
       "2153                                  NaN\n",
       "13778                                 NaN\n",
       "1665                 [\\n, \\n, \\nEuro 6\\n]\n",
       "Name: non_smoking_vehicle, dtype: object"
      ]
     },
     "execution_count": 424,
     "metadata": {},
     "output_type": "execute_result"
    }
   ],
   "source": [
    "df.non_smoking_vehicle.sample(20)"
   ]
  },
  {
   "cell_type": "code",
   "execution_count": 425,
   "metadata": {},
   "outputs": [],
   "source": [
    "df.drop(\"non_smoking_vehicle\", axis=1, inplace=True)"
   ]
  },
  {
   "cell_type": "markdown",
   "metadata": {},
   "source": [
    "**body_type**"
   ]
  },
  {
   "cell_type": "code",
   "execution_count": 427,
   "metadata": {},
   "outputs": [
    {
     "data": {
      "text/plain": [
       "12491    Station wagon\n",
       "10401           Sedans\n",
       "11416    Station wagon\n",
       "13124          Compact\n",
       "14385           Sedans\n",
       "3196            Sedans\n",
       "8510            Sedans\n",
       "9017           Compact\n",
       "5885     Station wagon\n",
       "15646           Sedans\n",
       "918            Compact\n",
       "8693           Compact\n",
       "4404            Sedans\n",
       "15209              Van\n",
       "12157    Station wagon\n",
       "14680          Compact\n",
       "13577          Compact\n",
       "8550           Compact\n",
       "7885     Station wagon\n",
       "9600            Sedans\n",
       "Name: body_type, dtype: object"
      ]
     },
     "execution_count": 427,
     "metadata": {},
     "output_type": "execute_result"
    }
   ],
   "source": [
    "df.body_type.sample(20)"
   ]
  },
  {
   "cell_type": "markdown",
   "metadata": {},
   "source": [
    "**hp**"
   ]
  },
  {
   "cell_type": "code",
   "execution_count": 428,
   "metadata": {},
   "outputs": [
    {
     "data": {
      "text/plain": [
       "0     66 kW\n",
       "1    141 kW\n",
       "2     85 kW\n",
       "3     66 kW\n",
       "4     66 kW\n",
       "Name: hp, dtype: object"
      ]
     },
     "execution_count": 428,
     "metadata": {},
     "output_type": "execute_result"
    }
   ],
   "source": [
    "df.hp.head()"
   ]
  },
  {
   "cell_type": "code",
   "execution_count": 429,
   "metadata": {},
   "outputs": [
    {
     "data": {
      "text/plain": [
       "85 kW     2542\n",
       "66 kW     2122\n",
       "81 kW     1402\n",
       "100 kW    1308\n",
       "110 kW    1112\n",
       "70 kW      888\n",
       "125 kW     707\n",
       "51 kW      695\n",
       "55 kW      569\n",
       "118 kW     516\n",
       "92 kW      466\n",
       "121 kW     392\n",
       "147 kW     380\n",
       "77 kW      345\n",
       "56 kW      286\n",
       "54 kW      276\n",
       "103 kW     253\n",
       "87 kW      232\n",
       "165 kW     194\n",
       "88 kW      177\n",
       "60 kW      160\n",
       "162 kW      98\n",
       "- kW        88\n",
       "74 kW       81\n",
       "96 kW       72\n",
       "71 kW       59\n",
       "101 kW      47\n",
       "67 kW       40\n",
       "154 kW      39\n",
       "122 kW      35\n",
       "          ... \n",
       "80 kW        3\n",
       "149 kW       3\n",
       "93 kW        3\n",
       "168 kW       3\n",
       "98 kW        3\n",
       "143 kW       2\n",
       "89 kW        2\n",
       "228 kW       2\n",
       "63 kW        2\n",
       "140 kW       2\n",
       "270 kW       2\n",
       "86 kW        2\n",
       "150 kW       2\n",
       "167 kW       2\n",
       "53 kW        2\n",
       "40 kW        2\n",
       "127 kW       2\n",
       "4 kW         1\n",
       "137 kW       1\n",
       "239 kW       1\n",
       "195 kW       1\n",
       "84 kW        1\n",
       "9 kW         1\n",
       "123 kW       1\n",
       "44 kW        1\n",
       "163 kW       1\n",
       "132 kW       1\n",
       "75 kW        1\n",
       "133 kW       1\n",
       "115 kW       1\n",
       "Name: hp, Length: 81, dtype: int64"
      ]
     },
     "execution_count": 429,
     "metadata": {},
     "output_type": "execute_result"
    }
   ],
   "source": [
    "df.hp.value_counts()"
   ]
  },
  {
   "cell_type": "code",
   "execution_count": 430,
   "metadata": {},
   "outputs": [],
   "source": [
    "df[\"hp\"]=df.hp.str.extract(r'(\\d+)')"
   ]
  },
  {
   "cell_type": "code",
   "execution_count": 431,
   "metadata": {},
   "outputs": [
    {
     "data": {
      "text/plain": [
       "85     2542\n",
       "66     2122\n",
       "81     1402\n",
       "100    1308\n",
       "110    1112\n",
       "70      888\n",
       "125     707\n",
       "51      695\n",
       "55      569\n",
       "118     516\n",
       "92      466\n",
       "121     392\n",
       "147     380\n",
       "77      345\n",
       "56      286\n",
       "54      276\n",
       "103     253\n",
       "87      232\n",
       "165     194\n",
       "88      177\n",
       "60      160\n",
       "162      98\n",
       "74       81\n",
       "96       72\n",
       "71       59\n",
       "101      47\n",
       "67       40\n",
       "154      39\n",
       "122      35\n",
       "119      30\n",
       "       ... \n",
       "168       3\n",
       "80        3\n",
       "149       3\n",
       "93        3\n",
       "98        3\n",
       "228       2\n",
       "53        2\n",
       "143       2\n",
       "63        2\n",
       "40        2\n",
       "270       2\n",
       "86        2\n",
       "167       2\n",
       "140       2\n",
       "150       2\n",
       "127       2\n",
       "89        2\n",
       "133       1\n",
       "115       1\n",
       "75        1\n",
       "44        1\n",
       "195       1\n",
       "163       1\n",
       "4         1\n",
       "239       1\n",
       "132       1\n",
       "84        1\n",
       "9         1\n",
       "123       1\n",
       "137       1\n",
       "Name: hp, Length: 80, dtype: int64"
      ]
     },
     "execution_count": 431,
     "metadata": {},
     "output_type": "execute_result"
    }
   ],
   "source": [
    "df.hp.value_counts()"
   ]
  },
  {
   "cell_type": "markdown",
   "metadata": {},
   "source": [
    "**km**"
   ]
  },
  {
   "cell_type": "code",
   "execution_count": 433,
   "metadata": {},
   "outputs": [
    {
     "data": {
      "text/plain": [
       "0    56,013 km\n",
       "1    80,000 km\n",
       "2    83,450 km\n",
       "3    73,000 km\n",
       "4    16,200 km\n",
       "Name: km, dtype: object"
      ]
     },
     "execution_count": 433,
     "metadata": {},
     "output_type": "execute_result"
    }
   ],
   "source": [
    "df.km.head()"
   ]
  },
  {
   "cell_type": "code",
   "execution_count": 434,
   "metadata": {},
   "outputs": [
    {
     "data": {
      "text/plain": [
       "10 km        1045\n",
       "- km         1024\n",
       "1 km          367\n",
       "5 km          170\n",
       "50 km         148\n",
       "100 km        139\n",
       "15 km         109\n",
       "5,000 km      104\n",
       "20 km          61\n",
       "3,000 km       58\n",
       "12 km          56\n",
       "8,000 km       49\n",
       "45,000 km      48\n",
       "30,000 km      47\n",
       "10,000 km      47\n",
       "25,000 km      47\n",
       "18,000 km      46\n",
       "1,000 km       46\n",
       "19,000 km      44\n",
       "35,000 km      44\n",
       "Name: km, dtype: int64"
      ]
     },
     "execution_count": 434,
     "metadata": {},
     "output_type": "execute_result"
    }
   ],
   "source": [
    "df.km.value_counts()[:20]"
   ]
  },
  {
   "cell_type": "code",
   "execution_count": 435,
   "metadata": {},
   "outputs": [],
   "source": [
    "df[\"km\"]=df.km.str.replace(\",\" , \"\").str.extract(r'(\\d+)')"
   ]
  },
  {
   "cell_type": "code",
   "execution_count": 436,
   "metadata": {},
   "outputs": [
    {
     "data": {
      "text/plain": [
       "0    56013\n",
       "1    80000\n",
       "2    83450\n",
       "3    73000\n",
       "4    16200\n",
       "Name: km, dtype: object"
      ]
     },
     "execution_count": 436,
     "metadata": {},
     "output_type": "execute_result"
    }
   ],
   "source": [
    "df.km.head()"
   ]
  },
  {
   "cell_type": "markdown",
   "metadata": {},
   "source": [
    "**kw**"
   ]
  },
  {
   "cell_type": "code",
   "execution_count": 438,
   "metadata": {},
   "outputs": [],
   "source": [
    "df.drop(\"kw\", axis=1, inplace=True)"
   ]
  },
  {
   "cell_type": "markdown",
   "metadata": {},
   "source": [
    "**make_model**"
   ]
  },
  {
   "cell_type": "code",
   "execution_count": 439,
   "metadata": {},
   "outputs": [],
   "source": [
    "df.drop(columns = \"make_model\", inplace = True)"
   ]
  },
  {
   "cell_type": "markdown",
   "metadata": {},
   "source": [
    "**offer_number**"
   ]
  },
  {
   "cell_type": "code",
   "execution_count": 440,
   "metadata": {},
   "outputs": [
    {
     "data": {
      "text/plain": [
       "1115          [\\n78149\\n]\n",
       "5124        [\\nGW-V430\\n]\n",
       "12667    [\\n8033255-Q2\\n]\n",
       "2707                  NaN\n",
       "2091       [\\n58535622\\n]\n",
       "13082        [\\nA17001\\n]\n",
       "7109         [\\n219307\\n]\n",
       "13031       [\\n2252818\\n]\n",
       "11831      [\\nM_003937\\n]\n",
       "8767         [\\n046331\\n]\n",
       "6385         [\\n224743\\n]\n",
       "13499                 NaN\n",
       "3497         [\\n223605\\n]\n",
       "13944                 NaN\n",
       "3705            [\\n895\\n]\n",
       "164          [\\nV51889\\n]\n",
       "11347          [\\n9000\\n]\n",
       "12754       [\\n1062272\\n]\n",
       "2405       [\\nGW-V2220\\n]\n",
       "3356                  NaN\n",
       "Name: offer_number, dtype: object"
      ]
     },
     "execution_count": 440,
     "metadata": {},
     "output_type": "execute_result"
    }
   ],
   "source": [
    "df.offer_number.sample(20)"
   ]
  },
  {
   "cell_type": "code",
   "execution_count": 441,
   "metadata": {},
   "outputs": [],
   "source": [
    "df[\"offer_number\"]=df.offer_number.str[0].str.strip(\"\\n\")"
   ]
  },
  {
   "cell_type": "code",
   "execution_count": 442,
   "metadata": {},
   "outputs": [
    {
     "data": {
      "text/plain": [
       "0    LR-062483\n",
       "1          NaN\n",
       "2     AM-95365\n",
       "3          NaN\n",
       "4        C1626\n",
       "Name: offer_number, dtype: object"
      ]
     },
     "execution_count": 442,
     "metadata": {},
     "output_type": "execute_result"
    }
   ],
   "source": [
    "df.offer_number.head()"
   ]
  },
  {
   "cell_type": "code",
   "execution_count": 458,
   "metadata": {},
   "outputs": [
    {
     "data": {
      "text/html": [
       "<div>\n",
       "<style scoped>\n",
       "    .dataframe tbody tr th:only-of-type {\n",
       "        vertical-align: middle;\n",
       "    }\n",
       "\n",
       "    .dataframe tbody tr th {\n",
       "        vertical-align: top;\n",
       "    }\n",
       "\n",
       "    .dataframe thead th {\n",
       "        text-align: right;\n",
       "    }\n",
       "</style>\n",
       "<table border=\"1\" class=\"dataframe\">\n",
       "  <thead>\n",
       "    <tr style=\"text-align: right;\">\n",
       "      <th></th>\n",
       "      <th>safety_security</th>\n",
       "      <th>co2_emission</th>\n",
       "      <th>country_version</th>\n",
       "      <th>cylinders</th>\n",
       "      <th>displacement</th>\n",
       "      <th>make</th>\n",
       "      <th>model</th>\n",
       "      <th>model_code</th>\n",
       "      <th>next_inspection</th>\n",
       "      <th>body_type</th>\n",
       "      <th>description</th>\n",
       "      <th>hp</th>\n",
       "      <th>km</th>\n",
       "      <th>offer_number</th>\n",
       "      <th>consumption_comb</th>\n",
       "    </tr>\n",
       "  </thead>\n",
       "  <tbody>\n",
       "    <tr>\n",
       "      <th>0</th>\n",
       "      <td>[ABS, Central door lock, Daytime running light...</td>\n",
       "      <td>99</td>\n",
       "      <td>NaN</td>\n",
       "      <td>3</td>\n",
       "      <td>1422</td>\n",
       "      <td>Audi</td>\n",
       "      <td>A1</td>\n",
       "      <td>0588/BDF</td>\n",
       "      <td>06/2021</td>\n",
       "      <td>Sedans</td>\n",
       "      <td>[\\n, Sicherheit:,  , Deaktivierung für Beifahr...</td>\n",
       "      <td>66</td>\n",
       "      <td>56013</td>\n",
       "      <td>LR-062483</td>\n",
       "      <td>3.8</td>\n",
       "    </tr>\n",
       "    <tr>\n",
       "      <th>1</th>\n",
       "      <td>[ABS, Central door lock, Central door lock wit...</td>\n",
       "      <td>129</td>\n",
       "      <td>NaN</td>\n",
       "      <td>4</td>\n",
       "      <td>1798</td>\n",
       "      <td>Audi</td>\n",
       "      <td>A1</td>\n",
       "      <td>0588/BCY</td>\n",
       "      <td>NaN</td>\n",
       "      <td>Sedans</td>\n",
       "      <td>[\\nLangstreckenfahrzeug daher die hohe Kilomet...</td>\n",
       "      <td>141</td>\n",
       "      <td>80000</td>\n",
       "      <td>NaN</td>\n",
       "      <td>5.6</td>\n",
       "    </tr>\n",
       "    <tr>\n",
       "      <th>2</th>\n",
       "      <td>[ABS, Central door lock, Daytime running light...</td>\n",
       "      <td>99</td>\n",
       "      <td>NaN</td>\n",
       "      <td>NaN</td>\n",
       "      <td>1598</td>\n",
       "      <td>Audi</td>\n",
       "      <td>A1</td>\n",
       "      <td>NaN</td>\n",
       "      <td>NaN</td>\n",
       "      <td>Sedans</td>\n",
       "      <td>[\\n, Fahrzeug-Nummer: AM-95365,  , Ehem. UPE 2...</td>\n",
       "      <td>85</td>\n",
       "      <td>83450</td>\n",
       "      <td>AM-95365</td>\n",
       "      <td>3.8</td>\n",
       "    </tr>\n",
       "    <tr>\n",
       "      <th>3</th>\n",
       "      <td>[ABS, Alarm system, Central door lock with rem...</td>\n",
       "      <td>99</td>\n",
       "      <td>NaN</td>\n",
       "      <td>3</td>\n",
       "      <td>1422</td>\n",
       "      <td>Audi</td>\n",
       "      <td>A1</td>\n",
       "      <td>NaN</td>\n",
       "      <td>NaN</td>\n",
       "      <td>Sedans</td>\n",
       "      <td>[\\nAudi A1: , - 1e eigenaar , - Perfecte staat...</td>\n",
       "      <td>66</td>\n",
       "      <td>73000</td>\n",
       "      <td>NaN</td>\n",
       "      <td>3.8</td>\n",
       "    </tr>\n",
       "    <tr>\n",
       "      <th>4</th>\n",
       "      <td>[ABS, Central door lock, Driver-side airbag, E...</td>\n",
       "      <td>109</td>\n",
       "      <td>Germany</td>\n",
       "      <td>3</td>\n",
       "      <td>1422</td>\n",
       "      <td>Audi</td>\n",
       "      <td>A1</td>\n",
       "      <td>0588/BDF</td>\n",
       "      <td>NaN</td>\n",
       "      <td>Sedans</td>\n",
       "      <td>[\\n, Technik &amp; Sicherheit:, Xenon plus, Klimaa...</td>\n",
       "      <td>66</td>\n",
       "      <td>16200</td>\n",
       "      <td>C1626</td>\n",
       "      <td>4.1</td>\n",
       "    </tr>\n",
       "  </tbody>\n",
       "</table>\n",
       "</div>"
      ],
      "text/plain": [
       "                                     safety_security co2_emission  \\\n",
       "0  [ABS, Central door lock, Daytime running light...           99   \n",
       "1  [ABS, Central door lock, Central door lock wit...          129   \n",
       "2  [ABS, Central door lock, Daytime running light...           99   \n",
       "3  [ABS, Alarm system, Central door lock with rem...           99   \n",
       "4  [ABS, Central door lock, Driver-side airbag, E...          109   \n",
       "\n",
       "  country_version cylinders displacement  make model model_code  \\\n",
       "0             NaN         3         1422  Audi    A1   0588/BDF   \n",
       "1             NaN         4         1798  Audi    A1   0588/BCY   \n",
       "2             NaN       NaN         1598  Audi    A1        NaN   \n",
       "3             NaN         3         1422  Audi    A1        NaN   \n",
       "4         Germany         3         1422  Audi    A1   0588/BDF   \n",
       "\n",
       "  next_inspection body_type  \\\n",
       "0         06/2021    Sedans   \n",
       "1             NaN    Sedans   \n",
       "2             NaN    Sedans   \n",
       "3             NaN    Sedans   \n",
       "4             NaN    Sedans   \n",
       "\n",
       "                                         description   hp     km offer_number  \\\n",
       "0  [\\n, Sicherheit:,  , Deaktivierung für Beifahr...   66  56013    LR-062483   \n",
       "1  [\\nLangstreckenfahrzeug daher die hohe Kilomet...  141  80000          NaN   \n",
       "2  [\\n, Fahrzeug-Nummer: AM-95365,  , Ehem. UPE 2...   85  83450     AM-95365   \n",
       "3  [\\nAudi A1: , - 1e eigenaar , - Perfecte staat...   66  73000          NaN   \n",
       "4  [\\n, Technik & Sicherheit:, Xenon plus, Klimaa...   66  16200        C1626   \n",
       "\n",
       "  consumption_comb  \n",
       "0              3.8  \n",
       "1              5.6  \n",
       "2              3.8  \n",
       "3              3.8  \n",
       "4              4.1  "
      ]
     },
     "execution_count": 458,
     "metadata": {},
     "output_type": "execute_result"
    }
   ],
   "source": [
    "df.head()"
   ]
  },
  {
   "cell_type": "markdown",
   "metadata": {},
   "source": [
    "**v_cols**"
   ]
  },
  {
   "cell_type": "code",
   "execution_count": 5,
   "metadata": {},
   "outputs": [],
   "source": [
    "v_cols=['comfort_convenience', 'extras', 'drive_chain',\n",
    "       'electricity_consumption', 'emission_class', 'emission_label',\n",
    "       'first_registration', 'fuel', 'nr_of_doors', 'nr_of_seats',\n",
    "       'other_fuel_types', 'previous_owners', 'type', 'upholstery', 'warranty',\n",
    "       'weight', 'prev_owner', 'url']"
   ]
  },
  {
   "cell_type": "code",
   "execution_count": 37,
   "metadata": {},
   "outputs": [],
   "source": [
    "df2=autos[v_cols]"
   ]
  },
  {
   "cell_type": "code",
   "execution_count": 38,
   "metadata": {},
   "outputs": [
    {
     "data": {
      "text/html": [
       "<div>\n",
       "<style scoped>\n",
       "    .dataframe tbody tr th:only-of-type {\n",
       "        vertical-align: middle;\n",
       "    }\n",
       "\n",
       "    .dataframe tbody tr th {\n",
       "        vertical-align: top;\n",
       "    }\n",
       "\n",
       "    .dataframe thead th {\n",
       "        text-align: right;\n",
       "    }\n",
       "</style>\n",
       "<table border=\"1\" class=\"dataframe\">\n",
       "  <thead>\n",
       "    <tr style=\"text-align: right;\">\n",
       "      <th></th>\n",
       "      <th>comfort_convenience</th>\n",
       "      <th>extras</th>\n",
       "      <th>drive_chain</th>\n",
       "      <th>electricity_consumption</th>\n",
       "      <th>emission_class</th>\n",
       "      <th>emission_label</th>\n",
       "      <th>first_registration</th>\n",
       "      <th>fuel</th>\n",
       "      <th>nr_of_doors</th>\n",
       "      <th>nr_of_seats</th>\n",
       "      <th>other_fuel_types</th>\n",
       "      <th>previous_owners</th>\n",
       "      <th>type</th>\n",
       "      <th>upholstery</th>\n",
       "      <th>warranty</th>\n",
       "      <th>weight</th>\n",
       "      <th>prev_owner</th>\n",
       "      <th>url</th>\n",
       "    </tr>\n",
       "  </thead>\n",
       "  <tbody>\n",
       "    <tr>\n",
       "      <th>0</th>\n",
       "      <td>[Air conditioning, Armrest, Automatic climate ...</td>\n",
       "      <td>[Alloy wheels, Catalytic Converter, Voice Cont...</td>\n",
       "      <td>[\\nfront\\n]</td>\n",
       "      <td>NaN</td>\n",
       "      <td>[\\nEuro 6\\n]</td>\n",
       "      <td>NaN</td>\n",
       "      <td>[\\n, 2016, \\n]</td>\n",
       "      <td>[\\n, Diesel (Particulate Filter), \\n]</td>\n",
       "      <td>[\\n5\\n]</td>\n",
       "      <td>[\\n5\\n]</td>\n",
       "      <td>NaN</td>\n",
       "      <td>\\n2\\n</td>\n",
       "      <td>[, Used, , Diesel (Particulate Filter)]</td>\n",
       "      <td>[\\nCloth, Black\\n]</td>\n",
       "      <td>[\\n, \\n, \\n4 (Green)\\n]</td>\n",
       "      <td>[\\n1,220 kg\\n]</td>\n",
       "      <td>2 previous owners</td>\n",
       "      <td>https://www.autoscout24.com//offers/audi-a1-sp...</td>\n",
       "    </tr>\n",
       "    <tr>\n",
       "      <th>1</th>\n",
       "      <td>[Air conditioning, Automatic climate control, ...</td>\n",
       "      <td>[Alloy wheels, Sport seats, Sport suspension, ...</td>\n",
       "      <td>[\\nfront\\n]</td>\n",
       "      <td>NaN</td>\n",
       "      <td>[\\nEuro 6\\n]</td>\n",
       "      <td>[\\n4 (Green)\\n]</td>\n",
       "      <td>[\\n, 2017, \\n]</td>\n",
       "      <td>[\\n, Gasoline, \\n]</td>\n",
       "      <td>[\\n3\\n]</td>\n",
       "      <td>[\\n4\\n]</td>\n",
       "      <td>NaN</td>\n",
       "      <td>NaN</td>\n",
       "      <td>[, Used, , Gasoline]</td>\n",
       "      <td>[\\nCloth, Grey\\n]</td>\n",
       "      <td>NaN</td>\n",
       "      <td>[\\n1,255 kg\\n]</td>\n",
       "      <td>None</td>\n",
       "      <td>https://www.autoscout24.com//offers/audi-a1-1-...</td>\n",
       "    </tr>\n",
       "    <tr>\n",
       "      <th>2</th>\n",
       "      <td>[Air conditioning, Cruise control, Electrical ...</td>\n",
       "      <td>[Alloy wheels, Voice Control]</td>\n",
       "      <td>[\\nfront\\n]</td>\n",
       "      <td>NaN</td>\n",
       "      <td>[\\nEuro 6\\n]</td>\n",
       "      <td>[\\n4 (Green)\\n]</td>\n",
       "      <td>[\\n, 2016, \\n]</td>\n",
       "      <td>[\\n, Diesel (Particulate Filter), \\n]</td>\n",
       "      <td>[\\n4\\n]</td>\n",
       "      <td>[\\n4\\n]</td>\n",
       "      <td>NaN</td>\n",
       "      <td>\\n1\\n</td>\n",
       "      <td>[, Used, , Diesel (Particulate Filter)]</td>\n",
       "      <td>[\\nCloth, Black\\n]</td>\n",
       "      <td>[\\n, \\n, \\n99 g CO2/km (comb)\\n]</td>\n",
       "      <td>NaN</td>\n",
       "      <td>1 previous owner</td>\n",
       "      <td>https://www.autoscout24.com//offers/audi-a1-sp...</td>\n",
       "    </tr>\n",
       "  </tbody>\n",
       "</table>\n",
       "</div>"
      ],
      "text/plain": [
       "                                 comfort_convenience  \\\n",
       "0  [Air conditioning, Armrest, Automatic climate ...   \n",
       "1  [Air conditioning, Automatic climate control, ...   \n",
       "2  [Air conditioning, Cruise control, Electrical ...   \n",
       "\n",
       "                                              extras  drive_chain  \\\n",
       "0  [Alloy wheels, Catalytic Converter, Voice Cont...  [\\nfront\\n]   \n",
       "1  [Alloy wheels, Sport seats, Sport suspension, ...  [\\nfront\\n]   \n",
       "2                      [Alloy wheels, Voice Control]  [\\nfront\\n]   \n",
       "\n",
       "  electricity_consumption emission_class   emission_label first_registration  \\\n",
       "0                     NaN   [\\nEuro 6\\n]              NaN     [\\n, 2016, \\n]   \n",
       "1                     NaN   [\\nEuro 6\\n]  [\\n4 (Green)\\n]     [\\n, 2017, \\n]   \n",
       "2                     NaN   [\\nEuro 6\\n]  [\\n4 (Green)\\n]     [\\n, 2016, \\n]   \n",
       "\n",
       "                                    fuel nr_of_doors nr_of_seats  \\\n",
       "0  [\\n, Diesel (Particulate Filter), \\n]     [\\n5\\n]     [\\n5\\n]   \n",
       "1                     [\\n, Gasoline, \\n]     [\\n3\\n]     [\\n4\\n]   \n",
       "2  [\\n, Diesel (Particulate Filter), \\n]     [\\n4\\n]     [\\n4\\n]   \n",
       "\n",
       "  other_fuel_types previous_owners                                     type  \\\n",
       "0              NaN           \\n2\\n  [, Used, , Diesel (Particulate Filter)]   \n",
       "1              NaN             NaN                     [, Used, , Gasoline]   \n",
       "2              NaN           \\n1\\n  [, Used, , Diesel (Particulate Filter)]   \n",
       "\n",
       "           upholstery                          warranty          weight  \\\n",
       "0  [\\nCloth, Black\\n]           [\\n, \\n, \\n4 (Green)\\n]  [\\n1,220 kg\\n]   \n",
       "1   [\\nCloth, Grey\\n]                               NaN  [\\n1,255 kg\\n]   \n",
       "2  [\\nCloth, Black\\n]  [\\n, \\n, \\n99 g CO2/km (comb)\\n]             NaN   \n",
       "\n",
       "          prev_owner                                                url  \n",
       "0  2 previous owners  https://www.autoscout24.com//offers/audi-a1-sp...  \n",
       "1               None  https://www.autoscout24.com//offers/audi-a1-1-...  \n",
       "2   1 previous owner  https://www.autoscout24.com//offers/audi-a1-sp...  "
      ]
     },
     "execution_count": 38,
     "metadata": {},
     "output_type": "execute_result"
    }
   ],
   "source": [
    "df2.head(3)"
   ]
  },
  {
   "cell_type": "markdown",
   "metadata": {},
   "source": [
    "**drive_chain**"
   ]
  },
  {
   "cell_type": "code",
   "execution_count": 8,
   "metadata": {},
   "outputs": [
    {
     "data": {
      "text/plain": [
       "[\\nfront\\n]    8886\n",
       "[\\n4WD\\n]       171\n",
       "[\\nrear\\n]        4\n",
       "Name: drive_chain, dtype: int64"
      ]
     },
     "execution_count": 8,
     "metadata": {},
     "output_type": "execute_result"
    }
   ],
   "source": [
    "df2.drive_chain.value_counts()"
   ]
  },
  {
   "cell_type": "code",
   "execution_count": 9,
   "metadata": {},
   "outputs": [
    {
     "data": {
      "text/plain": [
       "'\\nfront\\n'"
      ]
     },
     "execution_count": 9,
     "metadata": {},
     "output_type": "execute_result"
    }
   ],
   "source": [
    "df2.drive_chain.str[0][0]"
   ]
  },
  {
   "cell_type": "code",
   "execution_count": 130,
   "metadata": {},
   "outputs": [],
   "source": [
    "df2[\"drive_chain\"]=df2.drive_chain.str[0].str.strip(\"\\n\")"
   ]
  },
  {
   "cell_type": "code",
   "execution_count": 11,
   "metadata": {},
   "outputs": [
    {
     "data": {
      "text/plain": [
       "front    8886\n",
       "4WD       171\n",
       "rear        4\n",
       "Name: drive_chain, dtype: int64"
      ]
     },
     "execution_count": 11,
     "metadata": {},
     "output_type": "execute_result"
    }
   ],
   "source": [
    "df2.drive_chain.value_counts()"
   ]
  },
  {
   "cell_type": "markdown",
   "metadata": {},
   "source": [
    "**electricity_consumption**"
   ]
  },
  {
   "cell_type": "code",
   "execution_count": 12,
   "metadata": {},
   "outputs": [
    {
     "data": {
      "text/plain": [
       "[\\n0 kWh/100 km (comb)\\n]    137\n",
       "Name: electricity_consumption, dtype: int64"
      ]
     },
     "execution_count": 12,
     "metadata": {},
     "output_type": "execute_result"
    }
   ],
   "source": [
    "df2.electricity_consumption.value_counts()"
   ]
  },
  {
   "cell_type": "code",
   "execution_count": 131,
   "metadata": {},
   "outputs": [],
   "source": [
    "df2.drop(\"electricity_consumption\", axis=1, inplace=True)"
   ]
  },
  {
   "cell_type": "markdown",
   "metadata": {},
   "source": [
    "**emission_class**"
   ]
  },
  {
   "cell_type": "code",
   "execution_count": 14,
   "metadata": {},
   "outputs": [
    {
     "data": {
      "text/plain": [
       "[\\nEuro 6\\n]          10139\n",
       "NaN                    3021\n",
       "[\\nEuro 6d-TEMP\\n]     1845\n",
       "[[], [], []]            607\n",
       "[\\nEuro 6c\\n]           127\n",
       "[\\nEuro 5\\n]             78\n",
       "[\\nEuro 6d\\n]            62\n",
       "[\\nEuro 4\\n]             40\n",
       "Name: emission_class, dtype: int64"
      ]
     },
     "execution_count": 14,
     "metadata": {},
     "output_type": "execute_result"
    }
   ],
   "source": [
    "df2.emission_class.value_counts(dropna=False)"
   ]
  },
  {
   "cell_type": "code",
   "execution_count": 15,
   "metadata": {},
   "outputs": [
    {
     "data": {
      "text/plain": [
       "'\\nEuro 6\\n'"
      ]
     },
     "execution_count": 15,
     "metadata": {},
     "output_type": "execute_result"
    }
   ],
   "source": [
    "df2.emission_class.str[0][0]"
   ]
  },
  {
   "cell_type": "code",
   "execution_count": 132,
   "metadata": {},
   "outputs": [],
   "source": [
    "df2[\"emission_class\"]=df2.emission_class.str[0].str.strip(\"\\n\")"
   ]
  },
  {
   "cell_type": "code",
   "execution_count": 17,
   "metadata": {},
   "outputs": [
    {
     "data": {
      "text/plain": [
       "Euro 6          10139\n",
       "NaN              3628\n",
       "Euro 6d-TEMP     1845\n",
       "Euro 6c           127\n",
       "Euro 5             78\n",
       "Euro 6d            62\n",
       "Euro 4             40\n",
       "Name: emission_class, dtype: int64"
      ]
     },
     "execution_count": 17,
     "metadata": {},
     "output_type": "execute_result"
    }
   ],
   "source": [
    "df2.emission_class.value_counts(dropna=False)"
   ]
  },
  {
   "cell_type": "code",
   "execution_count": 18,
   "metadata": {},
   "outputs": [
    {
     "data": {
      "text/html": [
       "<div>\n",
       "<style scoped>\n",
       "    .dataframe tbody tr th:only-of-type {\n",
       "        vertical-align: middle;\n",
       "    }\n",
       "\n",
       "    .dataframe tbody tr th {\n",
       "        vertical-align: top;\n",
       "    }\n",
       "\n",
       "    .dataframe thead th {\n",
       "        text-align: right;\n",
       "    }\n",
       "</style>\n",
       "<table border=\"1\" class=\"dataframe\">\n",
       "  <thead>\n",
       "    <tr style=\"text-align: right;\">\n",
       "      <th></th>\n",
       "      <th>comfort_convenience</th>\n",
       "      <th>extras</th>\n",
       "      <th>drive_chain</th>\n",
       "      <th>emission_class</th>\n",
       "      <th>emission_label</th>\n",
       "      <th>first_registration</th>\n",
       "      <th>fuel</th>\n",
       "      <th>nr_of_doors</th>\n",
       "      <th>nr_of_seats</th>\n",
       "      <th>other_fuel_types</th>\n",
       "      <th>previous_owners</th>\n",
       "      <th>type</th>\n",
       "      <th>upholstery</th>\n",
       "      <th>warranty</th>\n",
       "      <th>weight</th>\n",
       "      <th>prev_owner</th>\n",
       "      <th>url</th>\n",
       "    </tr>\n",
       "  </thead>\n",
       "  <tbody>\n",
       "    <tr>\n",
       "      <th>0</th>\n",
       "      <td>[Air conditioning, Armrest, Automatic climate ...</td>\n",
       "      <td>[Alloy wheels, Catalytic Converter, Voice Cont...</td>\n",
       "      <td>front</td>\n",
       "      <td>Euro 6</td>\n",
       "      <td>NaN</td>\n",
       "      <td>[\\n, 2016, \\n]</td>\n",
       "      <td>[\\n, Diesel (Particulate Filter), \\n]</td>\n",
       "      <td>[\\n5\\n]</td>\n",
       "      <td>[\\n5\\n]</td>\n",
       "      <td>NaN</td>\n",
       "      <td>\\n2\\n</td>\n",
       "      <td>[, Used, , Diesel (Particulate Filter)]</td>\n",
       "      <td>[\\nCloth, Black\\n]</td>\n",
       "      <td>[\\n, \\n, \\n4 (Green)\\n]</td>\n",
       "      <td>[\\n1,220 kg\\n]</td>\n",
       "      <td>2 previous owners</td>\n",
       "      <td>https://www.autoscout24.com//offers/audi-a1-sp...</td>\n",
       "    </tr>\n",
       "    <tr>\n",
       "      <th>1</th>\n",
       "      <td>[Air conditioning, Automatic climate control, ...</td>\n",
       "      <td>[Alloy wheels, Sport seats, Sport suspension, ...</td>\n",
       "      <td>front</td>\n",
       "      <td>Euro 6</td>\n",
       "      <td>[\\n4 (Green)\\n]</td>\n",
       "      <td>[\\n, 2017, \\n]</td>\n",
       "      <td>[\\n, Gasoline, \\n]</td>\n",
       "      <td>[\\n3\\n]</td>\n",
       "      <td>[\\n4\\n]</td>\n",
       "      <td>NaN</td>\n",
       "      <td>NaN</td>\n",
       "      <td>[, Used, , Gasoline]</td>\n",
       "      <td>[\\nCloth, Grey\\n]</td>\n",
       "      <td>NaN</td>\n",
       "      <td>[\\n1,255 kg\\n]</td>\n",
       "      <td>None</td>\n",
       "      <td>https://www.autoscout24.com//offers/audi-a1-1-...</td>\n",
       "    </tr>\n",
       "    <tr>\n",
       "      <th>2</th>\n",
       "      <td>[Air conditioning, Cruise control, Electrical ...</td>\n",
       "      <td>[Alloy wheels, Voice Control]</td>\n",
       "      <td>front</td>\n",
       "      <td>Euro 6</td>\n",
       "      <td>[\\n4 (Green)\\n]</td>\n",
       "      <td>[\\n, 2016, \\n]</td>\n",
       "      <td>[\\n, Diesel (Particulate Filter), \\n]</td>\n",
       "      <td>[\\n4\\n]</td>\n",
       "      <td>[\\n4\\n]</td>\n",
       "      <td>NaN</td>\n",
       "      <td>\\n1\\n</td>\n",
       "      <td>[, Used, , Diesel (Particulate Filter)]</td>\n",
       "      <td>[\\nCloth, Black\\n]</td>\n",
       "      <td>[\\n, \\n, \\n99 g CO2/km (comb)\\n]</td>\n",
       "      <td>NaN</td>\n",
       "      <td>1 previous owner</td>\n",
       "      <td>https://www.autoscout24.com//offers/audi-a1-sp...</td>\n",
       "    </tr>\n",
       "  </tbody>\n",
       "</table>\n",
       "</div>"
      ],
      "text/plain": [
       "                                 comfort_convenience  \\\n",
       "0  [Air conditioning, Armrest, Automatic climate ...   \n",
       "1  [Air conditioning, Automatic climate control, ...   \n",
       "2  [Air conditioning, Cruise control, Electrical ...   \n",
       "\n",
       "                                              extras drive_chain  \\\n",
       "0  [Alloy wheels, Catalytic Converter, Voice Cont...       front   \n",
       "1  [Alloy wheels, Sport seats, Sport suspension, ...       front   \n",
       "2                      [Alloy wheels, Voice Control]       front   \n",
       "\n",
       "  emission_class   emission_label first_registration  \\\n",
       "0         Euro 6              NaN     [\\n, 2016, \\n]   \n",
       "1         Euro 6  [\\n4 (Green)\\n]     [\\n, 2017, \\n]   \n",
       "2         Euro 6  [\\n4 (Green)\\n]     [\\n, 2016, \\n]   \n",
       "\n",
       "                                    fuel nr_of_doors nr_of_seats  \\\n",
       "0  [\\n, Diesel (Particulate Filter), \\n]     [\\n5\\n]     [\\n5\\n]   \n",
       "1                     [\\n, Gasoline, \\n]     [\\n3\\n]     [\\n4\\n]   \n",
       "2  [\\n, Diesel (Particulate Filter), \\n]     [\\n4\\n]     [\\n4\\n]   \n",
       "\n",
       "  other_fuel_types previous_owners                                     type  \\\n",
       "0              NaN           \\n2\\n  [, Used, , Diesel (Particulate Filter)]   \n",
       "1              NaN             NaN                     [, Used, , Gasoline]   \n",
       "2              NaN           \\n1\\n  [, Used, , Diesel (Particulate Filter)]   \n",
       "\n",
       "           upholstery                          warranty          weight  \\\n",
       "0  [\\nCloth, Black\\n]           [\\n, \\n, \\n4 (Green)\\n]  [\\n1,220 kg\\n]   \n",
       "1   [\\nCloth, Grey\\n]                               NaN  [\\n1,255 kg\\n]   \n",
       "2  [\\nCloth, Black\\n]  [\\n, \\n, \\n99 g CO2/km (comb)\\n]             NaN   \n",
       "\n",
       "          prev_owner                                                url  \n",
       "0  2 previous owners  https://www.autoscout24.com//offers/audi-a1-sp...  \n",
       "1               None  https://www.autoscout24.com//offers/audi-a1-1-...  \n",
       "2   1 previous owner  https://www.autoscout24.com//offers/audi-a1-sp...  "
      ]
     },
     "execution_count": 18,
     "metadata": {},
     "output_type": "execute_result"
    }
   ],
   "source": [
    "df2.head(3)"
   ]
  },
  {
   "cell_type": "markdown",
   "metadata": {},
   "source": [
    "**emission_label**"
   ]
  },
  {
   "cell_type": "code",
   "execution_count": 19,
   "metadata": {},
   "outputs": [
    {
     "data": {
      "text/plain": [
       "[\\n4 (Green)\\n]         3553\n",
       "[\\n1 (No sticker)\\n]     381\n",
       "[[], [], []]              40\n",
       "[\\n5 (Blue)\\n]             8\n",
       "[\\n3 (Yellow)\\n]           2\n",
       "[\\n2 (Red)\\n]              1\n",
       "Name: emission_label, dtype: int64"
      ]
     },
     "execution_count": 19,
     "metadata": {},
     "output_type": "execute_result"
    }
   ],
   "source": [
    "df2.emission_label.value_counts()"
   ]
  },
  {
   "cell_type": "code",
   "execution_count": 20,
   "metadata": {},
   "outputs": [
    {
     "data": {
      "text/plain": [
       "'Green'"
      ]
     },
     "execution_count": 20,
     "metadata": {},
     "output_type": "execute_result"
    }
   ],
   "source": [
    "df2.emission_label.str[0][1][4:-2]"
   ]
  },
  {
   "cell_type": "code",
   "execution_count": 133,
   "metadata": {},
   "outputs": [],
   "source": [
    "df2[\"emission_label\"]=df2.emission_label.str[0].str[4:-2]"
   ]
  },
  {
   "cell_type": "code",
   "execution_count": 22,
   "metadata": {},
   "outputs": [
    {
     "data": {
      "text/plain": [
       "NaN           11934\n",
       "Green          3553\n",
       "No sticker      381\n",
       "[]               40\n",
       "Blue              8\n",
       "Yellow            2\n",
       "Red               1\n",
       "Name: emission_label, dtype: int64"
      ]
     },
     "execution_count": 22,
     "metadata": {},
     "output_type": "execute_result"
    }
   ],
   "source": [
    "df2.emission_label.value_counts(dropna=False)"
   ]
  },
  {
   "cell_type": "code",
   "execution_count": 134,
   "metadata": {},
   "outputs": [],
   "source": [
    "df2.loc[df2['emission_label'].notnull(), 'emission_label'] = df2.loc[df2['emission_label'].notnull(), 'emission_label'].apply(lambda y: np.nan if len(y)==0 else y)"
   ]
  },
  {
   "cell_type": "code",
   "execution_count": 24,
   "metadata": {},
   "outputs": [
    {
     "data": {
      "text/plain": [
       "NaN           11974\n",
       "Green          3553\n",
       "No sticker      381\n",
       "Blue              8\n",
       "Yellow            2\n",
       "Red               1\n",
       "Name: emission_label, dtype: int64"
      ]
     },
     "execution_count": 24,
     "metadata": {},
     "output_type": "execute_result"
    }
   ],
   "source": [
    "df2.emission_label.value_counts(dropna=False)"
   ]
  },
  {
   "cell_type": "code",
   "execution_count": 25,
   "metadata": {},
   "outputs": [
    {
     "data": {
      "text/html": [
       "<div>\n",
       "<style scoped>\n",
       "    .dataframe tbody tr th:only-of-type {\n",
       "        vertical-align: middle;\n",
       "    }\n",
       "\n",
       "    .dataframe tbody tr th {\n",
       "        vertical-align: top;\n",
       "    }\n",
       "\n",
       "    .dataframe thead th {\n",
       "        text-align: right;\n",
       "    }\n",
       "</style>\n",
       "<table border=\"1\" class=\"dataframe\">\n",
       "  <thead>\n",
       "    <tr style=\"text-align: right;\">\n",
       "      <th></th>\n",
       "      <th>comfort_convenience</th>\n",
       "      <th>extras</th>\n",
       "      <th>drive_chain</th>\n",
       "      <th>emission_class</th>\n",
       "      <th>emission_label</th>\n",
       "      <th>first_registration</th>\n",
       "      <th>fuel</th>\n",
       "      <th>nr_of_doors</th>\n",
       "      <th>nr_of_seats</th>\n",
       "      <th>other_fuel_types</th>\n",
       "      <th>previous_owners</th>\n",
       "      <th>type</th>\n",
       "      <th>upholstery</th>\n",
       "      <th>warranty</th>\n",
       "      <th>weight</th>\n",
       "      <th>prev_owner</th>\n",
       "      <th>url</th>\n",
       "    </tr>\n",
       "  </thead>\n",
       "  <tbody>\n",
       "    <tr>\n",
       "      <th>0</th>\n",
       "      <td>[Air conditioning, Armrest, Automatic climate ...</td>\n",
       "      <td>[Alloy wheels, Catalytic Converter, Voice Cont...</td>\n",
       "      <td>front</td>\n",
       "      <td>Euro 6</td>\n",
       "      <td>NaN</td>\n",
       "      <td>[\\n, 2016, \\n]</td>\n",
       "      <td>[\\n, Diesel (Particulate Filter), \\n]</td>\n",
       "      <td>[\\n5\\n]</td>\n",
       "      <td>[\\n5\\n]</td>\n",
       "      <td>NaN</td>\n",
       "      <td>\\n2\\n</td>\n",
       "      <td>[, Used, , Diesel (Particulate Filter)]</td>\n",
       "      <td>[\\nCloth, Black\\n]</td>\n",
       "      <td>[\\n, \\n, \\n4 (Green)\\n]</td>\n",
       "      <td>[\\n1,220 kg\\n]</td>\n",
       "      <td>2 previous owners</td>\n",
       "      <td>https://www.autoscout24.com//offers/audi-a1-sp...</td>\n",
       "    </tr>\n",
       "    <tr>\n",
       "      <th>1</th>\n",
       "      <td>[Air conditioning, Automatic climate control, ...</td>\n",
       "      <td>[Alloy wheels, Sport seats, Sport suspension, ...</td>\n",
       "      <td>front</td>\n",
       "      <td>Euro 6</td>\n",
       "      <td>Green</td>\n",
       "      <td>[\\n, 2017, \\n]</td>\n",
       "      <td>[\\n, Gasoline, \\n]</td>\n",
       "      <td>[\\n3\\n]</td>\n",
       "      <td>[\\n4\\n]</td>\n",
       "      <td>NaN</td>\n",
       "      <td>NaN</td>\n",
       "      <td>[, Used, , Gasoline]</td>\n",
       "      <td>[\\nCloth, Grey\\n]</td>\n",
       "      <td>NaN</td>\n",
       "      <td>[\\n1,255 kg\\n]</td>\n",
       "      <td>None</td>\n",
       "      <td>https://www.autoscout24.com//offers/audi-a1-1-...</td>\n",
       "    </tr>\n",
       "    <tr>\n",
       "      <th>2</th>\n",
       "      <td>[Air conditioning, Cruise control, Electrical ...</td>\n",
       "      <td>[Alloy wheels, Voice Control]</td>\n",
       "      <td>front</td>\n",
       "      <td>Euro 6</td>\n",
       "      <td>Green</td>\n",
       "      <td>[\\n, 2016, \\n]</td>\n",
       "      <td>[\\n, Diesel (Particulate Filter), \\n]</td>\n",
       "      <td>[\\n4\\n]</td>\n",
       "      <td>[\\n4\\n]</td>\n",
       "      <td>NaN</td>\n",
       "      <td>\\n1\\n</td>\n",
       "      <td>[, Used, , Diesel (Particulate Filter)]</td>\n",
       "      <td>[\\nCloth, Black\\n]</td>\n",
       "      <td>[\\n, \\n, \\n99 g CO2/km (comb)\\n]</td>\n",
       "      <td>NaN</td>\n",
       "      <td>1 previous owner</td>\n",
       "      <td>https://www.autoscout24.com//offers/audi-a1-sp...</td>\n",
       "    </tr>\n",
       "  </tbody>\n",
       "</table>\n",
       "</div>"
      ],
      "text/plain": [
       "                                 comfort_convenience  \\\n",
       "0  [Air conditioning, Armrest, Automatic climate ...   \n",
       "1  [Air conditioning, Automatic climate control, ...   \n",
       "2  [Air conditioning, Cruise control, Electrical ...   \n",
       "\n",
       "                                              extras drive_chain  \\\n",
       "0  [Alloy wheels, Catalytic Converter, Voice Cont...       front   \n",
       "1  [Alloy wheels, Sport seats, Sport suspension, ...       front   \n",
       "2                      [Alloy wheels, Voice Control]       front   \n",
       "\n",
       "  emission_class emission_label first_registration  \\\n",
       "0         Euro 6            NaN     [\\n, 2016, \\n]   \n",
       "1         Euro 6          Green     [\\n, 2017, \\n]   \n",
       "2         Euro 6          Green     [\\n, 2016, \\n]   \n",
       "\n",
       "                                    fuel nr_of_doors nr_of_seats  \\\n",
       "0  [\\n, Diesel (Particulate Filter), \\n]     [\\n5\\n]     [\\n5\\n]   \n",
       "1                     [\\n, Gasoline, \\n]     [\\n3\\n]     [\\n4\\n]   \n",
       "2  [\\n, Diesel (Particulate Filter), \\n]     [\\n4\\n]     [\\n4\\n]   \n",
       "\n",
       "  other_fuel_types previous_owners                                     type  \\\n",
       "0              NaN           \\n2\\n  [, Used, , Diesel (Particulate Filter)]   \n",
       "1              NaN             NaN                     [, Used, , Gasoline]   \n",
       "2              NaN           \\n1\\n  [, Used, , Diesel (Particulate Filter)]   \n",
       "\n",
       "           upholstery                          warranty          weight  \\\n",
       "0  [\\nCloth, Black\\n]           [\\n, \\n, \\n4 (Green)\\n]  [\\n1,220 kg\\n]   \n",
       "1   [\\nCloth, Grey\\n]                               NaN  [\\n1,255 kg\\n]   \n",
       "2  [\\nCloth, Black\\n]  [\\n, \\n, \\n99 g CO2/km (comb)\\n]             NaN   \n",
       "\n",
       "          prev_owner                                                url  \n",
       "0  2 previous owners  https://www.autoscout24.com//offers/audi-a1-sp...  \n",
       "1               None  https://www.autoscout24.com//offers/audi-a1-1-...  \n",
       "2   1 previous owner  https://www.autoscout24.com//offers/audi-a1-sp...  "
      ]
     },
     "execution_count": 25,
     "metadata": {},
     "output_type": "execute_result"
    }
   ],
   "source": [
    "df2.head(3)"
   ]
  },
  {
   "cell_type": "markdown",
   "metadata": {},
   "source": [
    "**first_registration**"
   ]
  },
  {
   "cell_type": "code",
   "execution_count": 26,
   "metadata": {},
   "outputs": [
    {
     "data": {
      "text/plain": [
       "0    [\\n, 2016, \\n]\n",
       "1    [\\n, 2017, \\n]\n",
       "2    [\\n, 2016, \\n]\n",
       "Name: first_registration, dtype: object"
      ]
     },
     "execution_count": 26,
     "metadata": {},
     "output_type": "execute_result"
    }
   ],
   "source": [
    "df2.first_registration.head(3)"
   ]
  },
  {
   "cell_type": "code",
   "execution_count": 28,
   "metadata": {},
   "outputs": [
    {
     "data": {
      "text/plain": [
       "[\\n, 2018, \\n]    4522\n",
       "[\\n, 2016, \\n]    3674\n",
       "[\\n, 2017, \\n]    3273\n",
       "[\\n, 2019, \\n]    2853\n",
       "Name: first_registration, dtype: int64"
      ]
     },
     "execution_count": 28,
     "metadata": {},
     "output_type": "execute_result"
    }
   ],
   "source": [
    "df2.first_registration.value_counts()"
   ]
  },
  {
   "cell_type": "code",
   "execution_count": 34,
   "metadata": {},
   "outputs": [
    {
     "data": {
      "text/plain": [
       "'2016'"
      ]
     },
     "execution_count": 34,
     "metadata": {},
     "output_type": "execute_result"
    }
   ],
   "source": [
    "df2.first_registration[0][1]"
   ]
  },
  {
   "cell_type": "code",
   "execution_count": 44,
   "metadata": {},
   "outputs": [
    {
     "data": {
      "text/plain": [
       "2018    4522\n",
       "2016    3674\n",
       "2017    3273\n",
       "2019    2853\n",
       "Name: first_registration, dtype: int64"
      ]
     },
     "execution_count": 44,
     "metadata": {},
     "output_type": "execute_result"
    }
   ],
   "source": [
    "df2.first_registration.str[1].value_counts()"
   ]
  },
  {
   "cell_type": "code",
   "execution_count": 135,
   "metadata": {},
   "outputs": [],
   "source": [
    "df2[\"first_registration\"]=df2.first_registration.str[1]"
   ]
  },
  {
   "cell_type": "code",
   "execution_count": 46,
   "metadata": {},
   "outputs": [
    {
     "data": {
      "text/plain": [
       "2018    4522\n",
       "2016    3674\n",
       "2017    3273\n",
       "2019    2853\n",
       "Name: first_registration, dtype: int64"
      ]
     },
     "execution_count": 46,
     "metadata": {},
     "output_type": "execute_result"
    }
   ],
   "source": [
    "df2.first_registration.value_counts()"
   ]
  },
  {
   "cell_type": "code",
   "execution_count": 47,
   "metadata": {},
   "outputs": [
    {
     "data": {
      "text/html": [
       "<div>\n",
       "<style scoped>\n",
       "    .dataframe tbody tr th:only-of-type {\n",
       "        vertical-align: middle;\n",
       "    }\n",
       "\n",
       "    .dataframe tbody tr th {\n",
       "        vertical-align: top;\n",
       "    }\n",
       "\n",
       "    .dataframe thead th {\n",
       "        text-align: right;\n",
       "    }\n",
       "</style>\n",
       "<table border=\"1\" class=\"dataframe\">\n",
       "  <thead>\n",
       "    <tr style=\"text-align: right;\">\n",
       "      <th></th>\n",
       "      <th>comfort_convenience</th>\n",
       "      <th>extras</th>\n",
       "      <th>drive_chain</th>\n",
       "      <th>emission_class</th>\n",
       "      <th>emission_label</th>\n",
       "      <th>first_registration</th>\n",
       "      <th>fuel</th>\n",
       "      <th>nr_of_doors</th>\n",
       "      <th>nr_of_seats</th>\n",
       "      <th>other_fuel_types</th>\n",
       "      <th>previous_owners</th>\n",
       "      <th>type</th>\n",
       "      <th>upholstery</th>\n",
       "      <th>warranty</th>\n",
       "      <th>weight</th>\n",
       "      <th>prev_owner</th>\n",
       "      <th>url</th>\n",
       "    </tr>\n",
       "  </thead>\n",
       "  <tbody>\n",
       "    <tr>\n",
       "      <th>0</th>\n",
       "      <td>[Air conditioning, Armrest, Automatic climate ...</td>\n",
       "      <td>[Alloy wheels, Catalytic Converter, Voice Cont...</td>\n",
       "      <td>front</td>\n",
       "      <td>Euro 6</td>\n",
       "      <td>NaN</td>\n",
       "      <td>2016</td>\n",
       "      <td>[\\n, Diesel (Particulate Filter), \\n]</td>\n",
       "      <td>[\\n5\\n]</td>\n",
       "      <td>[\\n5\\n]</td>\n",
       "      <td>NaN</td>\n",
       "      <td>\\n2\\n</td>\n",
       "      <td>[, Used, , Diesel (Particulate Filter)]</td>\n",
       "      <td>[\\nCloth, Black\\n]</td>\n",
       "      <td>[\\n, \\n, \\n4 (Green)\\n]</td>\n",
       "      <td>[\\n1,220 kg\\n]</td>\n",
       "      <td>2 previous owners</td>\n",
       "      <td>https://www.autoscout24.com//offers/audi-a1-sp...</td>\n",
       "    </tr>\n",
       "    <tr>\n",
       "      <th>1</th>\n",
       "      <td>[Air conditioning, Automatic climate control, ...</td>\n",
       "      <td>[Alloy wheels, Sport seats, Sport suspension, ...</td>\n",
       "      <td>front</td>\n",
       "      <td>Euro 6</td>\n",
       "      <td>Green</td>\n",
       "      <td>2017</td>\n",
       "      <td>[\\n, Gasoline, \\n]</td>\n",
       "      <td>[\\n3\\n]</td>\n",
       "      <td>[\\n4\\n]</td>\n",
       "      <td>NaN</td>\n",
       "      <td>NaN</td>\n",
       "      <td>[, Used, , Gasoline]</td>\n",
       "      <td>[\\nCloth, Grey\\n]</td>\n",
       "      <td>NaN</td>\n",
       "      <td>[\\n1,255 kg\\n]</td>\n",
       "      <td>None</td>\n",
       "      <td>https://www.autoscout24.com//offers/audi-a1-1-...</td>\n",
       "    </tr>\n",
       "    <tr>\n",
       "      <th>2</th>\n",
       "      <td>[Air conditioning, Cruise control, Electrical ...</td>\n",
       "      <td>[Alloy wheels, Voice Control]</td>\n",
       "      <td>front</td>\n",
       "      <td>Euro 6</td>\n",
       "      <td>Green</td>\n",
       "      <td>2016</td>\n",
       "      <td>[\\n, Diesel (Particulate Filter), \\n]</td>\n",
       "      <td>[\\n4\\n]</td>\n",
       "      <td>[\\n4\\n]</td>\n",
       "      <td>NaN</td>\n",
       "      <td>\\n1\\n</td>\n",
       "      <td>[, Used, , Diesel (Particulate Filter)]</td>\n",
       "      <td>[\\nCloth, Black\\n]</td>\n",
       "      <td>[\\n, \\n, \\n99 g CO2/km (comb)\\n]</td>\n",
       "      <td>NaN</td>\n",
       "      <td>1 previous owner</td>\n",
       "      <td>https://www.autoscout24.com//offers/audi-a1-sp...</td>\n",
       "    </tr>\n",
       "  </tbody>\n",
       "</table>\n",
       "</div>"
      ],
      "text/plain": [
       "                                 comfort_convenience  \\\n",
       "0  [Air conditioning, Armrest, Automatic climate ...   \n",
       "1  [Air conditioning, Automatic climate control, ...   \n",
       "2  [Air conditioning, Cruise control, Electrical ...   \n",
       "\n",
       "                                              extras drive_chain  \\\n",
       "0  [Alloy wheels, Catalytic Converter, Voice Cont...       front   \n",
       "1  [Alloy wheels, Sport seats, Sport suspension, ...       front   \n",
       "2                      [Alloy wheels, Voice Control]       front   \n",
       "\n",
       "  emission_class emission_label first_registration  \\\n",
       "0         Euro 6            NaN               2016   \n",
       "1         Euro 6          Green               2017   \n",
       "2         Euro 6          Green               2016   \n",
       "\n",
       "                                    fuel nr_of_doors nr_of_seats  \\\n",
       "0  [\\n, Diesel (Particulate Filter), \\n]     [\\n5\\n]     [\\n5\\n]   \n",
       "1                     [\\n, Gasoline, \\n]     [\\n3\\n]     [\\n4\\n]   \n",
       "2  [\\n, Diesel (Particulate Filter), \\n]     [\\n4\\n]     [\\n4\\n]   \n",
       "\n",
       "  other_fuel_types previous_owners                                     type  \\\n",
       "0              NaN           \\n2\\n  [, Used, , Diesel (Particulate Filter)]   \n",
       "1              NaN             NaN                     [, Used, , Gasoline]   \n",
       "2              NaN           \\n1\\n  [, Used, , Diesel (Particulate Filter)]   \n",
       "\n",
       "           upholstery                          warranty          weight  \\\n",
       "0  [\\nCloth, Black\\n]           [\\n, \\n, \\n4 (Green)\\n]  [\\n1,220 kg\\n]   \n",
       "1   [\\nCloth, Grey\\n]                               NaN  [\\n1,255 kg\\n]   \n",
       "2  [\\nCloth, Black\\n]  [\\n, \\n, \\n99 g CO2/km (comb)\\n]             NaN   \n",
       "\n",
       "          prev_owner                                                url  \n",
       "0  2 previous owners  https://www.autoscout24.com//offers/audi-a1-sp...  \n",
       "1               None  https://www.autoscout24.com//offers/audi-a1-1-...  \n",
       "2   1 previous owner  https://www.autoscout24.com//offers/audi-a1-sp...  "
      ]
     },
     "execution_count": 47,
     "metadata": {},
     "output_type": "execute_result"
    }
   ],
   "source": [
    "df2.head(3)"
   ]
  },
  {
   "cell_type": "markdown",
   "metadata": {},
   "source": [
    "**fuel**"
   ]
  },
  {
   "cell_type": "code",
   "execution_count": 49,
   "metadata": {},
   "outputs": [
    {
     "data": {
      "text/plain": [
       "[\\n, Diesel (Particulate Filter), \\n]                                                                                  4315\n",
       "[\\n, Super 95, \\n]                                                                                                     3338\n",
       "[\\n, Gasoline, \\n]                                                                                                     3175\n",
       "[\\n, Diesel, \\n]                                                                                                       2984\n",
       "[\\n, Super 95 / Regular/Benzine 91, \\n]                                                                                 424\n",
       "[\\n, Regular/Benzine 91, \\n]                                                                                            354\n",
       "[\\n, Super E10 95, \\n]                                                                                                  331\n",
       "[\\n, Super 95 (Particulate Filter), \\n]                                                                                 268\n",
       "[\\n, Super 95 / Super E10 95, \\n]                                                                                       131\n",
       "[\\n, Regular/Benzine 91 (Particulate Filter), \\n]                                                                       100\n",
       "[\\n, Super 95 / Super Plus 98, \\n]                                                                                       85\n",
       "[\\n, Gasoline (Particulate Filter), \\n]                                                                                  77\n",
       "[\\n, Super 95 / Super Plus 98 / Super E10 95 / Super Plus E10 98, \\n]                                                    40\n",
       "[\\n, Super E10 95 / Super 95, \\n]                                                                                        38\n",
       "[\\n, CNG, \\n]                                                                                                            33\n",
       "[\\n, Super 95 / Super E10 95 (Particulate Filter), \\n]                                                                   25\n",
       "[\\n, Super E10 95 / Super 95 / Super Plus 98 / Super Plus E10 98, \\n]                                                    19\n",
       "[\\n, LPG, \\n]                                                                                                            16\n",
       "[\\n, Super 95 / Super Plus 98 (Particulate Filter), \\n]                                                                  14\n",
       "[\\n, Regular/Benzine 91 / Super 95 / Super Plus 98 / Regular/Benzine E10 91 / Super E10 95 / Super Plus E10 98, \\n]      13\n",
       "Name: fuel, dtype: int64"
      ]
     },
     "execution_count": 49,
     "metadata": {},
     "output_type": "execute_result"
    }
   ],
   "source": [
    "df2.fuel.value_counts()[:20]"
   ]
  },
  {
   "cell_type": "code",
   "execution_count": 54,
   "metadata": {},
   "outputs": [
    {
     "data": {
      "text/plain": [
       "'Diesel (Particulate Filter)'"
      ]
     },
     "execution_count": 54,
     "metadata": {},
     "output_type": "execute_result"
    }
   ],
   "source": [
    "df2.fuel.str[1][0]"
   ]
  },
  {
   "cell_type": "code",
   "execution_count": 136,
   "metadata": {},
   "outputs": [],
   "source": [
    "df2[\"fuel\"]=df2.fuel.str[1]"
   ]
  },
  {
   "cell_type": "code",
   "execution_count": 56,
   "metadata": {},
   "outputs": [
    {
     "data": {
      "text/plain": [
       "0    Diesel (Particulate Filter)\n",
       "1                       Gasoline\n",
       "2    Diesel (Particulate Filter)\n",
       "3    Diesel (Particulate Filter)\n",
       "4    Diesel (Particulate Filter)\n",
       "Name: fuel, dtype: object"
      ]
     },
     "execution_count": 56,
     "metadata": {},
     "output_type": "execute_result"
    }
   ],
   "source": [
    "df2.fuel.head()"
   ]
  },
  {
   "cell_type": "code",
   "execution_count": 58,
   "metadata": {},
   "outputs": [
    {
     "data": {
      "text/plain": [
       "11847                       Gasoline\n",
       "10441       Super 95 / Super Plus 98\n",
       "11213    Diesel (Particulate Filter)\n",
       "504                           Diesel\n",
       "10787    Diesel (Particulate Filter)\n",
       "487                         Gasoline\n",
       "1422                        Super 95\n",
       "5576                        Super 95\n",
       "9777                        Gasoline\n",
       "15591                   Super E10 95\n",
       "Name: fuel, dtype: object"
      ]
     },
     "execution_count": 58,
     "metadata": {},
     "output_type": "execute_result"
    }
   ],
   "source": [
    "df2.fuel.sample(10)"
   ]
  },
  {
   "cell_type": "code",
   "execution_count": 59,
   "metadata": {},
   "outputs": [
    {
     "data": {
      "text/html": [
       "<div>\n",
       "<style scoped>\n",
       "    .dataframe tbody tr th:only-of-type {\n",
       "        vertical-align: middle;\n",
       "    }\n",
       "\n",
       "    .dataframe tbody tr th {\n",
       "        vertical-align: top;\n",
       "    }\n",
       "\n",
       "    .dataframe thead th {\n",
       "        text-align: right;\n",
       "    }\n",
       "</style>\n",
       "<table border=\"1\" class=\"dataframe\">\n",
       "  <thead>\n",
       "    <tr style=\"text-align: right;\">\n",
       "      <th></th>\n",
       "      <th>comfort_convenience</th>\n",
       "      <th>extras</th>\n",
       "      <th>drive_chain</th>\n",
       "      <th>emission_class</th>\n",
       "      <th>emission_label</th>\n",
       "      <th>first_registration</th>\n",
       "      <th>fuel</th>\n",
       "      <th>nr_of_doors</th>\n",
       "      <th>nr_of_seats</th>\n",
       "      <th>other_fuel_types</th>\n",
       "      <th>previous_owners</th>\n",
       "      <th>type</th>\n",
       "      <th>upholstery</th>\n",
       "      <th>warranty</th>\n",
       "      <th>weight</th>\n",
       "      <th>prev_owner</th>\n",
       "      <th>url</th>\n",
       "    </tr>\n",
       "  </thead>\n",
       "  <tbody>\n",
       "    <tr>\n",
       "      <th>0</th>\n",
       "      <td>[Air conditioning, Armrest, Automatic climate ...</td>\n",
       "      <td>[Alloy wheels, Catalytic Converter, Voice Cont...</td>\n",
       "      <td>front</td>\n",
       "      <td>Euro 6</td>\n",
       "      <td>NaN</td>\n",
       "      <td>2016</td>\n",
       "      <td>Diesel (Particulate Filter)</td>\n",
       "      <td>[\\n5\\n]</td>\n",
       "      <td>[\\n5\\n]</td>\n",
       "      <td>NaN</td>\n",
       "      <td>\\n2\\n</td>\n",
       "      <td>[, Used, , Diesel (Particulate Filter)]</td>\n",
       "      <td>[\\nCloth, Black\\n]</td>\n",
       "      <td>[\\n, \\n, \\n4 (Green)\\n]</td>\n",
       "      <td>[\\n1,220 kg\\n]</td>\n",
       "      <td>2 previous owners</td>\n",
       "      <td>https://www.autoscout24.com//offers/audi-a1-sp...</td>\n",
       "    </tr>\n",
       "    <tr>\n",
       "      <th>1</th>\n",
       "      <td>[Air conditioning, Automatic climate control, ...</td>\n",
       "      <td>[Alloy wheels, Sport seats, Sport suspension, ...</td>\n",
       "      <td>front</td>\n",
       "      <td>Euro 6</td>\n",
       "      <td>Green</td>\n",
       "      <td>2017</td>\n",
       "      <td>Gasoline</td>\n",
       "      <td>[\\n3\\n]</td>\n",
       "      <td>[\\n4\\n]</td>\n",
       "      <td>NaN</td>\n",
       "      <td>NaN</td>\n",
       "      <td>[, Used, , Gasoline]</td>\n",
       "      <td>[\\nCloth, Grey\\n]</td>\n",
       "      <td>NaN</td>\n",
       "      <td>[\\n1,255 kg\\n]</td>\n",
       "      <td>None</td>\n",
       "      <td>https://www.autoscout24.com//offers/audi-a1-1-...</td>\n",
       "    </tr>\n",
       "    <tr>\n",
       "      <th>2</th>\n",
       "      <td>[Air conditioning, Cruise control, Electrical ...</td>\n",
       "      <td>[Alloy wheels, Voice Control]</td>\n",
       "      <td>front</td>\n",
       "      <td>Euro 6</td>\n",
       "      <td>Green</td>\n",
       "      <td>2016</td>\n",
       "      <td>Diesel (Particulate Filter)</td>\n",
       "      <td>[\\n4\\n]</td>\n",
       "      <td>[\\n4\\n]</td>\n",
       "      <td>NaN</td>\n",
       "      <td>\\n1\\n</td>\n",
       "      <td>[, Used, , Diesel (Particulate Filter)]</td>\n",
       "      <td>[\\nCloth, Black\\n]</td>\n",
       "      <td>[\\n, \\n, \\n99 g CO2/km (comb)\\n]</td>\n",
       "      <td>NaN</td>\n",
       "      <td>1 previous owner</td>\n",
       "      <td>https://www.autoscout24.com//offers/audi-a1-sp...</td>\n",
       "    </tr>\n",
       "  </tbody>\n",
       "</table>\n",
       "</div>"
      ],
      "text/plain": [
       "                                 comfort_convenience  \\\n",
       "0  [Air conditioning, Armrest, Automatic climate ...   \n",
       "1  [Air conditioning, Automatic climate control, ...   \n",
       "2  [Air conditioning, Cruise control, Electrical ...   \n",
       "\n",
       "                                              extras drive_chain  \\\n",
       "0  [Alloy wheels, Catalytic Converter, Voice Cont...       front   \n",
       "1  [Alloy wheels, Sport seats, Sport suspension, ...       front   \n",
       "2                      [Alloy wheels, Voice Control]       front   \n",
       "\n",
       "  emission_class emission_label first_registration  \\\n",
       "0         Euro 6            NaN               2016   \n",
       "1         Euro 6          Green               2017   \n",
       "2         Euro 6          Green               2016   \n",
       "\n",
       "                          fuel nr_of_doors nr_of_seats other_fuel_types  \\\n",
       "0  Diesel (Particulate Filter)     [\\n5\\n]     [\\n5\\n]              NaN   \n",
       "1                     Gasoline     [\\n3\\n]     [\\n4\\n]              NaN   \n",
       "2  Diesel (Particulate Filter)     [\\n4\\n]     [\\n4\\n]              NaN   \n",
       "\n",
       "  previous_owners                                     type  \\\n",
       "0           \\n2\\n  [, Used, , Diesel (Particulate Filter)]   \n",
       "1             NaN                     [, Used, , Gasoline]   \n",
       "2           \\n1\\n  [, Used, , Diesel (Particulate Filter)]   \n",
       "\n",
       "           upholstery                          warranty          weight  \\\n",
       "0  [\\nCloth, Black\\n]           [\\n, \\n, \\n4 (Green)\\n]  [\\n1,220 kg\\n]   \n",
       "1   [\\nCloth, Grey\\n]                               NaN  [\\n1,255 kg\\n]   \n",
       "2  [\\nCloth, Black\\n]  [\\n, \\n, \\n99 g CO2/km (comb)\\n]             NaN   \n",
       "\n",
       "          prev_owner                                                url  \n",
       "0  2 previous owners  https://www.autoscout24.com//offers/audi-a1-sp...  \n",
       "1               None  https://www.autoscout24.com//offers/audi-a1-1-...  \n",
       "2   1 previous owner  https://www.autoscout24.com//offers/audi-a1-sp...  "
      ]
     },
     "execution_count": 59,
     "metadata": {},
     "output_type": "execute_result"
    }
   ],
   "source": [
    "df2.head(3)"
   ]
  },
  {
   "cell_type": "markdown",
   "metadata": {},
   "source": [
    "**nr_of_doors**"
   ]
  },
  {
   "cell_type": "code",
   "execution_count": 60,
   "metadata": {},
   "outputs": [
    {
     "data": {
      "text/plain": [
       "[\\n5\\n]    11575\n",
       "[\\n4\\n]     3079\n",
       "[\\n3\\n]      832\n",
       "[\\n2\\n]      219\n",
       "[\\n7\\n]        1\n",
       "[\\n1\\n]        1\n",
       "Name: nr_of_doors, dtype: int64"
      ]
     },
     "execution_count": 60,
     "metadata": {},
     "output_type": "execute_result"
    }
   ],
   "source": [
    "df2.nr_of_doors.value_counts()"
   ]
  },
  {
   "cell_type": "code",
   "execution_count": 62,
   "metadata": {},
   "outputs": [
    {
     "data": {
      "text/plain": [
       "'\\n5\\n'"
      ]
     },
     "execution_count": 62,
     "metadata": {},
     "output_type": "execute_result"
    }
   ],
   "source": [
    "df2.nr_of_doors.str[0][0]"
   ]
  },
  {
   "cell_type": "code",
   "execution_count": 137,
   "metadata": {},
   "outputs": [],
   "source": [
    "df2[\"nr_of_doors\"]=df2.nr_of_doors.str[0].str.strip(\"\\n\")"
   ]
  },
  {
   "cell_type": "code",
   "execution_count": 64,
   "metadata": {},
   "outputs": [
    {
     "data": {
      "text/plain": [
       "5    11575\n",
       "4     3079\n",
       "3      832\n",
       "2      219\n",
       "1        1\n",
       "7        1\n",
       "Name: nr_of_doors, dtype: int64"
      ]
     },
     "execution_count": 64,
     "metadata": {},
     "output_type": "execute_result"
    }
   ],
   "source": [
    "df2.nr_of_doors.value_counts()"
   ]
  },
  {
   "cell_type": "code",
   "execution_count": 65,
   "metadata": {},
   "outputs": [
    {
     "data": {
      "text/html": [
       "<div>\n",
       "<style scoped>\n",
       "    .dataframe tbody tr th:only-of-type {\n",
       "        vertical-align: middle;\n",
       "    }\n",
       "\n",
       "    .dataframe tbody tr th {\n",
       "        vertical-align: top;\n",
       "    }\n",
       "\n",
       "    .dataframe thead th {\n",
       "        text-align: right;\n",
       "    }\n",
       "</style>\n",
       "<table border=\"1\" class=\"dataframe\">\n",
       "  <thead>\n",
       "    <tr style=\"text-align: right;\">\n",
       "      <th></th>\n",
       "      <th>comfort_convenience</th>\n",
       "      <th>extras</th>\n",
       "      <th>drive_chain</th>\n",
       "      <th>emission_class</th>\n",
       "      <th>emission_label</th>\n",
       "      <th>first_registration</th>\n",
       "      <th>fuel</th>\n",
       "      <th>nr_of_doors</th>\n",
       "      <th>nr_of_seats</th>\n",
       "      <th>other_fuel_types</th>\n",
       "      <th>previous_owners</th>\n",
       "      <th>type</th>\n",
       "      <th>upholstery</th>\n",
       "      <th>warranty</th>\n",
       "      <th>weight</th>\n",
       "      <th>prev_owner</th>\n",
       "      <th>url</th>\n",
       "    </tr>\n",
       "  </thead>\n",
       "  <tbody>\n",
       "    <tr>\n",
       "      <th>0</th>\n",
       "      <td>[Air conditioning, Armrest, Automatic climate ...</td>\n",
       "      <td>[Alloy wheels, Catalytic Converter, Voice Cont...</td>\n",
       "      <td>front</td>\n",
       "      <td>Euro 6</td>\n",
       "      <td>NaN</td>\n",
       "      <td>2016</td>\n",
       "      <td>Diesel (Particulate Filter)</td>\n",
       "      <td>5</td>\n",
       "      <td>[\\n5\\n]</td>\n",
       "      <td>NaN</td>\n",
       "      <td>\\n2\\n</td>\n",
       "      <td>[, Used, , Diesel (Particulate Filter)]</td>\n",
       "      <td>[\\nCloth, Black\\n]</td>\n",
       "      <td>[\\n, \\n, \\n4 (Green)\\n]</td>\n",
       "      <td>[\\n1,220 kg\\n]</td>\n",
       "      <td>2 previous owners</td>\n",
       "      <td>https://www.autoscout24.com//offers/audi-a1-sp...</td>\n",
       "    </tr>\n",
       "    <tr>\n",
       "      <th>1</th>\n",
       "      <td>[Air conditioning, Automatic climate control, ...</td>\n",
       "      <td>[Alloy wheels, Sport seats, Sport suspension, ...</td>\n",
       "      <td>front</td>\n",
       "      <td>Euro 6</td>\n",
       "      <td>Green</td>\n",
       "      <td>2017</td>\n",
       "      <td>Gasoline</td>\n",
       "      <td>3</td>\n",
       "      <td>[\\n4\\n]</td>\n",
       "      <td>NaN</td>\n",
       "      <td>NaN</td>\n",
       "      <td>[, Used, , Gasoline]</td>\n",
       "      <td>[\\nCloth, Grey\\n]</td>\n",
       "      <td>NaN</td>\n",
       "      <td>[\\n1,255 kg\\n]</td>\n",
       "      <td>None</td>\n",
       "      <td>https://www.autoscout24.com//offers/audi-a1-1-...</td>\n",
       "    </tr>\n",
       "  </tbody>\n",
       "</table>\n",
       "</div>"
      ],
      "text/plain": [
       "                                 comfort_convenience  \\\n",
       "0  [Air conditioning, Armrest, Automatic climate ...   \n",
       "1  [Air conditioning, Automatic climate control, ...   \n",
       "\n",
       "                                              extras drive_chain  \\\n",
       "0  [Alloy wheels, Catalytic Converter, Voice Cont...       front   \n",
       "1  [Alloy wheels, Sport seats, Sport suspension, ...       front   \n",
       "\n",
       "  emission_class emission_label first_registration  \\\n",
       "0         Euro 6            NaN               2016   \n",
       "1         Euro 6          Green               2017   \n",
       "\n",
       "                          fuel nr_of_doors nr_of_seats other_fuel_types  \\\n",
       "0  Diesel (Particulate Filter)           5     [\\n5\\n]              NaN   \n",
       "1                     Gasoline           3     [\\n4\\n]              NaN   \n",
       "\n",
       "  previous_owners                                     type  \\\n",
       "0           \\n2\\n  [, Used, , Diesel (Particulate Filter)]   \n",
       "1             NaN                     [, Used, , Gasoline]   \n",
       "\n",
       "           upholstery                 warranty          weight  \\\n",
       "0  [\\nCloth, Black\\n]  [\\n, \\n, \\n4 (Green)\\n]  [\\n1,220 kg\\n]   \n",
       "1   [\\nCloth, Grey\\n]                      NaN  [\\n1,255 kg\\n]   \n",
       "\n",
       "          prev_owner                                                url  \n",
       "0  2 previous owners  https://www.autoscout24.com//offers/audi-a1-sp...  \n",
       "1               None  https://www.autoscout24.com//offers/audi-a1-1-...  "
      ]
     },
     "execution_count": 65,
     "metadata": {},
     "output_type": "execute_result"
    }
   ],
   "source": [
    "df2.head(2)"
   ]
  },
  {
   "cell_type": "markdown",
   "metadata": {},
   "source": [
    "**nr_of_seats**"
   ]
  },
  {
   "cell_type": "code",
   "execution_count": 66,
   "metadata": {},
   "outputs": [
    {
     "data": {
      "text/plain": [
       "[\\n5\\n]    13336\n",
       "[\\n4\\n]     1125\n",
       "[\\n7\\n]      362\n",
       "[\\n2\\n]      116\n",
       "[\\n6\\n]        2\n",
       "[\\n3\\n]        1\n",
       "Name: nr_of_seats, dtype: int64"
      ]
     },
     "execution_count": 66,
     "metadata": {},
     "output_type": "execute_result"
    }
   ],
   "source": [
    "df2.nr_of_seats.value_counts()"
   ]
  },
  {
   "cell_type": "code",
   "execution_count": 67,
   "metadata": {},
   "outputs": [
    {
     "data": {
      "text/plain": [
       "'\\n5\\n'"
      ]
     },
     "execution_count": 67,
     "metadata": {},
     "output_type": "execute_result"
    }
   ],
   "source": [
    "df2.nr_of_seats.str[0][0]"
   ]
  },
  {
   "cell_type": "code",
   "execution_count": 138,
   "metadata": {},
   "outputs": [],
   "source": [
    "df2[\"nr_of_seats\"]=df2.nr_of_seats.str[0].str.strip(\"\\n\")"
   ]
  },
  {
   "cell_type": "code",
   "execution_count": 70,
   "metadata": {},
   "outputs": [
    {
     "data": {
      "text/plain": [
       "5    13336\n",
       "4     1125\n",
       "7      362\n",
       "2      116\n",
       "6        2\n",
       "3        1\n",
       "Name: nr_of_seats, dtype: int64"
      ]
     },
     "execution_count": 70,
     "metadata": {},
     "output_type": "execute_result"
    }
   ],
   "source": [
    "df2.nr_of_seats.value_counts()"
   ]
  },
  {
   "cell_type": "code",
   "execution_count": 71,
   "metadata": {},
   "outputs": [
    {
     "data": {
      "text/html": [
       "<div>\n",
       "<style scoped>\n",
       "    .dataframe tbody tr th:only-of-type {\n",
       "        vertical-align: middle;\n",
       "    }\n",
       "\n",
       "    .dataframe tbody tr th {\n",
       "        vertical-align: top;\n",
       "    }\n",
       "\n",
       "    .dataframe thead th {\n",
       "        text-align: right;\n",
       "    }\n",
       "</style>\n",
       "<table border=\"1\" class=\"dataframe\">\n",
       "  <thead>\n",
       "    <tr style=\"text-align: right;\">\n",
       "      <th></th>\n",
       "      <th>comfort_convenience</th>\n",
       "      <th>extras</th>\n",
       "      <th>drive_chain</th>\n",
       "      <th>emission_class</th>\n",
       "      <th>emission_label</th>\n",
       "      <th>first_registration</th>\n",
       "      <th>fuel</th>\n",
       "      <th>nr_of_doors</th>\n",
       "      <th>nr_of_seats</th>\n",
       "      <th>other_fuel_types</th>\n",
       "      <th>previous_owners</th>\n",
       "      <th>type</th>\n",
       "      <th>upholstery</th>\n",
       "      <th>warranty</th>\n",
       "      <th>weight</th>\n",
       "      <th>prev_owner</th>\n",
       "      <th>url</th>\n",
       "    </tr>\n",
       "  </thead>\n",
       "  <tbody>\n",
       "    <tr>\n",
       "      <th>0</th>\n",
       "      <td>[Air conditioning, Armrest, Automatic climate ...</td>\n",
       "      <td>[Alloy wheels, Catalytic Converter, Voice Cont...</td>\n",
       "      <td>front</td>\n",
       "      <td>Euro 6</td>\n",
       "      <td>NaN</td>\n",
       "      <td>2016</td>\n",
       "      <td>Diesel (Particulate Filter)</td>\n",
       "      <td>5</td>\n",
       "      <td>5</td>\n",
       "      <td>NaN</td>\n",
       "      <td>\\n2\\n</td>\n",
       "      <td>[, Used, , Diesel (Particulate Filter)]</td>\n",
       "      <td>[\\nCloth, Black\\n]</td>\n",
       "      <td>[\\n, \\n, \\n4 (Green)\\n]</td>\n",
       "      <td>[\\n1,220 kg\\n]</td>\n",
       "      <td>2 previous owners</td>\n",
       "      <td>https://www.autoscout24.com//offers/audi-a1-sp...</td>\n",
       "    </tr>\n",
       "    <tr>\n",
       "      <th>1</th>\n",
       "      <td>[Air conditioning, Automatic climate control, ...</td>\n",
       "      <td>[Alloy wheels, Sport seats, Sport suspension, ...</td>\n",
       "      <td>front</td>\n",
       "      <td>Euro 6</td>\n",
       "      <td>Green</td>\n",
       "      <td>2017</td>\n",
       "      <td>Gasoline</td>\n",
       "      <td>3</td>\n",
       "      <td>4</td>\n",
       "      <td>NaN</td>\n",
       "      <td>NaN</td>\n",
       "      <td>[, Used, , Gasoline]</td>\n",
       "      <td>[\\nCloth, Grey\\n]</td>\n",
       "      <td>NaN</td>\n",
       "      <td>[\\n1,255 kg\\n]</td>\n",
       "      <td>None</td>\n",
       "      <td>https://www.autoscout24.com//offers/audi-a1-1-...</td>\n",
       "    </tr>\n",
       "  </tbody>\n",
       "</table>\n",
       "</div>"
      ],
      "text/plain": [
       "                                 comfort_convenience  \\\n",
       "0  [Air conditioning, Armrest, Automatic climate ...   \n",
       "1  [Air conditioning, Automatic climate control, ...   \n",
       "\n",
       "                                              extras drive_chain  \\\n",
       "0  [Alloy wheels, Catalytic Converter, Voice Cont...       front   \n",
       "1  [Alloy wheels, Sport seats, Sport suspension, ...       front   \n",
       "\n",
       "  emission_class emission_label first_registration  \\\n",
       "0         Euro 6            NaN               2016   \n",
       "1         Euro 6          Green               2017   \n",
       "\n",
       "                          fuel nr_of_doors nr_of_seats other_fuel_types  \\\n",
       "0  Diesel (Particulate Filter)           5           5              NaN   \n",
       "1                     Gasoline           3           4              NaN   \n",
       "\n",
       "  previous_owners                                     type  \\\n",
       "0           \\n2\\n  [, Used, , Diesel (Particulate Filter)]   \n",
       "1             NaN                     [, Used, , Gasoline]   \n",
       "\n",
       "           upholstery                 warranty          weight  \\\n",
       "0  [\\nCloth, Black\\n]  [\\n, \\n, \\n4 (Green)\\n]  [\\n1,220 kg\\n]   \n",
       "1   [\\nCloth, Grey\\n]                      NaN  [\\n1,255 kg\\n]   \n",
       "\n",
       "          prev_owner                                                url  \n",
       "0  2 previous owners  https://www.autoscout24.com//offers/audi-a1-sp...  \n",
       "1               None  https://www.autoscout24.com//offers/audi-a1-1-...  "
      ]
     },
     "execution_count": 71,
     "metadata": {},
     "output_type": "execute_result"
    }
   ],
   "source": [
    "df2.head(2)"
   ]
  },
  {
   "cell_type": "markdown",
   "metadata": {},
   "source": [
    "**other_fuel_types**"
   ]
  },
  {
   "cell_type": "code",
   "execution_count": 72,
   "metadata": {},
   "outputs": [
    {
     "data": {
      "text/plain": [
       "[[], [], []]    880\n",
       "Name: other_fuel_types, dtype: int64"
      ]
     },
     "execution_count": 72,
     "metadata": {},
     "output_type": "execute_result"
    }
   ],
   "source": [
    "df2.other_fuel_types.value_counts()"
   ]
  },
  {
   "cell_type": "code",
   "execution_count": 139,
   "metadata": {},
   "outputs": [],
   "source": [
    "df2.drop(\"other_fuel_types\", axis=1, inplace=True)"
   ]
  },
  {
   "cell_type": "code",
   "execution_count": 74,
   "metadata": {},
   "outputs": [
    {
     "data": {
      "text/html": [
       "<div>\n",
       "<style scoped>\n",
       "    .dataframe tbody tr th:only-of-type {\n",
       "        vertical-align: middle;\n",
       "    }\n",
       "\n",
       "    .dataframe tbody tr th {\n",
       "        vertical-align: top;\n",
       "    }\n",
       "\n",
       "    .dataframe thead th {\n",
       "        text-align: right;\n",
       "    }\n",
       "</style>\n",
       "<table border=\"1\" class=\"dataframe\">\n",
       "  <thead>\n",
       "    <tr style=\"text-align: right;\">\n",
       "      <th></th>\n",
       "      <th>comfort_convenience</th>\n",
       "      <th>extras</th>\n",
       "      <th>drive_chain</th>\n",
       "      <th>emission_class</th>\n",
       "      <th>emission_label</th>\n",
       "      <th>first_registration</th>\n",
       "      <th>fuel</th>\n",
       "      <th>nr_of_doors</th>\n",
       "      <th>nr_of_seats</th>\n",
       "      <th>previous_owners</th>\n",
       "      <th>type</th>\n",
       "      <th>upholstery</th>\n",
       "      <th>warranty</th>\n",
       "      <th>weight</th>\n",
       "      <th>prev_owner</th>\n",
       "      <th>url</th>\n",
       "    </tr>\n",
       "  </thead>\n",
       "  <tbody>\n",
       "    <tr>\n",
       "      <th>0</th>\n",
       "      <td>[Air conditioning, Armrest, Automatic climate ...</td>\n",
       "      <td>[Alloy wheels, Catalytic Converter, Voice Cont...</td>\n",
       "      <td>front</td>\n",
       "      <td>Euro 6</td>\n",
       "      <td>NaN</td>\n",
       "      <td>2016</td>\n",
       "      <td>Diesel (Particulate Filter)</td>\n",
       "      <td>5</td>\n",
       "      <td>5</td>\n",
       "      <td>\\n2\\n</td>\n",
       "      <td>[, Used, , Diesel (Particulate Filter)]</td>\n",
       "      <td>[\\nCloth, Black\\n]</td>\n",
       "      <td>[\\n, \\n, \\n4 (Green)\\n]</td>\n",
       "      <td>[\\n1,220 kg\\n]</td>\n",
       "      <td>2 previous owners</td>\n",
       "      <td>https://www.autoscout24.com//offers/audi-a1-sp...</td>\n",
       "    </tr>\n",
       "    <tr>\n",
       "      <th>1</th>\n",
       "      <td>[Air conditioning, Automatic climate control, ...</td>\n",
       "      <td>[Alloy wheels, Sport seats, Sport suspension, ...</td>\n",
       "      <td>front</td>\n",
       "      <td>Euro 6</td>\n",
       "      <td>Green</td>\n",
       "      <td>2017</td>\n",
       "      <td>Gasoline</td>\n",
       "      <td>3</td>\n",
       "      <td>4</td>\n",
       "      <td>NaN</td>\n",
       "      <td>[, Used, , Gasoline]</td>\n",
       "      <td>[\\nCloth, Grey\\n]</td>\n",
       "      <td>NaN</td>\n",
       "      <td>[\\n1,255 kg\\n]</td>\n",
       "      <td>None</td>\n",
       "      <td>https://www.autoscout24.com//offers/audi-a1-1-...</td>\n",
       "    </tr>\n",
       "  </tbody>\n",
       "</table>\n",
       "</div>"
      ],
      "text/plain": [
       "                                 comfort_convenience  \\\n",
       "0  [Air conditioning, Armrest, Automatic climate ...   \n",
       "1  [Air conditioning, Automatic climate control, ...   \n",
       "\n",
       "                                              extras drive_chain  \\\n",
       "0  [Alloy wheels, Catalytic Converter, Voice Cont...       front   \n",
       "1  [Alloy wheels, Sport seats, Sport suspension, ...       front   \n",
       "\n",
       "  emission_class emission_label first_registration  \\\n",
       "0         Euro 6            NaN               2016   \n",
       "1         Euro 6          Green               2017   \n",
       "\n",
       "                          fuel nr_of_doors nr_of_seats previous_owners  \\\n",
       "0  Diesel (Particulate Filter)           5           5           \\n2\\n   \n",
       "1                     Gasoline           3           4             NaN   \n",
       "\n",
       "                                      type          upholstery  \\\n",
       "0  [, Used, , Diesel (Particulate Filter)]  [\\nCloth, Black\\n]   \n",
       "1                     [, Used, , Gasoline]   [\\nCloth, Grey\\n]   \n",
       "\n",
       "                  warranty          weight         prev_owner  \\\n",
       "0  [\\n, \\n, \\n4 (Green)\\n]  [\\n1,220 kg\\n]  2 previous owners   \n",
       "1                      NaN  [\\n1,255 kg\\n]               None   \n",
       "\n",
       "                                                 url  \n",
       "0  https://www.autoscout24.com//offers/audi-a1-sp...  \n",
       "1  https://www.autoscout24.com//offers/audi-a1-1-...  "
      ]
     },
     "execution_count": 74,
     "metadata": {},
     "output_type": "execute_result"
    }
   ],
   "source": [
    "df2.head(2)"
   ]
  },
  {
   "cell_type": "markdown",
   "metadata": {},
   "source": [
    "**previous_owners**"
   ]
  },
  {
   "cell_type": "code",
   "execution_count": 76,
   "metadata": {},
   "outputs": [
    {
     "data": {
      "text/plain": [
       "\\n1\\n                                                                                        8101\n",
       "\\n2\\n                                                                                         766\n",
       "\\n0\\n                                                                                         163\n",
       "\\n3\\n                                                                                          17\n",
       "[\\n1\\n, \\n168 g CO2/km (comb)\\n]                                                               13\n",
       "[\\n1\\n, \\n110 g CO2/km (comb)\\n]                                                               12\n",
       "[\\n1\\n, \\n139 g CO2/km (comb)\\n]                                                               12\n",
       "[\\n1\\n, \\n135 g CO2/km (comb)\\n]                                                                9\n",
       "[\\n1\\n, \\n120 g CO2/km (comb)\\n]                                                                8\n",
       "[\\n1\\n, \\n, 6.3 l/100 km (comb), \\n, 7.8 l/100 km (city), \\n, 5.4 l/100 km (country), \\n]       7\n",
       "Name: previous_owners, dtype: int64"
      ]
     },
     "execution_count": 76,
     "metadata": {},
     "output_type": "execute_result"
    }
   ],
   "source": [
    "df2.previous_owners.value_counts()[:10]"
   ]
  },
  {
   "cell_type": "code",
   "execution_count": 81,
   "metadata": {},
   "outputs": [
    {
     "data": {
      "text/plain": [
       "'2'"
      ]
     },
     "execution_count": 81,
     "metadata": {},
     "output_type": "execute_result"
    }
   ],
   "source": [
    "df2.previous_owners.str[1][0]"
   ]
  },
  {
   "cell_type": "code",
   "execution_count": 140,
   "metadata": {},
   "outputs": [],
   "source": [
    "df2[\"previous_owners\"]=df2.previous_owners.str[1]"
   ]
  },
  {
   "cell_type": "code",
   "execution_count": 85,
   "metadata": {},
   "outputs": [
    {
     "data": {
      "text/plain": [
       "1                          8101\n",
       "2                           766\n",
       "0                           163\n",
       "\\n                           55\n",
       "3                            17\n",
       "\\n139 g CO2/km (comb)\\n      16\n",
       "\\n168 g CO2/km (comb)\\n      13\n",
       "\\n110 g CO2/km (comb)\\n      12\n",
       "\\n120 g CO2/km (comb)\\n      10\n",
       "\\n135 g CO2/km (comb)\\n       9\n",
       "Name: previous_owners, dtype: int64"
      ]
     },
     "execution_count": 85,
     "metadata": {},
     "output_type": "execute_result"
    }
   ],
   "source": [
    "df2.previous_owners.value_counts()[:10]"
   ]
  },
  {
   "cell_type": "code",
   "execution_count": 141,
   "metadata": {},
   "outputs": [],
   "source": [
    "df2.loc[df2['previous_owners'].notnull(), 'previous_owners'] = df2.loc[df2['previous_owners'].notnull(), 'previous_owners'].apply(lambda y: np.nan if len(y)>1 else y)"
   ]
  },
  {
   "cell_type": "code",
   "execution_count": 87,
   "metadata": {},
   "outputs": [
    {
     "data": {
      "text/plain": [
       "1     8101\n",
       "2      766\n",
       "0      163\n",
       "\\n      55\n",
       "3       17\n",
       "4        2\n",
       "Name: previous_owners, dtype: int64"
      ]
     },
     "execution_count": 87,
     "metadata": {},
     "output_type": "execute_result"
    }
   ],
   "source": [
    "df2.previous_owners.value_counts()[:10]"
   ]
  },
  {
   "cell_type": "code",
   "execution_count": 142,
   "metadata": {},
   "outputs": [],
   "source": [
    "df2[\"previous_owners\"]=df2.previous_owners.replace(\"\\n\", np.nan)"
   ]
  },
  {
   "cell_type": "code",
   "execution_count": 89,
   "metadata": {},
   "outputs": [
    {
     "data": {
      "text/plain": [
       "1    8101\n",
       "2     766\n",
       "0     163\n",
       "3      17\n",
       "4       2\n",
       "Name: previous_owners, dtype: int64"
      ]
     },
     "execution_count": 89,
     "metadata": {},
     "output_type": "execute_result"
    }
   ],
   "source": [
    "df2.previous_owners.value_counts()[:10]"
   ]
  },
  {
   "cell_type": "code",
   "execution_count": 90,
   "metadata": {},
   "outputs": [
    {
     "data": {
      "text/html": [
       "<div>\n",
       "<style scoped>\n",
       "    .dataframe tbody tr th:only-of-type {\n",
       "        vertical-align: middle;\n",
       "    }\n",
       "\n",
       "    .dataframe tbody tr th {\n",
       "        vertical-align: top;\n",
       "    }\n",
       "\n",
       "    .dataframe thead th {\n",
       "        text-align: right;\n",
       "    }\n",
       "</style>\n",
       "<table border=\"1\" class=\"dataframe\">\n",
       "  <thead>\n",
       "    <tr style=\"text-align: right;\">\n",
       "      <th></th>\n",
       "      <th>comfort_convenience</th>\n",
       "      <th>extras</th>\n",
       "      <th>drive_chain</th>\n",
       "      <th>emission_class</th>\n",
       "      <th>emission_label</th>\n",
       "      <th>first_registration</th>\n",
       "      <th>fuel</th>\n",
       "      <th>nr_of_doors</th>\n",
       "      <th>nr_of_seats</th>\n",
       "      <th>previous_owners</th>\n",
       "      <th>type</th>\n",
       "      <th>upholstery</th>\n",
       "      <th>warranty</th>\n",
       "      <th>weight</th>\n",
       "      <th>prev_owner</th>\n",
       "      <th>url</th>\n",
       "    </tr>\n",
       "  </thead>\n",
       "  <tbody>\n",
       "    <tr>\n",
       "      <th>0</th>\n",
       "      <td>[Air conditioning, Armrest, Automatic climate ...</td>\n",
       "      <td>[Alloy wheels, Catalytic Converter, Voice Cont...</td>\n",
       "      <td>front</td>\n",
       "      <td>Euro 6</td>\n",
       "      <td>NaN</td>\n",
       "      <td>2016</td>\n",
       "      <td>Diesel (Particulate Filter)</td>\n",
       "      <td>5</td>\n",
       "      <td>5</td>\n",
       "      <td>2</td>\n",
       "      <td>[, Used, , Diesel (Particulate Filter)]</td>\n",
       "      <td>[\\nCloth, Black\\n]</td>\n",
       "      <td>[\\n, \\n, \\n4 (Green)\\n]</td>\n",
       "      <td>[\\n1,220 kg\\n]</td>\n",
       "      <td>2 previous owners</td>\n",
       "      <td>https://www.autoscout24.com//offers/audi-a1-sp...</td>\n",
       "    </tr>\n",
       "    <tr>\n",
       "      <th>1</th>\n",
       "      <td>[Air conditioning, Automatic climate control, ...</td>\n",
       "      <td>[Alloy wheels, Sport seats, Sport suspension, ...</td>\n",
       "      <td>front</td>\n",
       "      <td>Euro 6</td>\n",
       "      <td>Green</td>\n",
       "      <td>2017</td>\n",
       "      <td>Gasoline</td>\n",
       "      <td>3</td>\n",
       "      <td>4</td>\n",
       "      <td>NaN</td>\n",
       "      <td>[, Used, , Gasoline]</td>\n",
       "      <td>[\\nCloth, Grey\\n]</td>\n",
       "      <td>NaN</td>\n",
       "      <td>[\\n1,255 kg\\n]</td>\n",
       "      <td>None</td>\n",
       "      <td>https://www.autoscout24.com//offers/audi-a1-1-...</td>\n",
       "    </tr>\n",
       "  </tbody>\n",
       "</table>\n",
       "</div>"
      ],
      "text/plain": [
       "                                 comfort_convenience  \\\n",
       "0  [Air conditioning, Armrest, Automatic climate ...   \n",
       "1  [Air conditioning, Automatic climate control, ...   \n",
       "\n",
       "                                              extras drive_chain  \\\n",
       "0  [Alloy wheels, Catalytic Converter, Voice Cont...       front   \n",
       "1  [Alloy wheels, Sport seats, Sport suspension, ...       front   \n",
       "\n",
       "  emission_class emission_label first_registration  \\\n",
       "0         Euro 6            NaN               2016   \n",
       "1         Euro 6          Green               2017   \n",
       "\n",
       "                          fuel nr_of_doors nr_of_seats previous_owners  \\\n",
       "0  Diesel (Particulate Filter)           5           5               2   \n",
       "1                     Gasoline           3           4             NaN   \n",
       "\n",
       "                                      type          upholstery  \\\n",
       "0  [, Used, , Diesel (Particulate Filter)]  [\\nCloth, Black\\n]   \n",
       "1                     [, Used, , Gasoline]   [\\nCloth, Grey\\n]   \n",
       "\n",
       "                  warranty          weight         prev_owner  \\\n",
       "0  [\\n, \\n, \\n4 (Green)\\n]  [\\n1,220 kg\\n]  2 previous owners   \n",
       "1                      NaN  [\\n1,255 kg\\n]               None   \n",
       "\n",
       "                                                 url  \n",
       "0  https://www.autoscout24.com//offers/audi-a1-sp...  \n",
       "1  https://www.autoscout24.com//offers/audi-a1-1-...  "
      ]
     },
     "execution_count": 90,
     "metadata": {},
     "output_type": "execute_result"
    }
   ],
   "source": [
    "df2.head(2)"
   ]
  },
  {
   "cell_type": "markdown",
   "metadata": {},
   "source": [
    "**type**"
   ]
  },
  {
   "cell_type": "code",
   "execution_count": 93,
   "metadata": {},
   "outputs": [
    {
     "data": {
      "text/plain": [
       "[, Used, , Diesel (Particulate Filter)]              3475\n",
       "[, Used, , Diesel]                                   2516\n",
       "[, Used, , Gasoline]                                 2367\n",
       "[, Used, , Super 95]                                 1818\n",
       "[, Pre-registered, , Super 95]                        500\n",
       "[, New, , Super 95]                                   497\n",
       "[, Employee's car, , Diesel (Particulate Filter)]     343\n",
       "[, New, , Gasoline]                                   340\n",
       "[, Used, , Super 95 / Regular/Benzine 91]             324\n",
       "[, Employee's car, , Super 95]                        264\n",
       "Name: type, dtype: int64"
      ]
     },
     "execution_count": 93,
     "metadata": {},
     "output_type": "execute_result"
    }
   ],
   "source": [
    "df2.type.value_counts()[:10]"
   ]
  },
  {
   "cell_type": "code",
   "execution_count": 96,
   "metadata": {},
   "outputs": [
    {
     "data": {
      "text/plain": [
       "7914                New\n",
       "14157    Pre-registered\n",
       "15457              Used\n",
       "14020              Used\n",
       "3990               Used\n",
       "15583               New\n",
       "10495              Used\n",
       "13907              Used\n",
       "5800               Used\n",
       "10726              Used\n",
       "Name: type, dtype: object"
      ]
     },
     "execution_count": 96,
     "metadata": {},
     "output_type": "execute_result"
    }
   ],
   "source": [
    "df2.type.str[1].sample(10)"
   ]
  },
  {
   "cell_type": "code",
   "execution_count": 143,
   "metadata": {},
   "outputs": [],
   "source": [
    "df2[\"type\"]=df2.type.str[1]"
   ]
  },
  {
   "cell_type": "code",
   "execution_count": 99,
   "metadata": {},
   "outputs": [
    {
     "data": {
      "text/plain": [
       "Used              11096\n",
       "New                1650\n",
       "Pre-registered     1364\n",
       "Employee's car     1011\n",
       "Demonstration       796\n",
       "Name: type, dtype: int64"
      ]
     },
     "execution_count": 99,
     "metadata": {},
     "output_type": "execute_result"
    }
   ],
   "source": [
    "df2.type.value_counts()[:10]"
   ]
  },
  {
   "cell_type": "markdown",
   "metadata": {},
   "source": [
    "**upholstery**"
   ]
  },
  {
   "cell_type": "code",
   "execution_count": 106,
   "metadata": {},
   "outputs": [
    {
     "data": {
      "text/plain": [
       "[\\nCloth, Black\\n]           5821\n",
       "[\\nPart leather, Black\\n]    1121\n",
       "[\\nCloth\\n]                  1005\n",
       "[\\nCloth, Grey\\n]             891\n",
       "[\\nCloth, Other\\n]            639\n",
       "[\\nFull leather, Black\\n]     575\n",
       "[\\nBlack\\n]                   491\n",
       "[\\nGrey\\n]                    273\n",
       "[\\nOther, Other\\n]            182\n",
       "[\\nPart leather\\n]            140\n",
       "Name: upholstery, dtype: int64"
      ]
     },
     "execution_count": 106,
     "metadata": {},
     "output_type": "execute_result"
    }
   ],
   "source": [
    "df2.upholstery.value_counts()[:10]"
   ]
  },
  {
   "cell_type": "code",
   "execution_count": 107,
   "metadata": {},
   "outputs": [
    {
     "data": {
      "text/plain": [
       "'\\nCloth, Black\\n'"
      ]
     },
     "execution_count": 107,
     "metadata": {},
     "output_type": "execute_result"
    }
   ],
   "source": [
    "df2.upholstery.str[0][0]"
   ]
  },
  {
   "cell_type": "code",
   "execution_count": 144,
   "metadata": {},
   "outputs": [],
   "source": [
    "df2[\"upholstery\"]=df2.upholstery.str[0].str.strip(\"\\n\")"
   ]
  },
  {
   "cell_type": "code",
   "execution_count": 109,
   "metadata": {},
   "outputs": [
    {
     "data": {
      "text/plain": [
       "Cloth, Black           5821\n",
       "Part leather, Black    1121\n",
       "Cloth                  1005\n",
       "Cloth, Grey             891\n",
       "Cloth, Other            639\n",
       "Full leather, Black     575\n",
       "Black                   491\n",
       "Grey                    273\n",
       "Other, Other            182\n",
       "Part leather            140\n",
       "Name: upholstery, dtype: int64"
      ]
     },
     "execution_count": 109,
     "metadata": {},
     "output_type": "execute_result"
    }
   ],
   "source": [
    "df2.upholstery.value_counts()[:10]"
   ]
  },
  {
   "cell_type": "code",
   "execution_count": 110,
   "metadata": {},
   "outputs": [
    {
     "data": {
      "text/plain": [
       "135         alcantara, Black\n",
       "4475                     NaN\n",
       "9566            Cloth, Black\n",
       "7420            Cloth, Black\n",
       "7145            Cloth, Black\n",
       "12595    Part leather, Black\n",
       "1986                     NaN\n",
       "11939           Cloth, Black\n",
       "4003            Cloth, Black\n",
       "3806                     NaN\n",
       "Name: upholstery, dtype: object"
      ]
     },
     "execution_count": 110,
     "metadata": {},
     "output_type": "execute_result"
    }
   ],
   "source": [
    "df2.upholstery.sample(10)"
   ]
  },
  {
   "cell_type": "code",
   "execution_count": 111,
   "metadata": {},
   "outputs": [
    {
     "data": {
      "text/html": [
       "<div>\n",
       "<style scoped>\n",
       "    .dataframe tbody tr th:only-of-type {\n",
       "        vertical-align: middle;\n",
       "    }\n",
       "\n",
       "    .dataframe tbody tr th {\n",
       "        vertical-align: top;\n",
       "    }\n",
       "\n",
       "    .dataframe thead th {\n",
       "        text-align: right;\n",
       "    }\n",
       "</style>\n",
       "<table border=\"1\" class=\"dataframe\">\n",
       "  <thead>\n",
       "    <tr style=\"text-align: right;\">\n",
       "      <th></th>\n",
       "      <th>comfort_convenience</th>\n",
       "      <th>extras</th>\n",
       "      <th>drive_chain</th>\n",
       "      <th>emission_class</th>\n",
       "      <th>emission_label</th>\n",
       "      <th>first_registration</th>\n",
       "      <th>fuel</th>\n",
       "      <th>nr_of_doors</th>\n",
       "      <th>nr_of_seats</th>\n",
       "      <th>previous_owners</th>\n",
       "      <th>type</th>\n",
       "      <th>upholstery</th>\n",
       "      <th>warranty</th>\n",
       "      <th>weight</th>\n",
       "      <th>prev_owner</th>\n",
       "      <th>url</th>\n",
       "      <th>df2.upholstery</th>\n",
       "    </tr>\n",
       "  </thead>\n",
       "  <tbody>\n",
       "    <tr>\n",
       "      <th>0</th>\n",
       "      <td>[Air conditioning, Armrest, Automatic climate ...</td>\n",
       "      <td>[Alloy wheels, Catalytic Converter, Voice Cont...</td>\n",
       "      <td>front</td>\n",
       "      <td>Euro 6</td>\n",
       "      <td>NaN</td>\n",
       "      <td>2016</td>\n",
       "      <td>Diesel (Particulate Filter)</td>\n",
       "      <td>5</td>\n",
       "      <td>5</td>\n",
       "      <td>2</td>\n",
       "      <td>Used</td>\n",
       "      <td>Cloth, Black</td>\n",
       "      <td>[\\n, \\n, \\n4 (Green)\\n]</td>\n",
       "      <td>[\\n1,220 kg\\n]</td>\n",
       "      <td>2 previous owners</td>\n",
       "      <td>https://www.autoscout24.com//offers/audi-a1-sp...</td>\n",
       "      <td>Cloth, Black</td>\n",
       "    </tr>\n",
       "    <tr>\n",
       "      <th>1</th>\n",
       "      <td>[Air conditioning, Automatic climate control, ...</td>\n",
       "      <td>[Alloy wheels, Sport seats, Sport suspension, ...</td>\n",
       "      <td>front</td>\n",
       "      <td>Euro 6</td>\n",
       "      <td>Green</td>\n",
       "      <td>2017</td>\n",
       "      <td>Gasoline</td>\n",
       "      <td>3</td>\n",
       "      <td>4</td>\n",
       "      <td>NaN</td>\n",
       "      <td>Used</td>\n",
       "      <td>Cloth, Grey</td>\n",
       "      <td>NaN</td>\n",
       "      <td>[\\n1,255 kg\\n]</td>\n",
       "      <td>None</td>\n",
       "      <td>https://www.autoscout24.com//offers/audi-a1-1-...</td>\n",
       "      <td>Cloth, Grey</td>\n",
       "    </tr>\n",
       "  </tbody>\n",
       "</table>\n",
       "</div>"
      ],
      "text/plain": [
       "                                 comfort_convenience  \\\n",
       "0  [Air conditioning, Armrest, Automatic climate ...   \n",
       "1  [Air conditioning, Automatic climate control, ...   \n",
       "\n",
       "                                              extras drive_chain  \\\n",
       "0  [Alloy wheels, Catalytic Converter, Voice Cont...       front   \n",
       "1  [Alloy wheels, Sport seats, Sport suspension, ...       front   \n",
       "\n",
       "  emission_class emission_label first_registration  \\\n",
       "0         Euro 6            NaN               2016   \n",
       "1         Euro 6          Green               2017   \n",
       "\n",
       "                          fuel nr_of_doors nr_of_seats previous_owners  type  \\\n",
       "0  Diesel (Particulate Filter)           5           5               2  Used   \n",
       "1                     Gasoline           3           4             NaN  Used   \n",
       "\n",
       "     upholstery                 warranty          weight         prev_owner  \\\n",
       "0  Cloth, Black  [\\n, \\n, \\n4 (Green)\\n]  [\\n1,220 kg\\n]  2 previous owners   \n",
       "1   Cloth, Grey                      NaN  [\\n1,255 kg\\n]               None   \n",
       "\n",
       "                                                 url df2.upholstery  \n",
       "0  https://www.autoscout24.com//offers/audi-a1-sp...   Cloth, Black  \n",
       "1  https://www.autoscout24.com//offers/audi-a1-1-...    Cloth, Grey  "
      ]
     },
     "execution_count": 111,
     "metadata": {},
     "output_type": "execute_result"
    }
   ],
   "source": [
    "df2.head(2)"
   ]
  },
  {
   "cell_type": "markdown",
   "metadata": {},
   "source": [
    "**warranty**"
   ]
  },
  {
   "cell_type": "code",
   "execution_count": 149,
   "metadata": {},
   "outputs": [
    {
     "data": {
      "text/plain": [
       "[\\n, \\n, \\nEuro 6\\n]           1868\n",
       "\\n12 months\\n                  1177\n",
       "\\n                              979\n",
       "\\n24 months\\n                   566\n",
       "[\\n, \\n, \\n4 (Green)\\n]         517\n",
       "[\\n12 months\\n, \\nEuro 6\\n]     425\n",
       "[\\n, \\n]                        364\n",
       "[\\n, \\n, \\nEuro 6d-TEMP\\n]      362\n",
       "[\\n12 months\\n]                 128\n",
       "\\n48 months\\n                   109\n",
       "Name: warranty, dtype: int64"
      ]
     },
     "execution_count": 149,
     "metadata": {},
     "output_type": "execute_result"
    }
   ],
   "source": [
    "df2.warranty.value_counts()[:10]"
   ]
  },
  {
   "cell_type": "code",
   "execution_count": 150,
   "metadata": {},
   "outputs": [
    {
     "data": {
      "text/plain": [
       "5296                \\n\n",
       "3629               NaN\n",
       "227                 \\n\n",
       "3550               NaN\n",
       "5357               NaN\n",
       "11768    \\n12 months\\n\n",
       "9141                \\n\n",
       "9777               NaN\n",
       "6420                \\n\n",
       "10842              NaN\n",
       "9244               NaN\n",
       "10050              NaN\n",
       "6832                \\n\n",
       "12864              NaN\n",
       "8734               NaN\n",
       "8727               NaN\n",
       "4429                \\n\n",
       "101                 \\n\n",
       "11951    \\n60 months\\n\n",
       "5752                \\n\n",
       "Name: warranty, dtype: object"
      ]
     },
     "execution_count": 150,
     "metadata": {},
     "output_type": "execute_result"
    }
   ],
   "source": [
    "df2.warranty.str[0].sample(20)"
   ]
  },
  {
   "cell_type": "code",
   "execution_count": 151,
   "metadata": {},
   "outputs": [],
   "source": [
    "df2[\"warranty\"]=df2.warranty.str[0].str.extract(r'(\\d+\\ \\w{6})')"
   ]
  },
  {
   "cell_type": "code",
   "execution_count": 153,
   "metadata": {},
   "outputs": [
    {
     "data": {
      "text/plain": [
       "12 months    1417\n",
       "24 months     552\n",
       "60 months     382\n",
       "36 months     223\n",
       "6 months       49\n",
       "72 months      44\n",
       "48 months      40\n",
       "3 months       14\n",
       "23 months      10\n",
       "20 months       7\n",
       "Name: warranty, dtype: int64"
      ]
     },
     "execution_count": 153,
     "metadata": {},
     "output_type": "execute_result"
    }
   ],
   "source": [
    "df2.warranty.value_counts()[:10]"
   ]
  },
  {
   "cell_type": "code",
   "execution_count": 154,
   "metadata": {},
   "outputs": [],
   "source": [
    "df2[\"warranty_months\"]=df2.warranty.str.extract(r'(\\d+)')\n",
    "df2.drop(\"warranty\", axis=1, inplace=True)"
   ]
  },
  {
   "cell_type": "code",
   "execution_count": 157,
   "metadata": {},
   "outputs": [
    {
     "data": {
      "text/plain": [
       "12    1417\n",
       "24     552\n",
       "60     382\n",
       "36     223\n",
       "6       49\n",
       "72      44\n",
       "48      40\n",
       "3       14\n",
       "23      10\n",
       "20       7\n",
       "Name: warranty_months, dtype: int64"
      ]
     },
     "execution_count": 157,
     "metadata": {},
     "output_type": "execute_result"
    }
   ],
   "source": [
    "df2.warranty_months.value_counts()[:10]"
   ]
  },
  {
   "cell_type": "code",
   "execution_count": 156,
   "metadata": {},
   "outputs": [
    {
     "data": {
      "text/html": [
       "<div>\n",
       "<style scoped>\n",
       "    .dataframe tbody tr th:only-of-type {\n",
       "        vertical-align: middle;\n",
       "    }\n",
       "\n",
       "    .dataframe tbody tr th {\n",
       "        vertical-align: top;\n",
       "    }\n",
       "\n",
       "    .dataframe thead th {\n",
       "        text-align: right;\n",
       "    }\n",
       "</style>\n",
       "<table border=\"1\" class=\"dataframe\">\n",
       "  <thead>\n",
       "    <tr style=\"text-align: right;\">\n",
       "      <th></th>\n",
       "      <th>comfort_convenience</th>\n",
       "      <th>extras</th>\n",
       "      <th>drive_chain</th>\n",
       "      <th>emission_class</th>\n",
       "      <th>emission_label</th>\n",
       "      <th>first_registration</th>\n",
       "      <th>fuel</th>\n",
       "      <th>nr_of_doors</th>\n",
       "      <th>nr_of_seats</th>\n",
       "      <th>previous_owners</th>\n",
       "      <th>type</th>\n",
       "      <th>upholstery</th>\n",
       "      <th>weight</th>\n",
       "      <th>prev_owner</th>\n",
       "      <th>url</th>\n",
       "      <th>warranty_months</th>\n",
       "    </tr>\n",
       "  </thead>\n",
       "  <tbody>\n",
       "    <tr>\n",
       "      <th>0</th>\n",
       "      <td>[Air conditioning, Armrest, Automatic climate ...</td>\n",
       "      <td>[Alloy wheels, Catalytic Converter, Voice Cont...</td>\n",
       "      <td>front</td>\n",
       "      <td>Euro 6</td>\n",
       "      <td>NaN</td>\n",
       "      <td>2016</td>\n",
       "      <td>Diesel (Particulate Filter)</td>\n",
       "      <td>5</td>\n",
       "      <td>5</td>\n",
       "      <td>2</td>\n",
       "      <td>Used</td>\n",
       "      <td>Cloth, Black</td>\n",
       "      <td>[\\n1,220 kg\\n]</td>\n",
       "      <td>2 previous owners</td>\n",
       "      <td>https://www.autoscout24.com//offers/audi-a1-sp...</td>\n",
       "      <td>NaN</td>\n",
       "    </tr>\n",
       "    <tr>\n",
       "      <th>1</th>\n",
       "      <td>[Air conditioning, Automatic climate control, ...</td>\n",
       "      <td>[Alloy wheels, Sport seats, Sport suspension, ...</td>\n",
       "      <td>front</td>\n",
       "      <td>Euro 6</td>\n",
       "      <td>Green</td>\n",
       "      <td>2017</td>\n",
       "      <td>Gasoline</td>\n",
       "      <td>3</td>\n",
       "      <td>4</td>\n",
       "      <td>NaN</td>\n",
       "      <td>Used</td>\n",
       "      <td>Cloth, Grey</td>\n",
       "      <td>[\\n1,255 kg\\n]</td>\n",
       "      <td>None</td>\n",
       "      <td>https://www.autoscout24.com//offers/audi-a1-1-...</td>\n",
       "      <td>NaN</td>\n",
       "    </tr>\n",
       "  </tbody>\n",
       "</table>\n",
       "</div>"
      ],
      "text/plain": [
       "                                 comfort_convenience  \\\n",
       "0  [Air conditioning, Armrest, Automatic climate ...   \n",
       "1  [Air conditioning, Automatic climate control, ...   \n",
       "\n",
       "                                              extras drive_chain  \\\n",
       "0  [Alloy wheels, Catalytic Converter, Voice Cont...       front   \n",
       "1  [Alloy wheels, Sport seats, Sport suspension, ...       front   \n",
       "\n",
       "  emission_class emission_label first_registration  \\\n",
       "0         Euro 6            NaN               2016   \n",
       "1         Euro 6          Green               2017   \n",
       "\n",
       "                          fuel nr_of_doors nr_of_seats previous_owners  type  \\\n",
       "0  Diesel (Particulate Filter)           5           5               2  Used   \n",
       "1                     Gasoline           3           4             NaN  Used   \n",
       "\n",
       "     upholstery          weight         prev_owner  \\\n",
       "0  Cloth, Black  [\\n1,220 kg\\n]  2 previous owners   \n",
       "1   Cloth, Grey  [\\n1,255 kg\\n]               None   \n",
       "\n",
       "                                                 url warranty_months  \n",
       "0  https://www.autoscout24.com//offers/audi-a1-sp...             NaN  \n",
       "1  https://www.autoscout24.com//offers/audi-a1-1-...             NaN  "
      ]
     },
     "execution_count": 156,
     "metadata": {},
     "output_type": "execute_result"
    }
   ],
   "source": [
    "df2.head(2)"
   ]
  },
  {
   "cell_type": "markdown",
   "metadata": {},
   "source": [
    "**weight**"
   ]
  },
  {
   "cell_type": "code",
   "execution_count": 162,
   "metadata": {},
   "outputs": [
    {
     "data": {
      "text/plain": [
       "[\\n1,163 kg\\n]    574\n",
       "[\\n1,360 kg\\n]    356\n",
       "[\\n1,165 kg\\n]    301\n",
       "[\\n1,335 kg\\n]    242\n",
       "[\\n1,135 kg\\n]    213\n",
       "[\\n1,199 kg\\n]    205\n",
       "[\\n1,734 kg\\n]    170\n",
       "[\\n1,180 kg\\n]    168\n",
       "[\\n1,503 kg\\n]    165\n",
       "[\\n1,350 kg\\n]    155\n",
       "[\\n1,355 kg\\n]    135\n",
       "[\\n1,260 kg\\n]    127\n",
       "[\\n1,275 kg\\n]    112\n",
       "[\\n1,278 kg\\n]    110\n",
       "[\\n1,487 kg\\n]    109\n",
       "[\\n1,425 kg\\n]    109\n",
       "[\\n1,255 kg\\n]    108\n",
       "[\\n1,200 kg\\n]    107\n",
       "[\\n1,522 kg\\n]    103\n",
       "[\\n1,273 kg\\n]    103\n",
       "[\\n1,280 kg\\n]    102\n",
       "[\\n1,403 kg\\n]     91\n",
       "[\\n1,120 kg\\n]     90\n",
       "[\\n1,659 kg\\n]     89\n",
       "[\\n1,195 kg\\n]     89\n",
       "[\\n1,701 kg\\n]     87\n",
       "[\\n1,250 kg\\n]     84\n",
       "[\\n1,441 kg\\n]     82\n",
       "[\\n1,285 kg\\n]     80\n",
       "[\\n1,308 kg\\n]     80\n",
       "[\\n1,613 kg\\n]     75\n",
       "[\\n1,110 kg\\n]     75\n",
       "[\\n1,279 kg\\n]     72\n",
       "[\\n1,364 kg\\n]     70\n",
       "[\\n1,345 kg\\n]     67\n",
       "[\\n1,733 kg\\n]     65\n",
       "[\\n1,071 kg\\n]     64\n",
       "[\\n1,325 kg\\n]     64\n",
       "[\\n1,141 kg\\n]     64\n",
       "[\\n1,685 kg\\n]     64\n",
       "[\\n1,230 kg\\n]     63\n",
       "[\\n1,845 kg\\n]     56\n",
       "[\\n1,090 kg\\n]     54\n",
       "[\\n1,052 kg\\n]     53\n",
       "[\\n1,664 kg\\n]     52\n",
       "[\\n1,154 kg\\n]     52\n",
       "[\\n1,513 kg\\n]     51\n",
       "[\\n1,065 kg\\n]     50\n",
       "[\\n1,237 kg\\n]     49\n",
       "[\\n1,205 kg\\n]     46\n",
       "Name: weight, dtype: int64"
      ]
     },
     "execution_count": 162,
     "metadata": {},
     "output_type": "execute_result"
    }
   ],
   "source": [
    "df2.weight.value_counts()[:50]"
   ]
  },
  {
   "cell_type": "code",
   "execution_count": 177,
   "metadata": {},
   "outputs": [
    {
     "data": {
      "text/plain": [
       "'\\n1,220 kg\\n'"
      ]
     },
     "execution_count": 177,
     "metadata": {},
     "output_type": "execute_result"
    }
   ],
   "source": [
    "df2.weight.str[0][0]"
   ]
  },
  {
   "cell_type": "code",
   "execution_count": 179,
   "metadata": {},
   "outputs": [],
   "source": [
    "df2[\"weight\"]=df2.weight.str[0].str.extract(r'(\\d{1}\\,\\d{3})')"
   ]
  },
  {
   "cell_type": "code",
   "execution_count": 180,
   "metadata": {},
   "outputs": [
    {
     "data": {
      "text/plain": [
       "15018      NaN\n",
       "11350    1,585\n",
       "1736       NaN\n",
       "4015     1,880\n",
       "14625    1,119\n",
       "Name: weight, dtype: object"
      ]
     },
     "execution_count": 180,
     "metadata": {},
     "output_type": "execute_result"
    }
   ],
   "source": [
    "df2.weight.sample(5)"
   ]
  },
  {
   "cell_type": "code",
   "execution_count": 181,
   "metadata": {},
   "outputs": [],
   "source": [
    "df2[\"weight\"]=df2.weight.str.replace(\",\",\"\")"
   ]
  },
  {
   "cell_type": "code",
   "execution_count": 182,
   "metadata": {},
   "outputs": [
    {
     "data": {
      "text/plain": [
       "2058     1180\n",
       "12547     NaN\n",
       "15510     NaN\n",
       "678      1640\n",
       "8414      NaN\n",
       "Name: weight, dtype: object"
      ]
     },
     "execution_count": 182,
     "metadata": {},
     "output_type": "execute_result"
    }
   ],
   "source": [
    "df2.weight.sample(5)"
   ]
  },
  {
   "cell_type": "code",
   "execution_count": 183,
   "metadata": {},
   "outputs": [
    {
     "data": {
      "text/html": [
       "<div>\n",
       "<style scoped>\n",
       "    .dataframe tbody tr th:only-of-type {\n",
       "        vertical-align: middle;\n",
       "    }\n",
       "\n",
       "    .dataframe tbody tr th {\n",
       "        vertical-align: top;\n",
       "    }\n",
       "\n",
       "    .dataframe thead th {\n",
       "        text-align: right;\n",
       "    }\n",
       "</style>\n",
       "<table border=\"1\" class=\"dataframe\">\n",
       "  <thead>\n",
       "    <tr style=\"text-align: right;\">\n",
       "      <th></th>\n",
       "      <th>comfort_convenience</th>\n",
       "      <th>extras</th>\n",
       "      <th>drive_chain</th>\n",
       "      <th>emission_class</th>\n",
       "      <th>emission_label</th>\n",
       "      <th>first_registration</th>\n",
       "      <th>fuel</th>\n",
       "      <th>nr_of_doors</th>\n",
       "      <th>nr_of_seats</th>\n",
       "      <th>previous_owners</th>\n",
       "      <th>type</th>\n",
       "      <th>upholstery</th>\n",
       "      <th>weight</th>\n",
       "      <th>prev_owner</th>\n",
       "      <th>url</th>\n",
       "      <th>warranty_months</th>\n",
       "    </tr>\n",
       "  </thead>\n",
       "  <tbody>\n",
       "    <tr>\n",
       "      <th>0</th>\n",
       "      <td>[Air conditioning, Armrest, Automatic climate ...</td>\n",
       "      <td>[Alloy wheels, Catalytic Converter, Voice Cont...</td>\n",
       "      <td>front</td>\n",
       "      <td>Euro 6</td>\n",
       "      <td>NaN</td>\n",
       "      <td>2016</td>\n",
       "      <td>Diesel (Particulate Filter)</td>\n",
       "      <td>5</td>\n",
       "      <td>5</td>\n",
       "      <td>2</td>\n",
       "      <td>Used</td>\n",
       "      <td>Cloth, Black</td>\n",
       "      <td>1220</td>\n",
       "      <td>2 previous owners</td>\n",
       "      <td>https://www.autoscout24.com//offers/audi-a1-sp...</td>\n",
       "      <td>NaN</td>\n",
       "    </tr>\n",
       "    <tr>\n",
       "      <th>1</th>\n",
       "      <td>[Air conditioning, Automatic climate control, ...</td>\n",
       "      <td>[Alloy wheels, Sport seats, Sport suspension, ...</td>\n",
       "      <td>front</td>\n",
       "      <td>Euro 6</td>\n",
       "      <td>Green</td>\n",
       "      <td>2017</td>\n",
       "      <td>Gasoline</td>\n",
       "      <td>3</td>\n",
       "      <td>4</td>\n",
       "      <td>NaN</td>\n",
       "      <td>Used</td>\n",
       "      <td>Cloth, Grey</td>\n",
       "      <td>1255</td>\n",
       "      <td>None</td>\n",
       "      <td>https://www.autoscout24.com//offers/audi-a1-1-...</td>\n",
       "      <td>NaN</td>\n",
       "    </tr>\n",
       "  </tbody>\n",
       "</table>\n",
       "</div>"
      ],
      "text/plain": [
       "                                 comfort_convenience  \\\n",
       "0  [Air conditioning, Armrest, Automatic climate ...   \n",
       "1  [Air conditioning, Automatic climate control, ...   \n",
       "\n",
       "                                              extras drive_chain  \\\n",
       "0  [Alloy wheels, Catalytic Converter, Voice Cont...       front   \n",
       "1  [Alloy wheels, Sport seats, Sport suspension, ...       front   \n",
       "\n",
       "  emission_class emission_label first_registration  \\\n",
       "0         Euro 6            NaN               2016   \n",
       "1         Euro 6          Green               2017   \n",
       "\n",
       "                          fuel nr_of_doors nr_of_seats previous_owners  type  \\\n",
       "0  Diesel (Particulate Filter)           5           5               2  Used   \n",
       "1                     Gasoline           3           4             NaN  Used   \n",
       "\n",
       "     upholstery weight         prev_owner  \\\n",
       "0  Cloth, Black   1220  2 previous owners   \n",
       "1   Cloth, Grey   1255               None   \n",
       "\n",
       "                                                 url warranty_months  \n",
       "0  https://www.autoscout24.com//offers/audi-a1-sp...             NaN  \n",
       "1  https://www.autoscout24.com//offers/audi-a1-1-...             NaN  "
      ]
     },
     "execution_count": 183,
     "metadata": {},
     "output_type": "execute_result"
    }
   ],
   "source": [
    "df2.head(2)"
   ]
  },
  {
   "cell_type": "code",
   "execution_count": 184,
   "metadata": {},
   "outputs": [],
   "source": [
    "df2.drop(\"prev_owner\", axis=1, inplace=True)"
   ]
  },
  {
   "cell_type": "code",
   "execution_count": 186,
   "metadata": {},
   "outputs": [
    {
     "data": {
      "text/html": [
       "<div>\n",
       "<style scoped>\n",
       "    .dataframe tbody tr th:only-of-type {\n",
       "        vertical-align: middle;\n",
       "    }\n",
       "\n",
       "    .dataframe tbody tr th {\n",
       "        vertical-align: top;\n",
       "    }\n",
       "\n",
       "    .dataframe thead th {\n",
       "        text-align: right;\n",
       "    }\n",
       "</style>\n",
       "<table border=\"1\" class=\"dataframe\">\n",
       "  <thead>\n",
       "    <tr style=\"text-align: right;\">\n",
       "      <th></th>\n",
       "      <th>comfort_convenience</th>\n",
       "      <th>extras</th>\n",
       "      <th>drive_chain</th>\n",
       "      <th>emission_class</th>\n",
       "      <th>emission_label</th>\n",
       "      <th>first_registration</th>\n",
       "      <th>fuel</th>\n",
       "      <th>nr_of_doors</th>\n",
       "      <th>nr_of_seats</th>\n",
       "      <th>previous_owners</th>\n",
       "      <th>type</th>\n",
       "      <th>upholstery</th>\n",
       "      <th>weight</th>\n",
       "      <th>url</th>\n",
       "      <th>warranty_months</th>\n",
       "    </tr>\n",
       "  </thead>\n",
       "  <tbody>\n",
       "    <tr>\n",
       "      <th>0</th>\n",
       "      <td>[Air conditioning, Armrest, Automatic climate ...</td>\n",
       "      <td>[Alloy wheels, Catalytic Converter, Voice Cont...</td>\n",
       "      <td>front</td>\n",
       "      <td>Euro 6</td>\n",
       "      <td>NaN</td>\n",
       "      <td>2016</td>\n",
       "      <td>Diesel (Particulate Filter)</td>\n",
       "      <td>5</td>\n",
       "      <td>5</td>\n",
       "      <td>2</td>\n",
       "      <td>Used</td>\n",
       "      <td>Cloth, Black</td>\n",
       "      <td>1220</td>\n",
       "      <td>https://www.autoscout24.com//offers/audi-a1-sp...</td>\n",
       "      <td>NaN</td>\n",
       "    </tr>\n",
       "    <tr>\n",
       "      <th>1</th>\n",
       "      <td>[Air conditioning, Automatic climate control, ...</td>\n",
       "      <td>[Alloy wheels, Sport seats, Sport suspension, ...</td>\n",
       "      <td>front</td>\n",
       "      <td>Euro 6</td>\n",
       "      <td>Green</td>\n",
       "      <td>2017</td>\n",
       "      <td>Gasoline</td>\n",
       "      <td>3</td>\n",
       "      <td>4</td>\n",
       "      <td>NaN</td>\n",
       "      <td>Used</td>\n",
       "      <td>Cloth, Grey</td>\n",
       "      <td>1255</td>\n",
       "      <td>https://www.autoscout24.com//offers/audi-a1-1-...</td>\n",
       "      <td>NaN</td>\n",
       "    </tr>\n",
       "    <tr>\n",
       "      <th>2</th>\n",
       "      <td>[Air conditioning, Cruise control, Electrical ...</td>\n",
       "      <td>[Alloy wheels, Voice Control]</td>\n",
       "      <td>front</td>\n",
       "      <td>Euro 6</td>\n",
       "      <td>Green</td>\n",
       "      <td>2016</td>\n",
       "      <td>Diesel (Particulate Filter)</td>\n",
       "      <td>4</td>\n",
       "      <td>4</td>\n",
       "      <td>1</td>\n",
       "      <td>Used</td>\n",
       "      <td>Cloth, Black</td>\n",
       "      <td>NaN</td>\n",
       "      <td>https://www.autoscout24.com//offers/audi-a1-sp...</td>\n",
       "      <td>NaN</td>\n",
       "    </tr>\n",
       "  </tbody>\n",
       "</table>\n",
       "</div>"
      ],
      "text/plain": [
       "                                 comfort_convenience  \\\n",
       "0  [Air conditioning, Armrest, Automatic climate ...   \n",
       "1  [Air conditioning, Automatic climate control, ...   \n",
       "2  [Air conditioning, Cruise control, Electrical ...   \n",
       "\n",
       "                                              extras drive_chain  \\\n",
       "0  [Alloy wheels, Catalytic Converter, Voice Cont...       front   \n",
       "1  [Alloy wheels, Sport seats, Sport suspension, ...       front   \n",
       "2                      [Alloy wheels, Voice Control]       front   \n",
       "\n",
       "  emission_class emission_label first_registration  \\\n",
       "0         Euro 6            NaN               2016   \n",
       "1         Euro 6          Green               2017   \n",
       "2         Euro 6          Green               2016   \n",
       "\n",
       "                          fuel nr_of_doors nr_of_seats previous_owners  type  \\\n",
       "0  Diesel (Particulate Filter)           5           5               2  Used   \n",
       "1                     Gasoline           3           4             NaN  Used   \n",
       "2  Diesel (Particulate Filter)           4           4               1  Used   \n",
       "\n",
       "     upholstery weight                                                url  \\\n",
       "0  Cloth, Black   1220  https://www.autoscout24.com//offers/audi-a1-sp...   \n",
       "1   Cloth, Grey   1255  https://www.autoscout24.com//offers/audi-a1-1-...   \n",
       "2  Cloth, Black    NaN  https://www.autoscout24.com//offers/audi-a1-sp...   \n",
       "\n",
       "  warranty_months  \n",
       "0             NaN  \n",
       "1             NaN  \n",
       "2             NaN  "
      ]
     },
     "execution_count": 186,
     "metadata": {},
     "output_type": "execute_result"
    }
   ],
   "source": [
    "df2.head(3)"
   ]
  },
  {
   "cell_type": "code",
   "execution_count": null,
   "metadata": {},
   "outputs": [],
   "source": []
  }
 ],
 "metadata": {
  "kernelspec": {
   "display_name": "Python 3",
   "language": "python",
   "name": "python3"
  },
  "language_info": {
   "codemirror_mode": {
    "name": "ipython",
    "version": 3
   },
   "file_extension": ".py",
   "mimetype": "text/x-python",
   "name": "python",
   "nbconvert_exporter": "python",
   "pygments_lexer": "ipython3",
   "version": "3.7.3"
  },
  "toc-autonumbering": true,
  "toc-showcode": false,
  "toc-showmarkdowntxt": true,
  "toc-showtags": false
 },
 "nbformat": 4,
 "nbformat_minor": 2
}
