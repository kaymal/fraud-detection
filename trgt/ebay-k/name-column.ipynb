{
 "cells": [
  {
   "cell_type": "code",
   "execution_count": 1,
   "metadata": {},
   "outputs": [],
   "source": [
    "# Import necessary modules\n",
    "\n",
    "import pandas as pd\n",
    "import numpy as np\n",
    "\n",
    "import matplotlib.pyplot as plt\n",
    "import seaborn as sns\n",
    "%matplotlib inline"
   ]
  },
  {
   "cell_type": "code",
   "execution_count": 2,
   "metadata": {},
   "outputs": [],
   "source": [
    "df = pd.read_csv(\"data/autos.csv\", encoding='cp1252')"
   ]
  },
  {
   "cell_type": "code",
   "execution_count": 9,
   "metadata": {},
   "outputs": [
    {
     "data": {
      "text/plain": [
       "count     351044\n",
       "unique       251\n",
       "top         golf\n",
       "freq       30070\n",
       "Name: model, dtype: object"
      ]
     },
     "execution_count": 9,
     "metadata": {},
     "output_type": "execute_result"
    }
   ],
   "source": [
    "df.model.describe()"
   ]
  },
  {
   "cell_type": "code",
   "execution_count": 8,
   "metadata": {},
   "outputs": [
    {
     "data": {
      "text/plain": [
       "golf           30070\n",
       "andere         26400\n",
       "3er            20567\n",
       "polo           13092\n",
       "corsa          12573\n",
       "astra          10830\n",
       "passat         10306\n",
       "a4             10257\n",
       "c_klasse        8775\n",
       "5er             8546\n",
       "e_klasse        7561\n",
       "a3              6604\n",
       "a6              6023\n",
       "focus           5950\n",
       "fiesta          5775\n",
       "transporter     5528\n",
       "twingo          4953\n",
       "2_reihe         4816\n",
       "fortwo          4338\n",
       "a_klasse        4316\n",
       "vectra          4255\n",
       "1er             3837\n",
       "mondeo          3626\n",
       "clio            3553\n",
       "touran          3540\n",
       "3_reihe         3503\n",
       "punto           3349\n",
       "zafira          3049\n",
       "megane          2927\n",
       "ka              2702\n",
       "               ...  \n",
       "colt             869\n",
       "beetle           859\n",
       "berlingo         825\n",
       "sprinter         793\n",
       "tigra            789\n",
       "v40              782\n",
       "transit          764\n",
       "touareg          745\n",
       "fox              744\n",
       "swift            706\n",
       "insignia         699\n",
       "c_max            694\n",
       "corolla          685\n",
       "panda            676\n",
       "seicento         670\n",
       "sl               669\n",
       "v70              645\n",
       "4_reihe          640\n",
       "scirocco         638\n",
       "156              629\n",
       "a1               622\n",
       "primera          621\n",
       "espace           620\n",
       "grand            609\n",
       "stilo            603\n",
       "almera           584\n",
       "a8               582\n",
       "147              572\n",
       "avensis          567\n",
       "qashqai          549\n",
       "Name: model, Length: 100, dtype: int64"
      ]
     },
     "execution_count": 8,
     "metadata": {},
     "output_type": "execute_result"
    }
   ],
   "source": [
    "df.model.value_counts().head(100)"
   ]
  },
  {
   "cell_type": "code",
   "execution_count": null,
   "metadata": {},
   "outputs": [],
   "source": [
    "df_name = df.name.str.replace(\"_\", \" \")\n",
    "df[\"brand_1\"] = df_name.str.split(n = 3, expand=True)[0]\n",
    "df[\"brand_1\"].value_counts()"
   ]
  }
 ],
 "metadata": {
  "kernelspec": {
   "display_name": "Python 3",
   "language": "python",
   "name": "python3"
  },
  "language_info": {
   "codemirror_mode": {
    "name": "ipython",
    "version": 3
   },
   "file_extension": ".py",
   "mimetype": "text/x-python",
   "name": "python",
   "nbconvert_exporter": "python",
   "pygments_lexer": "ipython3",
   "version": "3.6.8"
  }
 },
 "nbformat": 4,
 "nbformat_minor": 2
}
