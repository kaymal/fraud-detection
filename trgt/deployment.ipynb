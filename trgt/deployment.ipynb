{
 "cells": [
  {
   "cell_type": "markdown",
   "metadata": {},
   "source": [
    "# Deployment"
   ]
  },
  {
   "cell_type": "markdown",
   "metadata": {},
   "source": [
    "## API"
   ]
  },
  {
   "cell_type": "code",
   "execution_count": 12,
   "metadata": {},
   "outputs": [
    {
     "name": "stdout",
     "output_type": "stream",
     "text": [
      "Overwriting predict.py\n"
     ]
    }
   ],
   "source": [
    "%%writefile predict.py\n",
    "\n",
    "# Import necessary modules\n",
    "from flask import Flask, request, jsonify\n",
    "import pickle\n",
    "import pandas as pd\n",
    "\n",
    "import traceback\n",
    "\n",
    "# Create an instance of Flask class\n",
    "app = Flask(__name__)\n",
    "\n",
    "# Use pickle to load in the pre-trained model.\n",
    "with open('model_rf.pkl', 'rb') as m:\n",
    "    model_rf = pickle.load(m)\n",
    "\n",
    "# Use pickle to load in the feature names.\n",
    "with open('model_features.pkl', 'rb') as f:\n",
    "    features = pickle.load(f)\n",
    "\n",
    "@app.route('/')\n",
    "def index():\n",
    "    return 'Server is up and running!'\n",
    "\n",
    "@app.route('/predict', methods=['GET', 'POST'])\n",
    "def predict():\n",
    "    if request.method == 'POST':\n",
    "        try:\n",
    "            # Get data for prediction (Parse data as JSON)\n",
    "            json_data = request.get_json()\n",
    "            \n",
    "            # Raise an Error if there are values not entered\n",
    "            if not all(k in json_data for k in [\"hp\", \"age\", \"km\", \"model\"]):\n",
    "                raise ValueError(\"Not enough data to make a prediction!\")\n",
    "            \n",
    "            # Create a DataFrame from JSON\n",
    "            df = pd.DataFrame.from_dict([json_data], orient='columns')\n",
    "            \n",
    "            # Create dummy variables and persist features\n",
    "            df = pd.get_dummies(df).reindex(columns=features, fill_value=0)\n",
    "            # Note that if a column name (value) in JSON is wrong, \n",
    "            # The relevant column is filled with '0'\n",
    "            \n",
    "            # Predict the target\n",
    "            prediction = list(model_rf.predict(df))\n",
    "            \n",
    "            # Return the result in JSON format\n",
    "            return jsonify({\"prediction\": prediction})\n",
    "        \n",
    "        except:\n",
    "            return jsonify({'trace': traceback.format_exc()})\n",
    "    else:\n",
    "        print(\"Nothing posted!\")\n",
    "        return \"Nothing posted!\"\n",
    "\n",
    "if __name__ == '__main__':\n",
    "    app.run(debug=True)\n",
    "# Debugging mode is enabled to provide code reloading and better error messages."
   ]
  },
  {
   "cell_type": "markdown",
   "metadata": {
    "toc-hr-collapsed": false
   },
   "source": [
    "## How to Request/POST"
   ]
  },
  {
   "cell_type": "code",
   "execution_count": 2,
   "metadata": {},
   "outputs": [
    {
     "data": {
      "text/plain": [
       "{'prediction': [10599.177919347703]}"
      ]
     },
     "execution_count": 2,
     "metadata": {},
     "output_type": "execute_result"
    }
   ],
   "source": [
    "#%%writefile request.py\n",
    "import requests\n",
    "url = 'http://localhost:5000/predict'\n",
    "r = requests.post(url, json={\"hp\":\"100\", \"age\":\"2\", \"km\":\"10000\", \"model\":\"Corsa\"})\n",
    "r.json()"
   ]
  },
  {
   "cell_type": "code",
   "execution_count": 3,
   "metadata": {},
   "outputs": [
    {
     "name": "stdout",
     "output_type": "stream",
     "text": [
      "{\n",
      "  \"prediction\": [\n",
      "    10599.177919347703\n",
      "  ]\n",
      "}\n"
     ]
    }
   ],
   "source": [
    "!curl localhost:5000/predict -d '{\"hp\":\"100\", \"age\":\"2\", \"km\":\"10000\", \"model\":\"Corsa\"}' -H 'Content-Type: application/json'\n",
    "#-d --data: Send specified data in POST request\n",
    "#-H, --header: Headers to supply with request"
   ]
  },
  {
   "cell_type": "code",
   "execution_count": 1,
   "metadata": {},
   "outputs": [
    {
     "name": "stdout",
     "output_type": "stream",
     "text": [
      "{\"prediction\":[10599.177919347703]}\n"
     ]
    }
   ],
   "source": [
    "!curl https://gutkyle.pythonanywhere.com/predict -d '{\"hp\":\"100\", \"age\":\"2\", \"km\":\"10000\", \"model\":\"Corsa\"}' -H 'Content-Type: application/json'\n"
   ]
  },
  {
   "cell_type": "code",
   "execution_count": 4,
   "metadata": {},
   "outputs": [
    {
     "name": "stdout",
     "output_type": "stream",
     "text": [
      "Overwriting data.json\n"
     ]
    }
   ],
   "source": [
    "%%writefile data.json\n",
    "{\n",
    "    \"hp\":\"100\",\n",
    "    \"age\":\"2\",\n",
    "    \"km\":\"10000\",\n",
    "    \"model\":\"Corsa\"\n",
    "}"
   ]
  },
  {
   "cell_type": "code",
   "execution_count": 5,
   "metadata": {},
   "outputs": [
    {
     "name": "stdout",
     "output_type": "stream",
     "text": [
      "{\n",
      "  \"prediction\": [\n",
      "    10599.177919347703\n",
      "  ]\n",
      "}\n"
     ]
    }
   ],
   "source": [
    "!curl -X POST localhost:5000/predict -d '@data.json' -H 'Content-Type: application/json'"
   ]
  },
  {
   "cell_type": "code",
   "execution_count": 6,
   "metadata": {},
   "outputs": [],
   "source": [
    "# !http http://localhost:5000/predict json={'hp':'100'}\n",
    "# Requires HTTPie"
   ]
  },
  {
   "cell_type": "markdown",
   "metadata": {},
   "source": [
    "## Test Results"
   ]
  },
  {
   "cell_type": "code",
   "execution_count": 7,
   "metadata": {},
   "outputs": [],
   "source": [
    "import pickle\n",
    "import pandas as pd\n",
    "\n",
    "with open('model_rf.pkl', 'rb') as m:\n",
    "    model_rf = pickle.load(m)\n",
    "    \n",
    "# Import imputed data\n",
    "df_no_dummy = pd.read_pickle(\"autos_clean_no_dummy_20190805.pkl\")\n",
    "\n",
    "# Create features ann target\n",
    "X = pd.get_dummies(df_no_dummy[['hp', 'age', 'km', 'model']]) # features\n",
    "y = df_no_dummy['price'] # target\n",
    "\n",
    "df = df_no_dummy[['hp', 'age', 'km', 'model', 'price']].copy()\n",
    "df['prediction'] = model_rf.predict(X)"
   ]
  },
  {
   "cell_type": "code",
   "execution_count": 8,
   "metadata": {},
   "outputs": [
    {
     "data": {
      "text/html": [
       "<div>\n",
       "<style scoped>\n",
       "    .dataframe tbody tr th:only-of-type {\n",
       "        vertical-align: middle;\n",
       "    }\n",
       "\n",
       "    .dataframe tbody tr th {\n",
       "        vertical-align: top;\n",
       "    }\n",
       "\n",
       "    .dataframe thead th {\n",
       "        text-align: right;\n",
       "    }\n",
       "</style>\n",
       "<table border=\"1\" class=\"dataframe\">\n",
       "  <thead>\n",
       "    <tr style=\"text-align: right;\">\n",
       "      <th></th>\n",
       "      <th>hp</th>\n",
       "      <th>age</th>\n",
       "      <th>km</th>\n",
       "      <th>model</th>\n",
       "      <th>price</th>\n",
       "      <th>prediction</th>\n",
       "    </tr>\n",
       "  </thead>\n",
       "  <tbody>\n",
       "    <tr>\n",
       "      <th>13129</th>\n",
       "      <td>87.0</td>\n",
       "      <td>1.0</td>\n",
       "      <td>20200.0</td>\n",
       "      <td>Clio</td>\n",
       "      <td>15650</td>\n",
       "      <td>15765.558460</td>\n",
       "    </tr>\n",
       "    <tr>\n",
       "      <th>7594</th>\n",
       "      <td>110.0</td>\n",
       "      <td>0.0</td>\n",
       "      <td>10.0</td>\n",
       "      <td>Astra</td>\n",
       "      <td>25365</td>\n",
       "      <td>21553.017866</td>\n",
       "    </tr>\n",
       "    <tr>\n",
       "      <th>5840</th>\n",
       "      <td>100.0</td>\n",
       "      <td>2.0</td>\n",
       "      <td>30600.0</td>\n",
       "      <td>Astra</td>\n",
       "      <td>15492</td>\n",
       "      <td>15391.644049</td>\n",
       "    </tr>\n",
       "    <tr>\n",
       "      <th>4647</th>\n",
       "      <td>81.0</td>\n",
       "      <td>1.0</td>\n",
       "      <td>13500.0</td>\n",
       "      <td>A3</td>\n",
       "      <td>22900</td>\n",
       "      <td>22433.526813</td>\n",
       "    </tr>\n",
       "    <tr>\n",
       "      <th>10698</th>\n",
       "      <td>100.0</td>\n",
       "      <td>3.0</td>\n",
       "      <td>55775.0</td>\n",
       "      <td>Insignia</td>\n",
       "      <td>14950</td>\n",
       "      <td>15007.863167</td>\n",
       "    </tr>\n",
       "  </tbody>\n",
       "</table>\n",
       "</div>"
      ],
      "text/plain": [
       "          hp  age       km     model  price    prediction\n",
       "13129   87.0  1.0  20200.0      Clio  15650  15765.558460\n",
       "7594   110.0  0.0     10.0     Astra  25365  21553.017866\n",
       "5840   100.0  2.0  30600.0     Astra  15492  15391.644049\n",
       "4647    81.0  1.0  13500.0        A3  22900  22433.526813\n",
       "10698  100.0  3.0  55775.0  Insignia  14950  15007.863167"
      ]
     },
     "execution_count": 8,
     "metadata": {},
     "output_type": "execute_result"
    }
   ],
   "source": [
    "df.sample(5)"
   ]
  },
  {
   "cell_type": "code",
   "execution_count": 9,
   "metadata": {},
   "outputs": [
    {
     "data": {
      "text/plain": [
       "{'prediction': [11011.501326226444]}"
      ]
     },
     "execution_count": 9,
     "metadata": {},
     "output_type": "execute_result"
    }
   ],
   "source": [
    "import requests\n",
    "\n",
    "json_d = {\n",
    "    \"hp\": 66,\n",
    "    \"age\": 1,\n",
    "    \"km\": 17000,\n",
    "    \"model\": \"Clio\"\n",
    "}\n",
    "\n",
    "url = 'http://localhost:5000/predict'\n",
    "r = requests.post(url, json = json_d)\n",
    "r.json()"
   ]
  },
  {
   "cell_type": "code",
   "execution_count": 3,
   "metadata": {},
   "outputs": [
    {
     "data": {
      "text/plain": [
       "{'trace': 'Traceback (most recent call last):\\n  File \"/home/gutkyle/mysite/flask_app.py\", line 32, in predict\\n    raise ValueError(\"Not enough data to make a prediction!\")\\nValueError: Not enough data to make a prediction!\\n'}"
      ]
     },
     "execution_count": 3,
     "metadata": {},
     "output_type": "execute_result"
    }
   ],
   "source": [
    "import requests\n",
    "\n",
    "json_d = {\n",
    "    \"hp\": 66,\n",
    "    \"age\": 1,\n",
    "    \"km\": 17000,\n",
    "    \"model\": \"Clio\"\n",
    "}\n",
    "\n",
    "url = 'https://gutkyle.pythonanywhere.com/predict'\n",
    "r = requests.post(url, json = json_d)\n",
    "r.json()"
   ]
  },
  {
   "cell_type": "markdown",
   "metadata": {},
   "source": [
    "## Test Code"
   ]
  },
  {
   "cell_type": "code",
   "execution_count": 10,
   "metadata": {},
   "outputs": [
    {
     "data": {
      "text/html": [
       "<div>\n",
       "<style scoped>\n",
       "    .dataframe tbody tr th:only-of-type {\n",
       "        vertical-align: middle;\n",
       "    }\n",
       "\n",
       "    .dataframe tbody tr th {\n",
       "        vertical-align: top;\n",
       "    }\n",
       "\n",
       "    .dataframe thead th {\n",
       "        text-align: right;\n",
       "    }\n",
       "</style>\n",
       "<table border=\"1\" class=\"dataframe\">\n",
       "  <thead>\n",
       "    <tr style=\"text-align: right;\">\n",
       "      <th></th>\n",
       "      <th>hp</th>\n",
       "      <th>age</th>\n",
       "      <th>km</th>\n",
       "      <th>model</th>\n",
       "    </tr>\n",
       "  </thead>\n",
       "  <tbody>\n",
       "    <tr>\n",
       "      <th>0</th>\n",
       "      <td>100</td>\n",
       "      <td>3</td>\n",
       "      <td>10000</td>\n",
       "      <td>Corsa</td>\n",
       "    </tr>\n",
       "  </tbody>\n",
       "</table>\n",
       "</div>"
      ],
      "text/plain": [
       "    hp  age     km  model\n",
       "0  100    3  10000  Corsa"
      ]
     },
     "execution_count": 10,
     "metadata": {},
     "output_type": "execute_result"
    }
   ],
   "source": [
    "import pickle\n",
    "import pandas as pd\n",
    "\n",
    "with open('model_rf.pkl', 'rb') as m:\n",
    "    model_rf = pickle.load(m)\n",
    "\n",
    "with open('model_features.pkl', 'rb') as f:\n",
    "    features = pickle.load(f)\n",
    "\n",
    "json_d = {\n",
    "    \"hp\": 100,\n",
    "    \"age\": 3,\n",
    "    \"km\": 10000,\n",
    "    \"model\": \"Corsa\"\n",
    "}\n",
    "\n",
    "\n",
    "# Create a DataFrame from JSON\n",
    "df_dene = pd.DataFrame.from_dict([json_d], orient='columns')\n",
    "\n",
    "df_dene"
   ]
  },
  {
   "cell_type": "code",
   "execution_count": 11,
   "metadata": {},
   "outputs": [
    {
     "data": {
      "text/html": [
       "<div>\n",
       "<style scoped>\n",
       "    .dataframe tbody tr th:only-of-type {\n",
       "        vertical-align: middle;\n",
       "    }\n",
       "\n",
       "    .dataframe tbody tr th {\n",
       "        vertical-align: top;\n",
       "    }\n",
       "\n",
       "    .dataframe thead th {\n",
       "        text-align: right;\n",
       "    }\n",
       "</style>\n",
       "<table border=\"1\" class=\"dataframe\">\n",
       "  <thead>\n",
       "    <tr style=\"text-align: right;\">\n",
       "      <th></th>\n",
       "      <th>hp</th>\n",
       "      <th>age</th>\n",
       "      <th>km</th>\n",
       "      <th>model_A1</th>\n",
       "      <th>model_A3</th>\n",
       "      <th>model_Astra</th>\n",
       "      <th>model_Clio</th>\n",
       "      <th>model_Corsa</th>\n",
       "      <th>model_Espace</th>\n",
       "      <th>model_Insignia</th>\n",
       "    </tr>\n",
       "  </thead>\n",
       "  <tbody>\n",
       "    <tr>\n",
       "      <th>0</th>\n",
       "      <td>100</td>\n",
       "      <td>3</td>\n",
       "      <td>10000</td>\n",
       "      <td>0</td>\n",
       "      <td>0</td>\n",
       "      <td>0</td>\n",
       "      <td>0</td>\n",
       "      <td>1</td>\n",
       "      <td>0</td>\n",
       "      <td>0</td>\n",
       "    </tr>\n",
       "  </tbody>\n",
       "</table>\n",
       "</div>"
      ],
      "text/plain": [
       "    hp  age     km  model_A1  model_A3  model_Astra  model_Clio  model_Corsa  \\\n",
       "0  100    3  10000         0         0            0           0            1   \n",
       "\n",
       "   model_Espace  model_Insignia  \n",
       "0             0               0  "
      ]
     },
     "execution_count": 11,
     "metadata": {},
     "output_type": "execute_result"
    }
   ],
   "source": [
    "# Create dummy variables and persist features\n",
    "df_dene = pd.get_dummies(df_dene).reindex(columns=features, fill_value=0)\n",
    "df_dene"
   ]
  }
 ],
 "metadata": {
  "kernelspec": {
   "display_name": "Python 3",
   "language": "python",
   "name": "python3"
  },
  "language_info": {
   "codemirror_mode": {
    "name": "ipython",
    "version": 3
   },
   "file_extension": ".py",
   "mimetype": "text/x-python",
   "name": "python",
   "nbconvert_exporter": "python",
   "pygments_lexer": "ipython3",
   "version": "3.7.3"
  }
 },
 "nbformat": 4,
 "nbformat_minor": 4
}
