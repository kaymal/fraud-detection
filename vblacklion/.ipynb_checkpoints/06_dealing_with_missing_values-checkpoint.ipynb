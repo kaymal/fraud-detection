{
 "cells": [
  {
   "cell_type": "markdown",
   "metadata": {},
   "source": [
    "## Importing necessary libraries and reading data from source"
   ]
  },
  {
   "cell_type": "code",
   "execution_count": 1,
   "metadata": {},
   "outputs": [],
   "source": [
    "import pandas as pd\n",
    "import numpy as np\n",
    "#import xgboost as xgb\n",
    "import json\n",
    "import re\n",
    "from sklearn.model_selection import train_test_split\n",
    "from sklearn.preprocessing import StandardScaler\n",
    "from matplotlib import cm\n",
    "from collections import Counter\n",
    "import seaborn as sns\n",
    "import matplotlib.pyplot as plt\n",
    "%matplotlib inline \n",
    "#%matplotlib notebook\n",
    "# to see all of the columns\n",
    "from IPython.display import display\n",
    "from IPython.display import Image\n",
    "\n",
    "pd.options.display.max_columns = None\n",
    "plt.style.use('bmh')\n",
    "\n",
    "from scipy.stats import norm\n",
    "from scipy import stats\n",
    "#import pandas_profiling\n",
    "#import warnings\n",
    "#warnings.filterwarnings('ignore')\n",
    "\n",
    "# Display 100 columns max\n",
    "pd.set_option('display.max_columns', 100)\n",
    "\n",
    "# Display 20 characters max within a cell\n",
    "# pd.set_option('max_colwidth',60)"
   ]
  },
  {
   "cell_type": "code",
   "execution_count": 2,
   "metadata": {},
   "outputs": [],
   "source": [
    "# Display 100 columns max\n",
    "#pd.set_option('display.max_columns', 100)\n",
    "\n",
    "# Display 20 characters max within a cell\n",
    "pd.set_option('max_colwidth',100)"
   ]
  },
  {
   "cell_type": "code",
   "execution_count": 145,
   "metadata": {},
   "outputs": [
    {
     "data": {
      "text/html": [
       "<div>\n",
       "<style scoped>\n",
       "    .dataframe tbody tr th:only-of-type {\n",
       "        vertical-align: middle;\n",
       "    }\n",
       "\n",
       "    .dataframe tbody tr th {\n",
       "        vertical-align: top;\n",
       "    }\n",
       "\n",
       "    .dataframe thead th {\n",
       "        text-align: right;\n",
       "    }\n",
       "</style>\n",
       "<table border=\"1\" class=\"dataframe\">\n",
       "  <thead>\n",
       "    <tr style=\"text-align: right;\">\n",
       "      <th></th>\n",
       "      <th>co2_emission</th>\n",
       "      <th>country_version</th>\n",
       "      <th>cylinders</th>\n",
       "      <th>displacement</th>\n",
       "      <th>make</th>\n",
       "      <th>model</th>\n",
       "      <th>model_code</th>\n",
       "      <th>hp</th>\n",
       "      <th>km</th>\n",
       "      <th>ss_abs</th>\n",
       "      <th>ss_adaptive_cruise_control</th>\n",
       "      <th>ss_adaptive_headlights</th>\n",
       "      <th>ss_alarm_system</th>\n",
       "      <th>ss_blind_spot_monitor</th>\n",
       "      <th>ss_central_door_lock</th>\n",
       "      <th>ss_central_door_lock_with_remote_control</th>\n",
       "      <th>ss_daytime_running_lights</th>\n",
       "      <th>ss_driver_drowsiness_detection</th>\n",
       "      <th>ss_driver_side_airbag</th>\n",
       "      <th>ss_electronic_stability_control</th>\n",
       "      <th>ss_emergency_brake_assistant</th>\n",
       "      <th>ss_emergency_system</th>\n",
       "      <th>ss_fog_lights</th>\n",
       "      <th>ss_head_airbag</th>\n",
       "      <th>ss_immobilizer</th>\n",
       "      <th>ss_isofix</th>\n",
       "      <th>ss_led_daytime_running_lights</th>\n",
       "      <th>ss_led_headlights</th>\n",
       "      <th>ss_lane_departure_warning_system</th>\n",
       "      <th>ss_night_view_assist</th>\n",
       "      <th>ss_passenger_side_airbag</th>\n",
       "      <th>ss_power_steering</th>\n",
       "      <th>ss_rear_airbag</th>\n",
       "      <th>ss_side_airbag</th>\n",
       "      <th>ss_tire_pressure_monitoring_system</th>\n",
       "      <th>ss_traction_control</th>\n",
       "      <th>ss_traffic_sign_recognition</th>\n",
       "      <th>ss_xenon_headlights</th>\n",
       "      <th>next_inspection_bool</th>\n",
       "      <th>consumption_comb</th>\n",
       "      <th>body</th>\n",
       "      <th>body_color</th>\n",
       "      <th>gearing_type</th>\n",
       "      <th>gears</th>\n",
       "      <th>inspection_new</th>\n",
       "      <th>paint_type</th>\n",
       "      <th>price</th>\n",
       "      <th>short_description</th>\n",
       "      <th>vat</th>\n",
       "      <th>age</th>\n",
       "      <th>...</th>\n",
       "      <th>cc_electric_tailgate</th>\n",
       "      <th>cc_electrical_side_mirrors</th>\n",
       "      <th>cc_electrically_adjustable_seats</th>\n",
       "      <th>cc_electrically_heated_windshield</th>\n",
       "      <th>cc_heads_up_display</th>\n",
       "      <th>cc_heated_steering_wheel</th>\n",
       "      <th>cc_hill_holder</th>\n",
       "      <th>cc_keyless_central_door_lock</th>\n",
       "      <th>cc_leather_seats</th>\n",
       "      <th>cc_leather_steering_wheel</th>\n",
       "      <th>cc_light_sensor</th>\n",
       "      <th>cc_lumbar_support</th>\n",
       "      <th>cc_massage_seats</th>\n",
       "      <th>cc_multi_function_steering_wheel</th>\n",
       "      <th>cc_navigation_system</th>\n",
       "      <th>cc_panorama_roof</th>\n",
       "      <th>cc_park_distance_control</th>\n",
       "      <th>cc_parking_assist_system_camera</th>\n",
       "      <th>cc_parking_assist_system_self_steering</th>\n",
       "      <th>cc_parking_assist_system_sensors_front</th>\n",
       "      <th>cc_parking_assist_system_sensors_rear</th>\n",
       "      <th>cc_power_windows</th>\n",
       "      <th>cc_rain_sensor</th>\n",
       "      <th>cc_seat_heating</th>\n",
       "      <th>cc_seat_ventilation</th>\n",
       "      <th>cc_split_rear_seats</th>\n",
       "      <th>cc_start_stop_system</th>\n",
       "      <th>cc_sunroof</th>\n",
       "      <th>cc_tinted_windows</th>\n",
       "      <th>cc_wind_deflector</th>\n",
       "      <th>cc_windshield</th>\n",
       "      <th>ext_alloy_wheels</th>\n",
       "      <th>ext_cab_or_rented_car</th>\n",
       "      <th>ext_catalytic_converter</th>\n",
       "      <th>ext_handicapped_enabled</th>\n",
       "      <th>ext_right_hand_drive</th>\n",
       "      <th>ext_roof_rack</th>\n",
       "      <th>ext_shift_paddles</th>\n",
       "      <th>ext_ski_bag</th>\n",
       "      <th>ext_sliding_door</th>\n",
       "      <th>ext_sport_package</th>\n",
       "      <th>ext_sport_seats</th>\n",
       "      <th>ext_sport_suspension</th>\n",
       "      <th>ext_touch_screen</th>\n",
       "      <th>ext_trailer_hitch</th>\n",
       "      <th>ext_tuned_car</th>\n",
       "      <th>ext_voice_control</th>\n",
       "      <th>ext_winter_tyres</th>\n",
       "      <th>weight_kg</th>\n",
       "      <th>hp2</th>\n",
       "    </tr>\n",
       "  </thead>\n",
       "  <tbody>\n",
       "    <tr>\n",
       "      <th>0</th>\n",
       "      <td>99.0</td>\n",
       "      <td>NaN</td>\n",
       "      <td>3.0</td>\n",
       "      <td>1422.0</td>\n",
       "      <td>Audi</td>\n",
       "      <td>A1</td>\n",
       "      <td>0588/BDF</td>\n",
       "      <td>66.0</td>\n",
       "      <td>56013.0</td>\n",
       "      <td>1.0</td>\n",
       "      <td>0.0</td>\n",
       "      <td>0.0</td>\n",
       "      <td>0.0</td>\n",
       "      <td>0.0</td>\n",
       "      <td>1.0</td>\n",
       "      <td>0.0</td>\n",
       "      <td>1.0</td>\n",
       "      <td>0.0</td>\n",
       "      <td>1.0</td>\n",
       "      <td>1.0</td>\n",
       "      <td>0.0</td>\n",
       "      <td>0.0</td>\n",
       "      <td>1.0</td>\n",
       "      <td>0.0</td>\n",
       "      <td>1.0</td>\n",
       "      <td>1.0</td>\n",
       "      <td>0.0</td>\n",
       "      <td>0.0</td>\n",
       "      <td>0.0</td>\n",
       "      <td>0.0</td>\n",
       "      <td>1.0</td>\n",
       "      <td>1.0</td>\n",
       "      <td>0.0</td>\n",
       "      <td>1.0</td>\n",
       "      <td>1.0</td>\n",
       "      <td>1.0</td>\n",
       "      <td>0.0</td>\n",
       "      <td>1.0</td>\n",
       "      <td>True</td>\n",
       "      <td>3.8</td>\n",
       "      <td>Sedans</td>\n",
       "      <td>Black</td>\n",
       "      <td>Automatic</td>\n",
       "      <td>NaN</td>\n",
       "      <td>1</td>\n",
       "      <td>Metallic</td>\n",
       "      <td>15770</td>\n",
       "      <td>Sportback 1.4 TDI S-tronic Xenon Navi Klima</td>\n",
       "      <td>VAT deductible</td>\n",
       "      <td>3.0</td>\n",
       "      <td>...</td>\n",
       "      <td>0.0</td>\n",
       "      <td>1.0</td>\n",
       "      <td>0.0</td>\n",
       "      <td>0.0</td>\n",
       "      <td>0.0</td>\n",
       "      <td>0.0</td>\n",
       "      <td>1.0</td>\n",
       "      <td>0.0</td>\n",
       "      <td>0.0</td>\n",
       "      <td>1.0</td>\n",
       "      <td>1.0</td>\n",
       "      <td>0.0</td>\n",
       "      <td>0.0</td>\n",
       "      <td>1.0</td>\n",
       "      <td>1.0</td>\n",
       "      <td>0.0</td>\n",
       "      <td>1.0</td>\n",
       "      <td>0.0</td>\n",
       "      <td>0.0</td>\n",
       "      <td>0.0</td>\n",
       "      <td>1.0</td>\n",
       "      <td>1.0</td>\n",
       "      <td>1.0</td>\n",
       "      <td>1.0</td>\n",
       "      <td>0.0</td>\n",
       "      <td>0.0</td>\n",
       "      <td>1.0</td>\n",
       "      <td>0.0</td>\n",
       "      <td>0.0</td>\n",
       "      <td>0.0</td>\n",
       "      <td>0.0</td>\n",
       "      <td>1.0</td>\n",
       "      <td>0.0</td>\n",
       "      <td>1.0</td>\n",
       "      <td>0.0</td>\n",
       "      <td>0.0</td>\n",
       "      <td>0.0</td>\n",
       "      <td>0.0</td>\n",
       "      <td>0.0</td>\n",
       "      <td>0.0</td>\n",
       "      <td>0.0</td>\n",
       "      <td>0.0</td>\n",
       "      <td>0.0</td>\n",
       "      <td>0.0</td>\n",
       "      <td>0.0</td>\n",
       "      <td>0.0</td>\n",
       "      <td>1.0</td>\n",
       "      <td>0.0</td>\n",
       "      <td>1220.0</td>\n",
       "      <td>88.0</td>\n",
       "    </tr>\n",
       "    <tr>\n",
       "      <th>1</th>\n",
       "      <td>129.0</td>\n",
       "      <td>NaN</td>\n",
       "      <td>4.0</td>\n",
       "      <td>1798.0</td>\n",
       "      <td>Audi</td>\n",
       "      <td>A1</td>\n",
       "      <td>0588/BCY</td>\n",
       "      <td>141.0</td>\n",
       "      <td>80000.0</td>\n",
       "      <td>1.0</td>\n",
       "      <td>0.0</td>\n",
       "      <td>0.0</td>\n",
       "      <td>0.0</td>\n",
       "      <td>0.0</td>\n",
       "      <td>1.0</td>\n",
       "      <td>1.0</td>\n",
       "      <td>1.0</td>\n",
       "      <td>0.0</td>\n",
       "      <td>1.0</td>\n",
       "      <td>1.0</td>\n",
       "      <td>0.0</td>\n",
       "      <td>0.0</td>\n",
       "      <td>0.0</td>\n",
       "      <td>1.0</td>\n",
       "      <td>1.0</td>\n",
       "      <td>1.0</td>\n",
       "      <td>0.0</td>\n",
       "      <td>0.0</td>\n",
       "      <td>0.0</td>\n",
       "      <td>0.0</td>\n",
       "      <td>1.0</td>\n",
       "      <td>1.0</td>\n",
       "      <td>0.0</td>\n",
       "      <td>1.0</td>\n",
       "      <td>1.0</td>\n",
       "      <td>1.0</td>\n",
       "      <td>0.0</td>\n",
       "      <td>1.0</td>\n",
       "      <td>False</td>\n",
       "      <td>5.6</td>\n",
       "      <td>Sedans</td>\n",
       "      <td>Red</td>\n",
       "      <td>Automatic</td>\n",
       "      <td>7.0</td>\n",
       "      <td>0</td>\n",
       "      <td>NaN</td>\n",
       "      <td>14500</td>\n",
       "      <td>1.8 TFSI sport</td>\n",
       "      <td>Price negotiable</td>\n",
       "      <td>2.0</td>\n",
       "      <td>...</td>\n",
       "      <td>0.0</td>\n",
       "      <td>0.0</td>\n",
       "      <td>0.0</td>\n",
       "      <td>0.0</td>\n",
       "      <td>0.0</td>\n",
       "      <td>0.0</td>\n",
       "      <td>1.0</td>\n",
       "      <td>0.0</td>\n",
       "      <td>0.0</td>\n",
       "      <td>1.0</td>\n",
       "      <td>0.0</td>\n",
       "      <td>1.0</td>\n",
       "      <td>0.0</td>\n",
       "      <td>0.0</td>\n",
       "      <td>0.0</td>\n",
       "      <td>0.0</td>\n",
       "      <td>0.0</td>\n",
       "      <td>0.0</td>\n",
       "      <td>0.0</td>\n",
       "      <td>0.0</td>\n",
       "      <td>1.0</td>\n",
       "      <td>1.0</td>\n",
       "      <td>0.0</td>\n",
       "      <td>0.0</td>\n",
       "      <td>0.0</td>\n",
       "      <td>0.0</td>\n",
       "      <td>1.0</td>\n",
       "      <td>0.0</td>\n",
       "      <td>1.0</td>\n",
       "      <td>0.0</td>\n",
       "      <td>0.0</td>\n",
       "      <td>1.0</td>\n",
       "      <td>0.0</td>\n",
       "      <td>0.0</td>\n",
       "      <td>0.0</td>\n",
       "      <td>0.0</td>\n",
       "      <td>0.0</td>\n",
       "      <td>0.0</td>\n",
       "      <td>0.0</td>\n",
       "      <td>0.0</td>\n",
       "      <td>0.0</td>\n",
       "      <td>1.0</td>\n",
       "      <td>1.0</td>\n",
       "      <td>0.0</td>\n",
       "      <td>0.0</td>\n",
       "      <td>0.0</td>\n",
       "      <td>1.0</td>\n",
       "      <td>0.0</td>\n",
       "      <td>1255.0</td>\n",
       "      <td>189.0</td>\n",
       "    </tr>\n",
       "    <tr>\n",
       "      <th>2</th>\n",
       "      <td>99.0</td>\n",
       "      <td>NaN</td>\n",
       "      <td>NaN</td>\n",
       "      <td>1598.0</td>\n",
       "      <td>Audi</td>\n",
       "      <td>A1</td>\n",
       "      <td>NaN</td>\n",
       "      <td>85.0</td>\n",
       "      <td>83450.0</td>\n",
       "      <td>1.0</td>\n",
       "      <td>0.0</td>\n",
       "      <td>0.0</td>\n",
       "      <td>0.0</td>\n",
       "      <td>0.0</td>\n",
       "      <td>1.0</td>\n",
       "      <td>0.0</td>\n",
       "      <td>1.0</td>\n",
       "      <td>0.0</td>\n",
       "      <td>1.0</td>\n",
       "      <td>1.0</td>\n",
       "      <td>0.0</td>\n",
       "      <td>0.0</td>\n",
       "      <td>0.0</td>\n",
       "      <td>0.0</td>\n",
       "      <td>1.0</td>\n",
       "      <td>1.0</td>\n",
       "      <td>0.0</td>\n",
       "      <td>0.0</td>\n",
       "      <td>0.0</td>\n",
       "      <td>0.0</td>\n",
       "      <td>1.0</td>\n",
       "      <td>1.0</td>\n",
       "      <td>0.0</td>\n",
       "      <td>1.0</td>\n",
       "      <td>1.0</td>\n",
       "      <td>1.0</td>\n",
       "      <td>0.0</td>\n",
       "      <td>0.0</td>\n",
       "      <td>False</td>\n",
       "      <td>3.8</td>\n",
       "      <td>Sedans</td>\n",
       "      <td>Black</td>\n",
       "      <td>Automatic</td>\n",
       "      <td>NaN</td>\n",
       "      <td>0</td>\n",
       "      <td>Metallic</td>\n",
       "      <td>14640</td>\n",
       "      <td>Sportback 1.6 TDI S tronic Einparkhilfe plus+music</td>\n",
       "      <td>VAT deductible</td>\n",
       "      <td>3.0</td>\n",
       "      <td>...</td>\n",
       "      <td>0.0</td>\n",
       "      <td>1.0</td>\n",
       "      <td>0.0</td>\n",
       "      <td>0.0</td>\n",
       "      <td>0.0</td>\n",
       "      <td>0.0</td>\n",
       "      <td>1.0</td>\n",
       "      <td>0.0</td>\n",
       "      <td>0.0</td>\n",
       "      <td>1.0</td>\n",
       "      <td>0.0</td>\n",
       "      <td>0.0</td>\n",
       "      <td>0.0</td>\n",
       "      <td>1.0</td>\n",
       "      <td>1.0</td>\n",
       "      <td>0.0</td>\n",
       "      <td>1.0</td>\n",
       "      <td>0.0</td>\n",
       "      <td>0.0</td>\n",
       "      <td>1.0</td>\n",
       "      <td>1.0</td>\n",
       "      <td>1.0</td>\n",
       "      <td>0.0</td>\n",
       "      <td>1.0</td>\n",
       "      <td>0.0</td>\n",
       "      <td>0.0</td>\n",
       "      <td>1.0</td>\n",
       "      <td>0.0</td>\n",
       "      <td>0.0</td>\n",
       "      <td>0.0</td>\n",
       "      <td>0.0</td>\n",
       "      <td>1.0</td>\n",
       "      <td>0.0</td>\n",
       "      <td>0.0</td>\n",
       "      <td>0.0</td>\n",
       "      <td>0.0</td>\n",
       "      <td>0.0</td>\n",
       "      <td>0.0</td>\n",
       "      <td>0.0</td>\n",
       "      <td>0.0</td>\n",
       "      <td>0.0</td>\n",
       "      <td>0.0</td>\n",
       "      <td>0.0</td>\n",
       "      <td>0.0</td>\n",
       "      <td>0.0</td>\n",
       "      <td>0.0</td>\n",
       "      <td>1.0</td>\n",
       "      <td>0.0</td>\n",
       "      <td>NaN</td>\n",
       "      <td>114.0</td>\n",
       "    </tr>\n",
       "  </tbody>\n",
       "</table>\n",
       "<p>3 rows × 128 columns</p>\n",
       "</div>"
      ],
      "text/plain": [
       "   co2_emission country_version  cylinders  displacement  make model  \\\n",
       "0          99.0             NaN        3.0        1422.0  Audi    A1   \n",
       "1         129.0             NaN        4.0        1798.0  Audi    A1   \n",
       "2          99.0             NaN        NaN        1598.0  Audi    A1   \n",
       "\n",
       "  model_code     hp       km  ss_abs  ss_adaptive_cruise_control  \\\n",
       "0   0588/BDF   66.0  56013.0     1.0                         0.0   \n",
       "1   0588/BCY  141.0  80000.0     1.0                         0.0   \n",
       "2        NaN   85.0  83450.0     1.0                         0.0   \n",
       "\n",
       "   ss_adaptive_headlights  ss_alarm_system  ss_blind_spot_monitor  \\\n",
       "0                     0.0              0.0                    0.0   \n",
       "1                     0.0              0.0                    0.0   \n",
       "2                     0.0              0.0                    0.0   \n",
       "\n",
       "   ss_central_door_lock  ss_central_door_lock_with_remote_control  \\\n",
       "0                   1.0                                       0.0   \n",
       "1                   1.0                                       1.0   \n",
       "2                   1.0                                       0.0   \n",
       "\n",
       "   ss_daytime_running_lights  ss_driver_drowsiness_detection  \\\n",
       "0                        1.0                             0.0   \n",
       "1                        1.0                             0.0   \n",
       "2                        1.0                             0.0   \n",
       "\n",
       "   ss_driver_side_airbag  ss_electronic_stability_control  \\\n",
       "0                    1.0                              1.0   \n",
       "1                    1.0                              1.0   \n",
       "2                    1.0                              1.0   \n",
       "\n",
       "   ss_emergency_brake_assistant  ss_emergency_system  ss_fog_lights  \\\n",
       "0                           0.0                  0.0            1.0   \n",
       "1                           0.0                  0.0            0.0   \n",
       "2                           0.0                  0.0            0.0   \n",
       "\n",
       "   ss_head_airbag  ss_immobilizer  ss_isofix  ss_led_daytime_running_lights  \\\n",
       "0             0.0             1.0        1.0                            0.0   \n",
       "1             1.0             1.0        1.0                            0.0   \n",
       "2             0.0             1.0        1.0                            0.0   \n",
       "\n",
       "   ss_led_headlights  ss_lane_departure_warning_system  ss_night_view_assist  \\\n",
       "0                0.0                               0.0                   0.0   \n",
       "1                0.0                               0.0                   0.0   \n",
       "2                0.0                               0.0                   0.0   \n",
       "\n",
       "   ss_passenger_side_airbag  ss_power_steering  ss_rear_airbag  \\\n",
       "0                       1.0                1.0             0.0   \n",
       "1                       1.0                1.0             0.0   \n",
       "2                       1.0                1.0             0.0   \n",
       "\n",
       "   ss_side_airbag  ss_tire_pressure_monitoring_system  ss_traction_control  \\\n",
       "0             1.0                                 1.0                  1.0   \n",
       "1             1.0                                 1.0                  1.0   \n",
       "2             1.0                                 1.0                  1.0   \n",
       "\n",
       "   ss_traffic_sign_recognition  ss_xenon_headlights  next_inspection_bool  \\\n",
       "0                          0.0                  1.0                  True   \n",
       "1                          0.0                  1.0                 False   \n",
       "2                          0.0                  0.0                 False   \n",
       "\n",
       "   consumption_comb    body body_color gearing_type  gears  inspection_new  \\\n",
       "0               3.8  Sedans      Black    Automatic    NaN               1   \n",
       "1               5.6  Sedans        Red    Automatic    7.0               0   \n",
       "2               3.8  Sedans      Black    Automatic    NaN               0   \n",
       "\n",
       "  paint_type  price                                   short_description  \\\n",
       "0   Metallic  15770         Sportback 1.4 TDI S-tronic Xenon Navi Klima   \n",
       "1        NaN  14500                                      1.8 TFSI sport   \n",
       "2   Metallic  14640  Sportback 1.6 TDI S tronic Einparkhilfe plus+music   \n",
       "\n",
       "                vat  age  ...  cc_electric_tailgate  \\\n",
       "0    VAT deductible  3.0  ...                   0.0   \n",
       "1  Price negotiable  2.0  ...                   0.0   \n",
       "2    VAT deductible  3.0  ...                   0.0   \n",
       "\n",
       "   cc_electrical_side_mirrors  cc_electrically_adjustable_seats  \\\n",
       "0                         1.0                               0.0   \n",
       "1                         0.0                               0.0   \n",
       "2                         1.0                               0.0   \n",
       "\n",
       "   cc_electrically_heated_windshield  cc_heads_up_display  \\\n",
       "0                                0.0                  0.0   \n",
       "1                                0.0                  0.0   \n",
       "2                                0.0                  0.0   \n",
       "\n",
       "   cc_heated_steering_wheel  cc_hill_holder  cc_keyless_central_door_lock  \\\n",
       "0                       0.0             1.0                           0.0   \n",
       "1                       0.0             1.0                           0.0   \n",
       "2                       0.0             1.0                           0.0   \n",
       "\n",
       "   cc_leather_seats  cc_leather_steering_wheel cc_light_sensor  \\\n",
       "0               0.0                        1.0             1.0   \n",
       "1               0.0                        1.0             0.0   \n",
       "2               0.0                        1.0             0.0   \n",
       "\n",
       "  cc_lumbar_support cc_massage_seats cc_multi_function_steering_wheel  \\\n",
       "0               0.0              0.0                              1.0   \n",
       "1               1.0              0.0                              0.0   \n",
       "2               0.0              0.0                              1.0   \n",
       "\n",
       "   cc_navigation_system  cc_panorama_roof  cc_park_distance_control  \\\n",
       "0                   1.0               0.0                       1.0   \n",
       "1                   0.0               0.0                       0.0   \n",
       "2                   1.0               0.0                       1.0   \n",
       "\n",
       "  cc_parking_assist_system_camera cc_parking_assist_system_self_steering  \\\n",
       "0                             0.0                                    0.0   \n",
       "1                             0.0                                    0.0   \n",
       "2                             0.0                                    0.0   \n",
       "\n",
       "   cc_parking_assist_system_sensors_front  \\\n",
       "0                                     0.0   \n",
       "1                                     0.0   \n",
       "2                                     1.0   \n",
       "\n",
       "  cc_parking_assist_system_sensors_rear  cc_power_windows  cc_rain_sensor  \\\n",
       "0                                   1.0               1.0             1.0   \n",
       "1                                   1.0               1.0             0.0   \n",
       "2                                   1.0               1.0             0.0   \n",
       "\n",
       "   cc_seat_heating  cc_seat_ventilation  cc_split_rear_seats  \\\n",
       "0              1.0                  0.0                  0.0   \n",
       "1              0.0                  0.0                  0.0   \n",
       "2              1.0                  0.0                  0.0   \n",
       "\n",
       "   cc_start_stop_system  cc_sunroof  cc_tinted_windows  cc_wind_deflector  \\\n",
       "0                   1.0         0.0                0.0                0.0   \n",
       "1                   1.0         0.0                1.0                0.0   \n",
       "2                   1.0         0.0                0.0                0.0   \n",
       "\n",
       "   cc_windshield  ext_alloy_wheels  ext_cab_or_rented_car  \\\n",
       "0            0.0               1.0                    0.0   \n",
       "1            0.0               1.0                    0.0   \n",
       "2            0.0               1.0                    0.0   \n",
       "\n",
       "   ext_catalytic_converter  ext_handicapped_enabled  ext_right_hand_drive  \\\n",
       "0                      1.0                      0.0                   0.0   \n",
       "1                      0.0                      0.0                   0.0   \n",
       "2                      0.0                      0.0                   0.0   \n",
       "\n",
       "   ext_roof_rack  ext_shift_paddles  ext_ski_bag  ext_sliding_door  \\\n",
       "0            0.0                0.0          0.0               0.0   \n",
       "1            0.0                0.0          0.0               0.0   \n",
       "2            0.0                0.0          0.0               0.0   \n",
       "\n",
       "   ext_sport_package  ext_sport_seats  ext_sport_suspension  ext_touch_screen  \\\n",
       "0                0.0              0.0                   0.0               0.0   \n",
       "1                0.0              1.0                   1.0               0.0   \n",
       "2                0.0              0.0                   0.0               0.0   \n",
       "\n",
       "   ext_trailer_hitch  ext_tuned_car  ext_voice_control  ext_winter_tyres  \\\n",
       "0                0.0            0.0                1.0               0.0   \n",
       "1                0.0            0.0                1.0               0.0   \n",
       "2                0.0            0.0                1.0               0.0   \n",
       "\n",
       "   weight_kg    hp2  \n",
       "0     1220.0   88.0  \n",
       "1     1255.0  189.0  \n",
       "2        NaN  114.0  \n",
       "\n",
       "[3 rows x 128 columns]"
      ]
     },
     "execution_count": 145,
     "metadata": {},
     "output_type": "execute_result"
    }
   ],
   "source": [
    "df = pd.read_pickle(\"../data/autos_20190708.pkl\")\n",
    "df.head(3)"
   ]
  },
  {
   "cell_type": "code",
   "execution_count": 4,
   "metadata": {},
   "outputs": [
    {
     "data": {
      "text/plain": [
       "(15919, 136)"
      ]
     },
     "execution_count": 4,
     "metadata": {},
     "output_type": "execute_result"
    }
   ],
   "source": [
    "df.shape"
   ]
  },
  {
   "cell_type": "markdown",
   "metadata": {},
   "source": [
    "## Dealing with Missing Values"
   ]
  },
  {
   "cell_type": "code",
   "execution_count": 5,
   "metadata": {},
   "outputs": [],
   "source": [
    "# make a copy\n",
    "df_v = df.copy()"
   ]
  },
  {
   "cell_type": "code",
   "execution_count": 6,
   "metadata": {},
   "outputs": [
    {
     "name": "stdout",
     "output_type": "stream",
     "text": [
      "<class 'pandas.core.frame.DataFrame'>\n",
      "(15919, 136)\n"
     ]
    },
    {
     "data": {
      "text/html": [
       "<div>\n",
       "<style scoped>\n",
       "    .dataframe tbody tr th:only-of-type {\n",
       "        vertical-align: middle;\n",
       "    }\n",
       "\n",
       "    .dataframe tbody tr th {\n",
       "        vertical-align: top;\n",
       "    }\n",
       "\n",
       "    .dataframe thead th {\n",
       "        text-align: right;\n",
       "    }\n",
       "</style>\n",
       "<table border=\"1\" class=\"dataframe\">\n",
       "  <thead>\n",
       "    <tr style=\"text-align: right;\">\n",
       "      <th></th>\n",
       "      <th>co2_emission</th>\n",
       "      <th>country_version</th>\n",
       "      <th>cylinders</th>\n",
       "      <th>displacement</th>\n",
       "      <th>make</th>\n",
       "      <th>model</th>\n",
       "      <th>model_code</th>\n",
       "      <th>next_inspection</th>\n",
       "      <th>body_type</th>\n",
       "      <th>description</th>\n",
       "      <th>hp</th>\n",
       "      <th>km</th>\n",
       "      <th>offer_number</th>\n",
       "      <th>ss_abs</th>\n",
       "      <th>ss_adaptive_cruise_control</th>\n",
       "      <th>ss_adaptive_headlights</th>\n",
       "      <th>ss_alarm_system</th>\n",
       "      <th>ss_blind_spot_monitor</th>\n",
       "      <th>ss_central_door_lock</th>\n",
       "      <th>ss_central_door_lock_with_remote_control</th>\n",
       "      <th>ss_daytime_running_lights</th>\n",
       "      <th>ss_driver_drowsiness_detection</th>\n",
       "      <th>ss_driver_side_airbag</th>\n",
       "      <th>ss_electronic_stability_control</th>\n",
       "      <th>ss_emergency_brake_assistant</th>\n",
       "      <th>ss_emergency_system</th>\n",
       "      <th>ss_fog_lights</th>\n",
       "      <th>ss_head_airbag</th>\n",
       "      <th>ss_immobilizer</th>\n",
       "      <th>ss_isofix</th>\n",
       "      <th>ss_led_daytime_running_lights</th>\n",
       "      <th>ss_led_headlights</th>\n",
       "      <th>ss_lane_departure_warning_system</th>\n",
       "      <th>ss_night_view_assist</th>\n",
       "      <th>ss_passenger_side_airbag</th>\n",
       "      <th>ss_power_steering</th>\n",
       "      <th>ss_rear_airbag</th>\n",
       "      <th>ss_side_airbag</th>\n",
       "      <th>ss_tire_pressure_monitoring_system</th>\n",
       "      <th>ss_traction_control</th>\n",
       "      <th>ss_traffic_sign_recognition</th>\n",
       "      <th>ss_xenon_headlights</th>\n",
       "      <th>next_inspection_bool</th>\n",
       "      <th>consumption_comb</th>\n",
       "      <th>available_from</th>\n",
       "      <th>body</th>\n",
       "      <th>body_color</th>\n",
       "      <th>gearing_type</th>\n",
       "      <th>gears</th>\n",
       "      <th>inspection_new</th>\n",
       "      <th>...</th>\n",
       "      <th>cc_electric_starter</th>\n",
       "      <th>cc_electric_tailgate</th>\n",
       "      <th>cc_electrical_side_mirrors</th>\n",
       "      <th>cc_electrically_adjustable_seats</th>\n",
       "      <th>cc_electrically_heated_windshield</th>\n",
       "      <th>cc_heads_up_display</th>\n",
       "      <th>cc_heated_steering_wheel</th>\n",
       "      <th>cc_hill_holder</th>\n",
       "      <th>cc_keyless_central_door_lock</th>\n",
       "      <th>cc_leather_seats</th>\n",
       "      <th>cc_leather_steering_wheel</th>\n",
       "      <th>cc_light_sensor</th>\n",
       "      <th>cc_lumbar_support</th>\n",
       "      <th>cc_massage_seats</th>\n",
       "      <th>cc_multi_function_steering_wheel</th>\n",
       "      <th>cc_navigation_system</th>\n",
       "      <th>cc_panorama_roof</th>\n",
       "      <th>cc_park_distance_control</th>\n",
       "      <th>cc_parking_assist_system_camera</th>\n",
       "      <th>cc_parking_assist_system_self_steering</th>\n",
       "      <th>cc_parking_assist_system_sensors_front</th>\n",
       "      <th>cc_parking_assist_system_sensors_rear</th>\n",
       "      <th>cc_power_windows</th>\n",
       "      <th>cc_rain_sensor</th>\n",
       "      <th>cc_seat_heating</th>\n",
       "      <th>cc_seat_ventilation</th>\n",
       "      <th>cc_split_rear_seats</th>\n",
       "      <th>cc_start_stop_system</th>\n",
       "      <th>cc_sunroof</th>\n",
       "      <th>cc_tinted_windows</th>\n",
       "      <th>cc_wind_deflector</th>\n",
       "      <th>cc_windshield</th>\n",
       "      <th>ext_alloy_wheels</th>\n",
       "      <th>ext_cab_or_rented_car</th>\n",
       "      <th>ext_catalytic_converter</th>\n",
       "      <th>ext_handicapped_enabled</th>\n",
       "      <th>ext_right_hand_drive</th>\n",
       "      <th>ext_roof_rack</th>\n",
       "      <th>ext_shift_paddles</th>\n",
       "      <th>ext_ski_bag</th>\n",
       "      <th>ext_sliding_door</th>\n",
       "      <th>ext_sport_package</th>\n",
       "      <th>ext_sport_seats</th>\n",
       "      <th>ext_sport_suspension</th>\n",
       "      <th>ext_touch_screen</th>\n",
       "      <th>ext_trailer_hitch</th>\n",
       "      <th>ext_tuned_car</th>\n",
       "      <th>ext_voice_control</th>\n",
       "      <th>ext_winter_tyres</th>\n",
       "      <th>weight_kg</th>\n",
       "    </tr>\n",
       "  </thead>\n",
       "  <tbody>\n",
       "    <tr>\n",
       "      <th>0</th>\n",
       "      <td>False</td>\n",
       "      <td>True</td>\n",
       "      <td>False</td>\n",
       "      <td>False</td>\n",
       "      <td>False</td>\n",
       "      <td>False</td>\n",
       "      <td>False</td>\n",
       "      <td>False</td>\n",
       "      <td>False</td>\n",
       "      <td>False</td>\n",
       "      <td>False</td>\n",
       "      <td>False</td>\n",
       "      <td>False</td>\n",
       "      <td>False</td>\n",
       "      <td>False</td>\n",
       "      <td>False</td>\n",
       "      <td>False</td>\n",
       "      <td>False</td>\n",
       "      <td>False</td>\n",
       "      <td>False</td>\n",
       "      <td>False</td>\n",
       "      <td>False</td>\n",
       "      <td>False</td>\n",
       "      <td>False</td>\n",
       "      <td>False</td>\n",
       "      <td>False</td>\n",
       "      <td>False</td>\n",
       "      <td>False</td>\n",
       "      <td>False</td>\n",
       "      <td>False</td>\n",
       "      <td>False</td>\n",
       "      <td>False</td>\n",
       "      <td>False</td>\n",
       "      <td>False</td>\n",
       "      <td>False</td>\n",
       "      <td>False</td>\n",
       "      <td>False</td>\n",
       "      <td>False</td>\n",
       "      <td>False</td>\n",
       "      <td>False</td>\n",
       "      <td>False</td>\n",
       "      <td>False</td>\n",
       "      <td>False</td>\n",
       "      <td>False</td>\n",
       "      <td>True</td>\n",
       "      <td>False</td>\n",
       "      <td>False</td>\n",
       "      <td>False</td>\n",
       "      <td>True</td>\n",
       "      <td>False</td>\n",
       "      <td>...</td>\n",
       "      <td>False</td>\n",
       "      <td>False</td>\n",
       "      <td>False</td>\n",
       "      <td>False</td>\n",
       "      <td>False</td>\n",
       "      <td>False</td>\n",
       "      <td>False</td>\n",
       "      <td>False</td>\n",
       "      <td>False</td>\n",
       "      <td>False</td>\n",
       "      <td>False</td>\n",
       "      <td>False</td>\n",
       "      <td>False</td>\n",
       "      <td>False</td>\n",
       "      <td>False</td>\n",
       "      <td>False</td>\n",
       "      <td>False</td>\n",
       "      <td>False</td>\n",
       "      <td>False</td>\n",
       "      <td>False</td>\n",
       "      <td>False</td>\n",
       "      <td>False</td>\n",
       "      <td>False</td>\n",
       "      <td>False</td>\n",
       "      <td>False</td>\n",
       "      <td>False</td>\n",
       "      <td>False</td>\n",
       "      <td>False</td>\n",
       "      <td>False</td>\n",
       "      <td>False</td>\n",
       "      <td>False</td>\n",
       "      <td>False</td>\n",
       "      <td>False</td>\n",
       "      <td>False</td>\n",
       "      <td>False</td>\n",
       "      <td>False</td>\n",
       "      <td>False</td>\n",
       "      <td>False</td>\n",
       "      <td>False</td>\n",
       "      <td>False</td>\n",
       "      <td>False</td>\n",
       "      <td>False</td>\n",
       "      <td>False</td>\n",
       "      <td>False</td>\n",
       "      <td>False</td>\n",
       "      <td>False</td>\n",
       "      <td>False</td>\n",
       "      <td>False</td>\n",
       "      <td>False</td>\n",
       "      <td>False</td>\n",
       "    </tr>\n",
       "    <tr>\n",
       "      <th>1</th>\n",
       "      <td>False</td>\n",
       "      <td>True</td>\n",
       "      <td>False</td>\n",
       "      <td>False</td>\n",
       "      <td>False</td>\n",
       "      <td>False</td>\n",
       "      <td>False</td>\n",
       "      <td>True</td>\n",
       "      <td>False</td>\n",
       "      <td>False</td>\n",
       "      <td>False</td>\n",
       "      <td>False</td>\n",
       "      <td>True</td>\n",
       "      <td>False</td>\n",
       "      <td>False</td>\n",
       "      <td>False</td>\n",
       "      <td>False</td>\n",
       "      <td>False</td>\n",
       "      <td>False</td>\n",
       "      <td>False</td>\n",
       "      <td>False</td>\n",
       "      <td>False</td>\n",
       "      <td>False</td>\n",
       "      <td>False</td>\n",
       "      <td>False</td>\n",
       "      <td>False</td>\n",
       "      <td>False</td>\n",
       "      <td>False</td>\n",
       "      <td>False</td>\n",
       "      <td>False</td>\n",
       "      <td>False</td>\n",
       "      <td>False</td>\n",
       "      <td>False</td>\n",
       "      <td>False</td>\n",
       "      <td>False</td>\n",
       "      <td>False</td>\n",
       "      <td>False</td>\n",
       "      <td>False</td>\n",
       "      <td>False</td>\n",
       "      <td>False</td>\n",
       "      <td>False</td>\n",
       "      <td>False</td>\n",
       "      <td>False</td>\n",
       "      <td>False</td>\n",
       "      <td>True</td>\n",
       "      <td>False</td>\n",
       "      <td>False</td>\n",
       "      <td>False</td>\n",
       "      <td>False</td>\n",
       "      <td>False</td>\n",
       "      <td>...</td>\n",
       "      <td>False</td>\n",
       "      <td>False</td>\n",
       "      <td>False</td>\n",
       "      <td>False</td>\n",
       "      <td>False</td>\n",
       "      <td>False</td>\n",
       "      <td>False</td>\n",
       "      <td>False</td>\n",
       "      <td>False</td>\n",
       "      <td>False</td>\n",
       "      <td>False</td>\n",
       "      <td>False</td>\n",
       "      <td>False</td>\n",
       "      <td>False</td>\n",
       "      <td>False</td>\n",
       "      <td>False</td>\n",
       "      <td>False</td>\n",
       "      <td>False</td>\n",
       "      <td>False</td>\n",
       "      <td>False</td>\n",
       "      <td>False</td>\n",
       "      <td>False</td>\n",
       "      <td>False</td>\n",
       "      <td>False</td>\n",
       "      <td>False</td>\n",
       "      <td>False</td>\n",
       "      <td>False</td>\n",
       "      <td>False</td>\n",
       "      <td>False</td>\n",
       "      <td>False</td>\n",
       "      <td>False</td>\n",
       "      <td>False</td>\n",
       "      <td>False</td>\n",
       "      <td>False</td>\n",
       "      <td>False</td>\n",
       "      <td>False</td>\n",
       "      <td>False</td>\n",
       "      <td>False</td>\n",
       "      <td>False</td>\n",
       "      <td>False</td>\n",
       "      <td>False</td>\n",
       "      <td>False</td>\n",
       "      <td>False</td>\n",
       "      <td>False</td>\n",
       "      <td>False</td>\n",
       "      <td>False</td>\n",
       "      <td>False</td>\n",
       "      <td>False</td>\n",
       "      <td>False</td>\n",
       "      <td>False</td>\n",
       "    </tr>\n",
       "    <tr>\n",
       "      <th>2</th>\n",
       "      <td>False</td>\n",
       "      <td>True</td>\n",
       "      <td>True</td>\n",
       "      <td>False</td>\n",
       "      <td>False</td>\n",
       "      <td>False</td>\n",
       "      <td>True</td>\n",
       "      <td>True</td>\n",
       "      <td>False</td>\n",
       "      <td>False</td>\n",
       "      <td>False</td>\n",
       "      <td>False</td>\n",
       "      <td>False</td>\n",
       "      <td>False</td>\n",
       "      <td>False</td>\n",
       "      <td>False</td>\n",
       "      <td>False</td>\n",
       "      <td>False</td>\n",
       "      <td>False</td>\n",
       "      <td>False</td>\n",
       "      <td>False</td>\n",
       "      <td>False</td>\n",
       "      <td>False</td>\n",
       "      <td>False</td>\n",
       "      <td>False</td>\n",
       "      <td>False</td>\n",
       "      <td>False</td>\n",
       "      <td>False</td>\n",
       "      <td>False</td>\n",
       "      <td>False</td>\n",
       "      <td>False</td>\n",
       "      <td>False</td>\n",
       "      <td>False</td>\n",
       "      <td>False</td>\n",
       "      <td>False</td>\n",
       "      <td>False</td>\n",
       "      <td>False</td>\n",
       "      <td>False</td>\n",
       "      <td>False</td>\n",
       "      <td>False</td>\n",
       "      <td>False</td>\n",
       "      <td>False</td>\n",
       "      <td>False</td>\n",
       "      <td>False</td>\n",
       "      <td>True</td>\n",
       "      <td>False</td>\n",
       "      <td>False</td>\n",
       "      <td>False</td>\n",
       "      <td>True</td>\n",
       "      <td>False</td>\n",
       "      <td>...</td>\n",
       "      <td>False</td>\n",
       "      <td>False</td>\n",
       "      <td>False</td>\n",
       "      <td>False</td>\n",
       "      <td>False</td>\n",
       "      <td>False</td>\n",
       "      <td>False</td>\n",
       "      <td>False</td>\n",
       "      <td>False</td>\n",
       "      <td>False</td>\n",
       "      <td>False</td>\n",
       "      <td>False</td>\n",
       "      <td>False</td>\n",
       "      <td>False</td>\n",
       "      <td>False</td>\n",
       "      <td>False</td>\n",
       "      <td>False</td>\n",
       "      <td>False</td>\n",
       "      <td>False</td>\n",
       "      <td>False</td>\n",
       "      <td>False</td>\n",
       "      <td>False</td>\n",
       "      <td>False</td>\n",
       "      <td>False</td>\n",
       "      <td>False</td>\n",
       "      <td>False</td>\n",
       "      <td>False</td>\n",
       "      <td>False</td>\n",
       "      <td>False</td>\n",
       "      <td>False</td>\n",
       "      <td>False</td>\n",
       "      <td>False</td>\n",
       "      <td>False</td>\n",
       "      <td>False</td>\n",
       "      <td>False</td>\n",
       "      <td>False</td>\n",
       "      <td>False</td>\n",
       "      <td>False</td>\n",
       "      <td>False</td>\n",
       "      <td>False</td>\n",
       "      <td>False</td>\n",
       "      <td>False</td>\n",
       "      <td>False</td>\n",
       "      <td>False</td>\n",
       "      <td>False</td>\n",
       "      <td>False</td>\n",
       "      <td>False</td>\n",
       "      <td>False</td>\n",
       "      <td>False</td>\n",
       "      <td>True</td>\n",
       "    </tr>\n",
       "  </tbody>\n",
       "</table>\n",
       "<p>3 rows × 136 columns</p>\n",
       "</div>"
      ],
      "text/plain": [
       "   co2_emission  country_version  cylinders  displacement   make  model  \\\n",
       "0         False             True      False         False  False  False   \n",
       "1         False             True      False         False  False  False   \n",
       "2         False             True       True         False  False  False   \n",
       "\n",
       "   model_code  next_inspection  body_type  description     hp     km  \\\n",
       "0       False            False      False        False  False  False   \n",
       "1       False             True      False        False  False  False   \n",
       "2        True             True      False        False  False  False   \n",
       "\n",
       "   offer_number  ss_abs  ss_adaptive_cruise_control  ss_adaptive_headlights  \\\n",
       "0         False   False                       False                   False   \n",
       "1          True   False                       False                   False   \n",
       "2         False   False                       False                   False   \n",
       "\n",
       "   ss_alarm_system  ss_blind_spot_monitor  ss_central_door_lock  \\\n",
       "0            False                  False                 False   \n",
       "1            False                  False                 False   \n",
       "2            False                  False                 False   \n",
       "\n",
       "   ss_central_door_lock_with_remote_control  ss_daytime_running_lights  \\\n",
       "0                                     False                      False   \n",
       "1                                     False                      False   \n",
       "2                                     False                      False   \n",
       "\n",
       "   ss_driver_drowsiness_detection  ss_driver_side_airbag  \\\n",
       "0                           False                  False   \n",
       "1                           False                  False   \n",
       "2                           False                  False   \n",
       "\n",
       "   ss_electronic_stability_control  ss_emergency_brake_assistant  \\\n",
       "0                            False                         False   \n",
       "1                            False                         False   \n",
       "2                            False                         False   \n",
       "\n",
       "   ss_emergency_system  ss_fog_lights  ss_head_airbag  ss_immobilizer  \\\n",
       "0                False          False           False           False   \n",
       "1                False          False           False           False   \n",
       "2                False          False           False           False   \n",
       "\n",
       "   ss_isofix  ss_led_daytime_running_lights  ss_led_headlights  \\\n",
       "0      False                          False              False   \n",
       "1      False                          False              False   \n",
       "2      False                          False              False   \n",
       "\n",
       "   ss_lane_departure_warning_system  ss_night_view_assist  \\\n",
       "0                             False                 False   \n",
       "1                             False                 False   \n",
       "2                             False                 False   \n",
       "\n",
       "   ss_passenger_side_airbag  ss_power_steering  ss_rear_airbag  \\\n",
       "0                     False              False           False   \n",
       "1                     False              False           False   \n",
       "2                     False              False           False   \n",
       "\n",
       "   ss_side_airbag  ss_tire_pressure_monitoring_system  ss_traction_control  \\\n",
       "0           False                               False                False   \n",
       "1           False                               False                False   \n",
       "2           False                               False                False   \n",
       "\n",
       "   ss_traffic_sign_recognition  ss_xenon_headlights  next_inspection_bool  \\\n",
       "0                        False                False                 False   \n",
       "1                        False                False                 False   \n",
       "2                        False                False                 False   \n",
       "\n",
       "   consumption_comb  available_from   body  body_color  gearing_type  gears  \\\n",
       "0             False            True  False       False         False   True   \n",
       "1             False            True  False       False         False  False   \n",
       "2             False            True  False       False         False   True   \n",
       "\n",
       "   inspection_new  ...  cc_electric_starter  cc_electric_tailgate  \\\n",
       "0           False  ...                False                 False   \n",
       "1           False  ...                False                 False   \n",
       "2           False  ...                False                 False   \n",
       "\n",
       "   cc_electrical_side_mirrors  cc_electrically_adjustable_seats  \\\n",
       "0                       False                             False   \n",
       "1                       False                             False   \n",
       "2                       False                             False   \n",
       "\n",
       "   cc_electrically_heated_windshield  cc_heads_up_display  \\\n",
       "0                              False                False   \n",
       "1                              False                False   \n",
       "2                              False                False   \n",
       "\n",
       "   cc_heated_steering_wheel  cc_hill_holder  cc_keyless_central_door_lock  \\\n",
       "0                     False           False                         False   \n",
       "1                     False           False                         False   \n",
       "2                     False           False                         False   \n",
       "\n",
       "   cc_leather_seats  cc_leather_steering_wheel  cc_light_sensor  \\\n",
       "0             False                      False            False   \n",
       "1             False                      False            False   \n",
       "2             False                      False            False   \n",
       "\n",
       "   cc_lumbar_support  cc_massage_seats  cc_multi_function_steering_wheel  \\\n",
       "0              False             False                             False   \n",
       "1              False             False                             False   \n",
       "2              False             False                             False   \n",
       "\n",
       "   cc_navigation_system  cc_panorama_roof  cc_park_distance_control  \\\n",
       "0                 False             False                     False   \n",
       "1                 False             False                     False   \n",
       "2                 False             False                     False   \n",
       "\n",
       "   cc_parking_assist_system_camera  cc_parking_assist_system_self_steering  \\\n",
       "0                            False                                   False   \n",
       "1                            False                                   False   \n",
       "2                            False                                   False   \n",
       "\n",
       "   cc_parking_assist_system_sensors_front  \\\n",
       "0                                   False   \n",
       "1                                   False   \n",
       "2                                   False   \n",
       "\n",
       "   cc_parking_assist_system_sensors_rear  cc_power_windows  cc_rain_sensor  \\\n",
       "0                                  False             False           False   \n",
       "1                                  False             False           False   \n",
       "2                                  False             False           False   \n",
       "\n",
       "   cc_seat_heating  cc_seat_ventilation  cc_split_rear_seats  \\\n",
       "0            False                False                False   \n",
       "1            False                False                False   \n",
       "2            False                False                False   \n",
       "\n",
       "   cc_start_stop_system  cc_sunroof  cc_tinted_windows  cc_wind_deflector  \\\n",
       "0                 False       False              False              False   \n",
       "1                 False       False              False              False   \n",
       "2                 False       False              False              False   \n",
       "\n",
       "   cc_windshield  ext_alloy_wheels  ext_cab_or_rented_car  \\\n",
       "0          False             False                  False   \n",
       "1          False             False                  False   \n",
       "2          False             False                  False   \n",
       "\n",
       "   ext_catalytic_converter  ext_handicapped_enabled  ext_right_hand_drive  \\\n",
       "0                    False                    False                 False   \n",
       "1                    False                    False                 False   \n",
       "2                    False                    False                 False   \n",
       "\n",
       "   ext_roof_rack  ext_shift_paddles  ext_ski_bag  ext_sliding_door  \\\n",
       "0          False              False        False             False   \n",
       "1          False              False        False             False   \n",
       "2          False              False        False             False   \n",
       "\n",
       "   ext_sport_package  ext_sport_seats  ext_sport_suspension  ext_touch_screen  \\\n",
       "0              False            False                 False             False   \n",
       "1              False            False                 False             False   \n",
       "2              False            False                 False             False   \n",
       "\n",
       "   ext_trailer_hitch  ext_tuned_car  ext_voice_control  ext_winter_tyres  \\\n",
       "0              False          False              False             False   \n",
       "1              False          False              False             False   \n",
       "2              False          False              False             False   \n",
       "\n",
       "   weight_kg  \n",
       "0      False  \n",
       "1      False  \n",
       "2       True  \n",
       "\n",
       "[3 rows x 136 columns]"
      ]
     },
     "execution_count": 6,
     "metadata": {},
     "output_type": "execute_result"
    }
   ],
   "source": [
    "null_df = df.isnull()\n",
    "print(type(null_df))\n",
    "print(null_df.shape)\n",
    "null_df.head(3)"
   ]
  },
  {
   "cell_type": "markdown",
   "metadata": {},
   "source": [
    "df.isnull() bring us a dataframe which consists of boolean values"
   ]
  },
  {
   "cell_type": "code",
   "execution_count": 7,
   "metadata": {},
   "outputs": [],
   "source": [
    "# drop columns which have missing values more than %20.\n",
    "drop_list = df.columns[df.notnull().mean() < 0.20]\n",
    "df.drop(drop_list, axis=1, inplace=True)"
   ]
  },
  {
   "cell_type": "code",
   "execution_count": 8,
   "metadata": {},
   "outputs": [],
   "source": [
    "#drop double columns:\n",
    "df.drop(['body_type', 'first_registration'], axis=1, inplace=True)"
   ]
  },
  {
   "cell_type": "code",
   "execution_count": 9,
   "metadata": {},
   "outputs": [],
   "source": [
    "# offer_number has many unique values.(5956). Let's drop it.\n",
    "df.drop('offer_number', axis=1, inplace=True)"
   ]
  },
  {
   "cell_type": "code",
   "execution_count": 63,
   "metadata": {},
   "outputs": [],
   "source": [
    "df.drop('description', axis=1, inplace=True)"
   ]
  },
  {
   "cell_type": "code",
   "execution_count": 65,
   "metadata": {},
   "outputs": [],
   "source": [
    "df_v = df.copy()"
   ]
  },
  {
   "cell_type": "code",
   "execution_count": 10,
   "metadata": {},
   "outputs": [
    {
     "data": {
      "text/plain": [
       "type                                      0.000126\n",
       "short_description                         0.002890\n",
       "body                                      0.003769\n",
       "hp                                        0.005528\n",
       "nr_of_doors                               0.013317\n",
       "displacement                              0.031158\n",
       "body_color                                0.037502\n",
       "cc_parking_assist_system_camera           0.057793\n",
       "cc_automatic_climate_control              0.057793\n",
       "cc_armrest                                0.057793\n",
       "cc_air_suspension                         0.057793\n",
       "cc_air_conditioning                       0.057793\n",
       "cc_parking_assist_system_self_steering    0.057793\n",
       "cc_parking_assist_system_sensors_front    0.057793\n",
       "cc_power_windows                          0.057793\n",
       "cc_auxiliary_heating                      0.057793\n",
       "cc_rain_sensor                            0.057793\n",
       "cc_sunroof                                0.057793\n",
       "cc_start_stop_system                      0.057793\n",
       "cc_split_rear_seats                       0.057793\n",
       "cc_seat_ventilation                       0.057793\n",
       "cc_parking_assist_system_sensors_rear     0.057793\n",
       "cc_cruise_control                         0.057793\n",
       "cc_electric_starter                       0.057793\n",
       "cc_electric_tailgate                      0.057793\n",
       "cc_windshield                             0.057793\n",
       "cc_wind_deflector                         0.057793\n",
       "cc_tinted_windows                         0.057793\n",
       "cc_panorama_roof                          0.057793\n",
       "cc_navigation_system                      0.057793\n",
       "                                            ...   \n",
       "consumption_comb                          0.181104\n",
       "ext_catalytic_converter                   0.186067\n",
       "ext_sport_package                         0.186067\n",
       "ext_sliding_door                          0.186067\n",
       "ext_ski_bag                               0.186067\n",
       "ext_shift_paddles                         0.186067\n",
       "ext_roof_rack                             0.186067\n",
       "ext_right_hand_drive                      0.186067\n",
       "ext_handicapped_enabled                   0.186067\n",
       "ext_cab_or_rented_car                     0.186067\n",
       "ext_alloy_wheels                          0.186067\n",
       "ext_touch_screen                          0.186067\n",
       "ext_trailer_hitch                         0.186067\n",
       "ext_tuned_car                             0.186067\n",
       "ext_voice_control                         0.186067\n",
       "ext_winter_tyres                          0.186067\n",
       "ext_sport_seats                           0.186067\n",
       "ext_sport_suspension                      0.186067\n",
       "emission_class                            0.227904\n",
       "upholstery                                0.233683\n",
       "vat                                       0.283498\n",
       "gears                                     0.295998\n",
       "cylinders                                 0.356806\n",
       "paint_type                                0.362586\n",
       "previous_owners                           0.417112\n",
       "drive_chain                               0.430806\n",
       "weight_kg                                 0.438093\n",
       "country_version                           0.523463\n",
       "model_code                                0.687292\n",
       "emission_label                            0.752183\n",
       "Length: 118, dtype: float64"
      ]
     },
     "execution_count": 10,
     "metadata": {},
     "output_type": "execute_result"
    }
   ],
   "source": [
    "# see the missing values in each columns:\n",
    "df.isnull().mean()[df.isnull().mean() > 0].sort_values(ascending=True)"
   ]
  },
  {
   "cell_type": "markdown",
   "metadata": {},
   "source": [
    "### type column"
   ]
  },
  {
   "cell_type": "code",
   "execution_count": 11,
   "metadata": {},
   "outputs": [
    {
     "data": {
      "text/plain": [
       "Used              11096\n",
       "New                1650\n",
       "Pre-registered     1364\n",
       "Employee's car     1011\n",
       "Demonstration       796\n",
       "NaN                   2\n",
       "Name: type, dtype: int64"
      ]
     },
     "execution_count": 11,
     "metadata": {},
     "output_type": "execute_result"
    }
   ],
   "source": [
    "df.type.value_counts(dropna=False)"
   ]
  },
  {
   "cell_type": "code",
   "execution_count": 12,
   "metadata": {},
   "outputs": [
    {
     "data": {
      "text/plain": [
       "<matplotlib.axes._subplots.AxesSubplot at 0x1b42312e470>"
      ]
     },
     "execution_count": 12,
     "metadata": {},
     "output_type": "execute_result"
    },
    {
     "data": {
      "image/png": "[encoded data removed]",
      "text/plain": [
       "<Figure size 576x216 with 1 Axes>"
      ]
     },
     "metadata": {
      "needs_background": "light"
     },
     "output_type": "display_data"
    }
   ],
   "source": [
    "plt.figure(figsize=(8,3))\n",
    "sns.countplot(df.type)"
   ]
  },
  {
   "cell_type": "code",
   "execution_count": 13,
   "metadata": {},
   "outputs": [
    {
     "name": "stdout",
     "output_type": "stream",
     "text": [
      "            km  age\n",
      "2765  115137.0  3.0\n",
      "5237       NaN  NaN\n"
     ]
    },
    {
     "data": {
      "text/html": [
       "<div>\n",
       "<style scoped>\n",
       "    .dataframe tbody tr th:only-of-type {\n",
       "        vertical-align: middle;\n",
       "    }\n",
       "\n",
       "    .dataframe tbody tr th {\n",
       "        vertical-align: top;\n",
       "    }\n",
       "\n",
       "    .dataframe thead th {\n",
       "        text-align: right;\n",
       "    }\n",
       "</style>\n",
       "<table border=\"1\" class=\"dataframe\">\n",
       "  <thead>\n",
       "    <tr style=\"text-align: right;\">\n",
       "      <th></th>\n",
       "      <th>co2_emission</th>\n",
       "      <th>country_version</th>\n",
       "      <th>cylinders</th>\n",
       "      <th>displacement</th>\n",
       "      <th>make</th>\n",
       "      <th>model</th>\n",
       "      <th>model_code</th>\n",
       "      <th>description</th>\n",
       "      <th>hp</th>\n",
       "      <th>km</th>\n",
       "      <th>ss_abs</th>\n",
       "      <th>ss_adaptive_cruise_control</th>\n",
       "      <th>ss_adaptive_headlights</th>\n",
       "      <th>ss_alarm_system</th>\n",
       "      <th>ss_blind_spot_monitor</th>\n",
       "      <th>ss_central_door_lock</th>\n",
       "      <th>ss_central_door_lock_with_remote_control</th>\n",
       "      <th>ss_daytime_running_lights</th>\n",
       "      <th>ss_driver_drowsiness_detection</th>\n",
       "      <th>ss_driver_side_airbag</th>\n",
       "      <th>ss_electronic_stability_control</th>\n",
       "      <th>ss_emergency_brake_assistant</th>\n",
       "      <th>ss_emergency_system</th>\n",
       "      <th>ss_fog_lights</th>\n",
       "      <th>ss_head_airbag</th>\n",
       "      <th>ss_immobilizer</th>\n",
       "      <th>ss_isofix</th>\n",
       "      <th>ss_led_daytime_running_lights</th>\n",
       "      <th>ss_led_headlights</th>\n",
       "      <th>ss_lane_departure_warning_system</th>\n",
       "      <th>ss_night_view_assist</th>\n",
       "      <th>ss_passenger_side_airbag</th>\n",
       "      <th>ss_power_steering</th>\n",
       "      <th>ss_rear_airbag</th>\n",
       "      <th>ss_side_airbag</th>\n",
       "      <th>ss_tire_pressure_monitoring_system</th>\n",
       "      <th>ss_traction_control</th>\n",
       "      <th>ss_traffic_sign_recognition</th>\n",
       "      <th>ss_xenon_headlights</th>\n",
       "      <th>next_inspection_bool</th>\n",
       "      <th>consumption_comb</th>\n",
       "      <th>body</th>\n",
       "      <th>body_color</th>\n",
       "      <th>gearing_type</th>\n",
       "      <th>gears</th>\n",
       "      <th>inspection_new</th>\n",
       "      <th>paint_type</th>\n",
       "      <th>price</th>\n",
       "      <th>short_description</th>\n",
       "      <th>vat</th>\n",
       "      <th>...</th>\n",
       "      <th>cc_electric_starter</th>\n",
       "      <th>cc_electric_tailgate</th>\n",
       "      <th>cc_electrical_side_mirrors</th>\n",
       "      <th>cc_electrically_adjustable_seats</th>\n",
       "      <th>cc_electrically_heated_windshield</th>\n",
       "      <th>cc_heads_up_display</th>\n",
       "      <th>cc_heated_steering_wheel</th>\n",
       "      <th>cc_hill_holder</th>\n",
       "      <th>cc_keyless_central_door_lock</th>\n",
       "      <th>cc_leather_seats</th>\n",
       "      <th>cc_leather_steering_wheel</th>\n",
       "      <th>cc_light_sensor</th>\n",
       "      <th>cc_lumbar_support</th>\n",
       "      <th>cc_massage_seats</th>\n",
       "      <th>cc_multi_function_steering_wheel</th>\n",
       "      <th>cc_navigation_system</th>\n",
       "      <th>cc_panorama_roof</th>\n",
       "      <th>cc_park_distance_control</th>\n",
       "      <th>cc_parking_assist_system_camera</th>\n",
       "      <th>cc_parking_assist_system_self_steering</th>\n",
       "      <th>cc_parking_assist_system_sensors_front</th>\n",
       "      <th>cc_parking_assist_system_sensors_rear</th>\n",
       "      <th>cc_power_windows</th>\n",
       "      <th>cc_rain_sensor</th>\n",
       "      <th>cc_seat_heating</th>\n",
       "      <th>cc_seat_ventilation</th>\n",
       "      <th>cc_split_rear_seats</th>\n",
       "      <th>cc_start_stop_system</th>\n",
       "      <th>cc_sunroof</th>\n",
       "      <th>cc_tinted_windows</th>\n",
       "      <th>cc_wind_deflector</th>\n",
       "      <th>cc_windshield</th>\n",
       "      <th>ext_alloy_wheels</th>\n",
       "      <th>ext_cab_or_rented_car</th>\n",
       "      <th>ext_catalytic_converter</th>\n",
       "      <th>ext_handicapped_enabled</th>\n",
       "      <th>ext_right_hand_drive</th>\n",
       "      <th>ext_roof_rack</th>\n",
       "      <th>ext_shift_paddles</th>\n",
       "      <th>ext_ski_bag</th>\n",
       "      <th>ext_sliding_door</th>\n",
       "      <th>ext_sport_package</th>\n",
       "      <th>ext_sport_seats</th>\n",
       "      <th>ext_sport_suspension</th>\n",
       "      <th>ext_touch_screen</th>\n",
       "      <th>ext_trailer_hitch</th>\n",
       "      <th>ext_tuned_car</th>\n",
       "      <th>ext_voice_control</th>\n",
       "      <th>ext_winter_tyres</th>\n",
       "      <th>weight_kg</th>\n",
       "    </tr>\n",
       "  </thead>\n",
       "  <tbody>\n",
       "    <tr>\n",
       "      <th>2765</th>\n",
       "      <td>118.0</td>\n",
       "      <td>NaN</td>\n",
       "      <td>4.0</td>\n",
       "      <td>1968.0</td>\n",
       "      <td>Audi</td>\n",
       "      <td>A3</td>\n",
       "      <td>NaN</td>\n",
       "      <td>Sicherheit: Deaktivierung für Beifahrer-Airbag ESC mit elektronischer Quersperre Tagfahrlicht Re...</td>\n",
       "      <td>110.0</td>\n",
       "      <td>115137.0</td>\n",
       "      <td>1.0</td>\n",
       "      <td>0.0</td>\n",
       "      <td>0.0</td>\n",
       "      <td>0.0</td>\n",
       "      <td>0.0</td>\n",
       "      <td>1.0</td>\n",
       "      <td>0.0</td>\n",
       "      <td>0.0</td>\n",
       "      <td>0.0</td>\n",
       "      <td>1.0</td>\n",
       "      <td>0.0</td>\n",
       "      <td>0.0</td>\n",
       "      <td>0.0</td>\n",
       "      <td>0.0</td>\n",
       "      <td>0.0</td>\n",
       "      <td>0.0</td>\n",
       "      <td>1.0</td>\n",
       "      <td>0.0</td>\n",
       "      <td>0.0</td>\n",
       "      <td>0.0</td>\n",
       "      <td>0.0</td>\n",
       "      <td>1.0</td>\n",
       "      <td>1.0</td>\n",
       "      <td>0.0</td>\n",
       "      <td>1.0</td>\n",
       "      <td>0.0</td>\n",
       "      <td>1.0</td>\n",
       "      <td>0.0</td>\n",
       "      <td>1.0</td>\n",
       "      <td>False</td>\n",
       "      <td>4.5</td>\n",
       "      <td>Sedans</td>\n",
       "      <td>White</td>\n",
       "      <td>Automatic</td>\n",
       "      <td>6.0</td>\n",
       "      <td>0</td>\n",
       "      <td>NaN</td>\n",
       "      <td>17900</td>\n",
       "      <td>SPB 2.0 TDI S tronic Sport</td>\n",
       "      <td>None</td>\n",
       "      <td>...</td>\n",
       "      <td>0.0</td>\n",
       "      <td>0.0</td>\n",
       "      <td>0.0</td>\n",
       "      <td>0.0</td>\n",
       "      <td>0.0</td>\n",
       "      <td>0.0</td>\n",
       "      <td>0.0</td>\n",
       "      <td>0.0</td>\n",
       "      <td>0.0</td>\n",
       "      <td>0.0</td>\n",
       "      <td>0.0</td>\n",
       "      <td>0.0</td>\n",
       "      <td>0.0</td>\n",
       "      <td>0.0</td>\n",
       "      <td>0.0</td>\n",
       "      <td>0.0</td>\n",
       "      <td>0.0</td>\n",
       "      <td>0.0</td>\n",
       "      <td>0.0</td>\n",
       "      <td>0.0</td>\n",
       "      <td>0.0</td>\n",
       "      <td>0.0</td>\n",
       "      <td>0.0</td>\n",
       "      <td>0.0</td>\n",
       "      <td>0.0</td>\n",
       "      <td>0.0</td>\n",
       "      <td>0.0</td>\n",
       "      <td>0.0</td>\n",
       "      <td>0.0</td>\n",
       "      <td>0.0</td>\n",
       "      <td>0.0</td>\n",
       "      <td>0.0</td>\n",
       "      <td>1.0</td>\n",
       "      <td>0.0</td>\n",
       "      <td>0.0</td>\n",
       "      <td>0.0</td>\n",
       "      <td>0.0</td>\n",
       "      <td>0.0</td>\n",
       "      <td>0.0</td>\n",
       "      <td>0.0</td>\n",
       "      <td>0.0</td>\n",
       "      <td>0.0</td>\n",
       "      <td>1.0</td>\n",
       "      <td>1.0</td>\n",
       "      <td>0.0</td>\n",
       "      <td>0.0</td>\n",
       "      <td>0.0</td>\n",
       "      <td>0.0</td>\n",
       "      <td>0.0</td>\n",
       "      <td>NaN</td>\n",
       "    </tr>\n",
       "    <tr>\n",
       "      <th>5237</th>\n",
       "      <td>103.0</td>\n",
       "      <td>NaN</td>\n",
       "      <td>4.0</td>\n",
       "      <td>1598.0</td>\n",
       "      <td>Audi</td>\n",
       "      <td>A3</td>\n",
       "      <td>NaN</td>\n",
       "      <td>Sicherheit: Deaktivierung für Beifahrer-Airbag ESC mit elektronischer Quersperre Tagfahrlicht Re...</td>\n",
       "      <td>85.0</td>\n",
       "      <td>NaN</td>\n",
       "      <td>1.0</td>\n",
       "      <td>0.0</td>\n",
       "      <td>0.0</td>\n",
       "      <td>0.0</td>\n",
       "      <td>0.0</td>\n",
       "      <td>1.0</td>\n",
       "      <td>0.0</td>\n",
       "      <td>0.0</td>\n",
       "      <td>0.0</td>\n",
       "      <td>1.0</td>\n",
       "      <td>0.0</td>\n",
       "      <td>0.0</td>\n",
       "      <td>0.0</td>\n",
       "      <td>0.0</td>\n",
       "      <td>0.0</td>\n",
       "      <td>0.0</td>\n",
       "      <td>1.0</td>\n",
       "      <td>0.0</td>\n",
       "      <td>0.0</td>\n",
       "      <td>0.0</td>\n",
       "      <td>0.0</td>\n",
       "      <td>1.0</td>\n",
       "      <td>1.0</td>\n",
       "      <td>0.0</td>\n",
       "      <td>1.0</td>\n",
       "      <td>0.0</td>\n",
       "      <td>1.0</td>\n",
       "      <td>0.0</td>\n",
       "      <td>1.0</td>\n",
       "      <td>False</td>\n",
       "      <td>3.9</td>\n",
       "      <td>Sedans</td>\n",
       "      <td>Grey</td>\n",
       "      <td>Automatic</td>\n",
       "      <td>7.0</td>\n",
       "      <td>0</td>\n",
       "      <td>NaN</td>\n",
       "      <td>25400</td>\n",
       "      <td>SPB 1.6 TDI 116 CV S tronic</td>\n",
       "      <td>None</td>\n",
       "      <td>...</td>\n",
       "      <td>0.0</td>\n",
       "      <td>0.0</td>\n",
       "      <td>0.0</td>\n",
       "      <td>0.0</td>\n",
       "      <td>0.0</td>\n",
       "      <td>0.0</td>\n",
       "      <td>0.0</td>\n",
       "      <td>0.0</td>\n",
       "      <td>0.0</td>\n",
       "      <td>0.0</td>\n",
       "      <td>0.0</td>\n",
       "      <td>0.0</td>\n",
       "      <td>0.0</td>\n",
       "      <td>0.0</td>\n",
       "      <td>0.0</td>\n",
       "      <td>0.0</td>\n",
       "      <td>0.0</td>\n",
       "      <td>0.0</td>\n",
       "      <td>0.0</td>\n",
       "      <td>0.0</td>\n",
       "      <td>0.0</td>\n",
       "      <td>0.0</td>\n",
       "      <td>0.0</td>\n",
       "      <td>0.0</td>\n",
       "      <td>0.0</td>\n",
       "      <td>0.0</td>\n",
       "      <td>0.0</td>\n",
       "      <td>0.0</td>\n",
       "      <td>0.0</td>\n",
       "      <td>0.0</td>\n",
       "      <td>0.0</td>\n",
       "      <td>0.0</td>\n",
       "      <td>1.0</td>\n",
       "      <td>0.0</td>\n",
       "      <td>0.0</td>\n",
       "      <td>0.0</td>\n",
       "      <td>0.0</td>\n",
       "      <td>0.0</td>\n",
       "      <td>0.0</td>\n",
       "      <td>0.0</td>\n",
       "      <td>0.0</td>\n",
       "      <td>0.0</td>\n",
       "      <td>0.0</td>\n",
       "      <td>0.0</td>\n",
       "      <td>0.0</td>\n",
       "      <td>0.0</td>\n",
       "      <td>0.0</td>\n",
       "      <td>0.0</td>\n",
       "      <td>0.0</td>\n",
       "      <td>NaN</td>\n",
       "    </tr>\n",
       "  </tbody>\n",
       "</table>\n",
       "<p>2 rows × 128 columns</p>\n",
       "</div>"
      ],
      "text/plain": [
       "      co2_emission country_version  cylinders  displacement  make model  \\\n",
       "2765         118.0             NaN        4.0        1968.0  Audi    A3   \n",
       "5237         103.0             NaN        4.0        1598.0  Audi    A3   \n",
       "\n",
       "     model_code  \\\n",
       "2765        NaN   \n",
       "5237        NaN   \n",
       "\n",
       "                                                                                              description  \\\n",
       "2765  Sicherheit: Deaktivierung für Beifahrer-Airbag ESC mit elektronischer Quersperre Tagfahrlicht Re...   \n",
       "5237  Sicherheit: Deaktivierung für Beifahrer-Airbag ESC mit elektronischer Quersperre Tagfahrlicht Re...   \n",
       "\n",
       "         hp        km  ss_abs  ss_adaptive_cruise_control  \\\n",
       "2765  110.0  115137.0     1.0                         0.0   \n",
       "5237   85.0       NaN     1.0                         0.0   \n",
       "\n",
       "      ss_adaptive_headlights  ss_alarm_system  ss_blind_spot_monitor  \\\n",
       "2765                     0.0              0.0                    0.0   \n",
       "5237                     0.0              0.0                    0.0   \n",
       "\n",
       "      ss_central_door_lock  ss_central_door_lock_with_remote_control  \\\n",
       "2765                   1.0                                       0.0   \n",
       "5237                   1.0                                       0.0   \n",
       "\n",
       "      ss_daytime_running_lights  ss_driver_drowsiness_detection  \\\n",
       "2765                        0.0                             0.0   \n",
       "5237                        0.0                             0.0   \n",
       "\n",
       "      ss_driver_side_airbag  ss_electronic_stability_control  \\\n",
       "2765                    1.0                              0.0   \n",
       "5237                    1.0                              0.0   \n",
       "\n",
       "      ss_emergency_brake_assistant  ss_emergency_system  ss_fog_lights  \\\n",
       "2765                           0.0                  0.0            0.0   \n",
       "5237                           0.0                  0.0            0.0   \n",
       "\n",
       "      ss_head_airbag  ss_immobilizer  ss_isofix  \\\n",
       "2765             0.0             0.0        1.0   \n",
       "5237             0.0             0.0        1.0   \n",
       "\n",
       "      ss_led_daytime_running_lights  ss_led_headlights  \\\n",
       "2765                            0.0                0.0   \n",
       "5237                            0.0                0.0   \n",
       "\n",
       "      ss_lane_departure_warning_system  ss_night_view_assist  \\\n",
       "2765                               0.0                   0.0   \n",
       "5237                               0.0                   0.0   \n",
       "\n",
       "      ss_passenger_side_airbag  ss_power_steering  ss_rear_airbag  \\\n",
       "2765                       1.0                1.0             0.0   \n",
       "5237                       1.0                1.0             0.0   \n",
       "\n",
       "      ss_side_airbag  ss_tire_pressure_monitoring_system  ss_traction_control  \\\n",
       "2765             1.0                                 0.0                  1.0   \n",
       "5237             1.0                                 0.0                  1.0   \n",
       "\n",
       "      ss_traffic_sign_recognition  ss_xenon_headlights  next_inspection_bool  \\\n",
       "2765                          0.0                  1.0                 False   \n",
       "5237                          0.0                  1.0                 False   \n",
       "\n",
       "      consumption_comb    body body_color gearing_type  gears  inspection_new  \\\n",
       "2765               4.5  Sedans      White    Automatic    6.0               0   \n",
       "5237               3.9  Sedans       Grey    Automatic    7.0               0   \n",
       "\n",
       "     paint_type  price            short_description   vat  ...  \\\n",
       "2765        NaN  17900   SPB 2.0 TDI S tronic Sport  None  ...   \n",
       "5237        NaN  25400  SPB 1.6 TDI 116 CV S tronic  None  ...   \n",
       "\n",
       "      cc_electric_starter  cc_electric_tailgate  cc_electrical_side_mirrors  \\\n",
       "2765                  0.0                   0.0                         0.0   \n",
       "5237                  0.0                   0.0                         0.0   \n",
       "\n",
       "      cc_electrically_adjustable_seats  cc_electrically_heated_windshield  \\\n",
       "2765                               0.0                                0.0   \n",
       "5237                               0.0                                0.0   \n",
       "\n",
       "      cc_heads_up_display  cc_heated_steering_wheel  cc_hill_holder  \\\n",
       "2765                  0.0                       0.0             0.0   \n",
       "5237                  0.0                       0.0             0.0   \n",
       "\n",
       "      cc_keyless_central_door_lock  cc_leather_seats  \\\n",
       "2765                           0.0               0.0   \n",
       "5237                           0.0               0.0   \n",
       "\n",
       "      cc_leather_steering_wheel cc_light_sensor cc_lumbar_support  \\\n",
       "2765                        0.0             0.0               0.0   \n",
       "5237                        0.0             0.0               0.0   \n",
       "\n",
       "     cc_massage_seats cc_multi_function_steering_wheel  cc_navigation_system  \\\n",
       "2765              0.0                              0.0                   0.0   \n",
       "5237              0.0                              0.0                   0.0   \n",
       "\n",
       "      cc_panorama_roof  cc_park_distance_control  \\\n",
       "2765               0.0                       0.0   \n",
       "5237               0.0                       0.0   \n",
       "\n",
       "     cc_parking_assist_system_camera cc_parking_assist_system_self_steering  \\\n",
       "2765                             0.0                                    0.0   \n",
       "5237                             0.0                                    0.0   \n",
       "\n",
       "      cc_parking_assist_system_sensors_front  \\\n",
       "2765                                     0.0   \n",
       "5237                                     0.0   \n",
       "\n",
       "     cc_parking_assist_system_sensors_rear  cc_power_windows  cc_rain_sensor  \\\n",
       "2765                                   0.0               0.0             0.0   \n",
       "5237                                   0.0               0.0             0.0   \n",
       "\n",
       "      cc_seat_heating  cc_seat_ventilation  cc_split_rear_seats  \\\n",
       "2765              0.0                  0.0                  0.0   \n",
       "5237              0.0                  0.0                  0.0   \n",
       "\n",
       "      cc_start_stop_system  cc_sunroof  cc_tinted_windows  cc_wind_deflector  \\\n",
       "2765                   0.0         0.0                0.0                0.0   \n",
       "5237                   0.0         0.0                0.0                0.0   \n",
       "\n",
       "      cc_windshield  ext_alloy_wheels  ext_cab_or_rented_car  \\\n",
       "2765            0.0               1.0                    0.0   \n",
       "5237            0.0               1.0                    0.0   \n",
       "\n",
       "      ext_catalytic_converter  ext_handicapped_enabled  ext_right_hand_drive  \\\n",
       "2765                      0.0                      0.0                   0.0   \n",
       "5237                      0.0                      0.0                   0.0   \n",
       "\n",
       "      ext_roof_rack  ext_shift_paddles  ext_ski_bag  ext_sliding_door  \\\n",
       "2765            0.0                0.0          0.0               0.0   \n",
       "5237            0.0                0.0          0.0               0.0   \n",
       "\n",
       "      ext_sport_package  ext_sport_seats  ext_sport_suspension  \\\n",
       "2765                0.0              1.0                   1.0   \n",
       "5237                0.0              0.0                   0.0   \n",
       "\n",
       "      ext_touch_screen  ext_trailer_hitch  ext_tuned_car  ext_voice_control  \\\n",
       "2765               0.0                0.0            0.0                0.0   \n",
       "5237               0.0                0.0            0.0                0.0   \n",
       "\n",
       "      ext_winter_tyres  weight_kg  \n",
       "2765               0.0        NaN  \n",
       "5237               0.0        NaN  \n",
       "\n",
       "[2 rows x 128 columns]"
      ]
     },
     "execution_count": 13,
     "metadata": {},
     "output_type": "execute_result"
    }
   ],
   "source": [
    "# there are 2 rows with NaN value. Slicing and checking the rows...\n",
    "nan_type = df[df.type.isnull()]\n",
    "print(nan_type[[\"km\", \"age\"]])\n",
    "nan_type"
   ]
  },
  {
   "cell_type": "markdown",
   "metadata": {},
   "source": [
    "type is a categorical column. There are two types of cars. New or used. After checking the non type df I found out that index:2765 is a used car. On the other hand there is not enough information for index:5237. I  assume that it is a used car. Since I decided to have \"2\" types of cars, I will use the loc. selector to change the other row values to \"Used\"."
   ]
  },
  {
   "cell_type": "code",
   "execution_count": 14,
   "metadata": {},
   "outputs": [],
   "source": [
    "df.loc[df.type != \"New\", [\"type\"]] = \"Used\""
   ]
  },
  {
   "cell_type": "code",
   "execution_count": 15,
   "metadata": {},
   "outputs": [
    {
     "data": {
      "text/plain": [
       "Used    14269\n",
       "New      1650\n",
       "Name: type, dtype: int64"
      ]
     },
     "execution_count": 15,
     "metadata": {},
     "output_type": "execute_result"
    }
   ],
   "source": [
    "df.type.value_counts(dropna=False)"
   ]
  },
  {
   "cell_type": "markdown",
   "metadata": {},
   "source": [
    "Now we can change \"type\" column to \"binary\" 1 for \"new\" and \"0\" for \"Used\" cars."
   ]
  },
  {
   "cell_type": "code",
   "execution_count": 16,
   "metadata": {},
   "outputs": [
    {
     "data": {
      "text/plain": [
       "0    14269\n",
       "1     1650\n",
       "Name: type, dtype: int64"
      ]
     },
     "execution_count": 16,
     "metadata": {},
     "output_type": "execute_result"
    }
   ],
   "source": [
    "df.loc[df.type == \"New\", [\"type\"]] = 1\n",
    "df.loc[df.type == \"Used\", [\"type\"]] = 0\n",
    "df.type.value_counts(dropna=False)"
   ]
  },
  {
   "cell_type": "markdown",
   "metadata": {},
   "source": [
    "since type is a categorical column. I will change it to category dtype."
   ]
  },
  {
   "cell_type": "code",
   "execution_count": 17,
   "metadata": {},
   "outputs": [
    {
     "data": {
      "text/plain": [
       "CategoricalDtype(categories=[0, 1], ordered=False)"
      ]
     },
     "execution_count": 17,
     "metadata": {},
     "output_type": "execute_result"
    }
   ],
   "source": [
    "df.type = df.type.astype(\"category\")\n",
    "df.type.dtype"
   ]
  },
  {
   "cell_type": "markdown",
   "metadata": {},
   "source": [
    "### body column"
   ]
  },
  {
   "cell_type": "code",
   "execution_count": 18,
   "metadata": {},
   "outputs": [
    {
     "data": {
      "text/plain": [
       "Sedans           7903\n",
       "Station wagon    3553\n",
       "Compact          3153\n",
       "Van               783\n",
       "Other             290\n",
       "Transporter        88\n",
       "NaN                60\n",
       "Off-Road           56\n",
       "Coupe              25\n",
       "Convertible         8\n",
       "Name: body, dtype: int64"
      ]
     },
     "execution_count": 18,
     "metadata": {},
     "output_type": "execute_result"
    }
   ],
   "source": [
    "df.body.value_counts(dropna=False)"
   ]
  },
  {
   "cell_type": "code",
   "execution_count": 19,
   "metadata": {},
   "outputs": [
    {
     "data": {
      "text/plain": [
       "<matplotlib.axes._subplots.AxesSubplot at 0x1b42320ab00>"
      ]
     },
     "execution_count": 19,
     "metadata": {},
     "output_type": "execute_result"
    },
    {
     "data": {
      "image/png": "[encoded data removed]",
      "text/plain": [
       "<Figure size 720x216 with 1 Axes>"
      ]
     },
     "metadata": {
      "needs_background": "light"
     },
     "output_type": "display_data"
    }
   ],
   "source": [
    "plt.figure(figsize=(10,3))\n",
    "sns.countplot(df.body)"
   ]
  },
  {
   "cell_type": "markdown",
   "metadata": {},
   "source": [
    "In body column there are 290 \"Other\" and \"60\" NaN values. One way to deal with these missing values is to replace them with the most common body type(\"Sedans\"). The other option is to grouping cars by model and finding the most common body type for each of the models. Both of the methods is good, but I will apply the latter."
   ]
  },
  {
   "cell_type": "code",
   "execution_count": 66,
   "metadata": {},
   "outputs": [
    {
     "data": {
      "text/plain": [
       "make     model   \n",
       "Audi     A1          13\n",
       "         A3          23\n",
       "Opel     Astra       74\n",
       "         Corsa       89\n",
       "         Insignia    51\n",
       "Renault  Clio        66\n",
       "         Espace      34\n",
       "dtype: int64"
      ]
     },
     "execution_count": 66,
     "metadata": {},
     "output_type": "execute_result"
    }
   ],
   "source": [
    "# These are the missing ones grouped by their model.\n",
    "other_body = df[(df.body == \"Other\") | (df.body.isnull())]\n",
    "other_body.groupby([\"make\", \"model\"]).size()"
   ]
  },
  {
   "cell_type": "code",
   "execution_count": 69,
   "metadata": {},
   "outputs": [
    {
     "data": {
      "text/html": [
       "<div>\n",
       "<style scoped>\n",
       "    .dataframe tbody tr th:only-of-type {\n",
       "        vertical-align: middle;\n",
       "    }\n",
       "\n",
       "    .dataframe tbody tr th {\n",
       "        vertical-align: top;\n",
       "    }\n",
       "\n",
       "    .dataframe thead th {\n",
       "        text-align: right;\n",
       "    }\n",
       "</style>\n",
       "<table border=\"1\" class=\"dataframe\">\n",
       "  <thead>\n",
       "    <tr style=\"text-align: right;\">\n",
       "      <th></th>\n",
       "      <th>co2_emission</th>\n",
       "      <th>country_version</th>\n",
       "      <th>cylinders</th>\n",
       "      <th>displacement</th>\n",
       "      <th>make</th>\n",
       "      <th>model</th>\n",
       "      <th>model_code</th>\n",
       "      <th>hp</th>\n",
       "      <th>km</th>\n",
       "      <th>ss_abs</th>\n",
       "      <th>ss_adaptive_cruise_control</th>\n",
       "      <th>ss_adaptive_headlights</th>\n",
       "      <th>ss_alarm_system</th>\n",
       "      <th>ss_blind_spot_monitor</th>\n",
       "      <th>ss_central_door_lock</th>\n",
       "      <th>ss_central_door_lock_with_remote_control</th>\n",
       "      <th>ss_daytime_running_lights</th>\n",
       "      <th>ss_driver_drowsiness_detection</th>\n",
       "      <th>ss_driver_side_airbag</th>\n",
       "      <th>ss_electronic_stability_control</th>\n",
       "      <th>ss_emergency_brake_assistant</th>\n",
       "      <th>ss_emergency_system</th>\n",
       "      <th>ss_fog_lights</th>\n",
       "      <th>ss_head_airbag</th>\n",
       "      <th>ss_immobilizer</th>\n",
       "      <th>ss_isofix</th>\n",
       "      <th>ss_led_daytime_running_lights</th>\n",
       "      <th>ss_led_headlights</th>\n",
       "      <th>ss_lane_departure_warning_system</th>\n",
       "      <th>ss_night_view_assist</th>\n",
       "      <th>ss_passenger_side_airbag</th>\n",
       "      <th>ss_power_steering</th>\n",
       "      <th>ss_rear_airbag</th>\n",
       "      <th>ss_side_airbag</th>\n",
       "      <th>ss_tire_pressure_monitoring_system</th>\n",
       "      <th>ss_traction_control</th>\n",
       "      <th>ss_traffic_sign_recognition</th>\n",
       "      <th>ss_xenon_headlights</th>\n",
       "      <th>next_inspection_bool</th>\n",
       "      <th>consumption_comb</th>\n",
       "      <th>body</th>\n",
       "      <th>body_color</th>\n",
       "      <th>gearing_type</th>\n",
       "      <th>gears</th>\n",
       "      <th>inspection_new</th>\n",
       "      <th>paint_type</th>\n",
       "      <th>price</th>\n",
       "      <th>short_description</th>\n",
       "      <th>vat</th>\n",
       "      <th>age</th>\n",
       "      <th>...</th>\n",
       "      <th>cc_electric_starter</th>\n",
       "      <th>cc_electric_tailgate</th>\n",
       "      <th>cc_electrical_side_mirrors</th>\n",
       "      <th>cc_electrically_adjustable_seats</th>\n",
       "      <th>cc_electrically_heated_windshield</th>\n",
       "      <th>cc_heads_up_display</th>\n",
       "      <th>cc_heated_steering_wheel</th>\n",
       "      <th>cc_hill_holder</th>\n",
       "      <th>cc_keyless_central_door_lock</th>\n",
       "      <th>cc_leather_seats</th>\n",
       "      <th>cc_leather_steering_wheel</th>\n",
       "      <th>cc_light_sensor</th>\n",
       "      <th>cc_lumbar_support</th>\n",
       "      <th>cc_massage_seats</th>\n",
       "      <th>cc_multi_function_steering_wheel</th>\n",
       "      <th>cc_navigation_system</th>\n",
       "      <th>cc_panorama_roof</th>\n",
       "      <th>cc_park_distance_control</th>\n",
       "      <th>cc_parking_assist_system_camera</th>\n",
       "      <th>cc_parking_assist_system_self_steering</th>\n",
       "      <th>cc_parking_assist_system_sensors_front</th>\n",
       "      <th>cc_parking_assist_system_sensors_rear</th>\n",
       "      <th>cc_power_windows</th>\n",
       "      <th>cc_rain_sensor</th>\n",
       "      <th>cc_seat_heating</th>\n",
       "      <th>cc_seat_ventilation</th>\n",
       "      <th>cc_split_rear_seats</th>\n",
       "      <th>cc_start_stop_system</th>\n",
       "      <th>cc_sunroof</th>\n",
       "      <th>cc_tinted_windows</th>\n",
       "      <th>cc_wind_deflector</th>\n",
       "      <th>cc_windshield</th>\n",
       "      <th>ext_alloy_wheels</th>\n",
       "      <th>ext_cab_or_rented_car</th>\n",
       "      <th>ext_catalytic_converter</th>\n",
       "      <th>ext_handicapped_enabled</th>\n",
       "      <th>ext_right_hand_drive</th>\n",
       "      <th>ext_roof_rack</th>\n",
       "      <th>ext_shift_paddles</th>\n",
       "      <th>ext_ski_bag</th>\n",
       "      <th>ext_sliding_door</th>\n",
       "      <th>ext_sport_package</th>\n",
       "      <th>ext_sport_seats</th>\n",
       "      <th>ext_sport_suspension</th>\n",
       "      <th>ext_touch_screen</th>\n",
       "      <th>ext_trailer_hitch</th>\n",
       "      <th>ext_tuned_car</th>\n",
       "      <th>ext_voice_control</th>\n",
       "      <th>ext_winter_tyres</th>\n",
       "      <th>weight_kg</th>\n",
       "    </tr>\n",
       "  </thead>\n",
       "  <tbody>\n",
       "    <tr>\n",
       "      <th>744</th>\n",
       "      <td>134.0</td>\n",
       "      <td>NaN</td>\n",
       "      <td>4.0</td>\n",
       "      <td>NaN</td>\n",
       "      <td>Audi</td>\n",
       "      <td>A1</td>\n",
       "      <td>NaN</td>\n",
       "      <td>140.0</td>\n",
       "      <td>22001.0</td>\n",
       "      <td>0.0</td>\n",
       "      <td>1.0</td>\n",
       "      <td>0.0</td>\n",
       "      <td>0.0</td>\n",
       "      <td>0.0</td>\n",
       "      <td>1.0</td>\n",
       "      <td>0.0</td>\n",
       "      <td>0.0</td>\n",
       "      <td>0.0</td>\n",
       "      <td>1.0</td>\n",
       "      <td>0.0</td>\n",
       "      <td>0.0</td>\n",
       "      <td>0.0</td>\n",
       "      <td>0.0</td>\n",
       "      <td>0.0</td>\n",
       "      <td>1.0</td>\n",
       "      <td>0.0</td>\n",
       "      <td>0.0</td>\n",
       "      <td>0.0</td>\n",
       "      <td>0.0</td>\n",
       "      <td>0.0</td>\n",
       "      <td>1.0</td>\n",
       "      <td>1.0</td>\n",
       "      <td>0.0</td>\n",
       "      <td>0.0</td>\n",
       "      <td>0.0</td>\n",
       "      <td>1.0</td>\n",
       "      <td>0.0</td>\n",
       "      <td>0.0</td>\n",
       "      <td>False</td>\n",
       "      <td>5.8</td>\n",
       "      <td>Other</td>\n",
       "      <td>Black</td>\n",
       "      <td>Semi-automatic</td>\n",
       "      <td>7.0</td>\n",
       "      <td>0</td>\n",
       "      <td>NaN</td>\n",
       "      <td>23490</td>\n",
       "      <td>SPORTBACK S line</td>\n",
       "      <td>None</td>\n",
       "      <td>2.0</td>\n",
       "      <td>...</td>\n",
       "      <td>0.0</td>\n",
       "      <td>0.0</td>\n",
       "      <td>1.0</td>\n",
       "      <td>0.0</td>\n",
       "      <td>0.0</td>\n",
       "      <td>0.0</td>\n",
       "      <td>0.0</td>\n",
       "      <td>0.0</td>\n",
       "      <td>0.0</td>\n",
       "      <td>0.0</td>\n",
       "      <td>1.0</td>\n",
       "      <td>0.0</td>\n",
       "      <td>0.0</td>\n",
       "      <td>0.0</td>\n",
       "      <td>1.0</td>\n",
       "      <td>1.0</td>\n",
       "      <td>1.0</td>\n",
       "      <td>0.0</td>\n",
       "      <td>0.0</td>\n",
       "      <td>0.0</td>\n",
       "      <td>0.0</td>\n",
       "      <td>0.0</td>\n",
       "      <td>0.0</td>\n",
       "      <td>0.0</td>\n",
       "      <td>0.0</td>\n",
       "      <td>0.0</td>\n",
       "      <td>0.0</td>\n",
       "      <td>0.0</td>\n",
       "      <td>0.0</td>\n",
       "      <td>0.0</td>\n",
       "      <td>0.0</td>\n",
       "      <td>0.0</td>\n",
       "      <td>0.0</td>\n",
       "      <td>0.0</td>\n",
       "      <td>0.0</td>\n",
       "      <td>0.0</td>\n",
       "      <td>0.0</td>\n",
       "      <td>1.0</td>\n",
       "      <td>0.0</td>\n",
       "      <td>0.0</td>\n",
       "      <td>0.0</td>\n",
       "      <td>0.0</td>\n",
       "      <td>1.0</td>\n",
       "      <td>0.0</td>\n",
       "      <td>0.0</td>\n",
       "      <td>0.0</td>\n",
       "      <td>0.0</td>\n",
       "      <td>0.0</td>\n",
       "      <td>0.0</td>\n",
       "      <td>1205.0</td>\n",
       "    </tr>\n",
       "    <tr>\n",
       "      <th>1764</th>\n",
       "      <td>97.0</td>\n",
       "      <td>NaN</td>\n",
       "      <td>3.0</td>\n",
       "      <td>999.0</td>\n",
       "      <td>Audi</td>\n",
       "      <td>A1</td>\n",
       "      <td>NaN</td>\n",
       "      <td>60.0</td>\n",
       "      <td>5300.0</td>\n",
       "      <td>1.0</td>\n",
       "      <td>0.0</td>\n",
       "      <td>0.0</td>\n",
       "      <td>0.0</td>\n",
       "      <td>0.0</td>\n",
       "      <td>0.0</td>\n",
       "      <td>0.0</td>\n",
       "      <td>1.0</td>\n",
       "      <td>0.0</td>\n",
       "      <td>1.0</td>\n",
       "      <td>1.0</td>\n",
       "      <td>0.0</td>\n",
       "      <td>0.0</td>\n",
       "      <td>1.0</td>\n",
       "      <td>0.0</td>\n",
       "      <td>1.0</td>\n",
       "      <td>1.0</td>\n",
       "      <td>0.0</td>\n",
       "      <td>0.0</td>\n",
       "      <td>0.0</td>\n",
       "      <td>0.0</td>\n",
       "      <td>1.0</td>\n",
       "      <td>1.0</td>\n",
       "      <td>0.0</td>\n",
       "      <td>1.0</td>\n",
       "      <td>1.0</td>\n",
       "      <td>1.0</td>\n",
       "      <td>0.0</td>\n",
       "      <td>0.0</td>\n",
       "      <td>False</td>\n",
       "      <td>4.2</td>\n",
       "      <td>Other</td>\n",
       "      <td>White</td>\n",
       "      <td>Manual</td>\n",
       "      <td>5.0</td>\n",
       "      <td>0</td>\n",
       "      <td>Metallic</td>\n",
       "      <td>16590</td>\n",
       "      <td>Sportback sport 1.0 TFSI UPE 22.800,--</td>\n",
       "      <td>VAT deductible</td>\n",
       "      <td>1.0</td>\n",
       "      <td>...</td>\n",
       "      <td>0.0</td>\n",
       "      <td>0.0</td>\n",
       "      <td>1.0</td>\n",
       "      <td>0.0</td>\n",
       "      <td>0.0</td>\n",
       "      <td>0.0</td>\n",
       "      <td>0.0</td>\n",
       "      <td>0.0</td>\n",
       "      <td>0.0</td>\n",
       "      <td>0.0</td>\n",
       "      <td>1.0</td>\n",
       "      <td>1.0</td>\n",
       "      <td>0.0</td>\n",
       "      <td>0.0</td>\n",
       "      <td>1.0</td>\n",
       "      <td>0.0</td>\n",
       "      <td>0.0</td>\n",
       "      <td>1.0</td>\n",
       "      <td>0.0</td>\n",
       "      <td>0.0</td>\n",
       "      <td>0.0</td>\n",
       "      <td>1.0</td>\n",
       "      <td>1.0</td>\n",
       "      <td>1.0</td>\n",
       "      <td>1.0</td>\n",
       "      <td>0.0</td>\n",
       "      <td>0.0</td>\n",
       "      <td>1.0</td>\n",
       "      <td>0.0</td>\n",
       "      <td>0.0</td>\n",
       "      <td>0.0</td>\n",
       "      <td>0.0</td>\n",
       "      <td>1.0</td>\n",
       "      <td>1.0</td>\n",
       "      <td>0.0</td>\n",
       "      <td>0.0</td>\n",
       "      <td>0.0</td>\n",
       "      <td>0.0</td>\n",
       "      <td>0.0</td>\n",
       "      <td>0.0</td>\n",
       "      <td>0.0</td>\n",
       "      <td>0.0</td>\n",
       "      <td>1.0</td>\n",
       "      <td>0.0</td>\n",
       "      <td>0.0</td>\n",
       "      <td>0.0</td>\n",
       "      <td>0.0</td>\n",
       "      <td>0.0</td>\n",
       "      <td>0.0</td>\n",
       "      <td>NaN</td>\n",
       "    </tr>\n",
       "  </tbody>\n",
       "</table>\n",
       "<p>2 rows × 127 columns</p>\n",
       "</div>"
      ],
      "text/plain": [
       "      co2_emission country_version  cylinders  displacement  make model  \\\n",
       "744          134.0             NaN        4.0           NaN  Audi    A1   \n",
       "1764          97.0             NaN        3.0         999.0  Audi    A1   \n",
       "\n",
       "     model_code     hp       km  ss_abs  ss_adaptive_cruise_control  \\\n",
       "744         NaN  140.0  22001.0     0.0                         1.0   \n",
       "1764        NaN   60.0   5300.0     1.0                         0.0   \n",
       "\n",
       "      ss_adaptive_headlights  ss_alarm_system  ss_blind_spot_monitor  \\\n",
       "744                      0.0              0.0                    0.0   \n",
       "1764                     0.0              0.0                    0.0   \n",
       "\n",
       "      ss_central_door_lock  ss_central_door_lock_with_remote_control  \\\n",
       "744                    1.0                                       0.0   \n",
       "1764                   0.0                                       0.0   \n",
       "\n",
       "      ss_daytime_running_lights  ss_driver_drowsiness_detection  \\\n",
       "744                         0.0                             0.0   \n",
       "1764                        1.0                             0.0   \n",
       "\n",
       "      ss_driver_side_airbag  ss_electronic_stability_control  \\\n",
       "744                     1.0                              0.0   \n",
       "1764                    1.0                              1.0   \n",
       "\n",
       "      ss_emergency_brake_assistant  ss_emergency_system  ss_fog_lights  \\\n",
       "744                            0.0                  0.0            0.0   \n",
       "1764                           0.0                  0.0            1.0   \n",
       "\n",
       "      ss_head_airbag  ss_immobilizer  ss_isofix  \\\n",
       "744              0.0             1.0        0.0   \n",
       "1764             0.0             1.0        1.0   \n",
       "\n",
       "      ss_led_daytime_running_lights  ss_led_headlights  \\\n",
       "744                             0.0                0.0   \n",
       "1764                            0.0                0.0   \n",
       "\n",
       "      ss_lane_departure_warning_system  ss_night_view_assist  \\\n",
       "744                                0.0                   0.0   \n",
       "1764                               0.0                   0.0   \n",
       "\n",
       "      ss_passenger_side_airbag  ss_power_steering  ss_rear_airbag  \\\n",
       "744                        1.0                1.0             0.0   \n",
       "1764                       1.0                1.0             0.0   \n",
       "\n",
       "      ss_side_airbag  ss_tire_pressure_monitoring_system  ss_traction_control  \\\n",
       "744              0.0                                 0.0                  1.0   \n",
       "1764             1.0                                 1.0                  1.0   \n",
       "\n",
       "      ss_traffic_sign_recognition  ss_xenon_headlights  next_inspection_bool  \\\n",
       "744                           0.0                  0.0                 False   \n",
       "1764                          0.0                  0.0                 False   \n",
       "\n",
       "      consumption_comb   body body_color    gearing_type  gears  \\\n",
       "744                5.8  Other      Black  Semi-automatic    7.0   \n",
       "1764               4.2  Other      White          Manual    5.0   \n",
       "\n",
       "      inspection_new paint_type  price  \\\n",
       "744                0        NaN  23490   \n",
       "1764               0   Metallic  16590   \n",
       "\n",
       "                           short_description             vat  age  ...  \\\n",
       "744                         SPORTBACK S line            None  2.0  ...   \n",
       "1764  Sportback sport 1.0 TFSI UPE 22.800,--  VAT deductible  1.0  ...   \n",
       "\n",
       "      cc_electric_starter  cc_electric_tailgate  cc_electrical_side_mirrors  \\\n",
       "744                   0.0                   0.0                         1.0   \n",
       "1764                  0.0                   0.0                         1.0   \n",
       "\n",
       "      cc_electrically_adjustable_seats  cc_electrically_heated_windshield  \\\n",
       "744                                0.0                                0.0   \n",
       "1764                               0.0                                0.0   \n",
       "\n",
       "      cc_heads_up_display  cc_heated_steering_wheel  cc_hill_holder  \\\n",
       "744                   0.0                       0.0             0.0   \n",
       "1764                  0.0                       0.0             0.0   \n",
       "\n",
       "      cc_keyless_central_door_lock  cc_leather_seats  \\\n",
       "744                            0.0               0.0   \n",
       "1764                           0.0               0.0   \n",
       "\n",
       "     cc_leather_steering_wheel cc_light_sensor cc_lumbar_support  \\\n",
       "744                        1.0             0.0               0.0   \n",
       "1764                       1.0             1.0               0.0   \n",
       "\n",
       "     cc_massage_seats  cc_multi_function_steering_wheel  cc_navigation_system  \\\n",
       "744               0.0                               1.0                   1.0   \n",
       "1764              0.0                               1.0                   0.0   \n",
       "\n",
       "      cc_panorama_roof cc_park_distance_control  \\\n",
       "744                1.0                      0.0   \n",
       "1764               0.0                      1.0   \n",
       "\n",
       "     cc_parking_assist_system_camera  cc_parking_assist_system_self_steering  \\\n",
       "744                              0.0                                     0.0   \n",
       "1764                             0.0                                     0.0   \n",
       "\n",
       "     cc_parking_assist_system_sensors_front  \\\n",
       "744                                     0.0   \n",
       "1764                                    0.0   \n",
       "\n",
       "      cc_parking_assist_system_sensors_rear  cc_power_windows  cc_rain_sensor  \\\n",
       "744                                     0.0               0.0             0.0   \n",
       "1764                                    1.0               1.0             1.0   \n",
       "\n",
       "      cc_seat_heating  cc_seat_ventilation  cc_split_rear_seats  \\\n",
       "744               0.0                  0.0                  0.0   \n",
       "1764              1.0                  0.0                  0.0   \n",
       "\n",
       "      cc_start_stop_system  cc_sunroof  cc_tinted_windows  cc_wind_deflector  \\\n",
       "744                    0.0         0.0                0.0                0.0   \n",
       "1764                   1.0         0.0                0.0                0.0   \n",
       "\n",
       "      cc_windshield  ext_alloy_wheels  ext_cab_or_rented_car  \\\n",
       "744             0.0               0.0                    0.0   \n",
       "1764            0.0               1.0                    1.0   \n",
       "\n",
       "      ext_catalytic_converter  ext_handicapped_enabled  ext_right_hand_drive  \\\n",
       "744                       0.0                      0.0                   0.0   \n",
       "1764                      0.0                      0.0                   0.0   \n",
       "\n",
       "      ext_roof_rack  ext_shift_paddles  ext_ski_bag  ext_sliding_door  \\\n",
       "744             1.0                0.0          0.0               0.0   \n",
       "1764            0.0                0.0          0.0               0.0   \n",
       "\n",
       "      ext_sport_package  ext_sport_seats  ext_sport_suspension  \\\n",
       "744                 0.0              1.0                   0.0   \n",
       "1764                0.0              1.0                   0.0   \n",
       "\n",
       "      ext_touch_screen  ext_trailer_hitch  ext_tuned_car  ext_voice_control  \\\n",
       "744                0.0                0.0            0.0                0.0   \n",
       "1764               0.0                0.0            0.0                0.0   \n",
       "\n",
       "      ext_winter_tyres  weight_kg  \n",
       "744                0.0     1205.0  \n",
       "1764               0.0        NaN  \n",
       "\n",
       "[2 rows x 127 columns]"
      ]
     },
     "execution_count": 69,
     "metadata": {},
     "output_type": "execute_result"
    }
   ],
   "source": [
    "# These are the missing ones grouped by their model.\n",
    "other_body2 = df[(df.body == \"Other\") | (df.body.isnull())]\n",
    "other_body2.head(2)"
   ]
  },
  {
   "cell_type": "code",
   "execution_count": 95,
   "metadata": {},
   "outputs": [
    {
     "data": {
      "text/plain": [
       "Int64Index([  744,  1764,  1793,  1819,  2047,  2078,  2104,  2256,  2475,\n",
       "             2522,\n",
       "            ...\n",
       "            15499, 15544, 15556, 15589, 15696, 15712, 15736, 15770, 15788,\n",
       "            15789],\n",
       "           dtype='int64', length=350)"
      ]
     },
     "execution_count": 95,
     "metadata": {},
     "output_type": "execute_result"
    }
   ],
   "source": [
    "idx_list = other_body2.index\n",
    "idx_list"
   ]
  },
  {
   "cell_type": "markdown",
   "metadata": {},
   "source": [
    "Below I will try to find most common body types for each model and than apply them to the handle the missing ones."
   ]
  },
  {
   "cell_type": "code",
   "execution_count": 248,
   "metadata": {},
   "outputs": [
    {
     "data": {
      "text/plain": [
       "model     body         \n",
       "A1        Compact          1039\n",
       "          Coupe               2\n",
       "          Sedans           1551\n",
       "          Station wagon      21\n",
       "          Van                 1\n",
       "A2        Off-Road            1\n",
       "A3        Compact           182\n",
       "          Convertible         8\n",
       "          Coupe               4\n",
       "          Sedans           2621\n",
       "          Station wagon     282\n",
       "Astra     Compact           185\n",
       "          Coupe               2\n",
       "          Off-Road            1\n",
       "          Sedans           1053\n",
       "          Station wagon    1285\n",
       "Clio      Compact           484\n",
       "          Coupe               1\n",
       "          Off-Road            2\n",
       "          Sedans            984\n",
       "          Station wagon     337\n",
       "          Transporter        29\n",
       "          Van                 2\n",
       "Corsa     Compact          1319\n",
       "          Coupe              13\n",
       "          Off-Road            3\n",
       "          Sedans            875\n",
       "          Transporter         7\n",
       "          Van                 2\n",
       "Duster    Off-Road           34\n",
       "Espace    Compact             6\n",
       "          Coupe               2\n",
       "          Off-Road            8\n",
       "          Sedans             21\n",
       "          Station wagon      91\n",
       "          Transporter        52\n",
       "          Van               811\n",
       "Insignia  Compact            27\n",
       "          Coupe               1\n",
       "          Off-Road            7\n",
       "          Sedans            900\n",
       "          Station wagon    1662\n",
       "          Van                 1\n",
       "dtype: int64"
      ]
     },
     "execution_count": 248,
     "metadata": {},
     "output_type": "execute_result"
    }
   ],
   "source": [
    "rest_body = df[(df.body != \"Other\") | (df.body.notnull())]\n",
    "rb = rest_body.groupby([\"model\", \"body\"]).size()\n",
    "rb"
   ]
  },
  {
   "cell_type": "code",
   "execution_count": 29,
   "metadata": {},
   "outputs": [
    {
     "data": {
      "text/html": [
       "<div>\n",
       "<style scoped>\n",
       "    .dataframe tbody tr th:only-of-type {\n",
       "        vertical-align: middle;\n",
       "    }\n",
       "\n",
       "    .dataframe tbody tr th {\n",
       "        vertical-align: top;\n",
       "    }\n",
       "\n",
       "    .dataframe thead th {\n",
       "        text-align: right;\n",
       "    }\n",
       "</style>\n",
       "<table border=\"1\" class=\"dataframe\">\n",
       "  <thead>\n",
       "    <tr style=\"text-align: right;\">\n",
       "      <th>body</th>\n",
       "      <th>Compact</th>\n",
       "      <th>Convertible</th>\n",
       "      <th>Coupe</th>\n",
       "      <th>Off-Road</th>\n",
       "      <th>Other</th>\n",
       "      <th>Sedans</th>\n",
       "      <th>Station wagon</th>\n",
       "      <th>Transporter</th>\n",
       "      <th>Van</th>\n",
       "    </tr>\n",
       "    <tr>\n",
       "      <th>model</th>\n",
       "      <th></th>\n",
       "      <th></th>\n",
       "      <th></th>\n",
       "      <th></th>\n",
       "      <th></th>\n",
       "      <th></th>\n",
       "      <th></th>\n",
       "      <th></th>\n",
       "      <th></th>\n",
       "    </tr>\n",
       "  </thead>\n",
       "  <tbody>\n",
       "    <tr>\n",
       "      <th>A1</th>\n",
       "      <td>1039.0</td>\n",
       "      <td>NaN</td>\n",
       "      <td>2.0</td>\n",
       "      <td>NaN</td>\n",
       "      <td>13.0</td>\n",
       "      <td>1538.0</td>\n",
       "      <td>21.0</td>\n",
       "      <td>NaN</td>\n",
       "      <td>1.0</td>\n",
       "    </tr>\n",
       "    <tr>\n",
       "      <th>A2</th>\n",
       "      <td>NaN</td>\n",
       "      <td>NaN</td>\n",
       "      <td>NaN</td>\n",
       "      <td>1.0</td>\n",
       "      <td>NaN</td>\n",
       "      <td>NaN</td>\n",
       "      <td>NaN</td>\n",
       "      <td>NaN</td>\n",
       "      <td>NaN</td>\n",
       "    </tr>\n",
       "    <tr>\n",
       "      <th>A3</th>\n",
       "      <td>182.0</td>\n",
       "      <td>8.0</td>\n",
       "      <td>4.0</td>\n",
       "      <td>NaN</td>\n",
       "      <td>16.0</td>\n",
       "      <td>2598.0</td>\n",
       "      <td>282.0</td>\n",
       "      <td>NaN</td>\n",
       "      <td>NaN</td>\n",
       "    </tr>\n",
       "    <tr>\n",
       "      <th>Astra</th>\n",
       "      <td>185.0</td>\n",
       "      <td>NaN</td>\n",
       "      <td>2.0</td>\n",
       "      <td>1.0</td>\n",
       "      <td>67.0</td>\n",
       "      <td>1053.0</td>\n",
       "      <td>1211.0</td>\n",
       "      <td>NaN</td>\n",
       "      <td>NaN</td>\n",
       "    </tr>\n",
       "    <tr>\n",
       "      <th>Clio</th>\n",
       "      <td>484.0</td>\n",
       "      <td>NaN</td>\n",
       "      <td>1.0</td>\n",
       "      <td>2.0</td>\n",
       "      <td>51.0</td>\n",
       "      <td>918.0</td>\n",
       "      <td>337.0</td>\n",
       "      <td>29.0</td>\n",
       "      <td>2.0</td>\n",
       "    </tr>\n",
       "    <tr>\n",
       "      <th>Corsa</th>\n",
       "      <td>1230.0</td>\n",
       "      <td>NaN</td>\n",
       "      <td>13.0</td>\n",
       "      <td>3.0</td>\n",
       "      <td>87.0</td>\n",
       "      <td>875.0</td>\n",
       "      <td>NaN</td>\n",
       "      <td>7.0</td>\n",
       "      <td>2.0</td>\n",
       "    </tr>\n",
       "    <tr>\n",
       "      <th>Duster</th>\n",
       "      <td>NaN</td>\n",
       "      <td>NaN</td>\n",
       "      <td>NaN</td>\n",
       "      <td>34.0</td>\n",
       "      <td>NaN</td>\n",
       "      <td>NaN</td>\n",
       "      <td>NaN</td>\n",
       "      <td>NaN</td>\n",
       "      <td>NaN</td>\n",
       "    </tr>\n",
       "    <tr>\n",
       "      <th>Espace</th>\n",
       "      <td>6.0</td>\n",
       "      <td>NaN</td>\n",
       "      <td>2.0</td>\n",
       "      <td>8.0</td>\n",
       "      <td>8.0</td>\n",
       "      <td>21.0</td>\n",
       "      <td>91.0</td>\n",
       "      <td>52.0</td>\n",
       "      <td>777.0</td>\n",
       "    </tr>\n",
       "    <tr>\n",
       "      <th>Insignia</th>\n",
       "      <td>27.0</td>\n",
       "      <td>NaN</td>\n",
       "      <td>1.0</td>\n",
       "      <td>7.0</td>\n",
       "      <td>48.0</td>\n",
       "      <td>900.0</td>\n",
       "      <td>1611.0</td>\n",
       "      <td>NaN</td>\n",
       "      <td>1.0</td>\n",
       "    </tr>\n",
       "  </tbody>\n",
       "</table>\n",
       "</div>"
      ],
      "text/plain": [
       "body      Compact  Convertible  Coupe  Off-Road  Other  Sedans  Station wagon  \\\n",
       "model                                                                           \n",
       "A1         1039.0          NaN    2.0       NaN   13.0  1538.0           21.0   \n",
       "A2            NaN          NaN    NaN       1.0    NaN     NaN            NaN   \n",
       "A3          182.0          8.0    4.0       NaN   16.0  2598.0          282.0   \n",
       "Astra       185.0          NaN    2.0       1.0   67.0  1053.0         1211.0   \n",
       "Clio        484.0          NaN    1.0       2.0   51.0   918.0          337.0   \n",
       "Corsa      1230.0          NaN   13.0       3.0   87.0   875.0            NaN   \n",
       "Duster        NaN          NaN    NaN      34.0    NaN     NaN            NaN   \n",
       "Espace        6.0          NaN    2.0       8.0    8.0    21.0           91.0   \n",
       "Insignia     27.0          NaN    1.0       7.0   48.0   900.0         1611.0   \n",
       "\n",
       "body      Transporter    Van  \n",
       "model                         \n",
       "A1                NaN    1.0  \n",
       "A2                NaN    NaN  \n",
       "A3                NaN    NaN  \n",
       "Astra             NaN    NaN  \n",
       "Clio             29.0    2.0  \n",
       "Corsa             7.0    2.0  \n",
       "Duster            NaN    NaN  \n",
       "Espace           52.0  777.0  \n",
       "Insignia          NaN    1.0  "
      ]
     },
     "execution_count": 29,
     "metadata": {},
     "output_type": "execute_result"
    }
   ],
   "source": [
    "rb = rb.unstack()\n",
    "rb"
   ]
  },
  {
   "cell_type": "code",
   "execution_count": null,
   "metadata": {},
   "outputs": [],
   "source": [
    "# If I also use \"make\" column for grouping, then I need to convert the groupby object to dict.\n",
    "#m_dict = rb_max.reset_index(level=1).groupby(level=0).apply(lambda x: dict(zip(x['model'], x[0]))).to_dict()\n",
    "#m_dict\n",
    "# >>>\n",
    "# {'Audi': {'A1': 'Sedans', 'A2': 'Off-Road', 'A3': 'Sedans'},\n",
    "#  'Opel': {'Astra': 'Station wagon',\n",
    "#   'Corsa': 'Compact',\n",
    "#   'Insignia': 'Station wagon'},\n",
    "#  'Renault': {'Clio': 'Sedans', 'Duster': 'Off-Road', 'Espace': 'Van'}}"
   ]
  },
  {
   "cell_type": "code",
   "execution_count": 86,
   "metadata": {},
   "outputs": [
    {
     "data": {
      "text/plain": [
       "{'A1': 'Sedans',\n",
       " 'A2': 'Off-Road',\n",
       " 'A3': 'Sedans',\n",
       " 'Astra': 'Station wagon',\n",
       " 'Clio': 'Sedans',\n",
       " 'Corsa': 'Compact',\n",
       " 'Duster': 'Off-Road',\n",
       " 'Espace': 'Van',\n",
       " 'Insignia': 'Station wagon'}"
      ]
     },
     "execution_count": 86,
     "metadata": {},
     "output_type": "execute_result"
    }
   ],
   "source": [
    "rb_max = rb.T.idxmax().to_dict()\n",
    "rb_max"
   ]
  },
  {
   "cell_type": "markdown",
   "metadata": {},
   "source": [
    "Now I have the most common body types list for each model. Now I can use \"loc\" selector to select the missing values and replace them with the most common ones."
   ]
  },
  {
   "cell_type": "code",
   "execution_count": 104,
   "metadata": {},
   "outputs": [],
   "source": [
    "for key, val in rb_max.items():\n",
    "    for idx in idx_list:\n",
    "        if df.loc[idx, \"model\"] == key:\n",
    "            df.loc[idx, \"body\"] = val"
   ]
  },
  {
   "cell_type": "code",
   "execution_count": 81,
   "metadata": {},
   "outputs": [],
   "source": [
    "# The signature for DataFrame.where() differs from numpy.where().\n",
    "# Roughly df1.where(m, df2) is equivalent to np.where(m, df1, df2).\n",
    "# df.where(df < 0, -df) == np.where(df < 0, df, -df)\n",
    "# df_orig.where(df > 0, -df, inplace=True)"
   ]
  },
  {
   "cell_type": "code",
   "execution_count": 62,
   "metadata": {
    "collapsed": true
   },
   "outputs": [
    {
     "data": {
      "text/html": [
       "<div>\n",
       "<style scoped>\n",
       "    .dataframe tbody tr th:only-of-type {\n",
       "        vertical-align: middle;\n",
       "    }\n",
       "\n",
       "    .dataframe tbody tr th {\n",
       "        vertical-align: top;\n",
       "    }\n",
       "\n",
       "    .dataframe thead th {\n",
       "        text-align: right;\n",
       "    }\n",
       "</style>\n",
       "<table border=\"1\" class=\"dataframe\">\n",
       "  <thead>\n",
       "    <tr style=\"text-align: right;\">\n",
       "      <th></th>\n",
       "      <th>co2_emission</th>\n",
       "      <th>country_version</th>\n",
       "      <th>cylinders</th>\n",
       "      <th>displacement</th>\n",
       "      <th>make</th>\n",
       "      <th>model</th>\n",
       "      <th>model_code</th>\n",
       "      <th>next_inspection</th>\n",
       "      <th>body_type</th>\n",
       "      <th>description</th>\n",
       "      <th>hp</th>\n",
       "      <th>km</th>\n",
       "      <th>offer_number</th>\n",
       "      <th>ss_abs</th>\n",
       "      <th>ss_adaptive_cruise_control</th>\n",
       "      <th>ss_adaptive_headlights</th>\n",
       "      <th>ss_alarm_system</th>\n",
       "      <th>ss_blind_spot_monitor</th>\n",
       "      <th>ss_central_door_lock</th>\n",
       "      <th>ss_central_door_lock_with_remote_control</th>\n",
       "      <th>ss_daytime_running_lights</th>\n",
       "      <th>ss_driver_drowsiness_detection</th>\n",
       "      <th>ss_driver_side_airbag</th>\n",
       "      <th>ss_electronic_stability_control</th>\n",
       "      <th>ss_emergency_brake_assistant</th>\n",
       "      <th>ss_emergency_system</th>\n",
       "      <th>ss_fog_lights</th>\n",
       "      <th>ss_head_airbag</th>\n",
       "      <th>ss_immobilizer</th>\n",
       "      <th>ss_isofix</th>\n",
       "      <th>ss_led_daytime_running_lights</th>\n",
       "      <th>ss_led_headlights</th>\n",
       "      <th>ss_lane_departure_warning_system</th>\n",
       "      <th>ss_night_view_assist</th>\n",
       "      <th>ss_passenger_side_airbag</th>\n",
       "      <th>ss_power_steering</th>\n",
       "      <th>ss_rear_airbag</th>\n",
       "      <th>ss_side_airbag</th>\n",
       "      <th>ss_tire_pressure_monitoring_system</th>\n",
       "      <th>ss_traction_control</th>\n",
       "      <th>ss_traffic_sign_recognition</th>\n",
       "      <th>ss_xenon_headlights</th>\n",
       "      <th>next_inspection_bool</th>\n",
       "      <th>consumption_comb</th>\n",
       "      <th>available_from</th>\n",
       "      <th>body</th>\n",
       "      <th>body_color</th>\n",
       "      <th>gearing_type</th>\n",
       "      <th>gears</th>\n",
       "      <th>inspection_new</th>\n",
       "      <th>...</th>\n",
       "      <th>cc_electric_starter</th>\n",
       "      <th>cc_electric_tailgate</th>\n",
       "      <th>cc_electrical_side_mirrors</th>\n",
       "      <th>cc_electrically_adjustable_seats</th>\n",
       "      <th>cc_electrically_heated_windshield</th>\n",
       "      <th>cc_heads_up_display</th>\n",
       "      <th>cc_heated_steering_wheel</th>\n",
       "      <th>cc_hill_holder</th>\n",
       "      <th>cc_keyless_central_door_lock</th>\n",
       "      <th>cc_leather_seats</th>\n",
       "      <th>cc_leather_steering_wheel</th>\n",
       "      <th>cc_light_sensor</th>\n",
       "      <th>cc_lumbar_support</th>\n",
       "      <th>cc_massage_seats</th>\n",
       "      <th>cc_multi_function_steering_wheel</th>\n",
       "      <th>cc_navigation_system</th>\n",
       "      <th>cc_panorama_roof</th>\n",
       "      <th>cc_park_distance_control</th>\n",
       "      <th>cc_parking_assist_system_camera</th>\n",
       "      <th>cc_parking_assist_system_self_steering</th>\n",
       "      <th>cc_parking_assist_system_sensors_front</th>\n",
       "      <th>cc_parking_assist_system_sensors_rear</th>\n",
       "      <th>cc_power_windows</th>\n",
       "      <th>cc_rain_sensor</th>\n",
       "      <th>cc_seat_heating</th>\n",
       "      <th>cc_seat_ventilation</th>\n",
       "      <th>cc_split_rear_seats</th>\n",
       "      <th>cc_start_stop_system</th>\n",
       "      <th>cc_sunroof</th>\n",
       "      <th>cc_tinted_windows</th>\n",
       "      <th>cc_wind_deflector</th>\n",
       "      <th>cc_windshield</th>\n",
       "      <th>ext_alloy_wheels</th>\n",
       "      <th>ext_cab_or_rented_car</th>\n",
       "      <th>ext_catalytic_converter</th>\n",
       "      <th>ext_handicapped_enabled</th>\n",
       "      <th>ext_right_hand_drive</th>\n",
       "      <th>ext_roof_rack</th>\n",
       "      <th>ext_shift_paddles</th>\n",
       "      <th>ext_ski_bag</th>\n",
       "      <th>ext_sliding_door</th>\n",
       "      <th>ext_sport_package</th>\n",
       "      <th>ext_sport_seats</th>\n",
       "      <th>ext_sport_suspension</th>\n",
       "      <th>ext_touch_screen</th>\n",
       "      <th>ext_trailer_hitch</th>\n",
       "      <th>ext_tuned_car</th>\n",
       "      <th>ext_voice_control</th>\n",
       "      <th>ext_winter_tyres</th>\n",
       "      <th>weight_kg</th>\n",
       "    </tr>\n",
       "  </thead>\n",
       "  <tbody>\n",
       "    <tr>\n",
       "      <th>744</th>\n",
       "      <td>134.0</td>\n",
       "      <td>NaN</td>\n",
       "      <td>4.0</td>\n",
       "      <td>NaN</td>\n",
       "      <td>Audi</td>\n",
       "      <td>A1</td>\n",
       "      <td>NaN</td>\n",
       "      <td>NaN</td>\n",
       "      <td>Other</td>\n",
       "      <td>Sicherheit: Deaktivierung für Beifahrer-Airbag ESC mit elektronischer Quersperre Tagfahrlicht Re...</td>\n",
       "      <td>140.0</td>\n",
       "      <td>22001.0</td>\n",
       "      <td>NaN</td>\n",
       "      <td>0.0</td>\n",
       "      <td>1.0</td>\n",
       "      <td>0.0</td>\n",
       "      <td>0.0</td>\n",
       "      <td>0.0</td>\n",
       "      <td>1.0</td>\n",
       "      <td>0.0</td>\n",
       "      <td>0.0</td>\n",
       "      <td>0.0</td>\n",
       "      <td>1.0</td>\n",
       "      <td>0.0</td>\n",
       "      <td>0.0</td>\n",
       "      <td>0.0</td>\n",
       "      <td>0.0</td>\n",
       "      <td>0.0</td>\n",
       "      <td>1.0</td>\n",
       "      <td>0.0</td>\n",
       "      <td>0.0</td>\n",
       "      <td>0.0</td>\n",
       "      <td>0.0</td>\n",
       "      <td>0.0</td>\n",
       "      <td>1.0</td>\n",
       "      <td>1.0</td>\n",
       "      <td>0.0</td>\n",
       "      <td>0.0</td>\n",
       "      <td>0.0</td>\n",
       "      <td>1.0</td>\n",
       "      <td>0.0</td>\n",
       "      <td>0.0</td>\n",
       "      <td>False</td>\n",
       "      <td>5.8</td>\n",
       "      <td>NaT</td>\n",
       "      <td>Other</td>\n",
       "      <td>Black</td>\n",
       "      <td>Semi-automatic</td>\n",
       "      <td>7.0</td>\n",
       "      <td>0</td>\n",
       "      <td>...</td>\n",
       "      <td>0.0</td>\n",
       "      <td>0.0</td>\n",
       "      <td>1.0</td>\n",
       "      <td>0.0</td>\n",
       "      <td>0.0</td>\n",
       "      <td>0.0</td>\n",
       "      <td>0.0</td>\n",
       "      <td>0.0</td>\n",
       "      <td>0.0</td>\n",
       "      <td>0.0</td>\n",
       "      <td>1.0</td>\n",
       "      <td>0.0</td>\n",
       "      <td>0.0</td>\n",
       "      <td>0.0</td>\n",
       "      <td>1.0</td>\n",
       "      <td>1.0</td>\n",
       "      <td>1.0</td>\n",
       "      <td>0.0</td>\n",
       "      <td>0.0</td>\n",
       "      <td>0.0</td>\n",
       "      <td>0.0</td>\n",
       "      <td>0.0</td>\n",
       "      <td>0.0</td>\n",
       "      <td>0.0</td>\n",
       "      <td>0.0</td>\n",
       "      <td>0.0</td>\n",
       "      <td>0.0</td>\n",
       "      <td>0.0</td>\n",
       "      <td>0.0</td>\n",
       "      <td>0.0</td>\n",
       "      <td>0.0</td>\n",
       "      <td>0.0</td>\n",
       "      <td>0.0</td>\n",
       "      <td>0.0</td>\n",
       "      <td>0.0</td>\n",
       "      <td>0.0</td>\n",
       "      <td>0.0</td>\n",
       "      <td>1.0</td>\n",
       "      <td>0.0</td>\n",
       "      <td>0.0</td>\n",
       "      <td>0.0</td>\n",
       "      <td>0.0</td>\n",
       "      <td>1.0</td>\n",
       "      <td>0.0</td>\n",
       "      <td>0.0</td>\n",
       "      <td>0.0</td>\n",
       "      <td>0.0</td>\n",
       "      <td>0.0</td>\n",
       "      <td>0.0</td>\n",
       "      <td>1205.0</td>\n",
       "    </tr>\n",
       "    <tr>\n",
       "      <th>1764</th>\n",
       "      <td>97.0</td>\n",
       "      <td>NaN</td>\n",
       "      <td>3.0</td>\n",
       "      <td>999.0</td>\n",
       "      <td>Audi</td>\n",
       "      <td>A1</td>\n",
       "      <td>NaN</td>\n",
       "      <td>NaN</td>\n",
       "      <td>Other</td>\n",
       "      <td>Sicherheit: Deaktivierung für Beifahrer-Airbag ESC mit elektronischer Quersperre Tagfahrlicht Re...</td>\n",
       "      <td>60.0</td>\n",
       "      <td>5300.0</td>\n",
       "      <td>96237-plus</td>\n",
       "      <td>1.0</td>\n",
       "      <td>0.0</td>\n",
       "      <td>0.0</td>\n",
       "      <td>0.0</td>\n",
       "      <td>0.0</td>\n",
       "      <td>0.0</td>\n",
       "      <td>0.0</td>\n",
       "      <td>1.0</td>\n",
       "      <td>0.0</td>\n",
       "      <td>1.0</td>\n",
       "      <td>1.0</td>\n",
       "      <td>0.0</td>\n",
       "      <td>0.0</td>\n",
       "      <td>1.0</td>\n",
       "      <td>0.0</td>\n",
       "      <td>1.0</td>\n",
       "      <td>1.0</td>\n",
       "      <td>0.0</td>\n",
       "      <td>0.0</td>\n",
       "      <td>0.0</td>\n",
       "      <td>0.0</td>\n",
       "      <td>1.0</td>\n",
       "      <td>1.0</td>\n",
       "      <td>0.0</td>\n",
       "      <td>1.0</td>\n",
       "      <td>1.0</td>\n",
       "      <td>1.0</td>\n",
       "      <td>0.0</td>\n",
       "      <td>0.0</td>\n",
       "      <td>False</td>\n",
       "      <td>4.2</td>\n",
       "      <td>NaT</td>\n",
       "      <td>Other</td>\n",
       "      <td>White</td>\n",
       "      <td>Manual</td>\n",
       "      <td>5.0</td>\n",
       "      <td>0</td>\n",
       "      <td>...</td>\n",
       "      <td>0.0</td>\n",
       "      <td>0.0</td>\n",
       "      <td>1.0</td>\n",
       "      <td>0.0</td>\n",
       "      <td>0.0</td>\n",
       "      <td>0.0</td>\n",
       "      <td>0.0</td>\n",
       "      <td>0.0</td>\n",
       "      <td>0.0</td>\n",
       "      <td>0.0</td>\n",
       "      <td>1.0</td>\n",
       "      <td>1.0</td>\n",
       "      <td>0.0</td>\n",
       "      <td>0.0</td>\n",
       "      <td>1.0</td>\n",
       "      <td>0.0</td>\n",
       "      <td>0.0</td>\n",
       "      <td>1.0</td>\n",
       "      <td>0.0</td>\n",
       "      <td>0.0</td>\n",
       "      <td>0.0</td>\n",
       "      <td>1.0</td>\n",
       "      <td>1.0</td>\n",
       "      <td>1.0</td>\n",
       "      <td>1.0</td>\n",
       "      <td>0.0</td>\n",
       "      <td>0.0</td>\n",
       "      <td>1.0</td>\n",
       "      <td>0.0</td>\n",
       "      <td>0.0</td>\n",
       "      <td>0.0</td>\n",
       "      <td>0.0</td>\n",
       "      <td>1.0</td>\n",
       "      <td>1.0</td>\n",
       "      <td>0.0</td>\n",
       "      <td>0.0</td>\n",
       "      <td>0.0</td>\n",
       "      <td>0.0</td>\n",
       "      <td>0.0</td>\n",
       "      <td>0.0</td>\n",
       "      <td>0.0</td>\n",
       "      <td>0.0</td>\n",
       "      <td>1.0</td>\n",
       "      <td>0.0</td>\n",
       "      <td>0.0</td>\n",
       "      <td>0.0</td>\n",
       "      <td>0.0</td>\n",
       "      <td>0.0</td>\n",
       "      <td>0.0</td>\n",
       "      <td>NaN</td>\n",
       "    </tr>\n",
       "  </tbody>\n",
       "</table>\n",
       "<p>2 rows × 136 columns</p>\n",
       "</div>"
      ],
      "text/plain": [
       "      co2_emission country_version  cylinders  displacement  make model  \\\n",
       "744          134.0             NaN        4.0           NaN  Audi    A1   \n",
       "1764          97.0             NaN        3.0         999.0  Audi    A1   \n",
       "\n",
       "     model_code next_inspection body_type  \\\n",
       "744         NaN             NaN     Other   \n",
       "1764        NaN             NaN     Other   \n",
       "\n",
       "                                                                                              description  \\\n",
       "744   Sicherheit: Deaktivierung für Beifahrer-Airbag ESC mit elektronischer Quersperre Tagfahrlicht Re...   \n",
       "1764  Sicherheit: Deaktivierung für Beifahrer-Airbag ESC mit elektronischer Quersperre Tagfahrlicht Re...   \n",
       "\n",
       "         hp       km offer_number  ss_abs  ss_adaptive_cruise_control  \\\n",
       "744   140.0  22001.0          NaN     0.0                         1.0   \n",
       "1764   60.0   5300.0   96237-plus     1.0                         0.0   \n",
       "\n",
       "      ss_adaptive_headlights  ss_alarm_system  ss_blind_spot_monitor  \\\n",
       "744                      0.0              0.0                    0.0   \n",
       "1764                     0.0              0.0                    0.0   \n",
       "\n",
       "      ss_central_door_lock  ss_central_door_lock_with_remote_control  \\\n",
       "744                    1.0                                       0.0   \n",
       "1764                   0.0                                       0.0   \n",
       "\n",
       "      ss_daytime_running_lights  ss_driver_drowsiness_detection  \\\n",
       "744                         0.0                             0.0   \n",
       "1764                        1.0                             0.0   \n",
       "\n",
       "      ss_driver_side_airbag  ss_electronic_stability_control  \\\n",
       "744                     1.0                              0.0   \n",
       "1764                    1.0                              1.0   \n",
       "\n",
       "      ss_emergency_brake_assistant  ss_emergency_system  ss_fog_lights  \\\n",
       "744                            0.0                  0.0            0.0   \n",
       "1764                           0.0                  0.0            1.0   \n",
       "\n",
       "      ss_head_airbag  ss_immobilizer  ss_isofix  \\\n",
       "744              0.0             1.0        0.0   \n",
       "1764             0.0             1.0        1.0   \n",
       "\n",
       "      ss_led_daytime_running_lights  ss_led_headlights  \\\n",
       "744                             0.0                0.0   \n",
       "1764                            0.0                0.0   \n",
       "\n",
       "      ss_lane_departure_warning_system  ss_night_view_assist  \\\n",
       "744                                0.0                   0.0   \n",
       "1764                               0.0                   0.0   \n",
       "\n",
       "      ss_passenger_side_airbag  ss_power_steering  ss_rear_airbag  \\\n",
       "744                        1.0                1.0             0.0   \n",
       "1764                       1.0                1.0             0.0   \n",
       "\n",
       "      ss_side_airbag  ss_tire_pressure_monitoring_system  ss_traction_control  \\\n",
       "744              0.0                                 0.0                  1.0   \n",
       "1764             1.0                                 1.0                  1.0   \n",
       "\n",
       "      ss_traffic_sign_recognition  ss_xenon_headlights  next_inspection_bool  \\\n",
       "744                           0.0                  0.0                 False   \n",
       "1764                          0.0                  0.0                 False   \n",
       "\n",
       "      consumption_comb available_from   body body_color    gearing_type  \\\n",
       "744                5.8            NaT  Other      Black  Semi-automatic   \n",
       "1764               4.2            NaT  Other      White          Manual   \n",
       "\n",
       "      gears  inspection_new  ... cc_electric_starter cc_electric_tailgate  \\\n",
       "744     7.0               0  ...                 0.0                  0.0   \n",
       "1764    5.0               0  ...                 0.0                  0.0   \n",
       "\n",
       "      cc_electrical_side_mirrors cc_electrically_adjustable_seats  \\\n",
       "744                          1.0                              0.0   \n",
       "1764                         1.0                              0.0   \n",
       "\n",
       "     cc_electrically_heated_windshield  cc_heads_up_display  \\\n",
       "744                                0.0                  0.0   \n",
       "1764                               0.0                  0.0   \n",
       "\n",
       "      cc_heated_steering_wheel  cc_hill_holder  cc_keyless_central_door_lock  \\\n",
       "744                        0.0             0.0                           0.0   \n",
       "1764                       0.0             0.0                           0.0   \n",
       "\n",
       "      cc_leather_seats  cc_leather_steering_wheel  cc_light_sensor  \\\n",
       "744                0.0                        1.0              0.0   \n",
       "1764               0.0                        1.0              1.0   \n",
       "\n",
       "      cc_lumbar_support  cc_massage_seats  cc_multi_function_steering_wheel  \\\n",
       "744                 0.0               0.0                               1.0   \n",
       "1764                0.0               0.0                               1.0   \n",
       "\n",
       "      cc_navigation_system  cc_panorama_roof cc_park_distance_control  \\\n",
       "744                    1.0               1.0                      0.0   \n",
       "1764                   0.0               0.0                      1.0   \n",
       "\n",
       "     cc_parking_assist_system_camera cc_parking_assist_system_self_steering  \\\n",
       "744                              0.0                                    0.0   \n",
       "1764                             0.0                                    0.0   \n",
       "\n",
       "     cc_parking_assist_system_sensors_front  \\\n",
       "744                                     0.0   \n",
       "1764                                    0.0   \n",
       "\n",
       "     cc_parking_assist_system_sensors_rear cc_power_windows  cc_rain_sensor  \\\n",
       "744                                    0.0              0.0             0.0   \n",
       "1764                                   1.0              1.0             1.0   \n",
       "\n",
       "      cc_seat_heating  cc_seat_ventilation cc_split_rear_seats  \\\n",
       "744               0.0                  0.0                 0.0   \n",
       "1764              1.0                  0.0                 0.0   \n",
       "\n",
       "     cc_start_stop_system  cc_sunroof cc_tinted_windows  cc_wind_deflector  \\\n",
       "744                   0.0         0.0               0.0                0.0   \n",
       "1764                  1.0         0.0               0.0                0.0   \n",
       "\n",
       "      cc_windshield  ext_alloy_wheels  ext_cab_or_rented_car  \\\n",
       "744             0.0               0.0                    0.0   \n",
       "1764            0.0               1.0                    1.0   \n",
       "\n",
       "      ext_catalytic_converter  ext_handicapped_enabled  ext_right_hand_drive  \\\n",
       "744                       0.0                      0.0                   0.0   \n",
       "1764                      0.0                      0.0                   0.0   \n",
       "\n",
       "      ext_roof_rack  ext_shift_paddles  ext_ski_bag  ext_sliding_door  \\\n",
       "744             1.0                0.0          0.0               0.0   \n",
       "1764            0.0                0.0          0.0               0.0   \n",
       "\n",
       "      ext_sport_package  ext_sport_seats  ext_sport_suspension  \\\n",
       "744                 0.0              1.0                   0.0   \n",
       "1764                0.0              1.0                   0.0   \n",
       "\n",
       "      ext_touch_screen  ext_trailer_hitch  ext_tuned_car  ext_voice_control  \\\n",
       "744                0.0                0.0            0.0                0.0   \n",
       "1764               0.0                0.0            0.0                0.0   \n",
       "\n",
       "      ext_winter_tyres  weight_kg  \n",
       "744                0.0     1205.0  \n",
       "1764               0.0        NaN  \n",
       "\n",
       "[2 rows x 136 columns]"
      ]
     },
     "execution_count": 62,
     "metadata": {},
     "output_type": "execute_result"
    }
   ],
   "source": [
    "# df.query('(a < b) & (b < c)')\n",
    "# df_q = df_v.query(\"(body==['Other']) | (body==['np.nan'])\")\n",
    "# df_q.head(2)"
   ]
  },
  {
   "cell_type": "code",
   "execution_count": 105,
   "metadata": {},
   "outputs": [
    {
     "data": {
      "text/plain": [
       "Sedans           8005\n",
       "Station wagon    3678\n",
       "Compact          3242\n",
       "Van               817\n",
       "Transporter        88\n",
       "Off-Road           56\n",
       "Coupe              25\n",
       "Convertible         8\n",
       "Name: body, dtype: int64"
      ]
     },
     "execution_count": 105,
     "metadata": {},
     "output_type": "execute_result"
    }
   ],
   "source": [
    "df.body.value_counts(dropna=False)"
   ]
  },
  {
   "cell_type": "code",
   "execution_count": 214,
   "metadata": {},
   "outputs": [
    {
     "data": {
      "text/plain": [
       "CategoricalDtype(categories=['Compact', 'Convertible', 'Coupe', 'Off-Road', 'Sedans',\n",
       "                  'Station wagon', 'Transporter', 'Van'],\n",
       "                 ordered=False)"
      ]
     },
     "execution_count": 214,
     "metadata": {},
     "output_type": "execute_result"
    }
   ],
   "source": [
    "df.body = df.body.astype(\"category\")\n",
    "df.body.dtype"
   ]
  },
  {
   "cell_type": "markdown",
   "metadata": {},
   "source": [
    "### fuel column"
   ]
  },
  {
   "cell_type": "code",
   "execution_count": 124,
   "metadata": {},
   "outputs": [
    {
     "data": {
      "text/plain": [
       "0"
      ]
     },
     "execution_count": 124,
     "metadata": {},
     "output_type": "execute_result"
    }
   ],
   "source": [
    "df.fuel.isnull().sum()"
   ]
  },
  {
   "cell_type": "code",
   "execution_count": 125,
   "metadata": {
    "scrolled": true
   },
   "outputs": [
    {
     "data": {
      "text/plain": [
       "77"
      ]
     },
     "execution_count": 125,
     "metadata": {},
     "output_type": "execute_result"
    }
   ],
   "source": [
    "df.fuel.nunique()"
   ]
  },
  {
   "cell_type": "code",
   "execution_count": 126,
   "metadata": {},
   "outputs": [
    {
     "data": {
      "text/plain": [
       "Diesel (Particulate Filter)                                                                                  4315\n",
       "Super 95                                                                                                     3338\n",
       "Gasoline                                                                                                     3175\n",
       "Diesel                                                                                                       2984\n",
       "Super 95 / Regular/Benzine 91                                                                                 424\n",
       "Regular/Benzine 91                                                                                            354\n",
       "Super E10 95                                                                                                  331\n",
       "Super 95 (Particulate Filter)                                                                                 268\n",
       "Super 95 / Super E10 95                                                                                       131\n",
       "Regular/Benzine 91 (Particulate Filter)                                                                       100\n",
       "Super 95 / Super Plus 98                                                                                       85\n",
       "Gasoline (Particulate Filter)                                                                                  77\n",
       "Super 95 / Super Plus 98 / Super E10 95 / Super Plus E10 98                                                    40\n",
       "Super E10 95 / Super 95                                                                                        38\n",
       "CNG                                                                                                            33\n",
       "Super 95 / Super E10 95 (Particulate Filter)                                                                   25\n",
       "Super E10 95 / Super 95 / Super Plus 98 / Super Plus E10 98                                                    19\n",
       "LPG                                                                                                            16\n",
       "Super 95 / Super Plus 98 (Particulate Filter)                                                                  14\n",
       "Regular/Benzine 91 / Super 95 / Super Plus 98 / Regular/Benzine E10 91 / Super E10 95 / Super Plus E10 98      13\n",
       "Regular/Benzine E10 91                                                                                         11\n",
       "Liquid petroleum gas (LPG)                                                                                     10\n",
       "Super 95 / Super Plus 98 / Super E10 95                                                                         8\n",
       "Super Plus 98                                                                                                   7\n",
       "Super 95 / Regular/Benzine 91 / Super Plus 98 / Regular/Benzine E10 91 / Super E10 95 / Super Plus E10 98       7\n",
       "Regular/Benzine 91 / Regular/Benzine E10 91                                                                     7\n",
       "Super E10 95 (Particulate Filter)                                                                               7\n",
       "Others                                                                                                          5\n",
       "Super 95 / Super Plus 98 / Super Plus E10 98 / Super E10 95                                                     5\n",
       "Super 95 / Super E10 95 / Super Plus E10 98 / Super Plus 98                                                     4\n",
       "                                                                                                             ... \n",
       "Super Plus 98 / Super E10 95                                                                                    1\n",
       "Super Plus 98 / Regular/Benzine 91                                                                              1\n",
       "Super E10 95 / Regular/Benzine 91 / Super 95 / Super Plus 98 / Regular/Benzine E10 91 / Super Plus E10 98       1\n",
       "Super 95 / Biodiesel                                                                                            1\n",
       "Regular/Benzine 91 / Super Plus 98 / Regular/Benzine E10 91 / Super 95 / Super E10 95 / Super Plus E10 98       1\n",
       "Regular/Benzine E10 91 / Regular/Benzine 91 / Super 95 / Super Plus 98 / Super E10 95 / Super Plus E10 98       1\n",
       "Super 95 / Regular/Benzine E10 91                                                                               1\n",
       "Biogas                                                                                                          1\n",
       "Super 95 / Super E10 95 / Regular/Benzine 91                                                                    1\n",
       "Super 95 / Super Plus 98 / Regular/Benzine E10 91 / Super Plus E10 98 / Super E10 95 / Regular/Benzine 91       1\n",
       "Super E10 95 / Regular/Benzine 91 / Regular/Benzine E10 91 / Super 95                                           1\n",
       "Super 95 / Super E10 95 / Super Plus 98                                                                         1\n",
       "Super 95 / Regular/Benzine 91 / Super E10 95 / Super Plus E10 98 / Super Plus 98                                1\n",
       "Regular/Benzine 91 / Super 95 / Super Plus E10 98 / Super E10 95 / Regular/Benzine E10 91 / Super Plus 98       1\n",
       "Super Plus E10 98                                                                                               1\n",
       "Regular/Benzine E10 91 / Super E10 95 / Super Plus E10 98 / Super Plus 98 / Super 95 / Regular/Benzine 91       1\n",
       "Super 95 / Regular/Benzine E10 91 / Super E10 95                                                                1\n",
       "Super Plus 98 / Super 95 / Super Plus E10 98                                                                    1\n",
       "Super Plus E10 98 / Super 95 / Super Plus 98 / Super E10 95                                                     1\n",
       "Super 95 / Regular/Benzine 91 / Super Plus 98 / Regular/Benzine E10 91 / Super Plus E10 98 / Super E10 95       1\n",
       "Others (Particulate Filter)                                                                                     1\n",
       "Super 95 / Super E10 95 / Super Plus E10 98                                                                     1\n",
       "Super 95 / Regular/Benzine 91 / Super E10 95 / Super Plus E10 98 / Super Plus 98 / Regular/Benzine E10 91       1\n",
       "Domestic gas H                                                                                                  1\n",
       "Super 95 / Regular/Benzine 91 / Super E10 95 / Super Plus 98 / Super Plus E10 98 / Regular/Benzine E10 91       1\n",
       "Super 95 / Super Plus 98 / Super Plus E10 98                                                                    1\n",
       "Regular/Benzine 91 / Super 95 / Regular/Benzine E10 91 / Super E10 95 / Super Plus 98 / Super Plus E10 98       1\n",
       "Regular/Benzine 91 / Super 95                                                                                   1\n",
       "Super Plus 98 / Super 95 / Super E10 95                                                                         1\n",
       "Regular/Benzine 91 / Super 95 / Super E10 95 / Super Plus E10 98 / Super Plus 98 / Regular/Benzine E10 91       1\n",
       "Name: fuel, Length: 77, dtype: int64"
      ]
     },
     "execution_count": 126,
     "metadata": {},
     "output_type": "execute_result"
    }
   ],
   "source": [
    "df.fuel.value_counts()"
   ]
  },
  {
   "cell_type": "code",
   "execution_count": 227,
   "metadata": {},
   "outputs": [],
   "source": [
    "# there are so many unique values in fuel column. we will make it simple."
   ]
  },
  {
   "cell_type": "code",
   "execution_count": 127,
   "metadata": {},
   "outputs": [],
   "source": [
    "fuel_dict = {r'Diesel.*': 'diesel', \n",
    "             r'(Gasoline|Super|Regular).*': 'gasoline',\n",
    "             r'.*(LPG|CNG|gas).*': 'gas', \n",
    "             r'Electric.*':'electric',\n",
    "             r'Others.*': np.nan\n",
    "            }\n",
    "df.fuel.replace(fuel_dict, regex = True, inplace=True)"
   ]
  },
  {
   "cell_type": "code",
   "execution_count": 128,
   "metadata": {
    "scrolled": true
   },
   "outputs": [
    {
     "data": {
      "text/plain": [
       "gasoline    8545\n",
       "diesel      7299\n",
       "gas           64\n",
       "NaN            6\n",
       "electric       5\n",
       "Name: fuel, dtype: int64"
      ]
     },
     "execution_count": 128,
     "metadata": {},
     "output_type": "execute_result"
    }
   ],
   "source": [
    "df.fuel.value_counts(dropna=False)"
   ]
  },
  {
   "cell_type": "code",
   "execution_count": 129,
   "metadata": {},
   "outputs": [
    {
     "data": {
      "text/html": [
       "<div>\n",
       "<style scoped>\n",
       "    .dataframe tbody tr th:only-of-type {\n",
       "        vertical-align: middle;\n",
       "    }\n",
       "\n",
       "    .dataframe tbody tr th {\n",
       "        vertical-align: top;\n",
       "    }\n",
       "\n",
       "    .dataframe thead th {\n",
       "        text-align: right;\n",
       "    }\n",
       "</style>\n",
       "<table border=\"1\" class=\"dataframe\">\n",
       "  <thead>\n",
       "    <tr style=\"text-align: right;\">\n",
       "      <th></th>\n",
       "      <th>co2_emission</th>\n",
       "      <th>country_version</th>\n",
       "      <th>cylinders</th>\n",
       "      <th>displacement</th>\n",
       "      <th>make</th>\n",
       "      <th>model</th>\n",
       "      <th>model_code</th>\n",
       "      <th>hp</th>\n",
       "      <th>km</th>\n",
       "      <th>ss_abs</th>\n",
       "      <th>ss_adaptive_cruise_control</th>\n",
       "      <th>ss_adaptive_headlights</th>\n",
       "      <th>ss_alarm_system</th>\n",
       "      <th>ss_blind_spot_monitor</th>\n",
       "      <th>ss_central_door_lock</th>\n",
       "      <th>ss_central_door_lock_with_remote_control</th>\n",
       "      <th>ss_daytime_running_lights</th>\n",
       "      <th>ss_driver_drowsiness_detection</th>\n",
       "      <th>ss_driver_side_airbag</th>\n",
       "      <th>ss_electronic_stability_control</th>\n",
       "      <th>ss_emergency_brake_assistant</th>\n",
       "      <th>ss_emergency_system</th>\n",
       "      <th>ss_fog_lights</th>\n",
       "      <th>ss_head_airbag</th>\n",
       "      <th>ss_immobilizer</th>\n",
       "      <th>ss_isofix</th>\n",
       "      <th>ss_led_daytime_running_lights</th>\n",
       "      <th>ss_led_headlights</th>\n",
       "      <th>ss_lane_departure_warning_system</th>\n",
       "      <th>ss_night_view_assist</th>\n",
       "      <th>ss_passenger_side_airbag</th>\n",
       "      <th>ss_power_steering</th>\n",
       "      <th>ss_rear_airbag</th>\n",
       "      <th>ss_side_airbag</th>\n",
       "      <th>ss_tire_pressure_monitoring_system</th>\n",
       "      <th>ss_traction_control</th>\n",
       "      <th>ss_traffic_sign_recognition</th>\n",
       "      <th>ss_xenon_headlights</th>\n",
       "      <th>next_inspection_bool</th>\n",
       "      <th>consumption_comb</th>\n",
       "      <th>body</th>\n",
       "      <th>body_color</th>\n",
       "      <th>gearing_type</th>\n",
       "      <th>gears</th>\n",
       "      <th>inspection_new</th>\n",
       "      <th>paint_type</th>\n",
       "      <th>price</th>\n",
       "      <th>short_description</th>\n",
       "      <th>vat</th>\n",
       "      <th>age</th>\n",
       "      <th>...</th>\n",
       "      <th>cc_electric_tailgate</th>\n",
       "      <th>cc_electrical_side_mirrors</th>\n",
       "      <th>cc_electrically_adjustable_seats</th>\n",
       "      <th>cc_electrically_heated_windshield</th>\n",
       "      <th>cc_heads_up_display</th>\n",
       "      <th>cc_heated_steering_wheel</th>\n",
       "      <th>cc_hill_holder</th>\n",
       "      <th>cc_keyless_central_door_lock</th>\n",
       "      <th>cc_leather_seats</th>\n",
       "      <th>cc_leather_steering_wheel</th>\n",
       "      <th>cc_light_sensor</th>\n",
       "      <th>cc_lumbar_support</th>\n",
       "      <th>cc_massage_seats</th>\n",
       "      <th>cc_multi_function_steering_wheel</th>\n",
       "      <th>cc_navigation_system</th>\n",
       "      <th>cc_panorama_roof</th>\n",
       "      <th>cc_park_distance_control</th>\n",
       "      <th>cc_parking_assist_system_camera</th>\n",
       "      <th>cc_parking_assist_system_self_steering</th>\n",
       "      <th>cc_parking_assist_system_sensors_front</th>\n",
       "      <th>cc_parking_assist_system_sensors_rear</th>\n",
       "      <th>cc_power_windows</th>\n",
       "      <th>cc_rain_sensor</th>\n",
       "      <th>cc_seat_heating</th>\n",
       "      <th>cc_seat_ventilation</th>\n",
       "      <th>cc_split_rear_seats</th>\n",
       "      <th>cc_start_stop_system</th>\n",
       "      <th>cc_sunroof</th>\n",
       "      <th>cc_tinted_windows</th>\n",
       "      <th>cc_wind_deflector</th>\n",
       "      <th>cc_windshield</th>\n",
       "      <th>ext_alloy_wheels</th>\n",
       "      <th>ext_cab_or_rented_car</th>\n",
       "      <th>ext_catalytic_converter</th>\n",
       "      <th>ext_handicapped_enabled</th>\n",
       "      <th>ext_right_hand_drive</th>\n",
       "      <th>ext_roof_rack</th>\n",
       "      <th>ext_shift_paddles</th>\n",
       "      <th>ext_ski_bag</th>\n",
       "      <th>ext_sliding_door</th>\n",
       "      <th>ext_sport_package</th>\n",
       "      <th>ext_sport_seats</th>\n",
       "      <th>ext_sport_suspension</th>\n",
       "      <th>ext_touch_screen</th>\n",
       "      <th>ext_trailer_hitch</th>\n",
       "      <th>ext_tuned_car</th>\n",
       "      <th>ext_voice_control</th>\n",
       "      <th>ext_winter_tyres</th>\n",
       "      <th>weight_kg</th>\n",
       "      <th>hp2</th>\n",
       "    </tr>\n",
       "  </thead>\n",
       "  <tbody>\n",
       "    <tr>\n",
       "      <th>819</th>\n",
       "      <td>NaN</td>\n",
       "      <td>NaN</td>\n",
       "      <td>NaN</td>\n",
       "      <td>1422.0</td>\n",
       "      <td>Audi</td>\n",
       "      <td>A1</td>\n",
       "      <td>0588/BDF</td>\n",
       "      <td>66.0</td>\n",
       "      <td>25684.0</td>\n",
       "      <td>NaN</td>\n",
       "      <td>NaN</td>\n",
       "      <td>NaN</td>\n",
       "      <td>NaN</td>\n",
       "      <td>NaN</td>\n",
       "      <td>NaN</td>\n",
       "      <td>NaN</td>\n",
       "      <td>NaN</td>\n",
       "      <td>NaN</td>\n",
       "      <td>NaN</td>\n",
       "      <td>NaN</td>\n",
       "      <td>NaN</td>\n",
       "      <td>NaN</td>\n",
       "      <td>NaN</td>\n",
       "      <td>NaN</td>\n",
       "      <td>NaN</td>\n",
       "      <td>NaN</td>\n",
       "      <td>NaN</td>\n",
       "      <td>NaN</td>\n",
       "      <td>NaN</td>\n",
       "      <td>NaN</td>\n",
       "      <td>NaN</td>\n",
       "      <td>NaN</td>\n",
       "      <td>NaN</td>\n",
       "      <td>NaN</td>\n",
       "      <td>NaN</td>\n",
       "      <td>NaN</td>\n",
       "      <td>NaN</td>\n",
       "      <td>NaN</td>\n",
       "      <td>False</td>\n",
       "      <td>NaN</td>\n",
       "      <td>Sedans</td>\n",
       "      <td>White</td>\n",
       "      <td>Manual</td>\n",
       "      <td>5.0</td>\n",
       "      <td>1</td>\n",
       "      <td>Metallic</td>\n",
       "      <td>14388</td>\n",
       "      <td>1.4TDI Sportback /Euro6 /Navi /SHZ /PDC</td>\n",
       "      <td>VAT deductible</td>\n",
       "      <td>3.0</td>\n",
       "      <td>...</td>\n",
       "      <td>0.0</td>\n",
       "      <td>1.0</td>\n",
       "      <td>0.0</td>\n",
       "      <td>0.0</td>\n",
       "      <td>0.0</td>\n",
       "      <td>0.0</td>\n",
       "      <td>0.0</td>\n",
       "      <td>0.0</td>\n",
       "      <td>0.0</td>\n",
       "      <td>0.0</td>\n",
       "      <td>1.0</td>\n",
       "      <td>0.0</td>\n",
       "      <td>0.0</td>\n",
       "      <td>1.0</td>\n",
       "      <td>1.0</td>\n",
       "      <td>0.0</td>\n",
       "      <td>1.0</td>\n",
       "      <td>0.0</td>\n",
       "      <td>0.0</td>\n",
       "      <td>1.0</td>\n",
       "      <td>1.0</td>\n",
       "      <td>0.0</td>\n",
       "      <td>1.0</td>\n",
       "      <td>1.0</td>\n",
       "      <td>0.0</td>\n",
       "      <td>0.0</td>\n",
       "      <td>0.0</td>\n",
       "      <td>0.0</td>\n",
       "      <td>0.0</td>\n",
       "      <td>0.0</td>\n",
       "      <td>0.0</td>\n",
       "      <td>NaN</td>\n",
       "      <td>NaN</td>\n",
       "      <td>NaN</td>\n",
       "      <td>NaN</td>\n",
       "      <td>NaN</td>\n",
       "      <td>NaN</td>\n",
       "      <td>NaN</td>\n",
       "      <td>NaN</td>\n",
       "      <td>NaN</td>\n",
       "      <td>NaN</td>\n",
       "      <td>NaN</td>\n",
       "      <td>NaN</td>\n",
       "      <td>NaN</td>\n",
       "      <td>NaN</td>\n",
       "      <td>NaN</td>\n",
       "      <td>NaN</td>\n",
       "      <td>NaN</td>\n",
       "      <td>NaN</td>\n",
       "      <td>88.0</td>\n",
       "    </tr>\n",
       "    <tr>\n",
       "      <th>2885</th>\n",
       "      <td>NaN</td>\n",
       "      <td>Netherlands</td>\n",
       "      <td>4.0</td>\n",
       "      <td>1395.0</td>\n",
       "      <td>Audi</td>\n",
       "      <td>A3</td>\n",
       "      <td>NaN</td>\n",
       "      <td>81.0</td>\n",
       "      <td>123748.0</td>\n",
       "      <td>1.0</td>\n",
       "      <td>0.0</td>\n",
       "      <td>0.0</td>\n",
       "      <td>0.0</td>\n",
       "      <td>0.0</td>\n",
       "      <td>1.0</td>\n",
       "      <td>0.0</td>\n",
       "      <td>0.0</td>\n",
       "      <td>0.0</td>\n",
       "      <td>1.0</td>\n",
       "      <td>0.0</td>\n",
       "      <td>0.0</td>\n",
       "      <td>0.0</td>\n",
       "      <td>1.0</td>\n",
       "      <td>0.0</td>\n",
       "      <td>0.0</td>\n",
       "      <td>1.0</td>\n",
       "      <td>0.0</td>\n",
       "      <td>0.0</td>\n",
       "      <td>0.0</td>\n",
       "      <td>0.0</td>\n",
       "      <td>1.0</td>\n",
       "      <td>1.0</td>\n",
       "      <td>0.0</td>\n",
       "      <td>0.0</td>\n",
       "      <td>1.0</td>\n",
       "      <td>0.0</td>\n",
       "      <td>0.0</td>\n",
       "      <td>1.0</td>\n",
       "      <td>True</td>\n",
       "      <td>NaN</td>\n",
       "      <td>Compact</td>\n",
       "      <td>White</td>\n",
       "      <td>Automatic</td>\n",
       "      <td>7.0</td>\n",
       "      <td>0</td>\n",
       "      <td>NaN</td>\n",
       "      <td>16400</td>\n",
       "      <td>SPORTBACK 1.4 TFSI G-Tron S-Tronic Adrenalin S-Lin</td>\n",
       "      <td>VAT deductible</td>\n",
       "      <td>3.0</td>\n",
       "      <td>...</td>\n",
       "      <td>0.0</td>\n",
       "      <td>1.0</td>\n",
       "      <td>0.0</td>\n",
       "      <td>0.0</td>\n",
       "      <td>0.0</td>\n",
       "      <td>0.0</td>\n",
       "      <td>0.0</td>\n",
       "      <td>0.0</td>\n",
       "      <td>0.0</td>\n",
       "      <td>1.0</td>\n",
       "      <td>0.0</td>\n",
       "      <td>0.0</td>\n",
       "      <td>0.0</td>\n",
       "      <td>1.0</td>\n",
       "      <td>1.0</td>\n",
       "      <td>0.0</td>\n",
       "      <td>1.0</td>\n",
       "      <td>0.0</td>\n",
       "      <td>0.0</td>\n",
       "      <td>0.0</td>\n",
       "      <td>0.0</td>\n",
       "      <td>1.0</td>\n",
       "      <td>1.0</td>\n",
       "      <td>0.0</td>\n",
       "      <td>0.0</td>\n",
       "      <td>0.0</td>\n",
       "      <td>0.0</td>\n",
       "      <td>0.0</td>\n",
       "      <td>0.0</td>\n",
       "      <td>0.0</td>\n",
       "      <td>0.0</td>\n",
       "      <td>1.0</td>\n",
       "      <td>0.0</td>\n",
       "      <td>0.0</td>\n",
       "      <td>0.0</td>\n",
       "      <td>0.0</td>\n",
       "      <td>0.0</td>\n",
       "      <td>0.0</td>\n",
       "      <td>0.0</td>\n",
       "      <td>0.0</td>\n",
       "      <td>1.0</td>\n",
       "      <td>0.0</td>\n",
       "      <td>0.0</td>\n",
       "      <td>0.0</td>\n",
       "      <td>1.0</td>\n",
       "      <td>0.0</td>\n",
       "      <td>0.0</td>\n",
       "      <td>0.0</td>\n",
       "      <td>1255.0</td>\n",
       "      <td>109.0</td>\n",
       "    </tr>\n",
       "    <tr>\n",
       "      <th>4003</th>\n",
       "      <td>NaN</td>\n",
       "      <td>Germany</td>\n",
       "      <td>4.0</td>\n",
       "      <td>1598.0</td>\n",
       "      <td>Audi</td>\n",
       "      <td>A3</td>\n",
       "      <td>NaN</td>\n",
       "      <td>85.0</td>\n",
       "      <td>49267.0</td>\n",
       "      <td>1.0</td>\n",
       "      <td>0.0</td>\n",
       "      <td>0.0</td>\n",
       "      <td>0.0</td>\n",
       "      <td>0.0</td>\n",
       "      <td>1.0</td>\n",
       "      <td>0.0</td>\n",
       "      <td>1.0</td>\n",
       "      <td>0.0</td>\n",
       "      <td>1.0</td>\n",
       "      <td>1.0</td>\n",
       "      <td>0.0</td>\n",
       "      <td>0.0</td>\n",
       "      <td>0.0</td>\n",
       "      <td>0.0</td>\n",
       "      <td>1.0</td>\n",
       "      <td>1.0</td>\n",
       "      <td>0.0</td>\n",
       "      <td>1.0</td>\n",
       "      <td>0.0</td>\n",
       "      <td>0.0</td>\n",
       "      <td>1.0</td>\n",
       "      <td>1.0</td>\n",
       "      <td>0.0</td>\n",
       "      <td>1.0</td>\n",
       "      <td>1.0</td>\n",
       "      <td>1.0</td>\n",
       "      <td>0.0</td>\n",
       "      <td>1.0</td>\n",
       "      <td>True</td>\n",
       "      <td>NaN</td>\n",
       "      <td>Sedans</td>\n",
       "      <td>Red</td>\n",
       "      <td>Automatic</td>\n",
       "      <td>7.0</td>\n",
       "      <td>0</td>\n",
       "      <td>Metallic</td>\n",
       "      <td>19490</td>\n",
       "      <td>Sportback 1.6 TDI S-Tronic*LED*Navigation*APS</td>\n",
       "      <td>VAT deductible</td>\n",
       "      <td>2.0</td>\n",
       "      <td>...</td>\n",
       "      <td>0.0</td>\n",
       "      <td>1.0</td>\n",
       "      <td>0.0</td>\n",
       "      <td>0.0</td>\n",
       "      <td>0.0</td>\n",
       "      <td>0.0</td>\n",
       "      <td>0.0</td>\n",
       "      <td>0.0</td>\n",
       "      <td>0.0</td>\n",
       "      <td>1.0</td>\n",
       "      <td>1.0</td>\n",
       "      <td>0.0</td>\n",
       "      <td>0.0</td>\n",
       "      <td>1.0</td>\n",
       "      <td>1.0</td>\n",
       "      <td>0.0</td>\n",
       "      <td>1.0</td>\n",
       "      <td>0.0</td>\n",
       "      <td>0.0</td>\n",
       "      <td>1.0</td>\n",
       "      <td>1.0</td>\n",
       "      <td>1.0</td>\n",
       "      <td>1.0</td>\n",
       "      <td>1.0</td>\n",
       "      <td>0.0</td>\n",
       "      <td>0.0</td>\n",
       "      <td>1.0</td>\n",
       "      <td>0.0</td>\n",
       "      <td>0.0</td>\n",
       "      <td>0.0</td>\n",
       "      <td>0.0</td>\n",
       "      <td>1.0</td>\n",
       "      <td>0.0</td>\n",
       "      <td>0.0</td>\n",
       "      <td>0.0</td>\n",
       "      <td>0.0</td>\n",
       "      <td>0.0</td>\n",
       "      <td>0.0</td>\n",
       "      <td>0.0</td>\n",
       "      <td>0.0</td>\n",
       "      <td>0.0</td>\n",
       "      <td>0.0</td>\n",
       "      <td>0.0</td>\n",
       "      <td>0.0</td>\n",
       "      <td>0.0</td>\n",
       "      <td>0.0</td>\n",
       "      <td>0.0</td>\n",
       "      <td>0.0</td>\n",
       "      <td>NaN</td>\n",
       "      <td>114.0</td>\n",
       "    </tr>\n",
       "    <tr>\n",
       "      <th>10374</th>\n",
       "      <td>126.0</td>\n",
       "      <td>Spain</td>\n",
       "      <td>4.0</td>\n",
       "      <td>1398.0</td>\n",
       "      <td>Opel</td>\n",
       "      <td>Corsa</td>\n",
       "      <td>NaN</td>\n",
       "      <td>66.0</td>\n",
       "      <td>5.0</td>\n",
       "      <td>1.0</td>\n",
       "      <td>0.0</td>\n",
       "      <td>1.0</td>\n",
       "      <td>0.0</td>\n",
       "      <td>0.0</td>\n",
       "      <td>0.0</td>\n",
       "      <td>1.0</td>\n",
       "      <td>1.0</td>\n",
       "      <td>0.0</td>\n",
       "      <td>1.0</td>\n",
       "      <td>1.0</td>\n",
       "      <td>0.0</td>\n",
       "      <td>0.0</td>\n",
       "      <td>1.0</td>\n",
       "      <td>1.0</td>\n",
       "      <td>1.0</td>\n",
       "      <td>1.0</td>\n",
       "      <td>0.0</td>\n",
       "      <td>0.0</td>\n",
       "      <td>0.0</td>\n",
       "      <td>0.0</td>\n",
       "      <td>1.0</td>\n",
       "      <td>1.0</td>\n",
       "      <td>0.0</td>\n",
       "      <td>1.0</td>\n",
       "      <td>1.0</td>\n",
       "      <td>1.0</td>\n",
       "      <td>0.0</td>\n",
       "      <td>0.0</td>\n",
       "      <td>False</td>\n",
       "      <td>5.1</td>\n",
       "      <td>Sedans</td>\n",
       "      <td>White</td>\n",
       "      <td>Manual</td>\n",
       "      <td>5.0</td>\n",
       "      <td>0</td>\n",
       "      <td>NaN</td>\n",
       "      <td>11300</td>\n",
       "      <td>1.4 GLP Selective Pro 90</td>\n",
       "      <td>VAT deductible</td>\n",
       "      <td>0.0</td>\n",
       "      <td>...</td>\n",
       "      <td>0.0</td>\n",
       "      <td>1.0</td>\n",
       "      <td>0.0</td>\n",
       "      <td>0.0</td>\n",
       "      <td>0.0</td>\n",
       "      <td>0.0</td>\n",
       "      <td>0.0</td>\n",
       "      <td>0.0</td>\n",
       "      <td>0.0</td>\n",
       "      <td>0.0</td>\n",
       "      <td>0.0</td>\n",
       "      <td>0.0</td>\n",
       "      <td>0.0</td>\n",
       "      <td>1.0</td>\n",
       "      <td>0.0</td>\n",
       "      <td>0.0</td>\n",
       "      <td>0.0</td>\n",
       "      <td>0.0</td>\n",
       "      <td>0.0</td>\n",
       "      <td>0.0</td>\n",
       "      <td>0.0</td>\n",
       "      <td>1.0</td>\n",
       "      <td>0.0</td>\n",
       "      <td>0.0</td>\n",
       "      <td>0.0</td>\n",
       "      <td>0.0</td>\n",
       "      <td>0.0</td>\n",
       "      <td>0.0</td>\n",
       "      <td>0.0</td>\n",
       "      <td>0.0</td>\n",
       "      <td>0.0</td>\n",
       "      <td>1.0</td>\n",
       "      <td>0.0</td>\n",
       "      <td>0.0</td>\n",
       "      <td>0.0</td>\n",
       "      <td>0.0</td>\n",
       "      <td>0.0</td>\n",
       "      <td>0.0</td>\n",
       "      <td>0.0</td>\n",
       "      <td>0.0</td>\n",
       "      <td>0.0</td>\n",
       "      <td>0.0</td>\n",
       "      <td>0.0</td>\n",
       "      <td>0.0</td>\n",
       "      <td>0.0</td>\n",
       "      <td>0.0</td>\n",
       "      <td>1.0</td>\n",
       "      <td>0.0</td>\n",
       "      <td>1163.0</td>\n",
       "      <td>88.0</td>\n",
       "    </tr>\n",
       "    <tr>\n",
       "      <th>11677</th>\n",
       "      <td>NaN</td>\n",
       "      <td>Germany</td>\n",
       "      <td>NaN</td>\n",
       "      <td>1500.0</td>\n",
       "      <td>Opel</td>\n",
       "      <td>Insignia</td>\n",
       "      <td>NaN</td>\n",
       "      <td>103.0</td>\n",
       "      <td>14937.0</td>\n",
       "      <td>0.0</td>\n",
       "      <td>0.0</td>\n",
       "      <td>0.0</td>\n",
       "      <td>0.0</td>\n",
       "      <td>0.0</td>\n",
       "      <td>1.0</td>\n",
       "      <td>0.0</td>\n",
       "      <td>1.0</td>\n",
       "      <td>0.0</td>\n",
       "      <td>1.0</td>\n",
       "      <td>1.0</td>\n",
       "      <td>1.0</td>\n",
       "      <td>0.0</td>\n",
       "      <td>1.0</td>\n",
       "      <td>0.0</td>\n",
       "      <td>1.0</td>\n",
       "      <td>0.0</td>\n",
       "      <td>1.0</td>\n",
       "      <td>0.0</td>\n",
       "      <td>0.0</td>\n",
       "      <td>0.0</td>\n",
       "      <td>1.0</td>\n",
       "      <td>1.0</td>\n",
       "      <td>0.0</td>\n",
       "      <td>1.0</td>\n",
       "      <td>1.0</td>\n",
       "      <td>0.0</td>\n",
       "      <td>0.0</td>\n",
       "      <td>0.0</td>\n",
       "      <td>False</td>\n",
       "      <td>NaN</td>\n",
       "      <td>Station wagon</td>\n",
       "      <td>NaN</td>\n",
       "      <td>Manual</td>\n",
       "      <td>NaN</td>\n",
       "      <td>0</td>\n",
       "      <td>NaN</td>\n",
       "      <td>18480</td>\n",
       "      <td>Edition</td>\n",
       "      <td>VAT deductible</td>\n",
       "      <td>1.0</td>\n",
       "      <td>...</td>\n",
       "      <td>0.0</td>\n",
       "      <td>1.0</td>\n",
       "      <td>0.0</td>\n",
       "      <td>0.0</td>\n",
       "      <td>0.0</td>\n",
       "      <td>0.0</td>\n",
       "      <td>0.0</td>\n",
       "      <td>0.0</td>\n",
       "      <td>0.0</td>\n",
       "      <td>1.0</td>\n",
       "      <td>0.0</td>\n",
       "      <td>0.0</td>\n",
       "      <td>0.0</td>\n",
       "      <td>1.0</td>\n",
       "      <td>1.0</td>\n",
       "      <td>0.0</td>\n",
       "      <td>1.0</td>\n",
       "      <td>0.0</td>\n",
       "      <td>0.0</td>\n",
       "      <td>1.0</td>\n",
       "      <td>1.0</td>\n",
       "      <td>1.0</td>\n",
       "      <td>1.0</td>\n",
       "      <td>1.0</td>\n",
       "      <td>0.0</td>\n",
       "      <td>0.0</td>\n",
       "      <td>1.0</td>\n",
       "      <td>0.0</td>\n",
       "      <td>0.0</td>\n",
       "      <td>0.0</td>\n",
       "      <td>0.0</td>\n",
       "      <td>1.0</td>\n",
       "      <td>0.0</td>\n",
       "      <td>0.0</td>\n",
       "      <td>0.0</td>\n",
       "      <td>0.0</td>\n",
       "      <td>0.0</td>\n",
       "      <td>0.0</td>\n",
       "      <td>0.0</td>\n",
       "      <td>0.0</td>\n",
       "      <td>0.0</td>\n",
       "      <td>0.0</td>\n",
       "      <td>0.0</td>\n",
       "      <td>0.0</td>\n",
       "      <td>1.0</td>\n",
       "      <td>0.0</td>\n",
       "      <td>0.0</td>\n",
       "      <td>0.0</td>\n",
       "      <td>1518.0</td>\n",
       "      <td>138.0</td>\n",
       "    </tr>\n",
       "    <tr>\n",
       "      <th>14500</th>\n",
       "      <td>108.0</td>\n",
       "      <td>Spain</td>\n",
       "      <td>3.0</td>\n",
       "      <td>898.0</td>\n",
       "      <td>Renault</td>\n",
       "      <td>Clio</td>\n",
       "      <td>NaN</td>\n",
       "      <td>66.0</td>\n",
       "      <td>13000.0</td>\n",
       "      <td>1.0</td>\n",
       "      <td>0.0</td>\n",
       "      <td>0.0</td>\n",
       "      <td>0.0</td>\n",
       "      <td>0.0</td>\n",
       "      <td>0.0</td>\n",
       "      <td>1.0</td>\n",
       "      <td>1.0</td>\n",
       "      <td>0.0</td>\n",
       "      <td>1.0</td>\n",
       "      <td>1.0</td>\n",
       "      <td>1.0</td>\n",
       "      <td>0.0</td>\n",
       "      <td>1.0</td>\n",
       "      <td>1.0</td>\n",
       "      <td>1.0</td>\n",
       "      <td>1.0</td>\n",
       "      <td>1.0</td>\n",
       "      <td>0.0</td>\n",
       "      <td>0.0</td>\n",
       "      <td>0.0</td>\n",
       "      <td>1.0</td>\n",
       "      <td>1.0</td>\n",
       "      <td>0.0</td>\n",
       "      <td>1.0</td>\n",
       "      <td>1.0</td>\n",
       "      <td>1.0</td>\n",
       "      <td>0.0</td>\n",
       "      <td>0.0</td>\n",
       "      <td>False</td>\n",
       "      <td>4.7</td>\n",
       "      <td>Sedans</td>\n",
       "      <td>White</td>\n",
       "      <td>Manual</td>\n",
       "      <td>5.0</td>\n",
       "      <td>0</td>\n",
       "      <td>NaN</td>\n",
       "      <td>10800</td>\n",
       "      <td>TCe Energy GLP Limited 66kW 90CV</td>\n",
       "      <td>VAT deductible</td>\n",
       "      <td>1.0</td>\n",
       "      <td>...</td>\n",
       "      <td>0.0</td>\n",
       "      <td>1.0</td>\n",
       "      <td>0.0</td>\n",
       "      <td>0.0</td>\n",
       "      <td>1.0</td>\n",
       "      <td>0.0</td>\n",
       "      <td>1.0</td>\n",
       "      <td>1.0</td>\n",
       "      <td>0.0</td>\n",
       "      <td>1.0</td>\n",
       "      <td>1.0</td>\n",
       "      <td>1.0</td>\n",
       "      <td>0.0</td>\n",
       "      <td>1.0</td>\n",
       "      <td>1.0</td>\n",
       "      <td>0.0</td>\n",
       "      <td>1.0</td>\n",
       "      <td>0.0</td>\n",
       "      <td>0.0</td>\n",
       "      <td>0.0</td>\n",
       "      <td>1.0</td>\n",
       "      <td>1.0</td>\n",
       "      <td>1.0</td>\n",
       "      <td>0.0</td>\n",
       "      <td>0.0</td>\n",
       "      <td>1.0</td>\n",
       "      <td>1.0</td>\n",
       "      <td>0.0</td>\n",
       "      <td>1.0</td>\n",
       "      <td>0.0</td>\n",
       "      <td>0.0</td>\n",
       "      <td>1.0</td>\n",
       "      <td>0.0</td>\n",
       "      <td>0.0</td>\n",
       "      <td>0.0</td>\n",
       "      <td>0.0</td>\n",
       "      <td>0.0</td>\n",
       "      <td>0.0</td>\n",
       "      <td>0.0</td>\n",
       "      <td>0.0</td>\n",
       "      <td>0.0</td>\n",
       "      <td>0.0</td>\n",
       "      <td>0.0</td>\n",
       "      <td>1.0</td>\n",
       "      <td>0.0</td>\n",
       "      <td>0.0</td>\n",
       "      <td>0.0</td>\n",
       "      <td>0.0</td>\n",
       "      <td>1082.0</td>\n",
       "      <td>88.0</td>\n",
       "    </tr>\n",
       "  </tbody>\n",
       "</table>\n",
       "<p>6 rows × 128 columns</p>\n",
       "</div>"
      ],
      "text/plain": [
       "       co2_emission country_version  cylinders  displacement     make  \\\n",
       "819             NaN             NaN        NaN        1422.0     Audi   \n",
       "2885            NaN     Netherlands        4.0        1395.0     Audi   \n",
       "4003            NaN         Germany        4.0        1598.0     Audi   \n",
       "10374         126.0           Spain        4.0        1398.0     Opel   \n",
       "11677           NaN         Germany        NaN        1500.0     Opel   \n",
       "14500         108.0           Spain        3.0         898.0  Renault   \n",
       "\n",
       "          model model_code     hp        km  ss_abs  \\\n",
       "819          A1   0588/BDF   66.0   25684.0     NaN   \n",
       "2885         A3        NaN   81.0  123748.0     1.0   \n",
       "4003         A3        NaN   85.0   49267.0     1.0   \n",
       "10374     Corsa        NaN   66.0       5.0     1.0   \n",
       "11677  Insignia        NaN  103.0   14937.0     0.0   \n",
       "14500      Clio        NaN   66.0   13000.0     1.0   \n",
       "\n",
       "       ss_adaptive_cruise_control  ss_adaptive_headlights  ss_alarm_system  \\\n",
       "819                           NaN                     NaN              NaN   \n",
       "2885                          0.0                     0.0              0.0   \n",
       "4003                          0.0                     0.0              0.0   \n",
       "10374                         0.0                     1.0              0.0   \n",
       "11677                         0.0                     0.0              0.0   \n",
       "14500                         0.0                     0.0              0.0   \n",
       "\n",
       "       ss_blind_spot_monitor  ss_central_door_lock  \\\n",
       "819                      NaN                   NaN   \n",
       "2885                     0.0                   1.0   \n",
       "4003                     0.0                   1.0   \n",
       "10374                    0.0                   0.0   \n",
       "11677                    0.0                   1.0   \n",
       "14500                    0.0                   0.0   \n",
       "\n",
       "       ss_central_door_lock_with_remote_control  ss_daytime_running_lights  \\\n",
       "819                                         NaN                        NaN   \n",
       "2885                                        0.0                        0.0   \n",
       "4003                                        0.0                        1.0   \n",
       "10374                                       1.0                        1.0   \n",
       "11677                                       0.0                        1.0   \n",
       "14500                                       1.0                        1.0   \n",
       "\n",
       "       ss_driver_drowsiness_detection  ss_driver_side_airbag  \\\n",
       "819                               NaN                    NaN   \n",
       "2885                              0.0                    1.0   \n",
       "4003                              0.0                    1.0   \n",
       "10374                             0.0                    1.0   \n",
       "11677                             0.0                    1.0   \n",
       "14500                             0.0                    1.0   \n",
       "\n",
       "       ss_electronic_stability_control  ss_emergency_brake_assistant  \\\n",
       "819                                NaN                           NaN   \n",
       "2885                               0.0                           0.0   \n",
       "4003                               1.0                           0.0   \n",
       "10374                              1.0                           0.0   \n",
       "11677                              1.0                           1.0   \n",
       "14500                              1.0                           1.0   \n",
       "\n",
       "       ss_emergency_system  ss_fog_lights  ss_head_airbag  ss_immobilizer  \\\n",
       "819                    NaN            NaN             NaN             NaN   \n",
       "2885                   0.0            1.0             0.0             0.0   \n",
       "4003                   0.0            0.0             0.0             1.0   \n",
       "10374                  0.0            1.0             1.0             1.0   \n",
       "11677                  0.0            1.0             0.0             1.0   \n",
       "14500                  0.0            1.0             1.0             1.0   \n",
       "\n",
       "       ss_isofix  ss_led_daytime_running_lights  ss_led_headlights  \\\n",
       "819          NaN                            NaN                NaN   \n",
       "2885         1.0                            0.0                0.0   \n",
       "4003         1.0                            0.0                1.0   \n",
       "10374        1.0                            0.0                0.0   \n",
       "11677        0.0                            1.0                0.0   \n",
       "14500        1.0                            1.0                0.0   \n",
       "\n",
       "       ss_lane_departure_warning_system  ss_night_view_assist  \\\n",
       "819                                 NaN                   NaN   \n",
       "2885                                0.0                   0.0   \n",
       "4003                                0.0                   0.0   \n",
       "10374                               0.0                   0.0   \n",
       "11677                               0.0                   0.0   \n",
       "14500                               0.0                   0.0   \n",
       "\n",
       "       ss_passenger_side_airbag  ss_power_steering  ss_rear_airbag  \\\n",
       "819                         NaN                NaN             NaN   \n",
       "2885                        1.0                1.0             0.0   \n",
       "4003                        1.0                1.0             0.0   \n",
       "10374                       1.0                1.0             0.0   \n",
       "11677                       1.0                1.0             0.0   \n",
       "14500                       1.0                1.0             0.0   \n",
       "\n",
       "       ss_side_airbag  ss_tire_pressure_monitoring_system  \\\n",
       "819               NaN                                 NaN   \n",
       "2885              0.0                                 1.0   \n",
       "4003              1.0                                 1.0   \n",
       "10374             1.0                                 1.0   \n",
       "11677             1.0                                 1.0   \n",
       "14500             1.0                                 1.0   \n",
       "\n",
       "       ss_traction_control  ss_traffic_sign_recognition  ss_xenon_headlights  \\\n",
       "819                    NaN                          NaN                  NaN   \n",
       "2885                   0.0                          0.0                  1.0   \n",
       "4003                   1.0                          0.0                  1.0   \n",
       "10374                  1.0                          0.0                  0.0   \n",
       "11677                  0.0                          0.0                  0.0   \n",
       "14500                  1.0                          0.0                  0.0   \n",
       "\n",
       "       next_inspection_bool  consumption_comb           body body_color  \\\n",
       "819                   False               NaN         Sedans      White   \n",
       "2885                   True               NaN        Compact      White   \n",
       "4003                   True               NaN         Sedans        Red   \n",
       "10374                 False               5.1         Sedans      White   \n",
       "11677                 False               NaN  Station wagon        NaN   \n",
       "14500                 False               4.7         Sedans      White   \n",
       "\n",
       "      gearing_type  gears  inspection_new paint_type  price  \\\n",
       "819         Manual    5.0               1   Metallic  14388   \n",
       "2885     Automatic    7.0               0        NaN  16400   \n",
       "4003     Automatic    7.0               0   Metallic  19490   \n",
       "10374       Manual    5.0               0        NaN  11300   \n",
       "11677       Manual    NaN               0        NaN  18480   \n",
       "14500       Manual    5.0               0        NaN  10800   \n",
       "\n",
       "                                        short_description             vat  \\\n",
       "819               1.4TDI Sportback /Euro6 /Navi /SHZ /PDC  VAT deductible   \n",
       "2885   SPORTBACK 1.4 TFSI G-Tron S-Tronic Adrenalin S-Lin  VAT deductible   \n",
       "4003        Sportback 1.6 TDI S-Tronic*LED*Navigation*APS  VAT deductible   \n",
       "10374                            1.4 GLP Selective Pro 90  VAT deductible   \n",
       "11677                                             Edition  VAT deductible   \n",
       "14500                    TCe Energy GLP Limited 66kW 90CV  VAT deductible   \n",
       "\n",
       "       age  ...  cc_electric_tailgate  cc_electrical_side_mirrors  \\\n",
       "819    3.0  ...                   0.0                         1.0   \n",
       "2885   3.0  ...                   0.0                         1.0   \n",
       "4003   2.0  ...                   0.0                         1.0   \n",
       "10374  0.0  ...                   0.0                         1.0   \n",
       "11677  1.0  ...                   0.0                         1.0   \n",
       "14500  1.0  ...                   0.0                         1.0   \n",
       "\n",
       "       cc_electrically_adjustable_seats  cc_electrically_heated_windshield  \\\n",
       "819                                 0.0                                0.0   \n",
       "2885                                0.0                                0.0   \n",
       "4003                                0.0                                0.0   \n",
       "10374                               0.0                                0.0   \n",
       "11677                               0.0                                0.0   \n",
       "14500                               0.0                                0.0   \n",
       "\n",
       "       cc_heads_up_display  cc_heated_steering_wheel  cc_hill_holder  \\\n",
       "819                    0.0                       0.0             0.0   \n",
       "2885                   0.0                       0.0             0.0   \n",
       "4003                   0.0                       0.0             0.0   \n",
       "10374                  0.0                       0.0             0.0   \n",
       "11677                  0.0                       0.0             0.0   \n",
       "14500                  1.0                       0.0             1.0   \n",
       "\n",
       "       cc_keyless_central_door_lock  cc_leather_seats  \\\n",
       "819                             0.0               0.0   \n",
       "2885                            0.0               0.0   \n",
       "4003                            0.0               0.0   \n",
       "10374                           0.0               0.0   \n",
       "11677                           0.0               0.0   \n",
       "14500                           1.0               0.0   \n",
       "\n",
       "       cc_leather_steering_wheel cc_light_sensor cc_lumbar_support  \\\n",
       "819                          0.0             1.0               0.0   \n",
       "2885                         1.0             0.0               0.0   \n",
       "4003                         1.0             1.0               0.0   \n",
       "10374                        0.0             0.0               0.0   \n",
       "11677                        1.0             0.0               0.0   \n",
       "14500                        1.0             1.0               1.0   \n",
       "\n",
       "      cc_massage_seats cc_multi_function_steering_wheel  cc_navigation_system  \\\n",
       "819                0.0                              1.0                   1.0   \n",
       "2885               0.0                              1.0                   1.0   \n",
       "4003               0.0                              1.0                   1.0   \n",
       "10374              0.0                              1.0                   0.0   \n",
       "11677              0.0                              1.0                   1.0   \n",
       "14500              0.0                              1.0                   1.0   \n",
       "\n",
       "       cc_panorama_roof  cc_park_distance_control  \\\n",
       "819                 0.0                       1.0   \n",
       "2885                0.0                       1.0   \n",
       "4003                0.0                       1.0   \n",
       "10374               0.0                       0.0   \n",
       "11677               0.0                       1.0   \n",
       "14500               0.0                       1.0   \n",
       "\n",
       "      cc_parking_assist_system_camera cc_parking_assist_system_self_steering  \\\n",
       "819                               0.0                                    0.0   \n",
       "2885                              0.0                                    0.0   \n",
       "4003                              0.0                                    0.0   \n",
       "10374                             0.0                                    0.0   \n",
       "11677                             0.0                                    0.0   \n",
       "14500                             0.0                                    0.0   \n",
       "\n",
       "       cc_parking_assist_system_sensors_front  \\\n",
       "819                                       1.0   \n",
       "2885                                      0.0   \n",
       "4003                                      1.0   \n",
       "10374                                     0.0   \n",
       "11677                                     1.0   \n",
       "14500                                     0.0   \n",
       "\n",
       "      cc_parking_assist_system_sensors_rear  cc_power_windows  cc_rain_sensor  \\\n",
       "819                                     1.0               0.0             1.0   \n",
       "2885                                    0.0               1.0             1.0   \n",
       "4003                                    1.0               1.0             1.0   \n",
       "10374                                   0.0               1.0             0.0   \n",
       "11677                                   1.0               1.0             1.0   \n",
       "14500                                   1.0               1.0             1.0   \n",
       "\n",
       "       cc_seat_heating  cc_seat_ventilation  cc_split_rear_seats  \\\n",
       "819                1.0                  0.0                  0.0   \n",
       "2885               0.0                  0.0                  0.0   \n",
       "4003               1.0                  0.0                  0.0   \n",
       "10374              0.0                  0.0                  0.0   \n",
       "11677              1.0                  0.0                  0.0   \n",
       "14500              0.0                  0.0                  1.0   \n",
       "\n",
       "       cc_start_stop_system  cc_sunroof  cc_tinted_windows  cc_wind_deflector  \\\n",
       "819                     0.0         0.0                0.0                0.0   \n",
       "2885                    0.0         0.0                0.0                0.0   \n",
       "4003                    1.0         0.0                0.0                0.0   \n",
       "10374                   0.0         0.0                0.0                0.0   \n",
       "11677                   1.0         0.0                0.0                0.0   \n",
       "14500                   1.0         0.0                1.0                0.0   \n",
       "\n",
       "       cc_windshield  ext_alloy_wheels  ext_cab_or_rented_car  \\\n",
       "819              0.0               NaN                    NaN   \n",
       "2885             0.0               1.0                    0.0   \n",
       "4003             0.0               1.0                    0.0   \n",
       "10374            0.0               1.0                    0.0   \n",
       "11677            0.0               1.0                    0.0   \n",
       "14500            0.0               1.0                    0.0   \n",
       "\n",
       "       ext_catalytic_converter  ext_handicapped_enabled  ext_right_hand_drive  \\\n",
       "819                        NaN                      NaN                   NaN   \n",
       "2885                       0.0                      0.0                   0.0   \n",
       "4003                       0.0                      0.0                   0.0   \n",
       "10374                      0.0                      0.0                   0.0   \n",
       "11677                      0.0                      0.0                   0.0   \n",
       "14500                      0.0                      0.0                   0.0   \n",
       "\n",
       "       ext_roof_rack  ext_shift_paddles  ext_ski_bag  ext_sliding_door  \\\n",
       "819              NaN                NaN          NaN               NaN   \n",
       "2885             0.0                0.0          0.0               0.0   \n",
       "4003             0.0                0.0          0.0               0.0   \n",
       "10374            0.0                0.0          0.0               0.0   \n",
       "11677            0.0                0.0          0.0               0.0   \n",
       "14500            0.0                0.0          0.0               0.0   \n",
       "\n",
       "       ext_sport_package  ext_sport_seats  ext_sport_suspension  \\\n",
       "819                  NaN              NaN                   NaN   \n",
       "2885                 1.0              0.0                   0.0   \n",
       "4003                 0.0              0.0                   0.0   \n",
       "10374                0.0              0.0                   0.0   \n",
       "11677                0.0              0.0                   0.0   \n",
       "14500                0.0              0.0                   0.0   \n",
       "\n",
       "       ext_touch_screen  ext_trailer_hitch  ext_tuned_car  ext_voice_control  \\\n",
       "819                 NaN                NaN            NaN                NaN   \n",
       "2885                0.0                1.0            0.0                0.0   \n",
       "4003                0.0                0.0            0.0                0.0   \n",
       "10374               0.0                0.0            0.0                1.0   \n",
       "11677               0.0                1.0            0.0                0.0   \n",
       "14500               1.0                0.0            0.0                0.0   \n",
       "\n",
       "       ext_winter_tyres  weight_kg    hp2  \n",
       "819                 NaN        NaN   88.0  \n",
       "2885                0.0     1255.0  109.0  \n",
       "4003                0.0        NaN  114.0  \n",
       "10374               0.0     1163.0   88.0  \n",
       "11677               0.0     1518.0  138.0  \n",
       "14500               0.0     1082.0   88.0  \n",
       "\n",
       "[6 rows x 128 columns]"
      ]
     },
     "execution_count": 129,
     "metadata": {},
     "output_type": "execute_result"
    }
   ],
   "source": [
    "nan_fuel = df[df.fuel.isnull()]\n",
    "nan_fuel"
   ]
  },
  {
   "cell_type": "code",
   "execution_count": 157,
   "metadata": {},
   "outputs": [
    {
     "data": {
      "text/plain": [
       "819                 1.4TDI Sportback /Euro6 /Navi /SHZ /PDC\n",
       "2885     SPORTBACK 1.4 TFSI G-Tron S-Tronic Adrenalin S-Lin\n",
       "4003          Sportback 1.6 TDI S-Tronic*LED*Navigation*APS\n",
       "10374                              1.4 GLP Selective Pro 90\n",
       "11677                                               Edition\n",
       "14500                      TCe Energy GLP Limited 66kW 90CV\n",
       "Name: short_description, dtype: object"
      ]
     },
     "execution_count": 157,
     "metadata": {},
     "output_type": "execute_result"
    }
   ],
   "source": [
    "nf = nan_fuel.short_description\n",
    "nf"
   ]
  },
  {
   "cell_type": "code",
   "execution_count": 160,
   "metadata": {},
   "outputs": [
    {
     "name": "stderr",
     "output_type": "stream",
     "text": [
      "C:\\Users\\buono\\Anaconda3\\lib\\site-packages\\ipykernel_launcher.py:6: SettingWithCopyWarning: \n",
      "A value is trying to be set on a copy of a slice from a DataFrame.\n",
      "Try using .loc[row_indexer,col_indexer] = value instead\n",
      "\n",
      "See the caveats in the documentation: http://pandas.pydata.org/pandas-docs/stable/indexing.html#indexing-view-versus-copy\n",
      "  \n"
     ]
    }
   ],
   "source": [
    "fuel_dict2 = {r'.*TDI.*': 'diesel', \n",
    "             r'.*TFSI.*': 'gasoline',\n",
    "             r'.*GLP.*': 'gas', \n",
    "             r'Edition':'gasoline',\n",
    "             }\n",
    "nan_fuel[\"fuel\"] = nan_fuel.short_description.replace(fuel_dict2, regex = True)"
   ]
  },
  {
   "cell_type": "code",
   "execution_count": 163,
   "metadata": {},
   "outputs": [
    {
     "data": {
      "text/plain": [
       "819        diesel\n",
       "2885     gasoline\n",
       "4003       diesel\n",
       "10374         gas\n",
       "11677    gasoline\n",
       "14500         gas\n",
       "Name: fuel, dtype: object"
      ]
     },
     "execution_count": 163,
     "metadata": {},
     "output_type": "execute_result"
    }
   ],
   "source": [
    "naf = nan_fuel.fuel\n",
    "naf"
   ]
  },
  {
   "cell_type": "code",
   "execution_count": 169,
   "metadata": {},
   "outputs": [],
   "source": [
    "for idx, val in naf.items():\n",
    "    df.loc[idx, \"fuel\"] = val"
   ]
  },
  {
   "cell_type": "code",
   "execution_count": 170,
   "metadata": {},
   "outputs": [
    {
     "data": {
      "text/plain": [
       "gasoline    8547\n",
       "diesel      7301\n",
       "gas           66\n",
       "electric       5\n",
       "Name: fuel, dtype: int64"
      ]
     },
     "execution_count": 170,
     "metadata": {},
     "output_type": "execute_result"
    }
   ],
   "source": [
    "df.fuel.value_counts(dropna=False)"
   ]
  },
  {
   "cell_type": "code",
   "execution_count": 215,
   "metadata": {},
   "outputs": [
    {
     "data": {
      "text/plain": [
       "CategoricalDtype(categories=['diesel', 'electric', 'gas', 'gasoline'], ordered=False)"
      ]
     },
     "execution_count": 215,
     "metadata": {},
     "output_type": "execute_result"
    }
   ],
   "source": [
    "df.fuel = df.fuel.astype(\"category\")\n",
    "df.fuel.dtype"
   ]
  },
  {
   "cell_type": "markdown",
   "metadata": {},
   "source": [
    "### hp column"
   ]
  },
  {
   "cell_type": "code",
   "execution_count": 106,
   "metadata": {},
   "outputs": [
    {
     "data": {
      "text/plain": [
       "<matplotlib.axes._subplots.AxesSubplot at 0x1b428135ac8>"
      ]
     },
     "execution_count": 106,
     "metadata": {},
     "output_type": "execute_result"
    },
    {
     "data": {
      "text/plain": [
       "<Figure size 216x216 with 0 Axes>"
      ]
     },
     "metadata": {},
     "output_type": "display_data"
    },
    {
     "data": {
      "image/png": "[encoded data removed]",
      "text/plain": [
       "<Figure size 432x288 with 1 Axes>"
      ]
     },
     "metadata": {
      "needs_background": "light"
     },
     "output_type": "display_data"
    }
   ],
   "source": [
    "plt.figure(figsize=(3,3))\n",
    "df.boxplot(column='hp', by = 'model')"
   ]
  },
  {
   "cell_type": "code",
   "execution_count": 171,
   "metadata": {},
   "outputs": [
    {
     "data": {
      "text/plain": [
       "88"
      ]
     },
     "execution_count": 171,
     "metadata": {},
     "output_type": "execute_result"
    }
   ],
   "source": [
    "df.hp.isnull().sum()"
   ]
  },
  {
   "cell_type": "code",
   "execution_count": 172,
   "metadata": {},
   "outputs": [
    {
     "data": {
      "text/plain": [
       "count    15831.000000\n",
       "mean        88.367696\n",
       "std         26.835135\n",
       "min          1.000000\n",
       "25%         66.000000\n",
       "50%         85.000000\n",
       "75%        101.000000\n",
       "max        294.000000\n",
       "Name: hp, dtype: float64"
      ]
     },
     "execution_count": 172,
     "metadata": {},
     "output_type": "execute_result"
    }
   ],
   "source": [
    "df.hp.describe()"
   ]
  },
  {
   "cell_type": "code",
   "execution_count": 169,
   "metadata": {},
   "outputs": [],
   "source": [
    "# min 1 hp is not normal."
   ]
  },
  {
   "cell_type": "code",
   "execution_count": 170,
   "metadata": {},
   "outputs": [
    {
     "data": {
      "text/plain": [
       "<matplotlib.axes._subplots.AxesSubplot at 0x19977603320>"
      ]
     },
     "execution_count": 170,
     "metadata": {},
     "output_type": "execute_result"
    },
    {
     "data": {
      "image/png": "[encoded data removed]",
      "text/plain": [
       "<Figure size 432x288 with 1 Axes>"
      ]
     },
     "metadata": {
      "needs_background": "light"
     },
     "output_type": "display_data"
    }
   ],
   "source": [
    "df.plot.scatter(x='hp', y='price')"
   ]
  },
  {
   "cell_type": "code",
   "execution_count": 182,
   "metadata": {},
   "outputs": [
    {
     "data": {
      "text/plain": [
       "model\n",
       "A1           77.0\n",
       "A2           85.0\n",
       "A3           90.0\n",
       "Astra        93.0\n",
       "Clio         71.0\n",
       "Corsa        60.0\n",
       "Duster       77.0\n",
       "Espace      130.0\n",
       "Insignia    114.0\n",
       "Name: hp, dtype: float64"
      ]
     },
     "execution_count": 182,
     "metadata": {},
     "output_type": "execute_result"
    }
   ],
   "source": [
    "hp_mean = df.groupby([\"model\"])[\"hp\"].mean().round()\n",
    "hp_mean"
   ]
  },
  {
   "cell_type": "code",
   "execution_count": 189,
   "metadata": {},
   "outputs": [
    {
     "data": {
      "text/plain": [
       "51.0    695\n",
       "55.0    569\n",
       "56.0    286\n",
       "54.0    276\n",
       "NaN      88\n",
       "52.0     22\n",
       "1.0      20\n",
       "57.0     10\n",
       "53.0      2\n",
       "40.0      2\n",
       "4.0       1\n",
       "44.0      1\n",
       "9.0       1\n",
       "Name: hp, dtype: int64"
      ]
     },
     "execution_count": 189,
     "metadata": {},
     "output_type": "execute_result"
    }
   ],
   "source": [
    "hp = df[(df.hp < 60) | (df.hp.isnull())]\n",
    "hp.hp.value_counts(dropna=False)"
   ]
  },
  {
   "cell_type": "code",
   "execution_count": 190,
   "metadata": {},
   "outputs": [
    {
     "data": {
      "text/plain": [
       "1269    NaN\n",
       "2500    NaN\n",
       "3913    9.0\n",
       "4259    NaN\n",
       "6005    1.0\n",
       "Name: hp, dtype: float64"
      ]
     },
     "execution_count": 190,
     "metadata": {},
     "output_type": "execute_result"
    }
   ],
   "source": [
    "hp_idx = hp.hp\n",
    "hp_idx.head()"
   ]
  },
  {
   "cell_type": "code",
   "execution_count": 206,
   "metadata": {},
   "outputs": [],
   "source": [
    "# Replace hp below 60 with mean value of the models.\n",
    "for key, hp in hp_mean.items():\n",
    "    for idx, val in hp_idx.items():\n",
    "        if df.loc[idx, \"model\"] == key:\n",
    "            df.loc[idx, \"hp\"] = hp    "
   ]
  },
  {
   "cell_type": "code",
   "execution_count": 207,
   "metadata": {},
   "outputs": [
    {
     "data": {
      "text/plain": [
       "count    15919.000000\n",
       "mean        89.987876\n",
       "std         25.081329\n",
       "min         60.000000\n",
       "25%         70.000000\n",
       "50%         85.000000\n",
       "75%        103.000000\n",
       "max        294.000000\n",
       "Name: hp, dtype: float64"
      ]
     },
     "execution_count": 207,
     "metadata": {},
     "output_type": "execute_result"
    }
   ],
   "source": [
    "df.hp.describe()"
   ]
  },
  {
   "cell_type": "markdown",
   "metadata": {},
   "source": [
    "### nr_of_doors column"
   ]
  },
  {
   "cell_type": "code",
   "execution_count": 208,
   "metadata": {},
   "outputs": [
    {
     "data": {
      "text/plain": [
       "<matplotlib.axes._subplots.AxesSubplot at 0x1b423eb5160>"
      ]
     },
     "execution_count": 208,
     "metadata": {},
     "output_type": "execute_result"
    },
    {
     "data": {
      "image/png": "[encoded data removed]",
      "text/plain": [
       "<Figure size 432x288 with 1 Axes>"
      ]
     },
     "metadata": {
      "needs_background": "light"
     },
     "output_type": "display_data"
    }
   ],
   "source": [
    "df.boxplot(column='nr_of_doors', by = 'model')"
   ]
  },
  {
   "cell_type": "code",
   "execution_count": 209,
   "metadata": {},
   "outputs": [
    {
     "data": {
      "text/plain": [
       "<matplotlib.axes._subplots.AxesSubplot at 0x1b429f80a20>"
      ]
     },
     "execution_count": 209,
     "metadata": {},
     "output_type": "execute_result"
    },
    {
     "data": {
      "image/png": "[encoded data removed]",
      "text/plain": [
       "<Figure size 432x288 with 1 Axes>"
      ]
     },
     "metadata": {
      "needs_background": "light"
     },
     "output_type": "display_data"
    }
   ],
   "source": [
    "sns.countplot(df.nr_of_doors)"
   ]
  },
  {
   "cell_type": "code",
   "execution_count": 213,
   "metadata": {},
   "outputs": [
    {
     "data": {
      "text/plain": [
       "count    15707.000000\n",
       "mean         4.656077\n",
       "std          0.645298\n",
       "min          1.000000\n",
       "25%          4.000000\n",
       "50%          5.000000\n",
       "75%          5.000000\n",
       "max          7.000000\n",
       "Name: nr_of_doors, dtype: float64"
      ]
     },
     "execution_count": 213,
     "metadata": {},
     "output_type": "execute_result"
    }
   ],
   "source": [
    "df.nr_of_doors.describe()"
   ]
  },
  {
   "cell_type": "code",
   "execution_count": 216,
   "metadata": {},
   "outputs": [
    {
     "data": {
      "text/plain": [
       "5.0    11575\n",
       "4.0     3079\n",
       "3.0      832\n",
       "2.0      219\n",
       "NaN      212\n",
       "7.0        1\n",
       "1.0        1\n",
       "Name: nr_of_doors, dtype: int64"
      ]
     },
     "execution_count": 216,
     "metadata": {},
     "output_type": "execute_result"
    }
   ],
   "source": [
    "df.nr_of_doors.value_counts(dropna=False)"
   ]
  },
  {
   "cell_type": "code",
   "execution_count": 228,
   "metadata": {},
   "outputs": [
    {
     "data": {
      "text/html": [
       "<div>\n",
       "<style scoped>\n",
       "    .dataframe tbody tr th:only-of-type {\n",
       "        vertical-align: middle;\n",
       "    }\n",
       "\n",
       "    .dataframe tbody tr th {\n",
       "        vertical-align: top;\n",
       "    }\n",
       "\n",
       "    .dataframe thead th {\n",
       "        text-align: right;\n",
       "    }\n",
       "</style>\n",
       "<table border=\"1\" class=\"dataframe\">\n",
       "  <thead>\n",
       "    <tr style=\"text-align: right;\">\n",
       "      <th></th>\n",
       "      <th>nr_of_doors</th>\n",
       "      <th>nr_of_doors</th>\n",
       "    </tr>\n",
       "    <tr>\n",
       "      <th>model</th>\n",
       "      <th></th>\n",
       "      <th></th>\n",
       "    </tr>\n",
       "  </thead>\n",
       "  <tbody>\n",
       "    <tr>\n",
       "      <th>A1</th>\n",
       "      <td>5.0</td>\n",
       "      <td>5.0</td>\n",
       "    </tr>\n",
       "    <tr>\n",
       "      <th>A2</th>\n",
       "      <td>5.0</td>\n",
       "      <td>5.0</td>\n",
       "    </tr>\n",
       "    <tr>\n",
       "      <th>A3</th>\n",
       "      <td>5.0</td>\n",
       "      <td>5.0</td>\n",
       "    </tr>\n",
       "    <tr>\n",
       "      <th>Astra</th>\n",
       "      <td>5.0</td>\n",
       "      <td>5.0</td>\n",
       "    </tr>\n",
       "    <tr>\n",
       "      <th>Clio</th>\n",
       "      <td>5.0</td>\n",
       "      <td>5.0</td>\n",
       "    </tr>\n",
       "    <tr>\n",
       "      <th>Corsa</th>\n",
       "      <td>4.0</td>\n",
       "      <td>5.0</td>\n",
       "    </tr>\n",
       "    <tr>\n",
       "      <th>Duster</th>\n",
       "      <td>5.0</td>\n",
       "      <td>5.0</td>\n",
       "    </tr>\n",
       "    <tr>\n",
       "      <th>Espace</th>\n",
       "      <td>5.0</td>\n",
       "      <td>5.0</td>\n",
       "    </tr>\n",
       "    <tr>\n",
       "      <th>Insignia</th>\n",
       "      <td>5.0</td>\n",
       "      <td>5.0</td>\n",
       "    </tr>\n",
       "  </tbody>\n",
       "</table>\n",
       "</div>"
      ],
      "text/plain": [
       "          nr_of_doors  nr_of_doors\n",
       "model                             \n",
       "A1                5.0          5.0\n",
       "A2                5.0          5.0\n",
       "A3                5.0          5.0\n",
       "Astra             5.0          5.0\n",
       "Clio              5.0          5.0\n",
       "Corsa             4.0          5.0\n",
       "Duster            5.0          5.0\n",
       "Espace            5.0          5.0\n",
       "Insignia          5.0          5.0"
      ]
     },
     "execution_count": 228,
     "metadata": {},
     "output_type": "execute_result"
    }
   ],
   "source": [
    "door_group1 = df.groupby([\"model\"])[\"nr_of_doors\"].mean().round()\n",
    "door_group2 = df.groupby([\"model\"])[\"nr_of_doors\"].median()\n",
    "pd.concat([door_group1, door_group2], axis=1, names=[\"mean\", \"median\"])"
   ]
  },
  {
   "cell_type": "code",
   "execution_count": 242,
   "metadata": {},
   "outputs": [],
   "source": [
    "doors = df[(df.nr_of_doors < 2) | (df.nr_of_doors.isnull())].nr_of_doors\n",
    "doors = 5"
   ]
  },
  {
   "cell_type": "code",
   "execution_count": 243,
   "metadata": {},
   "outputs": [
    {
     "data": {
      "text/plain": [
       "5.0    11575\n",
       "4.0     3079\n",
       "3.0      832\n",
       "2.0      219\n",
       "NaN      212\n",
       "7.0        1\n",
       "1.0        1\n",
       "Name: nr_of_doors, dtype: int64"
      ]
     },
     "execution_count": 243,
     "metadata": {},
     "output_type": "execute_result"
    }
   ],
   "source": [
    "df.nr_of_doors.value_counts(dropna=False)"
   ]
  },
  {
   "cell_type": "code",
   "execution_count": 175,
   "metadata": {},
   "outputs": [],
   "source": [
    "df[\"nr_of_doors\"]=df[\"nr_of_doors\"].fillna(5) "
   ]
  },
  {
   "cell_type": "markdown",
   "metadata": {},
   "source": [
    "**displacement**"
   ]
  },
  {
   "cell_type": "code",
   "execution_count": 176,
   "metadata": {},
   "outputs": [
    {
     "data": {
      "text/plain": [
       "<matplotlib.axes._subplots.AxesSubplot at 0x199766326d8>"
      ]
     },
     "execution_count": 176,
     "metadata": {},
     "output_type": "execute_result"
    },
    {
     "data": {
      "image/png": "[encoded data removed]",
      "text/plain": [
       "<Figure size 432x288 with 1 Axes>"
      ]
     },
     "metadata": {
      "needs_background": "light"
     },
     "output_type": "display_data"
    }
   ],
   "source": [
    "df.boxplot('displacement')"
   ]
  },
  {
   "cell_type": "code",
   "execution_count": 177,
   "metadata": {},
   "outputs": [],
   "source": [
    "# dispacements around 16000 are strange. We'll detect and drop them."
   ]
  },
  {
   "cell_type": "code",
   "execution_count": 178,
   "metadata": {},
   "outputs": [
    {
     "data": {
      "text/plain": [
       "7169     15898.0\n",
       "10932    16000.0\n",
       "Name: displacement, dtype: float64"
      ]
     },
     "execution_count": 178,
     "metadata": {},
     "output_type": "execute_result"
    }
   ],
   "source": [
    "df.displacement[df.displacement>4000]"
   ]
  },
  {
   "cell_type": "code",
   "execution_count": 179,
   "metadata": {},
   "outputs": [],
   "source": [
    "df = df.drop([7169, 10932])"
   ]
  },
  {
   "cell_type": "code",
   "execution_count": 180,
   "metadata": {},
   "outputs": [
    {
     "data": {
      "text/plain": [
       "<matplotlib.axes._subplots.AxesSubplot at 0x19972839ba8>"
      ]
     },
     "execution_count": 180,
     "metadata": {},
     "output_type": "execute_result"
    },
    {
     "data": {
      "image/png": "[encoded data removed]",
      "text/plain": [
       "<Figure size 432x288 with 1 Axes>"
      ]
     },
     "metadata": {
      "needs_background": "light"
     },
     "output_type": "display_data"
    }
   ],
   "source": [
    "df.boxplot('displacement')"
   ]
  },
  {
   "cell_type": "code",
   "execution_count": 181,
   "metadata": {},
   "outputs": [],
   "source": [
    "# displacement values below 500 doesn't seem normal."
   ]
  },
  {
   "cell_type": "code",
   "execution_count": 182,
   "metadata": {},
   "outputs": [
    {
     "data": {
      "text/plain": [
       "1.0      36\n",
       "160.0     6\n",
       "139.0     4\n",
       "2.0       2\n",
       "54.0      1\n",
       "122.0     1\n",
       "140.0     1\n",
       "Name: displacement, dtype: int64"
      ]
     },
     "execution_count": 182,
     "metadata": {},
     "output_type": "execute_result"
    }
   ],
   "source": [
    "df.displacement[df.displacement<500].value_counts()"
   ]
  },
  {
   "cell_type": "code",
   "execution_count": 183,
   "metadata": {},
   "outputs": [],
   "source": [
    "drop_list_disp=df.displacement[df.displacement<500].index"
   ]
  },
  {
   "cell_type": "code",
   "execution_count": 184,
   "metadata": {},
   "outputs": [],
   "source": [
    "df = df.drop(drop_list_disp)"
   ]
  },
  {
   "cell_type": "code",
   "execution_count": 244,
   "metadata": {},
   "outputs": [
    {
     "data": {
      "text/plain": [
       "<matplotlib.axes._subplots.AxesSubplot at 0x1b42a82ffd0>"
      ]
     },
     "execution_count": 244,
     "metadata": {},
     "output_type": "execute_result"
    },
    {
     "data": {
      "image/png": "[encoded data removed]",
      "text/plain": [
       "<Figure size 432x288 with 1 Axes>"
      ]
     },
     "metadata": {
      "needs_background": "light"
     },
     "output_type": "display_data"
    }
   ],
   "source": [
    "df.boxplot(column='displacement', by = 'model')"
   ]
  },
  {
   "cell_type": "code",
   "execution_count": 186,
   "metadata": {},
   "outputs": [
    {
     "data": {
      "text/plain": [
       "496"
      ]
     },
     "execution_count": 186,
     "metadata": {},
     "output_type": "execute_result"
    }
   ],
   "source": [
    "df.displacement.isnull().sum()"
   ]
  },
  {
   "cell_type": "code",
   "execution_count": 187,
   "metadata": {},
   "outputs": [],
   "source": [
    "df['displacement'].fillna(df.groupby('model')['displacement'].transform(\"mean\"), inplace=True)"
   ]
  },
  {
   "cell_type": "markdown",
   "metadata": {},
   "source": [
    "**body_color**"
   ]
  },
  {
   "cell_type": "code",
   "execution_count": 188,
   "metadata": {},
   "outputs": [
    {
     "data": {
      "text/plain": [
       "597"
      ]
     },
     "execution_count": 188,
     "metadata": {},
     "output_type": "execute_result"
    }
   ],
   "source": [
    "df.body_color.isnull().sum()"
   ]
  },
  {
   "cell_type": "code",
   "execution_count": 189,
   "metadata": {},
   "outputs": [
    {
     "data": {
      "text/plain": [
       "<matplotlib.axes._subplots.AxesSubplot at 0x199768d7b00>"
      ]
     },
     "execution_count": 189,
     "metadata": {},
     "output_type": "execute_result"
    },
    {
     "data": {
      "image/png": "[encoded data removed]",
      "text/plain": [
       "<Figure size 720x216 with 1 Axes>"
      ]
     },
     "metadata": {
      "needs_background": "light"
     },
     "output_type": "display_data"
    }
   ],
   "source": [
    "plt.figure(figsize=(10,3))\n",
    "sns.countplot(df.body_color)"
   ]
  },
  {
   "cell_type": "code",
   "execution_count": 190,
   "metadata": {},
   "outputs": [],
   "source": [
    "df[\"body_color\"].fillna(\"Black\", inplace = True) "
   ]
  },
  {
   "cell_type": "markdown",
   "metadata": {},
   "source": [
    "**age**"
   ]
  },
  {
   "cell_type": "code",
   "execution_count": 191,
   "metadata": {},
   "outputs": [
    {
     "data": {
      "text/plain": [
       "<matplotlib.axes._subplots.AxesSubplot at 0x199766b87b8>"
      ]
     },
     "execution_count": 191,
     "metadata": {},
     "output_type": "execute_result"
    },
    {
     "data": {
      "image/png": "[encoded data removed]",
      "text/plain": [
       "<Figure size 432x288 with 1 Axes>"
      ]
     },
     "metadata": {
      "needs_background": "light"
     },
     "output_type": "display_data"
    }
   ],
   "source": [
    "sns.countplot(df.age)"
   ]
  },
  {
   "cell_type": "code",
   "execution_count": 192,
   "metadata": {},
   "outputs": [
    {
     "data": {
      "text/plain": [
       "1595"
      ]
     },
     "execution_count": 192,
     "metadata": {},
     "output_type": "execute_result"
    }
   ],
   "source": [
    "df.age.isnull().sum()"
   ]
  },
  {
   "cell_type": "code",
   "execution_count": 193,
   "metadata": {},
   "outputs": [],
   "source": [
    "# In heat meap (in EDA file) age has huge corr with km, price and cons_comb.\n",
    "# Due to price is target value we don't use price to fill age column's missing values.\n",
    "# Also km and cons_comb have missing values.\n",
    "# firstly fill these columns then make a classification."
   ]
  },
  {
   "cell_type": "code",
   "execution_count": 194,
   "metadata": {},
   "outputs": [
    {
     "data": {
      "text/plain": [
       "1017"
      ]
     },
     "execution_count": 194,
     "metadata": {},
     "output_type": "execute_result"
    }
   ],
   "source": [
    "df.km.isnull().sum()"
   ]
  },
  {
   "cell_type": "code",
   "execution_count": 195,
   "metadata": {},
   "outputs": [
    {
     "data": {
      "text/plain": [
       "2836"
      ]
     },
     "execution_count": 195,
     "metadata": {},
     "output_type": "execute_result"
    }
   ],
   "source": [
    "df.consumption_comb.isnull().sum()"
   ]
  },
  {
   "cell_type": "markdown",
   "metadata": {},
   "source": [
    "**km**"
   ]
  },
  {
   "cell_type": "code",
   "execution_count": 196,
   "metadata": {},
   "outputs": [
    {
     "data": {
      "text/plain": [
       "<matplotlib.axes._subplots.AxesSubplot at 0x199766206a0>"
      ]
     },
     "execution_count": 196,
     "metadata": {},
     "output_type": "execute_result"
    },
    {
     "data": {
      "image/png": "[encoded data removed]",
      "text/plain": [
       "<Figure size 432x288 with 1 Axes>"
      ]
     },
     "metadata": {
      "needs_background": "light"
     },
     "output_type": "display_data"
    }
   ],
   "source": [
    "df.boxplot(column='km', by = 'age')"
   ]
  },
  {
   "cell_type": "code",
   "execution_count": 197,
   "metadata": {},
   "outputs": [
    {
     "data": {
      "text/plain": [
       "age\n",
       "0.0     2095.863755\n",
       "1.0    18039.908745\n",
       "2.0    41766.574182\n",
       "3.0    77440.801198\n",
       "Name: km, dtype: float64"
      ]
     },
     "execution_count": 197,
     "metadata": {},
     "output_type": "execute_result"
    }
   ],
   "source": [
    "df.groupby('age')['km'].mean()"
   ]
  },
  {
   "cell_type": "code",
   "execution_count": 198,
   "metadata": {},
   "outputs": [],
   "source": [
    "# we will fill missing values with means groupby age."
   ]
  },
  {
   "cell_type": "code",
   "execution_count": 199,
   "metadata": {},
   "outputs": [],
   "source": [
    "df.loc[(df['age']==0) & (df['km'].isnull()), 'km']=2095\n",
    "df.loc[(df['age']==1) & (df['km'].isnull()), 'km']=18039\n",
    "df.loc[(df['age']==2) & (df['km'].isnull()), 'km']=41766\n",
    "df.loc[(df['age']==3) & (df['km'].isnull()), 'km']=77440"
   ]
  },
  {
   "cell_type": "code",
   "execution_count": 200,
   "metadata": {},
   "outputs": [
    {
     "data": {
      "text/plain": [
       "837"
      ]
     },
     "execution_count": 200,
     "metadata": {},
     "output_type": "execute_result"
    }
   ],
   "source": [
    "df.km.isnull().sum()"
   ]
  },
  {
   "cell_type": "code",
   "execution_count": 201,
   "metadata": {},
   "outputs": [],
   "source": [
    "#in these 837 rows also age columns are missing. \n",
    "#so we could not fill these rows with age.\n",
    "#if we don't km and age info we can drop these rows."
   ]
  },
  {
   "cell_type": "code",
   "execution_count": 202,
   "metadata": {},
   "outputs": [],
   "source": [
    "df=df.dropna(subset=['km'])"
   ]
  },
  {
   "cell_type": "code",
   "execution_count": 203,
   "metadata": {},
   "outputs": [],
   "source": [
    "df.km = df.km.astype('int64')"
   ]
  },
  {
   "cell_type": "code",
   "execution_count": 204,
   "metadata": {},
   "outputs": [
    {
     "data": {
      "text/plain": [
       "count     15029.000000\n",
       "mean      33861.249584\n",
       "std       37287.425902\n",
       "min           0.000000\n",
       "25%        5000.000000\n",
       "50%       22439.000000\n",
       "75%       49198.000000\n",
       "max      317000.000000\n",
       "Name: km, dtype: float64"
      ]
     },
     "execution_count": 204,
     "metadata": {},
     "output_type": "execute_result"
    }
   ],
   "source": [
    "df.km.describe()"
   ]
  },
  {
   "cell_type": "markdown",
   "metadata": {},
   "source": [
    "**consumption_comb (linear reg)**"
   ]
  },
  {
   "cell_type": "code",
   "execution_count": 205,
   "metadata": {},
   "outputs": [
    {
     "data": {
      "text/plain": [
       "2732"
      ]
     },
     "execution_count": 205,
     "metadata": {},
     "output_type": "execute_result"
    }
   ],
   "source": [
    "df.consumption_comb.isnull().sum()"
   ]
  },
  {
   "cell_type": "code",
   "execution_count": 206,
   "metadata": {},
   "outputs": [
    {
     "data": {
      "text/plain": [
       "count    12297.000000\n",
       "mean         4.772497\n",
       "std          0.913574\n",
       "min          0.000000\n",
       "25%          4.000000\n",
       "50%          4.700000\n",
       "75%          5.400000\n",
       "max          9.100000\n",
       "Name: consumption_comb, dtype: float64"
      ]
     },
     "execution_count": 206,
     "metadata": {},
     "output_type": "execute_result"
    }
   ],
   "source": [
    "df.consumption_comb.describe()"
   ]
  },
  {
   "cell_type": "code",
   "execution_count": 207,
   "metadata": {},
   "outputs": [
    {
     "data": {
      "text/plain": [
       "<matplotlib.axes._subplots.AxesSubplot at 0x199783ab588>"
      ]
     },
     "execution_count": 207,
     "metadata": {},
     "output_type": "execute_result"
    },
    {
     "data": {
      "image/png": "[encoded data removed]",
      "text/plain": [
       "<Figure size 432x288 with 1 Axes>"
      ]
     },
     "metadata": {
      "needs_background": "light"
     },
     "output_type": "display_data"
    }
   ],
   "source": [
    "df.boxplot(column='consumption_comb')"
   ]
  },
  {
   "cell_type": "code",
   "execution_count": 208,
   "metadata": {},
   "outputs": [],
   "source": [
    "# consumption_comb has corr with co2_emission (0.91)\n",
    "# we can handle missing values by using co2_emission column.\n",
    "# firtly we will fill co2_emission column."
   ]
  },
  {
   "cell_type": "code",
   "execution_count": 209,
   "metadata": {},
   "outputs": [
    {
     "data": {
      "text/plain": [
       "2206"
      ]
     },
     "execution_count": 209,
     "metadata": {},
     "output_type": "execute_result"
    }
   ],
   "source": [
    "df.co2_emission.isnull().sum()"
   ]
  },
  {
   "cell_type": "code",
   "execution_count": 210,
   "metadata": {},
   "outputs": [
    {
     "data": {
      "text/plain": [
       "<matplotlib.axes._subplots.AxesSubplot at 0x199782f9828>"
      ]
     },
     "execution_count": 210,
     "metadata": {},
     "output_type": "execute_result"
    },
    {
     "data": {
      "image/png": "[encoded data removed]",
      "text/plain": [
       "<Figure size 432x288 with 1 Axes>"
      ]
     },
     "metadata": {
      "needs_background": "light"
     },
     "output_type": "display_data"
    }
   ],
   "source": [
    "df.boxplot(column='co2_emission')"
   ]
  },
  {
   "cell_type": "code",
   "execution_count": 211,
   "metadata": {},
   "outputs": [],
   "source": [
    "#after we handle missing values of consumption_comb we will drop co2_emission. \n",
    "# so no need to handle outliers. just use median instead of mean fo fullfill the column. "
   ]
  },
  {
   "cell_type": "code",
   "execution_count": 212,
   "metadata": {},
   "outputs": [],
   "source": [
    "df[\"co2_emission\"] = df[\"co2_emission\"].fillna(value=df[\"co2_emission\"].median())"
   ]
  },
  {
   "cell_type": "code",
   "execution_count": 213,
   "metadata": {},
   "outputs": [
    {
     "data": {
      "text/plain": [
       "0"
      ]
     },
     "execution_count": 213,
     "metadata": {},
     "output_type": "execute_result"
    }
   ],
   "source": [
    "df[\"co2_emission\"].isnull().sum()"
   ]
  },
  {
   "cell_type": "code",
   "execution_count": 214,
   "metadata": {},
   "outputs": [],
   "source": [
    "#let's make a regression btwnn co2_emission and consumption_comb"
   ]
  },
  {
   "cell_type": "code",
   "execution_count": 215,
   "metadata": {},
   "outputs": [],
   "source": [
    "from sklearn.linear_model import LinearRegression\n",
    "linreg = LinearRegression()\n",
    "data = df[['co2_emission','consumption_comb']]"
   ]
  },
  {
   "cell_type": "code",
   "execution_count": 216,
   "metadata": {},
   "outputs": [],
   "source": [
    "x_train = data[data['consumption_comb'].notnull()].drop(columns='consumption_comb')\n",
    "y_train = data[data['consumption_comb'].notnull()]['consumption_comb']\n",
    "x_test = data[data['consumption_comb'].isnull()].drop(columns='consumption_comb')\n",
    "y_test = data[data['consumption_comb'].isnull()]['consumption_comb']"
   ]
  },
  {
   "cell_type": "code",
   "execution_count": 217,
   "metadata": {},
   "outputs": [
    {
     "data": {
      "text/plain": [
       "LinearRegression(copy_X=True, fit_intercept=True, n_jobs=None,\n",
       "         normalize=False)"
      ]
     },
     "execution_count": 217,
     "metadata": {},
     "output_type": "execute_result"
    }
   ],
   "source": [
    "linreg.fit(x_train, y_train)"
   ]
  },
  {
   "cell_type": "code",
   "execution_count": 218,
   "metadata": {},
   "outputs": [],
   "source": [
    "predicted = linreg.predict(x_test)"
   ]
  },
  {
   "cell_type": "code",
   "execution_count": 219,
   "metadata": {},
   "outputs": [],
   "source": [
    "df.consumption_comb[df.consumption_comb.isnull()] = predicted"
   ]
  },
  {
   "cell_type": "code",
   "execution_count": 220,
   "metadata": {},
   "outputs": [
    {
     "data": {
      "text/plain": [
       "count    15029.000000\n",
       "mean         4.783581\n",
       "std          0.845361\n",
       "min          0.000000\n",
       "25%          4.136298\n",
       "50%          4.733044\n",
       "75%          5.329791\n",
       "max          9.100000\n",
       "Name: consumption_comb, dtype: float64"
      ]
     },
     "execution_count": 220,
     "metadata": {},
     "output_type": "execute_result"
    }
   ],
   "source": [
    "df.consumption_comb.describe()"
   ]
  },
  {
   "cell_type": "code",
   "execution_count": 221,
   "metadata": {},
   "outputs": [],
   "source": [
    "# before regression mean was 4.77, after regression 4,78. it seems well.\n",
    "# but there are outliers to be handled. \n",
    "# We will handle outliers after making feature eng to fuel column."
   ]
  },
  {
   "cell_type": "code",
   "execution_count": 222,
   "metadata": {},
   "outputs": [
    {
     "data": {
      "text/plain": [
       "0"
      ]
     },
     "execution_count": 222,
     "metadata": {},
     "output_type": "execute_result"
    }
   ],
   "source": [
    "df.consumption_comb.isnull().sum()"
   ]
  },
  {
   "cell_type": "code",
   "execution_count": 223,
   "metadata": {},
   "outputs": [
    {
     "data": {
      "text/plain": [
       "<matplotlib.axes._subplots.AxesSubplot at 0x19971b22160>"
      ]
     },
     "execution_count": 223,
     "metadata": {},
     "output_type": "execute_result"
    },
    {
     "data": {
      "image/png": "[encoded data removed]",
      "text/plain": [
       "<Figure size 432x288 with 1 Axes>"
      ]
     },
     "metadata": {
      "needs_background": "light"
     },
     "output_type": "display_data"
    }
   ],
   "source": [
    "df.boxplot(column='consumption_comb')"
   ]
  },
  {
   "cell_type": "code",
   "execution_count": 224,
   "metadata": {},
   "outputs": [
    {
     "data": {
      "text/plain": [
       "<matplotlib.axes._subplots.AxesSubplot at 0x1997750e978>"
      ]
     },
     "execution_count": 224,
     "metadata": {},
     "output_type": "execute_result"
    },
    {
     "data": {
      "image/png": "[encoded data removed]",
      "text/plain": [
       "<Figure size 432x288 with 1 Axes>"
      ]
     },
     "metadata": {
      "needs_background": "light"
     },
     "output_type": "display_data"
    }
   ],
   "source": [
    "sns.distplot(df.consumption_comb, fit=norm)"
   ]
  },
  {
   "cell_type": "markdown",
   "metadata": {},
   "source": [
    "**fuel**"
   ]
  },
  {
   "cell_type": "markdown",
   "metadata": {},
   "source": [
    "**outliers in consumption_comb**"
   ]
  },
  {
   "cell_type": "code",
   "execution_count": 230,
   "metadata": {},
   "outputs": [
    {
     "data": {
      "text/plain": [
       "gasoline    22\n",
       "diesel       4\n",
       "electric     3\n",
       "Name: fuel, dtype: int64"
      ]
     },
     "execution_count": 230,
     "metadata": {},
     "output_type": "execute_result"
    }
   ],
   "source": [
    "df[df.consumption_comb<2].fuel.value_counts()"
   ]
  },
  {
   "cell_type": "code",
   "execution_count": 231,
   "metadata": {},
   "outputs": [],
   "source": [
    "#it is not normal to have consumbtion below 2 for a gasoline powered car.\n",
    "#it seems these 29 values are outliers. "
   ]
  },
  {
   "cell_type": "code",
   "execution_count": 232,
   "metadata": {},
   "outputs": [],
   "source": [
    "drop_list_consumtion=df[df.consumption_comb<2].index"
   ]
  },
  {
   "cell_type": "code",
   "execution_count": 233,
   "metadata": {},
   "outputs": [
    {
     "data": {
      "text/plain": [
       "29"
      ]
     },
     "execution_count": 233,
     "metadata": {},
     "output_type": "execute_result"
    }
   ],
   "source": [
    "len(drop_list_consumtion)"
   ]
  },
  {
   "cell_type": "code",
   "execution_count": 234,
   "metadata": {},
   "outputs": [],
   "source": [
    "df = df.drop(drop_list_consumtion)"
   ]
  },
  {
   "cell_type": "code",
   "execution_count": 235,
   "metadata": {},
   "outputs": [
    {
     "data": {
      "text/plain": [
       "(15000, 116)"
      ]
     },
     "execution_count": 235,
     "metadata": {},
     "output_type": "execute_result"
    }
   ],
   "source": [
    "df.shape"
   ]
  },
  {
   "cell_type": "markdown",
   "metadata": {},
   "source": [
    "**filling age column with classification**"
   ]
  },
  {
   "cell_type": "code",
   "execution_count": 236,
   "metadata": {},
   "outputs": [
    {
     "data": {
      "text/plain": [
       "758"
      ]
     },
     "execution_count": 236,
     "metadata": {},
     "output_type": "execute_result"
    }
   ],
   "source": [
    "df.age.isnull().sum()"
   ]
  },
  {
   "cell_type": "code",
   "execution_count": 237,
   "metadata": {},
   "outputs": [
    {
     "data": {
      "text/plain": [
       "count    14242.000000\n",
       "mean         1.547887\n",
       "std          1.075280\n",
       "min          0.000000\n",
       "25%          1.000000\n",
       "50%          1.000000\n",
       "75%          3.000000\n",
       "max          3.000000\n",
       "Name: age, dtype: float64"
      ]
     },
     "execution_count": 237,
     "metadata": {},
     "output_type": "execute_result"
    }
   ],
   "source": [
    "df.age.describe()"
   ]
  },
  {
   "cell_type": "code",
   "execution_count": 238,
   "metadata": {},
   "outputs": [],
   "source": [
    "data=df[['age', 'km', 'consumption_comb']]"
   ]
  },
  {
   "cell_type": "code",
   "execution_count": 239,
   "metadata": {},
   "outputs": [],
   "source": [
    "from sklearn.linear_model import LogisticRegression\n",
    "classifier=LogisticRegression(random_state=0)"
   ]
  },
  {
   "cell_type": "code",
   "execution_count": 240,
   "metadata": {},
   "outputs": [],
   "source": [
    "x_train = data[data['age'].notnull()].drop(columns='age')\n",
    "y_train = data[data['age'].notnull()]['age']\n",
    "x_test = data[data['age'].isnull()].drop(columns='age')\n",
    "y_test = data[data['age'].isnull()]['age']"
   ]
  },
  {
   "cell_type": "code",
   "execution_count": 241,
   "metadata": {},
   "outputs": [
    {
     "data": {
      "text/plain": [
       "LogisticRegression(C=1.0, class_weight=None, dual=False, fit_intercept=True,\n",
       "          intercept_scaling=1, max_iter=100, multi_class='warn',\n",
       "          n_jobs=None, penalty='l2', random_state=0, solver='warn',\n",
       "          tol=0.0001, verbose=0, warm_start=False)"
      ]
     },
     "execution_count": 241,
     "metadata": {},
     "output_type": "execute_result"
    }
   ],
   "source": [
    "classifier.fit(x_train, y_train)"
   ]
  },
  {
   "cell_type": "code",
   "execution_count": 242,
   "metadata": {},
   "outputs": [],
   "source": [
    "predicted = classifier.predict(x_test)"
   ]
  },
  {
   "cell_type": "code",
   "execution_count": 243,
   "metadata": {},
   "outputs": [],
   "source": [
    "df.age[df.age.isnull()] = predicted"
   ]
  },
  {
   "cell_type": "code",
   "execution_count": 244,
   "metadata": {},
   "outputs": [],
   "source": [
    "df.age = df.age.astype('int64')"
   ]
  },
  {
   "cell_type": "code",
   "execution_count": 245,
   "metadata": {},
   "outputs": [
    {
     "data": {
      "text/plain": [
       "0"
      ]
     },
     "execution_count": 245,
     "metadata": {},
     "output_type": "execute_result"
    }
   ],
   "source": [
    "df.age.isnull().sum()"
   ]
  },
  {
   "cell_type": "code",
   "execution_count": 246,
   "metadata": {},
   "outputs": [
    {
     "data": {
      "text/plain": [
       "count    15000.000000\n",
       "mean         1.471800\n",
       "std          1.100281\n",
       "min          0.000000\n",
       "25%          1.000000\n",
       "50%          1.000000\n",
       "75%          2.000000\n",
       "max          3.000000\n",
       "Name: age, dtype: float64"
      ]
     },
     "execution_count": 246,
     "metadata": {},
     "output_type": "execute_result"
    }
   ],
   "source": [
    "df.age.describe()"
   ]
  },
  {
   "cell_type": "code",
   "execution_count": 247,
   "metadata": {},
   "outputs": [],
   "source": [
    "#mean was 1.54 but now 1.47. anyway it's ok."
   ]
  },
  {
   "cell_type": "markdown",
   "metadata": {},
   "source": [
    "**ss_ columns**"
   ]
  },
  {
   "cell_type": "code",
   "execution_count": 248,
   "metadata": {},
   "outputs": [
    {
     "data": {
      "text/plain": [
       "Index(['ss_abs', 'ss_adaptive_cruise_control', 'ss_adaptive_headlights',\n",
       "       'ss_alarm_system', 'ss_blind_spot_monitor', 'ss_central_door_lock',\n",
       "       'ss_central_door_lock_with_remote_control', 'ss_daytime_running_lights',\n",
       "       'ss_driver_drowsiness_detection', 'ss_driver_side_airbag',\n",
       "       'ss_electronic_stability_control', 'ss_emergency_brake_assistant',\n",
       "       'ss_emergency_system', 'ss_fog_lights', 'ss_head_airbag',\n",
       "       'ss_immobilizer', 'ss_isofix', 'ss_led_daytime_running_lights',\n",
       "       'ss_led_headlights', 'ss_lane_departure_warning_system',\n",
       "       'ss_night_view_assist', 'ss_passenger_side_airbag', 'ss_power_steering',\n",
       "       'ss_rear_airbag', 'ss_side_airbag',\n",
       "       'ss_tire_pressure_monitoring_system', 'ss_traction_control',\n",
       "       'ss_traffic_sign_recognition', 'ss_xenon_headlights',\n",
       "       'cc_keyless_central_door_lock'],\n",
       "      dtype='object')"
      ]
     },
     "execution_count": 248,
     "metadata": {},
     "output_type": "execute_result"
    }
   ],
   "source": [
    "df.filter(like = 'ss_', axis = 1).columns"
   ]
  },
  {
   "cell_type": "code",
   "execution_count": 249,
   "metadata": {},
   "outputs": [],
   "source": [
    "ss_list=['ss_abs', 'ss_adaptive_cruise_control', 'ss_adaptive_headlights',\n",
    "       'ss_alarm_system', 'ss_blind_spot_monitor', 'ss_central_door_lock',\n",
    "       'ss_central_door_lock_with_remote_control', 'ss_daytime_running_lights',\n",
    "       'ss_driver_drowsiness_detection', 'ss_driver_side_airbag',\n",
    "       'ss_electronic_stability_control', 'ss_emergency_brake_assistant',\n",
    "       'ss_emergency_system', 'ss_fog_lights', 'ss_head_airbag',\n",
    "       'ss_immobilizer', 'ss_isofix', 'ss_led_daytime_running_lights',\n",
    "       'ss_led_headlights', 'ss_lane_departure_warning_system',\n",
    "       'ss_night_view_assist', 'ss_passenger_side_airbag', 'ss_power_steering',\n",
    "       'ss_rear_airbag', 'ss_side_airbag',\n",
    "       'ss_tire_pressure_monitoring_system', 'ss_traction_control',\n",
    "       'ss_traffic_sign_recognition', 'ss_xenon_headlights']"
   ]
  },
  {
   "cell_type": "code",
   "execution_count": 250,
   "metadata": {},
   "outputs": [],
   "source": [
    "df_ss=df[ss_list]"
   ]
  },
  {
   "cell_type": "code",
   "execution_count": 251,
   "metadata": {},
   "outputs": [
    {
     "data": {
      "text/plain": [
       "(15000, 29)"
      ]
     },
     "execution_count": 251,
     "metadata": {},
     "output_type": "execute_result"
    }
   ],
   "source": [
    "df_ss.shape"
   ]
  },
  {
   "cell_type": "code",
   "execution_count": null,
   "metadata": {},
   "outputs": [],
   "source": [
    "# let's heatmap if we can acquire some corr btwn columns to make regression."
   ]
  },
  {
   "cell_type": "code",
   "execution_count": 252,
   "metadata": {},
   "outputs": [
    {
     "data": {
      "text/plain": [
       "<matplotlib.axes._subplots.AxesSubplot at 0x199782cd6a0>"
      ]
     },
     "execution_count": 252,
     "metadata": {},
     "output_type": "execute_result"
    },
    {
     "data": {
      "image/png": "[encoded data removed]",
      "text/plain": [
       "<Figure size 1440x1440 with 2 Axes>"
      ]
     },
     "metadata": {
      "needs_background": "light"
     },
     "output_type": "display_data"
    }
   ],
   "source": [
    "plt.figure(figsize=(20,20))\n",
    "sns.heatmap(df_ss.corr(),annot=True,cmap='RdYlGn',linewidths=0.2,annot_kws={'size':8})"
   ]
  },
  {
   "cell_type": "code",
   "execution_count": 253,
   "metadata": {},
   "outputs": [
    {
     "data": {
      "text/plain": [
       "ss_abs                                      842\n",
       "ss_adaptive_cruise_control                  842\n",
       "ss_adaptive_headlights                      842\n",
       "ss_alarm_system                             842\n",
       "ss_blind_spot_monitor                       842\n",
       "ss_central_door_lock                        842\n",
       "ss_central_door_lock_with_remote_control    842\n",
       "ss_daytime_running_lights                   842\n",
       "ss_driver_drowsiness_detection              842\n",
       "ss_driver_side_airbag                       842\n",
       "ss_electronic_stability_control             842\n",
       "ss_emergency_brake_assistant                842\n",
       "ss_emergency_system                         842\n",
       "ss_fog_lights                               842\n",
       "ss_head_airbag                              842\n",
       "ss_immobilizer                              842\n",
       "ss_isofix                                   842\n",
       "ss_led_daytime_running_lights               842\n",
       "ss_led_headlights                           842\n",
       "ss_lane_departure_warning_system            842\n",
       "ss_night_view_assist                        842\n",
       "ss_passenger_side_airbag                    842\n",
       "ss_power_steering                           842\n",
       "ss_rear_airbag                              842\n",
       "ss_side_airbag                              842\n",
       "ss_tire_pressure_monitoring_system          842\n",
       "ss_traction_control                         842\n",
       "ss_traffic_sign_recognition                 842\n",
       "ss_xenon_headlights                         842\n",
       "dtype: int64"
      ]
     },
     "execution_count": 253,
     "metadata": {},
     "output_type": "execute_result"
    }
   ],
   "source": [
    "df_ss.isnull().sum()"
   ]
  },
  {
   "cell_type": "code",
   "execution_count": 254,
   "metadata": {},
   "outputs": [],
   "source": [
    "# it is not easy to make a model by using heatmap. Maybe we can use  make, model and age columns. \n",
    "# let' try to fill ss_abs with make, model and age columns."
   ]
  },
  {
   "cell_type": "code",
   "execution_count": 255,
   "metadata": {},
   "outputs": [],
   "source": [
    "data1=df[['age', 'make', 'model']]\n",
    "data1=pd.get_dummies(data1)\n",
    "data2=df[['ss_abs']]\n",
    "data=data1.join(data2)"
   ]
  },
  {
   "cell_type": "code",
   "execution_count": 256,
   "metadata": {},
   "outputs": [
    {
     "data": {
      "text/plain": [
       "Index(['age', 'make_Audi', 'make_Opel', 'make_Renault', 'model_A1', 'model_A2',\n",
       "       'model_A3', 'model_Astra', 'model_Clio', 'model_Corsa', 'model_Espace',\n",
       "       'model_Insignia', 'ss_abs'],\n",
       "      dtype='object')"
      ]
     },
     "execution_count": 256,
     "metadata": {},
     "output_type": "execute_result"
    }
   ],
   "source": [
    "data.columns"
   ]
  },
  {
   "cell_type": "code",
   "execution_count": 257,
   "metadata": {},
   "outputs": [],
   "source": [
    "from sklearn.ensemble import RandomForestClassifier\n",
    "classifier=RandomForestClassifier(n_estimators=10, criterion='entropy', random_state=0)"
   ]
  },
  {
   "cell_type": "code",
   "execution_count": 258,
   "metadata": {},
   "outputs": [],
   "source": [
    "x_train = data[data['ss_abs'].notnull()].drop(columns='ss_abs')\n",
    "y_train = data[data['ss_abs'].notnull()]['ss_abs']\n",
    "x_test = data[data['ss_abs'].isnull()].drop(columns='ss_abs')\n",
    "y_test = data[data['ss_abs'].isnull()]['ss_abs']\n",
    "y_train=y_train.astype('int64')"
   ]
  },
  {
   "cell_type": "code",
   "execution_count": 259,
   "metadata": {},
   "outputs": [
    {
     "data": {
      "text/plain": [
       "RandomForestClassifier(bootstrap=True, class_weight=None, criterion='entropy',\n",
       "            max_depth=None, max_features='auto', max_leaf_nodes=None,\n",
       "            min_impurity_decrease=0.0, min_impurity_split=None,\n",
       "            min_samples_leaf=1, min_samples_split=2,\n",
       "            min_weight_fraction_leaf=0.0, n_estimators=10, n_jobs=None,\n",
       "            oob_score=False, random_state=0, verbose=0, warm_start=False)"
      ]
     },
     "execution_count": 259,
     "metadata": {},
     "output_type": "execute_result"
    }
   ],
   "source": [
    "classifier.fit(x_train, y_train)"
   ]
  },
  {
   "cell_type": "code",
   "execution_count": 260,
   "metadata": {},
   "outputs": [],
   "source": [
    "predicted = classifier.predict(x_test)"
   ]
  },
  {
   "cell_type": "code",
   "execution_count": 262,
   "metadata": {},
   "outputs": [],
   "source": [
    "data.ss_abs[data.ss_abs.isnull()] = predicted"
   ]
  },
  {
   "cell_type": "code",
   "execution_count": 263,
   "metadata": {},
   "outputs": [
    {
     "data": {
      "text/plain": [
       "0"
      ]
     },
     "execution_count": 263,
     "metadata": {},
     "output_type": "execute_result"
    }
   ],
   "source": [
    "data.ss_abs.isnull().sum()"
   ]
  },
  {
   "cell_type": "code",
   "execution_count": 264,
   "metadata": {},
   "outputs": [],
   "source": [
    "# ok. it's full. let's compare the means before and after.\n",
    "# now we can make for loop to fill all columns in ss_"
   ]
  },
  {
   "cell_type": "code",
   "execution_count": 265,
   "metadata": {},
   "outputs": [],
   "source": [
    "from sklearn.ensemble import RandomForestClassifier\n",
    "classifier=RandomForestClassifier(n_estimators=10, criterion='entropy', random_state=0)\n",
    "data1=df[['age', 'make', 'model']]\n",
    "data1=pd.get_dummies(data1)\n",
    "\n",
    "for i in df_ss.columns:\n",
    "    data2=df[[i]]\n",
    "    data=data1.join(data2)\n",
    "    x_train = data[data[i].notnull()].drop(columns=i)\n",
    "    y_train = data[data[i].notnull()][i]\n",
    "    x_test = data[data[i].isnull()].drop(columns=i)\n",
    "    y_test = data[data[i].isnull()][i]\n",
    "    y_train=y_train.astype('int64')\n",
    "    classifier.fit(x_train, y_train)\n",
    "    predicted = classifier.predict(x_test)\n",
    "    df[i][df[i].isnull()] = predicted"
   ]
  },
  {
   "cell_type": "code",
   "execution_count": 266,
   "metadata": {},
   "outputs": [
    {
     "data": {
      "text/plain": [
       "ss_abs                                        0\n",
       "ss_adaptive_cruise_control                    0\n",
       "ss_adaptive_headlights                        0\n",
       "ss_alarm_system                               0\n",
       "ss_blind_spot_monitor                         0\n",
       "ss_central_door_lock                          0\n",
       "ss_central_door_lock_with_remote_control      0\n",
       "ss_daytime_running_lights                     0\n",
       "ss_driver_drowsiness_detection                0\n",
       "ss_driver_side_airbag                         0\n",
       "ss_electronic_stability_control               0\n",
       "ss_emergency_brake_assistant                  0\n",
       "ss_emergency_system                           0\n",
       "ss_fog_lights                                 0\n",
       "ss_head_airbag                                0\n",
       "ss_immobilizer                                0\n",
       "ss_isofix                                     0\n",
       "ss_led_daytime_running_lights                 0\n",
       "ss_led_headlights                             0\n",
       "ss_lane_departure_warning_system              0\n",
       "ss_night_view_assist                          0\n",
       "ss_passenger_side_airbag                      0\n",
       "ss_power_steering                             0\n",
       "ss_rear_airbag                                0\n",
       "ss_side_airbag                                0\n",
       "ss_tire_pressure_monitoring_system            0\n",
       "ss_traction_control                           0\n",
       "ss_traffic_sign_recognition                   0\n",
       "ss_xenon_headlights                           0\n",
       "cc_keyless_central_door_lock                779\n",
       "dtype: int64"
      ]
     },
     "execution_count": 266,
     "metadata": {},
     "output_type": "execute_result"
    }
   ],
   "source": [
    "df.filter(like = 'ss_', axis = 1).isnull().sum()"
   ]
  },
  {
   "cell_type": "markdown",
   "metadata": {},
   "source": [
    "**ent_columns**"
   ]
  },
  {
   "cell_type": "code",
   "execution_count": 267,
   "metadata": {},
   "outputs": [
    {
     "data": {
      "text/plain": [
       "Index(['ent_media_bluetooth', 'ent_media_cd_player', 'ent_media_digital_radio',\n",
       "       'ent_media_hands_free_equipment', 'ent_media_mp3',\n",
       "       'ent_media_on_board_computer', 'ent_media_radio',\n",
       "       'ent_media_sound_system', 'ent_media_television', 'ent_media_usb'],\n",
       "      dtype='object')"
      ]
     },
     "execution_count": 267,
     "metadata": {},
     "output_type": "execute_result"
    }
   ],
   "source": [
    "df.filter(like = 'ent_', axis = 1).columns"
   ]
  },
  {
   "cell_type": "code",
   "execution_count": 268,
   "metadata": {},
   "outputs": [],
   "source": [
    "ent_list=['ent_media_bluetooth', 'ent_media_cd_player', 'ent_media_digital_radio',\n",
    "       'ent_media_hands_free_equipment', 'ent_media_mp3',\n",
    "       'ent_media_on_board_computer', 'ent_media_radio',\n",
    "       'ent_media_sound_system', 'ent_media_television', 'ent_media_usb']"
   ]
  },
  {
   "cell_type": "code",
   "execution_count": 269,
   "metadata": {},
   "outputs": [],
   "source": [
    "df_ent=df[ent_list]"
   ]
  },
  {
   "cell_type": "code",
   "execution_count": 270,
   "metadata": {},
   "outputs": [],
   "source": [
    "from sklearn.ensemble import RandomForestClassifier\n",
    "classifier=RandomForestClassifier(n_estimators=10, criterion='entropy', random_state=0)\n",
    "data1=df[['age', 'make', 'model']]\n",
    "data1=pd.get_dummies(data1)\n",
    "\n",
    "for i in df_ent.columns:\n",
    "    data2=df[[i]]\n",
    "    data=data1.join(data2)\n",
    "    x_train = data[data[i].notnull()].drop(columns=i)\n",
    "    y_train = data[data[i].notnull()][i]\n",
    "    x_test = data[data[i].isnull()].drop(columns=i)\n",
    "    y_test = data[data[i].isnull()][i]\n",
    "    y_train=y_train.astype('int64')\n",
    "    classifier.fit(x_train, y_train)\n",
    "    predicted = classifier.predict(x_test)\n",
    "    df[i][df[i].isnull()] = predicted"
   ]
  },
  {
   "cell_type": "code",
   "execution_count": 271,
   "metadata": {},
   "outputs": [
    {
     "data": {
      "text/plain": [
       "ent_media_bluetooth               0\n",
       "ent_media_cd_player               0\n",
       "ent_media_digital_radio           0\n",
       "ent_media_hands_free_equipment    0\n",
       "ent_media_mp3                     0\n",
       "ent_media_on_board_computer       0\n",
       "ent_media_radio                   0\n",
       "ent_media_sound_system            0\n",
       "ent_media_television              0\n",
       "ent_media_usb                     0\n",
       "dtype: int64"
      ]
     },
     "execution_count": 271,
     "metadata": {},
     "output_type": "execute_result"
    }
   ],
   "source": [
    "df.filter(like = 'ent_', axis = 1).isnull().sum()"
   ]
  },
  {
   "cell_type": "markdown",
   "metadata": {},
   "source": [
    "**cc_columns**"
   ]
  },
  {
   "cell_type": "code",
   "execution_count": 272,
   "metadata": {},
   "outputs": [
    {
     "data": {
      "text/plain": [
       "Index(['cc_air_conditioning', 'cc_air_suspension', 'cc_armrest',\n",
       "       'cc_automatic_climate_control', 'cc_auxiliary_heating',\n",
       "       'cc_cruise_control', 'cc_electric_starter', 'cc_electric_tailgate',\n",
       "       'cc_electrical_side_mirrors', 'cc_electrically_adjustable_seats',\n",
       "       'cc_electrically_heated_windshield', 'cc_heads_up_display',\n",
       "       'cc_heated_steering_wheel', 'cc_hill_holder',\n",
       "       'cc_keyless_central_door_lock', 'cc_leather_seats',\n",
       "       'cc_leather_steering_wheel', 'cc_light_sensor', 'cc_lumbar_support',\n",
       "       'cc_massage_seats', 'cc_multi_function_steering_wheel',\n",
       "       'cc_navigation_system', 'cc_panorama_roof', 'cc_park_distance_control',\n",
       "       'cc_parking_assist_system_camera',\n",
       "       'cc_parking_assist_system_self_steering',\n",
       "       'cc_parking_assist_system_sensors_front',\n",
       "       'cc_parking_assist_system_sensors_rear', 'cc_power_windows',\n",
       "       'cc_rain_sensor', 'cc_seat_heating', 'cc_seat_ventilation',\n",
       "       'cc_split_rear_seats', 'cc_start_stop_system', 'cc_sunroof',\n",
       "       'cc_tinted_windows', 'cc_wind_deflector', 'cc_windshield'],\n",
       "      dtype='object')"
      ]
     },
     "execution_count": 272,
     "metadata": {},
     "output_type": "execute_result"
    }
   ],
   "source": [
    "df.filter(like = 'cc_', axis = 1).columns"
   ]
  },
  {
   "cell_type": "code",
   "execution_count": 273,
   "metadata": {},
   "outputs": [],
   "source": [
    "cc_list=['cc_air_conditioning', 'cc_air_suspension', 'cc_armrest',\n",
    "       'cc_automatic_climate_control', 'cc_auxiliary_heating',\n",
    "       'cc_cruise_control', 'cc_electric_starter', 'cc_electric_tailgate',\n",
    "       'cc_electrical_side_mirrors', 'cc_electrically_adjustable_seats',\n",
    "       'cc_electrically_heated_windshield', 'cc_heads_up_display',\n",
    "       'cc_heated_steering_wheel', 'cc_hill_holder',\n",
    "       'cc_keyless_central_door_lock', 'cc_leather_seats',\n",
    "       'cc_leather_steering_wheel', 'cc_light_sensor', 'cc_lumbar_support',\n",
    "       'cc_massage_seats', 'cc_multi_function_steering_wheel',\n",
    "       'cc_navigation_system', 'cc_panorama_roof', 'cc_park_distance_control',\n",
    "       'cc_parking_assist_system_camera',\n",
    "       'cc_parking_assist_system_self_steering',\n",
    "       'cc_parking_assist_system_sensors_front',\n",
    "       'cc_parking_assist_system_sensors_rear', 'cc_power_windows',\n",
    "       'cc_rain_sensor', 'cc_seat_heating', 'cc_seat_ventilation',\n",
    "       'cc_split_rear_seats', 'cc_start_stop_system', 'cc_sunroof',\n",
    "       'cc_tinted_windows', 'cc_wind_deflector', 'cc_windshield']"
   ]
  },
  {
   "cell_type": "code",
   "execution_count": 274,
   "metadata": {},
   "outputs": [],
   "source": [
    "df_cc=df[cc_list]"
   ]
  },
  {
   "cell_type": "code",
   "execution_count": 275,
   "metadata": {},
   "outputs": [],
   "source": [
    "from sklearn.ensemble import RandomForestClassifier\n",
    "classifier=RandomForestClassifier(n_estimators=10, criterion='entropy', random_state=0)\n",
    "data1=df[['age', 'make', 'model']]\n",
    "data1=pd.get_dummies(data1)\n",
    "\n",
    "for i in df_cc.columns:\n",
    "    data2=df[[i]]\n",
    "    data=data1.join(data2)\n",
    "    x_train = data[data[i].notnull()].drop(columns=i)\n",
    "    y_train = data[data[i].notnull()][i]\n",
    "    x_test = data[data[i].isnull()].drop(columns=i)\n",
    "    y_test = data[data[i].isnull()][i]\n",
    "    y_train=y_train.astype('int64')\n",
    "    classifier.fit(x_train, y_train)\n",
    "    predicted = classifier.predict(x_test)\n",
    "    df[i][df[i].isnull()] = predicted"
   ]
  },
  {
   "cell_type": "code",
   "execution_count": 276,
   "metadata": {},
   "outputs": [
    {
     "data": {
      "text/plain": [
       "cc_air_conditioning                       0\n",
       "cc_air_suspension                         0\n",
       "cc_armrest                                0\n",
       "cc_automatic_climate_control              0\n",
       "cc_auxiliary_heating                      0\n",
       "cc_cruise_control                         0\n",
       "cc_electric_starter                       0\n",
       "cc_electric_tailgate                      0\n",
       "cc_electrical_side_mirrors                0\n",
       "cc_electrically_adjustable_seats          0\n",
       "cc_electrically_heated_windshield         0\n",
       "cc_heads_up_display                       0\n",
       "cc_heated_steering_wheel                  0\n",
       "cc_hill_holder                            0\n",
       "cc_keyless_central_door_lock              0\n",
       "cc_leather_seats                          0\n",
       "cc_leather_steering_wheel                 0\n",
       "cc_light_sensor                           0\n",
       "cc_lumbar_support                         0\n",
       "cc_massage_seats                          0\n",
       "cc_multi_function_steering_wheel          0\n",
       "cc_navigation_system                      0\n",
       "cc_panorama_roof                          0\n",
       "cc_park_distance_control                  0\n",
       "cc_parking_assist_system_camera           0\n",
       "cc_parking_assist_system_self_steering    0\n",
       "cc_parking_assist_system_sensors_front    0\n",
       "cc_parking_assist_system_sensors_rear     0\n",
       "cc_power_windows                          0\n",
       "cc_rain_sensor                            0\n",
       "cc_seat_heating                           0\n",
       "cc_seat_ventilation                       0\n",
       "cc_split_rear_seats                       0\n",
       "cc_start_stop_system                      0\n",
       "cc_sunroof                                0\n",
       "cc_tinted_windows                         0\n",
       "cc_wind_deflector                         0\n",
       "cc_windshield                             0\n",
       "dtype: int64"
      ]
     },
     "execution_count": 276,
     "metadata": {},
     "output_type": "execute_result"
    }
   ],
   "source": [
    "df.filter(like = 'cc_', axis = 1).isnull().sum()"
   ]
  },
  {
   "cell_type": "markdown",
   "metadata": {},
   "source": [
    "**ext_columns**"
   ]
  },
  {
   "cell_type": "code",
   "execution_count": 277,
   "metadata": {},
   "outputs": [
    {
     "data": {
      "text/plain": [
       "Index(['next_inspection_bool', 'ext_alloy_wheels', 'ext_cab_or_rented_car',\n",
       "       'ext_catalytic_converter', 'ext_handicapped_enabled',\n",
       "       'ext_right_hand_drive', 'ext_roof_rack', 'ext_shift_paddles',\n",
       "       'ext_ski_bag', 'ext_sliding_door', 'ext_sport_package',\n",
       "       'ext_sport_seats', 'ext_sport_suspension', 'ext_touch_screen',\n",
       "       'ext_trailer_hitch', 'ext_tuned_car', 'ext_voice_control',\n",
       "       'ext_winter_tyres'],\n",
       "      dtype='object')"
      ]
     },
     "execution_count": 277,
     "metadata": {},
     "output_type": "execute_result"
    }
   ],
   "source": [
    "df.filter(like = 'ext_', axis = 1).columns"
   ]
  },
  {
   "cell_type": "code",
   "execution_count": 278,
   "metadata": {},
   "outputs": [],
   "source": [
    "ext_list=['next_inspection_bool', 'ext_alloy_wheels', 'ext_cab_or_rented_car',\n",
    "       'ext_catalytic_converter', 'ext_handicapped_enabled',\n",
    "       'ext_right_hand_drive', 'ext_roof_rack', 'ext_shift_paddles',\n",
    "       'ext_ski_bag', 'ext_sliding_door', 'ext_sport_package',\n",
    "       'ext_sport_seats', 'ext_sport_suspension', 'ext_touch_screen',\n",
    "       'ext_trailer_hitch', 'ext_tuned_car', 'ext_voice_control',\n",
    "       'ext_winter_tyres']"
   ]
  },
  {
   "cell_type": "code",
   "execution_count": 279,
   "metadata": {},
   "outputs": [],
   "source": [
    "df_ext=df[ext_list]"
   ]
  },
  {
   "cell_type": "code",
   "execution_count": 281,
   "metadata": {},
   "outputs": [],
   "source": [
    "# RF model gives error due to some columns have almast all 0 values. \n",
    "# after split it might be actually all zero in x_test, or x_train etc.\n",
    "# so i'll drop some of them with low ocupancy rate from both df and df_ext."
   ]
  },
  {
   "cell_type": "code",
   "execution_count": 282,
   "metadata": {},
   "outputs": [
    {
     "data": {
      "text/plain": [
       "next_inspection_bool       0.233600\n",
       "ext_alloy_wheels           0.872157\n",
       "ext_cab_or_rented_car      0.025179\n",
       "ext_catalytic_converter    0.162606\n",
       "ext_handicapped_enabled    0.004224\n",
       "ext_right_hand_drive       0.000244\n",
       "ext_roof_rack              0.206546\n",
       "ext_shift_paddles          0.040123\n",
       "ext_ski_bag                0.019818\n",
       "ext_sliding_door           0.000244\n",
       "ext_sport_package          0.093405\n",
       "ext_sport_seats            0.243015\n",
       "ext_sport_suspension       0.128574\n",
       "ext_touch_screen           0.309292\n",
       "ext_trailer_hitch          0.052550\n",
       "ext_tuned_car              0.000893\n",
       "ext_voice_control          0.334795\n",
       "ext_winter_tyres           0.019250\n",
       "dtype: float64"
      ]
     },
     "execution_count": 282,
     "metadata": {},
     "output_type": "execute_result"
    }
   ],
   "source": [
    "df_ext.mean()"
   ]
  },
  {
   "cell_type": "code",
   "execution_count": 283,
   "metadata": {},
   "outputs": [],
   "source": [
    "drop_list=[\"ext_cab_or_rented_car\", \"ext_handicapped_enabled\", \"ext_right_hand_drive\", \"ext_ski_bag\", \"ext_sliding_door\", \"ext_tuned_car\", \"ext_winter_tyres\"]"
   ]
  },
  {
   "cell_type": "code",
   "execution_count": 284,
   "metadata": {},
   "outputs": [],
   "source": [
    "df.drop(drop_list, axis=1, inplace=True)\n",
    "df_ext.drop(drop_list, axis=1, inplace=True)"
   ]
  },
  {
   "cell_type": "code",
   "execution_count": 285,
   "metadata": {},
   "outputs": [],
   "source": [
    "#still have problem RF. So go deeper. and drop some more."
   ]
  },
  {
   "cell_type": "code",
   "execution_count": 286,
   "metadata": {},
   "outputs": [
    {
     "data": {
      "text/plain": [
       "next_inspection_bool       0.233600\n",
       "ext_alloy_wheels           0.872157\n",
       "ext_catalytic_converter    0.162606\n",
       "ext_roof_rack              0.206546\n",
       "ext_shift_paddles          0.040123\n",
       "ext_sport_package          0.093405\n",
       "ext_sport_seats            0.243015\n",
       "ext_sport_suspension       0.128574\n",
       "ext_touch_screen           0.309292\n",
       "ext_trailer_hitch          0.052550\n",
       "ext_voice_control          0.334795\n",
       "dtype: float64"
      ]
     },
     "execution_count": 286,
     "metadata": {},
     "output_type": "execute_result"
    }
   ],
   "source": [
    "df_ext.mean()"
   ]
  },
  {
   "cell_type": "code",
   "execution_count": 287,
   "metadata": {},
   "outputs": [],
   "source": [
    "drop_list_deeper=[\"next_inspection_bool\", \"ext_catalytic_converter\", \"ext_roof_rack\",\n",
    "                 \"ext_shift_paddles\", \"ext_sport_package\", \"ext_sport_seats\", \"ext_sport_suspension\"]"
   ]
  },
  {
   "cell_type": "code",
   "execution_count": 288,
   "metadata": {},
   "outputs": [],
   "source": [
    "df.drop(drop_list_deeper, axis=1, inplace=True)\n",
    "df_ext.drop(drop_list_deeper, axis=1, inplace=True)"
   ]
  },
  {
   "cell_type": "code",
   "execution_count": 289,
   "metadata": {},
   "outputs": [],
   "source": [
    "from sklearn.ensemble import RandomForestClassifier\n",
    "classifier=RandomForestClassifier(n_estimators=10, criterion='entropy', random_state=0)\n",
    "data1=df[['age', 'make', 'model']]\n",
    "data1=pd.get_dummies(data1)\n",
    "\n",
    "for i in df_ext.columns:\n",
    "    data2=df[[i]]\n",
    "    data=data1.join(data2)\n",
    "    x_train = data[data[i].notnull()].drop(columns=i)\n",
    "    y_train = data[data[i].notnull()][i]\n",
    "    x_test = data[data[i].isnull()].drop(columns=i)\n",
    "    y_test = data[data[i].isnull()][i]\n",
    "    y_train=y_train.astype('int64')\n",
    "    classifier.fit(x_train, y_train)\n",
    "    predicted = classifier.predict(x_test)\n",
    "    df[i][df[i].isnull()] = predicted"
   ]
  },
  {
   "cell_type": "code",
   "execution_count": 290,
   "metadata": {},
   "outputs": [
    {
     "data": {
      "text/plain": [
       "ext_alloy_wheels     0\n",
       "ext_touch_screen     0\n",
       "ext_trailer_hitch    0\n",
       "ext_voice_control    0\n",
       "dtype: int64"
      ]
     },
     "execution_count": 290,
     "metadata": {},
     "output_type": "execute_result"
    }
   ],
   "source": [
    "df.filter(like = 'ext_', axis = 1).isnull().sum()"
   ]
  },
  {
   "cell_type": "markdown",
   "metadata": {},
   "source": [
    "**CHECK IF ARE THERE ANY COLUMNS WITH MISSING VALUE**"
   ]
  },
  {
   "cell_type": "code",
   "execution_count": 291,
   "metadata": {},
   "outputs": [
    {
     "data": {
      "text/plain": [
       "Index(['short_description', 'fuel', 'nr_of_seats'], dtype='object')"
      ]
     },
     "execution_count": 291,
     "metadata": {},
     "output_type": "execute_result"
    }
   ],
   "source": [
    "df.columns[(df.isnull().sum()>0)]"
   ]
  },
  {
   "cell_type": "code",
   "execution_count": 292,
   "metadata": {},
   "outputs": [
    {
     "data": {
      "text/plain": [
       "6"
      ]
     },
     "execution_count": 292,
     "metadata": {},
     "output_type": "execute_result"
    }
   ],
   "source": [
    "df.fuel.isnull().sum()"
   ]
  },
  {
   "cell_type": "code",
   "execution_count": 293,
   "metadata": {},
   "outputs": [],
   "source": [
    "df=df.dropna(subset=['fuel'])"
   ]
  },
  {
   "cell_type": "code",
   "execution_count": 294,
   "metadata": {},
   "outputs": [
    {
     "data": {
      "text/plain": [
       "897"
      ]
     },
     "execution_count": 294,
     "metadata": {},
     "output_type": "execute_result"
    }
   ],
   "source": [
    "df.nr_of_seats.isnull().sum()"
   ]
  },
  {
   "cell_type": "code",
   "execution_count": 295,
   "metadata": {},
   "outputs": [],
   "source": [
    "#we ve forgotten this column. we will fill missing values of nr_of_seats column later."
   ]
  },
  {
   "cell_type": "code",
   "execution_count": 296,
   "metadata": {},
   "outputs": [],
   "source": [
    "df.drop('short_description', axis=1, inplace=True)"
   ]
  },
  {
   "cell_type": "markdown",
   "metadata": {},
   "source": [
    "**nr_of_seats column**"
   ]
  },
  {
   "cell_type": "code",
   "execution_count": 297,
   "metadata": {},
   "outputs": [],
   "source": [
    "df['nr_of_seats'].fillna(df.groupby('model')['nr_of_seats'].transform(\"median\"), inplace=True)"
   ]
  },
  {
   "cell_type": "code",
   "execution_count": 298,
   "metadata": {},
   "outputs": [
    {
     "data": {
      "text/plain": [
       "0"
      ]
     },
     "execution_count": 298,
     "metadata": {},
     "output_type": "execute_result"
    }
   ],
   "source": [
    "df.nr_of_seats.isnull().sum()"
   ]
  },
  {
   "cell_type": "code",
   "execution_count": 299,
   "metadata": {},
   "outputs": [
    {
     "data": {
      "text/plain": [
       "Index([], dtype='object')"
      ]
     },
     "execution_count": 299,
     "metadata": {},
     "output_type": "execute_result"
    }
   ],
   "source": [
    "df.columns[(df.isnull().sum()>0)]"
   ]
  },
  {
   "cell_type": "code",
   "execution_count": 300,
   "metadata": {},
   "outputs": [],
   "source": [
    "# i think missing values mission is ok. let's cheak df again."
   ]
  },
  {
   "cell_type": "code",
   "execution_count": 301,
   "metadata": {},
   "outputs": [
    {
     "data": {
      "text/html": [
       "<div>\n",
       "<style scoped>\n",
       "    .dataframe tbody tr th:only-of-type {\n",
       "        vertical-align: middle;\n",
       "    }\n",
       "\n",
       "    .dataframe tbody tr th {\n",
       "        vertical-align: top;\n",
       "    }\n",
       "\n",
       "    .dataframe thead th {\n",
       "        text-align: right;\n",
       "    }\n",
       "</style>\n",
       "<table border=\"1\" class=\"dataframe\">\n",
       "  <thead>\n",
       "    <tr style=\"text-align: right;\">\n",
       "      <th></th>\n",
       "      <th>co2_emission</th>\n",
       "      <th>displacement</th>\n",
       "      <th>make</th>\n",
       "      <th>model</th>\n",
       "      <th>description</th>\n",
       "      <th>hp</th>\n",
       "      <th>km</th>\n",
       "      <th>ss_abs</th>\n",
       "      <th>ss_adaptive_cruise_control</th>\n",
       "      <th>ss_adaptive_headlights</th>\n",
       "      <th>...</th>\n",
       "      <th>cc_split_rear_seats</th>\n",
       "      <th>cc_start_stop_system</th>\n",
       "      <th>cc_sunroof</th>\n",
       "      <th>cc_tinted_windows</th>\n",
       "      <th>cc_wind_deflector</th>\n",
       "      <th>cc_windshield</th>\n",
       "      <th>ext_alloy_wheels</th>\n",
       "      <th>ext_touch_screen</th>\n",
       "      <th>ext_trailer_hitch</th>\n",
       "      <th>ext_voice_control</th>\n",
       "    </tr>\n",
       "  </thead>\n",
       "  <tbody>\n",
       "    <tr>\n",
       "      <th>0</th>\n",
       "      <td>99.0</td>\n",
       "      <td>1422.0</td>\n",
       "      <td>Audi</td>\n",
       "      <td>A1</td>\n",
       "      <td>Sicherheit: Deaktivierung für Beifahrer-Airbag...</td>\n",
       "      <td>66.0</td>\n",
       "      <td>56013</td>\n",
       "      <td>1.0</td>\n",
       "      <td>0.0</td>\n",
       "      <td>0.0</td>\n",
       "      <td>...</td>\n",
       "      <td>0.0</td>\n",
       "      <td>1.0</td>\n",
       "      <td>0.0</td>\n",
       "      <td>0.0</td>\n",
       "      <td>0.0</td>\n",
       "      <td>0.0</td>\n",
       "      <td>1.0</td>\n",
       "      <td>0.0</td>\n",
       "      <td>0.0</td>\n",
       "      <td>1.0</td>\n",
       "    </tr>\n",
       "    <tr>\n",
       "      <th>1</th>\n",
       "      <td>129.0</td>\n",
       "      <td>1798.0</td>\n",
       "      <td>Audi</td>\n",
       "      <td>A1</td>\n",
       "      <td>Sicherheit: Deaktivierung für Beifahrer-Airbag...</td>\n",
       "      <td>141.0</td>\n",
       "      <td>80000</td>\n",
       "      <td>1.0</td>\n",
       "      <td>0.0</td>\n",
       "      <td>0.0</td>\n",
       "      <td>...</td>\n",
       "      <td>0.0</td>\n",
       "      <td>1.0</td>\n",
       "      <td>0.0</td>\n",
       "      <td>1.0</td>\n",
       "      <td>0.0</td>\n",
       "      <td>0.0</td>\n",
       "      <td>1.0</td>\n",
       "      <td>0.0</td>\n",
       "      <td>0.0</td>\n",
       "      <td>1.0</td>\n",
       "    </tr>\n",
       "    <tr>\n",
       "      <th>2</th>\n",
       "      <td>99.0</td>\n",
       "      <td>1598.0</td>\n",
       "      <td>Audi</td>\n",
       "      <td>A1</td>\n",
       "      <td>Sicherheit: Deaktivierung für Beifahrer-Airbag...</td>\n",
       "      <td>85.0</td>\n",
       "      <td>83450</td>\n",
       "      <td>1.0</td>\n",
       "      <td>0.0</td>\n",
       "      <td>0.0</td>\n",
       "      <td>...</td>\n",
       "      <td>0.0</td>\n",
       "      <td>1.0</td>\n",
       "      <td>0.0</td>\n",
       "      <td>0.0</td>\n",
       "      <td>0.0</td>\n",
       "      <td>0.0</td>\n",
       "      <td>1.0</td>\n",
       "      <td>0.0</td>\n",
       "      <td>0.0</td>\n",
       "      <td>1.0</td>\n",
       "    </tr>\n",
       "    <tr>\n",
       "      <th>3</th>\n",
       "      <td>99.0</td>\n",
       "      <td>1422.0</td>\n",
       "      <td>Audi</td>\n",
       "      <td>A1</td>\n",
       "      <td>Sicherheit: Deaktivierung für Beifahrer-Airbag...</td>\n",
       "      <td>66.0</td>\n",
       "      <td>73000</td>\n",
       "      <td>1.0</td>\n",
       "      <td>0.0</td>\n",
       "      <td>0.0</td>\n",
       "      <td>...</td>\n",
       "      <td>1.0</td>\n",
       "      <td>1.0</td>\n",
       "      <td>0.0</td>\n",
       "      <td>0.0</td>\n",
       "      <td>0.0</td>\n",
       "      <td>0.0</td>\n",
       "      <td>1.0</td>\n",
       "      <td>0.0</td>\n",
       "      <td>0.0</td>\n",
       "      <td>1.0</td>\n",
       "    </tr>\n",
       "    <tr>\n",
       "      <th>4</th>\n",
       "      <td>109.0</td>\n",
       "      <td>1422.0</td>\n",
       "      <td>Audi</td>\n",
       "      <td>A1</td>\n",
       "      <td>Sicherheit: Deaktivierung für Beifahrer-Airbag...</td>\n",
       "      <td>66.0</td>\n",
       "      <td>16200</td>\n",
       "      <td>1.0</td>\n",
       "      <td>0.0</td>\n",
       "      <td>0.0</td>\n",
       "      <td>...</td>\n",
       "      <td>0.0</td>\n",
       "      <td>1.0</td>\n",
       "      <td>0.0</td>\n",
       "      <td>0.0</td>\n",
       "      <td>0.0</td>\n",
       "      <td>0.0</td>\n",
       "      <td>1.0</td>\n",
       "      <td>0.0</td>\n",
       "      <td>0.0</td>\n",
       "      <td>1.0</td>\n",
       "    </tr>\n",
       "  </tbody>\n",
       "</table>\n",
       "<p>5 rows × 101 columns</p>\n",
       "</div>"
      ],
      "text/plain": [
       "   co2_emission  displacement  make model  \\\n",
       "0          99.0        1422.0  Audi    A1   \n",
       "1         129.0        1798.0  Audi    A1   \n",
       "2          99.0        1598.0  Audi    A1   \n",
       "3          99.0        1422.0  Audi    A1   \n",
       "4         109.0        1422.0  Audi    A1   \n",
       "\n",
       "                                         description     hp     km  ss_abs  \\\n",
       "0  Sicherheit: Deaktivierung für Beifahrer-Airbag...   66.0  56013     1.0   \n",
       "1  Sicherheit: Deaktivierung für Beifahrer-Airbag...  141.0  80000     1.0   \n",
       "2  Sicherheit: Deaktivierung für Beifahrer-Airbag...   85.0  83450     1.0   \n",
       "3  Sicherheit: Deaktivierung für Beifahrer-Airbag...   66.0  73000     1.0   \n",
       "4  Sicherheit: Deaktivierung für Beifahrer-Airbag...   66.0  16200     1.0   \n",
       "\n",
       "   ss_adaptive_cruise_control  ss_adaptive_headlights  ...  \\\n",
       "0                         0.0                     0.0  ...   \n",
       "1                         0.0                     0.0  ...   \n",
       "2                         0.0                     0.0  ...   \n",
       "3                         0.0                     0.0  ...   \n",
       "4                         0.0                     0.0  ...   \n",
       "\n",
       "   cc_split_rear_seats  cc_start_stop_system  cc_sunroof  cc_tinted_windows  \\\n",
       "0                  0.0                   1.0         0.0                0.0   \n",
       "1                  0.0                   1.0         0.0                1.0   \n",
       "2                  0.0                   1.0         0.0                0.0   \n",
       "3                  1.0                   1.0         0.0                0.0   \n",
       "4                  0.0                   1.0         0.0                0.0   \n",
       "\n",
       "   cc_wind_deflector  cc_windshield  ext_alloy_wheels  ext_touch_screen  \\\n",
       "0                0.0            0.0               1.0               0.0   \n",
       "1                0.0            0.0               1.0               0.0   \n",
       "2                0.0            0.0               1.0               0.0   \n",
       "3                0.0            0.0               1.0               0.0   \n",
       "4                0.0            0.0               1.0               0.0   \n",
       "\n",
       "   ext_trailer_hitch  ext_voice_control  \n",
       "0                0.0                1.0  \n",
       "1                0.0                1.0  \n",
       "2                0.0                1.0  \n",
       "3                0.0                1.0  \n",
       "4                0.0                1.0  \n",
       "\n",
       "[5 rows x 101 columns]"
      ]
     },
     "execution_count": 301,
     "metadata": {},
     "output_type": "execute_result"
    }
   ],
   "source": [
    "df.head()"
   ]
  },
  {
   "cell_type": "code",
   "execution_count": 302,
   "metadata": {},
   "outputs": [],
   "source": [
    "df.drop('url', axis=1, inplace=True) #no need during modeling"
   ]
  },
  {
   "cell_type": "code",
   "execution_count": 303,
   "metadata": {},
   "outputs": [],
   "source": [
    "df.drop(['co2_emission'], axis=1, inplace=True) # high corr with consumption_comb\n",
    "df.drop('description', axis=1, inplace=True) #no need during modeling"
   ]
  },
  {
   "cell_type": "code",
   "execution_count": 304,
   "metadata": {},
   "outputs": [
    {
     "data": {
      "text/html": [
       "<div>\n",
       "<style scoped>\n",
       "    .dataframe tbody tr th:only-of-type {\n",
       "        vertical-align: middle;\n",
       "    }\n",
       "\n",
       "    .dataframe tbody tr th {\n",
       "        vertical-align: top;\n",
       "    }\n",
       "\n",
       "    .dataframe thead th {\n",
       "        text-align: right;\n",
       "    }\n",
       "</style>\n",
       "<table border=\"1\" class=\"dataframe\">\n",
       "  <thead>\n",
       "    <tr style=\"text-align: right;\">\n",
       "      <th></th>\n",
       "      <th>displacement</th>\n",
       "      <th>make</th>\n",
       "      <th>model</th>\n",
       "      <th>hp</th>\n",
       "      <th>km</th>\n",
       "      <th>ss_abs</th>\n",
       "      <th>ss_adaptive_cruise_control</th>\n",
       "      <th>ss_adaptive_headlights</th>\n",
       "      <th>ss_alarm_system</th>\n",
       "      <th>ss_blind_spot_monitor</th>\n",
       "      <th>...</th>\n",
       "      <th>cc_split_rear_seats</th>\n",
       "      <th>cc_start_stop_system</th>\n",
       "      <th>cc_sunroof</th>\n",
       "      <th>cc_tinted_windows</th>\n",
       "      <th>cc_wind_deflector</th>\n",
       "      <th>cc_windshield</th>\n",
       "      <th>ext_alloy_wheels</th>\n",
       "      <th>ext_touch_screen</th>\n",
       "      <th>ext_trailer_hitch</th>\n",
       "      <th>ext_voice_control</th>\n",
       "    </tr>\n",
       "  </thead>\n",
       "  <tbody>\n",
       "    <tr>\n",
       "      <th>0</th>\n",
       "      <td>1422.0</td>\n",
       "      <td>Audi</td>\n",
       "      <td>A1</td>\n",
       "      <td>66.0</td>\n",
       "      <td>56013</td>\n",
       "      <td>1.0</td>\n",
       "      <td>0.0</td>\n",
       "      <td>0.0</td>\n",
       "      <td>0.0</td>\n",
       "      <td>0.0</td>\n",
       "      <td>...</td>\n",
       "      <td>0.0</td>\n",
       "      <td>1.0</td>\n",
       "      <td>0.0</td>\n",
       "      <td>0.0</td>\n",
       "      <td>0.0</td>\n",
       "      <td>0.0</td>\n",
       "      <td>1.0</td>\n",
       "      <td>0.0</td>\n",
       "      <td>0.0</td>\n",
       "      <td>1.0</td>\n",
       "    </tr>\n",
       "    <tr>\n",
       "      <th>1</th>\n",
       "      <td>1798.0</td>\n",
       "      <td>Audi</td>\n",
       "      <td>A1</td>\n",
       "      <td>141.0</td>\n",
       "      <td>80000</td>\n",
       "      <td>1.0</td>\n",
       "      <td>0.0</td>\n",
       "      <td>0.0</td>\n",
       "      <td>0.0</td>\n",
       "      <td>0.0</td>\n",
       "      <td>...</td>\n",
       "      <td>0.0</td>\n",
       "      <td>1.0</td>\n",
       "      <td>0.0</td>\n",
       "      <td>1.0</td>\n",
       "      <td>0.0</td>\n",
       "      <td>0.0</td>\n",
       "      <td>1.0</td>\n",
       "      <td>0.0</td>\n",
       "      <td>0.0</td>\n",
       "      <td>1.0</td>\n",
       "    </tr>\n",
       "    <tr>\n",
       "      <th>2</th>\n",
       "      <td>1598.0</td>\n",
       "      <td>Audi</td>\n",
       "      <td>A1</td>\n",
       "      <td>85.0</td>\n",
       "      <td>83450</td>\n",
       "      <td>1.0</td>\n",
       "      <td>0.0</td>\n",
       "      <td>0.0</td>\n",
       "      <td>0.0</td>\n",
       "      <td>0.0</td>\n",
       "      <td>...</td>\n",
       "      <td>0.0</td>\n",
       "      <td>1.0</td>\n",
       "      <td>0.0</td>\n",
       "      <td>0.0</td>\n",
       "      <td>0.0</td>\n",
       "      <td>0.0</td>\n",
       "      <td>1.0</td>\n",
       "      <td>0.0</td>\n",
       "      <td>0.0</td>\n",
       "      <td>1.0</td>\n",
       "    </tr>\n",
       "  </tbody>\n",
       "</table>\n",
       "<p>3 rows × 98 columns</p>\n",
       "</div>"
      ],
      "text/plain": [
       "   displacement  make model     hp     km  ss_abs  ss_adaptive_cruise_control  \\\n",
       "0        1422.0  Audi    A1   66.0  56013     1.0                         0.0   \n",
       "1        1798.0  Audi    A1  141.0  80000     1.0                         0.0   \n",
       "2        1598.0  Audi    A1   85.0  83450     1.0                         0.0   \n",
       "\n",
       "   ss_adaptive_headlights  ss_alarm_system  ss_blind_spot_monitor  ...  \\\n",
       "0                     0.0              0.0                    0.0  ...   \n",
       "1                     0.0              0.0                    0.0  ...   \n",
       "2                     0.0              0.0                    0.0  ...   \n",
       "\n",
       "   cc_split_rear_seats  cc_start_stop_system  cc_sunroof  cc_tinted_windows  \\\n",
       "0                  0.0                   1.0         0.0                0.0   \n",
       "1                  0.0                   1.0         0.0                1.0   \n",
       "2                  0.0                   1.0         0.0                0.0   \n",
       "\n",
       "   cc_wind_deflector  cc_windshield  ext_alloy_wheels  ext_touch_screen  \\\n",
       "0                0.0            0.0               1.0               0.0   \n",
       "1                0.0            0.0               1.0               0.0   \n",
       "2                0.0            0.0               1.0               0.0   \n",
       "\n",
       "   ext_trailer_hitch  ext_voice_control  \n",
       "0                0.0                1.0  \n",
       "1                0.0                1.0  \n",
       "2                0.0                1.0  \n",
       "\n",
       "[3 rows x 98 columns]"
      ]
     },
     "execution_count": 304,
     "metadata": {},
     "output_type": "execute_result"
    }
   ],
   "source": [
    "df.head(3)"
   ]
  },
  {
   "cell_type": "code",
   "execution_count": 305,
   "metadata": {},
   "outputs": [
    {
     "data": {
      "text/plain": [
       "displacement                                float64\n",
       "make                                         object\n",
       "model                                        object\n",
       "hp                                          float64\n",
       "km                                            int64\n",
       "ss_abs                                      float64\n",
       "ss_adaptive_cruise_control                  float64\n",
       "ss_adaptive_headlights                      float64\n",
       "ss_alarm_system                             float64\n",
       "ss_blind_spot_monitor                       float64\n",
       "ss_central_door_lock                        float64\n",
       "ss_central_door_lock_with_remote_control    float64\n",
       "ss_daytime_running_lights                   float64\n",
       "ss_driver_drowsiness_detection              float64\n",
       "ss_driver_side_airbag                       float64\n",
       "ss_electronic_stability_control             float64\n",
       "ss_emergency_brake_assistant                float64\n",
       "ss_emergency_system                         float64\n",
       "ss_fog_lights                               float64\n",
       "ss_head_airbag                              float64\n",
       "ss_immobilizer                              float64\n",
       "ss_isofix                                   float64\n",
       "ss_led_daytime_running_lights               float64\n",
       "ss_led_headlights                           float64\n",
       "ss_lane_departure_warning_system            float64\n",
       "ss_night_view_assist                        float64\n",
       "ss_passenger_side_airbag                    float64\n",
       "ss_power_steering                           float64\n",
       "ss_rear_airbag                              float64\n",
       "ss_side_airbag                              float64\n",
       "                                             ...   \n",
       "cc_heated_steering_wheel                    float64\n",
       "cc_hill_holder                              float64\n",
       "cc_keyless_central_door_lock                float64\n",
       "cc_leather_seats                            float64\n",
       "cc_leather_steering_wheel                   float64\n",
       "cc_light_sensor                             float64\n",
       "cc_lumbar_support                           float64\n",
       "cc_massage_seats                            float64\n",
       "cc_multi_function_steering_wheel            float64\n",
       "cc_navigation_system                        float64\n",
       "cc_panorama_roof                            float64\n",
       "cc_park_distance_control                    float64\n",
       "cc_parking_assist_system_camera             float64\n",
       "cc_parking_assist_system_self_steering      float64\n",
       "cc_parking_assist_system_sensors_front      float64\n",
       "cc_parking_assist_system_sensors_rear       float64\n",
       "cc_power_windows                            float64\n",
       "cc_rain_sensor                              float64\n",
       "cc_seat_heating                             float64\n",
       "cc_seat_ventilation                         float64\n",
       "cc_split_rear_seats                         float64\n",
       "cc_start_stop_system                        float64\n",
       "cc_sunroof                                  float64\n",
       "cc_tinted_windows                           float64\n",
       "cc_wind_deflector                           float64\n",
       "cc_windshield                               float64\n",
       "ext_alloy_wheels                            float64\n",
       "ext_touch_screen                            float64\n",
       "ext_trailer_hitch                           float64\n",
       "ext_voice_control                           float64\n",
       "Length: 98, dtype: object"
      ]
     },
     "execution_count": 305,
     "metadata": {},
     "output_type": "execute_result"
    }
   ],
   "source": [
    "df.dtypes"
   ]
  },
  {
   "cell_type": "markdown",
   "metadata": {},
   "source": [
    "**price column**"
   ]
  },
  {
   "cell_type": "code",
   "execution_count": 338,
   "metadata": {},
   "outputs": [
    {
     "data": {
      "text/plain": [
       "<matplotlib.axes._subplots.AxesSubplot at 0x199022d3780>"
      ]
     },
     "execution_count": 338,
     "metadata": {},
     "output_type": "execute_result"
    },
    {
     "data": {
      "image/png": "[encoded data removed]",
      "text/plain": [
       "<Figure size 432x288 with 1 Axes>"
      ]
     },
     "metadata": {
      "needs_background": "light"
     },
     "output_type": "display_data"
    }
   ],
   "source": [
    "df.boxplot('price')"
   ]
  },
  {
   "cell_type": "code",
   "execution_count": 339,
   "metadata": {},
   "outputs": [
    {
     "data": {
      "text/plain": [
       "8594      13\n",
       "8828     120\n",
       "6066     255\n",
       "8829     331\n",
       "8827    4950\n",
       "Name: price, dtype: int64"
      ]
     },
     "execution_count": 339,
     "metadata": {},
     "output_type": "execute_result"
    }
   ],
   "source": [
    "df.price.sort_values(ascending = True)[:5]"
   ]
  },
  {
   "cell_type": "code",
   "execution_count": null,
   "metadata": {},
   "outputs": [],
   "source": [
    "# 13 euro or 331 euro are not normal. We'll drop these rows."
   ]
  },
  {
   "cell_type": "code",
   "execution_count": 340,
   "metadata": {},
   "outputs": [],
   "source": [
    "df = df.drop([8594, 8828, 6066, 8829])"
   ]
  },
  {
   "cell_type": "markdown",
   "metadata": {},
   "source": [
    "**GET DUMMIES**"
   ]
  },
  {
   "cell_type": "code",
   "execution_count": 306,
   "metadata": {},
   "outputs": [],
   "source": [
    "df= pd.get_dummies(df)"
   ]
  },
  {
   "cell_type": "code",
   "execution_count": 341,
   "metadata": {},
   "outputs": [
    {
     "data": {
      "text/plain": [
       "(14990, 137)"
      ]
     },
     "execution_count": 341,
     "metadata": {},
     "output_type": "execute_result"
    }
   ],
   "source": [
    "df.shape"
   ]
  },
  {
   "cell_type": "code",
   "execution_count": 342,
   "metadata": {},
   "outputs": [],
   "source": [
    "df.to_pickle('golden_data_16_june.pkl')"
   ]
  },
  {
   "cell_type": "markdown",
   "metadata": {},
   "source": [
    "**FEATURE IMPORTANCE**"
   ]
  },
  {
   "cell_type": "code",
   "execution_count": 16,
   "metadata": {},
   "outputs": [],
   "source": [
    "df=pd.read_pickle(\"golden_data_16_june.pkl\")"
   ]
  },
  {
   "cell_type": "code",
   "execution_count": 17,
   "metadata": {},
   "outputs": [
    {
     "data": {
      "text/plain": [
       "(14990, 137)"
      ]
     },
     "execution_count": 17,
     "metadata": {},
     "output_type": "execute_result"
    }
   ],
   "source": [
    "df.shape"
   ]
  },
  {
   "cell_type": "code",
   "execution_count": 21,
   "metadata": {},
   "outputs": [],
   "source": [
    "import statsmodels.api as sm"
   ]
  },
  {
   "cell_type": "code",
   "execution_count": 18,
   "metadata": {},
   "outputs": [],
   "source": [
    "X=df.drop(['price'], axis=1)\n",
    "y=df['price']"
   ]
  },
  {
   "cell_type": "code",
   "execution_count": 313,
   "metadata": {},
   "outputs": [],
   "source": [
    "#we'll make feature imp test to reduce column number."
   ]
  },
  {
   "cell_type": "code",
   "execution_count": 22,
   "metadata": {},
   "outputs": [
    {
     "name": "stdout",
     "output_type": "stream",
     "text": [
      "['displacement', 'hp', 'km', 'ss_adaptive_headlights', 'ss_blind_spot_monitor', 'ss_central_door_lock', 'ss_daytime_running_lights', 'ss_electronic_stability_control', 'ss_emergency_system', 'ss_fog_lights', 'ss_immobilizer', 'ss_isofix', 'ss_led_daytime_running_lights', 'ss_led_headlights', 'ss_lane_departure_warning_system', 'ss_passenger_side_airbag', 'ss_power_steering', 'ss_rear_airbag', 'ss_side_airbag', 'ss_tire_pressure_monitoring_system', 'ss_traction_control', 'ss_xenon_headlights', 'consumption_comb', 'inspection_new', 'age', 'ent_media_bluetooth', 'ent_media_digital_radio', 'ent_media_mp3', 'ent_media_radio', 'ent_media_sound_system', 'ent_media_television', 'ent_media_usb', 'nr_of_doors', 'warranty', 'cc_air_conditioning', 'cc_automatic_climate_control', 'cc_cruise_control', 'cc_electrical_side_mirrors', 'cc_electrically_adjustable_seats', 'cc_electrically_heated_windshield', 'cc_heads_up_display', 'cc_heated_steering_wheel', 'cc_hill_holder', 'cc_keyless_central_door_lock', 'cc_light_sensor', 'cc_lumbar_support', 'cc_massage_seats', 'cc_multi_function_steering_wheel', 'cc_navigation_system', 'cc_panorama_roof', 'cc_park_distance_control', 'cc_parking_assist_system_self_steering', 'cc_parking_assist_system_sensors_front', 'cc_parking_assist_system_sensors_rear', 'cc_rain_sensor', 'cc_seat_ventilation', 'cc_split_rear_seats', 'cc_sunroof', 'ext_alloy_wheels', 'ext_touch_screen', 'ext_voice_control', 'make_Audi', 'make_Renault', 'model_A1', 'model_A2', 'model_Astra', 'model_Clio', 'model_Corsa', 'model_Espace', 'model_Insignia', 'body_Compact', 'body_Convertible', 'body_Sedans', 'body_Station wagon', 'body_Transporter', 'body_Van', 'body_color_Black', 'body_color_Blue', 'body_color_Green', 'body_color_Grey', 'body_color_Red', 'body_color_Silver', 'body_color_Violet', 'body_color_White', 'body_color_Yellow', 'gearing_type_Automatic', 'gearing_type_Semi-automatic', 'fuel_diesel', 'type_Demonstration', 'type_New', 'type_Pre-registered']\n"
     ]
    }
   ],
   "source": [
    "#Backward Elimination\n",
    "cols = list(X.columns)\n",
    "pmax = 1\n",
    "while (len(cols)>0):\n",
    "    p= []\n",
    "    X_1 = X[cols]\n",
    "    X_1 = sm.add_constant(X_1)\n",
    "    model = sm.OLS(y,X_1).fit()\n",
    "    p = pd.Series(model.pvalues.values[1:],index = cols)      \n",
    "    pmax = max(p)\n",
    "    feature_with_p_max = p.idxmax()\n",
    "    if(pmax>0.05):\n",
    "        cols.remove(feature_with_p_max)\n",
    "    else:\n",
    "        break\n",
    "selected_features_BE = cols\n",
    "print(selected_features_BE)"
   ]
  },
  {
   "cell_type": "code",
   "execution_count": 23,
   "metadata": {},
   "outputs": [],
   "source": [
    "reduced_column_list=cols"
   ]
  },
  {
   "cell_type": "code",
   "execution_count": 24,
   "metadata": {},
   "outputs": [
    {
     "data": {
      "text/plain": [
       "91"
      ]
     },
     "execution_count": 24,
     "metadata": {},
     "output_type": "execute_result"
    }
   ],
   "source": [
    "len(reduced_column_list)"
   ]
  },
  {
   "cell_type": "code",
   "execution_count": 25,
   "metadata": {},
   "outputs": [],
   "source": [
    "df=df[reduced_column_list]"
   ]
  },
  {
   "cell_type": "code",
   "execution_count": 26,
   "metadata": {},
   "outputs": [
    {
     "data": {
      "text/plain": [
       "(14990, 91)"
      ]
     },
     "execution_count": 26,
     "metadata": {},
     "output_type": "execute_result"
    }
   ],
   "source": [
    "df.shape"
   ]
  },
  {
   "cell_type": "code",
   "execution_count": 349,
   "metadata": {},
   "outputs": [
    {
     "data": {
      "text/html": [
       "<div>\n",
       "<style scoped>\n",
       "    .dataframe tbody tr th:only-of-type {\n",
       "        vertical-align: middle;\n",
       "    }\n",
       "\n",
       "    .dataframe tbody tr th {\n",
       "        vertical-align: top;\n",
       "    }\n",
       "\n",
       "    .dataframe thead th {\n",
       "        text-align: right;\n",
       "    }\n",
       "</style>\n",
       "<table border=\"1\" class=\"dataframe\">\n",
       "  <thead>\n",
       "    <tr style=\"text-align: right;\">\n",
       "      <th></th>\n",
       "      <th>displacement</th>\n",
       "      <th>hp</th>\n",
       "      <th>km</th>\n",
       "      <th>ss_adaptive_headlights</th>\n",
       "      <th>ss_blind_spot_monitor</th>\n",
       "      <th>ss_central_door_lock</th>\n",
       "      <th>ss_daytime_running_lights</th>\n",
       "      <th>ss_electronic_stability_control</th>\n",
       "      <th>ss_emergency_system</th>\n",
       "      <th>ss_fog_lights</th>\n",
       "      <th>...</th>\n",
       "      <th>body_color_Silver</th>\n",
       "      <th>body_color_Violet</th>\n",
       "      <th>body_color_White</th>\n",
       "      <th>body_color_Yellow</th>\n",
       "      <th>gearing_type_Automatic</th>\n",
       "      <th>gearing_type_Semi-automatic</th>\n",
       "      <th>fuel_diesel</th>\n",
       "      <th>type_Demonstration</th>\n",
       "      <th>type_New</th>\n",
       "      <th>type_Pre-registered</th>\n",
       "    </tr>\n",
       "  </thead>\n",
       "  <tbody>\n",
       "    <tr>\n",
       "      <th>0</th>\n",
       "      <td>1422.0</td>\n",
       "      <td>66.0</td>\n",
       "      <td>56013</td>\n",
       "      <td>0.0</td>\n",
       "      <td>0.0</td>\n",
       "      <td>1.0</td>\n",
       "      <td>1.0</td>\n",
       "      <td>1.0</td>\n",
       "      <td>0.0</td>\n",
       "      <td>1.0</td>\n",
       "      <td>...</td>\n",
       "      <td>0</td>\n",
       "      <td>0</td>\n",
       "      <td>0</td>\n",
       "      <td>0</td>\n",
       "      <td>1</td>\n",
       "      <td>0</td>\n",
       "      <td>1</td>\n",
       "      <td>0</td>\n",
       "      <td>0</td>\n",
       "      <td>0</td>\n",
       "    </tr>\n",
       "    <tr>\n",
       "      <th>1</th>\n",
       "      <td>1798.0</td>\n",
       "      <td>141.0</td>\n",
       "      <td>80000</td>\n",
       "      <td>0.0</td>\n",
       "      <td>0.0</td>\n",
       "      <td>1.0</td>\n",
       "      <td>1.0</td>\n",
       "      <td>1.0</td>\n",
       "      <td>0.0</td>\n",
       "      <td>0.0</td>\n",
       "      <td>...</td>\n",
       "      <td>0</td>\n",
       "      <td>0</td>\n",
       "      <td>0</td>\n",
       "      <td>0</td>\n",
       "      <td>1</td>\n",
       "      <td>0</td>\n",
       "      <td>0</td>\n",
       "      <td>0</td>\n",
       "      <td>0</td>\n",
       "      <td>0</td>\n",
       "    </tr>\n",
       "    <tr>\n",
       "      <th>2</th>\n",
       "      <td>1598.0</td>\n",
       "      <td>85.0</td>\n",
       "      <td>83450</td>\n",
       "      <td>0.0</td>\n",
       "      <td>0.0</td>\n",
       "      <td>1.0</td>\n",
       "      <td>1.0</td>\n",
       "      <td>1.0</td>\n",
       "      <td>0.0</td>\n",
       "      <td>0.0</td>\n",
       "      <td>...</td>\n",
       "      <td>0</td>\n",
       "      <td>0</td>\n",
       "      <td>0</td>\n",
       "      <td>0</td>\n",
       "      <td>1</td>\n",
       "      <td>0</td>\n",
       "      <td>1</td>\n",
       "      <td>0</td>\n",
       "      <td>0</td>\n",
       "      <td>0</td>\n",
       "    </tr>\n",
       "  </tbody>\n",
       "</table>\n",
       "<p>3 rows × 91 columns</p>\n",
       "</div>"
      ],
      "text/plain": [
       "   displacement     hp     km  ss_adaptive_headlights  ss_blind_spot_monitor  \\\n",
       "0        1422.0   66.0  56013                     0.0                    0.0   \n",
       "1        1798.0  141.0  80000                     0.0                    0.0   \n",
       "2        1598.0   85.0  83450                     0.0                    0.0   \n",
       "\n",
       "   ss_central_door_lock  ss_daytime_running_lights  \\\n",
       "0                   1.0                        1.0   \n",
       "1                   1.0                        1.0   \n",
       "2                   1.0                        1.0   \n",
       "\n",
       "   ss_electronic_stability_control  ss_emergency_system  ss_fog_lights  ...  \\\n",
       "0                              1.0                  0.0            1.0  ...   \n",
       "1                              1.0                  0.0            0.0  ...   \n",
       "2                              1.0                  0.0            0.0  ...   \n",
       "\n",
       "   body_color_Silver  body_color_Violet  body_color_White  body_color_Yellow  \\\n",
       "0                  0                  0                 0                  0   \n",
       "1                  0                  0                 0                  0   \n",
       "2                  0                  0                 0                  0   \n",
       "\n",
       "   gearing_type_Automatic  gearing_type_Semi-automatic  fuel_diesel  \\\n",
       "0                       1                            0            1   \n",
       "1                       1                            0            0   \n",
       "2                       1                            0            1   \n",
       "\n",
       "   type_Demonstration  type_New  type_Pre-registered  \n",
       "0                   0         0                    0  \n",
       "1                   0         0                    0  \n",
       "2                   0         0                    0  \n",
       "\n",
       "[3 rows x 91 columns]"
      ]
     },
     "execution_count": 349,
     "metadata": {},
     "output_type": "execute_result"
    }
   ],
   "source": [
    "df.head(3)"
   ]
  },
  {
   "cell_type": "code",
   "execution_count": 350,
   "metadata": {},
   "outputs": [
    {
     "data": {
      "text/html": [
       "<div>\n",
       "<style scoped>\n",
       "    .dataframe tbody tr th:only-of-type {\n",
       "        vertical-align: middle;\n",
       "    }\n",
       "\n",
       "    .dataframe tbody tr th {\n",
       "        vertical-align: top;\n",
       "    }\n",
       "\n",
       "    .dataframe thead th {\n",
       "        text-align: right;\n",
       "    }\n",
       "</style>\n",
       "<table border=\"1\" class=\"dataframe\">\n",
       "  <thead>\n",
       "    <tr style=\"text-align: right;\">\n",
       "      <th></th>\n",
       "      <th>displacement</th>\n",
       "      <th>hp</th>\n",
       "      <th>km</th>\n",
       "      <th>ss_adaptive_headlights</th>\n",
       "      <th>ss_blind_spot_monitor</th>\n",
       "      <th>ss_central_door_lock</th>\n",
       "      <th>ss_daytime_running_lights</th>\n",
       "      <th>ss_electronic_stability_control</th>\n",
       "      <th>ss_emergency_system</th>\n",
       "      <th>ss_fog_lights</th>\n",
       "      <th>...</th>\n",
       "      <th>body_color_Silver</th>\n",
       "      <th>body_color_Violet</th>\n",
       "      <th>body_color_White</th>\n",
       "      <th>body_color_Yellow</th>\n",
       "      <th>gearing_type_Automatic</th>\n",
       "      <th>gearing_type_Semi-automatic</th>\n",
       "      <th>fuel_diesel</th>\n",
       "      <th>type_Demonstration</th>\n",
       "      <th>type_New</th>\n",
       "      <th>type_Pre-registered</th>\n",
       "    </tr>\n",
       "  </thead>\n",
       "  <tbody>\n",
       "    <tr>\n",
       "      <th>count</th>\n",
       "      <td>14990.000000</td>\n",
       "      <td>14990.000000</td>\n",
       "      <td>14990.000000</td>\n",
       "      <td>14990.000000</td>\n",
       "      <td>14990.000000</td>\n",
       "      <td>14990.000000</td>\n",
       "      <td>14990.000000</td>\n",
       "      <td>14990.000000</td>\n",
       "      <td>14990.000000</td>\n",
       "      <td>14990.000000</td>\n",
       "      <td>...</td>\n",
       "      <td>14990.000000</td>\n",
       "      <td>14990.000000</td>\n",
       "      <td>14990.000000</td>\n",
       "      <td>14990.000000</td>\n",
       "      <td>14990.000000</td>\n",
       "      <td>14990.000000</td>\n",
       "      <td>14990.000000</td>\n",
       "      <td>14990.000000</td>\n",
       "      <td>14990.000000</td>\n",
       "      <td>14990.000000</td>\n",
       "    </tr>\n",
       "    <tr>\n",
       "      <th>mean</th>\n",
       "      <td>1432.258843</td>\n",
       "      <td>88.231744</td>\n",
       "      <td>33894.105203</td>\n",
       "      <td>0.133422</td>\n",
       "      <td>0.082188</td>\n",
       "      <td>0.859239</td>\n",
       "      <td>0.707605</td>\n",
       "      <td>0.888726</td>\n",
       "      <td>0.095197</td>\n",
       "      <td>0.568312</td>\n",
       "      <td>...</td>\n",
       "      <td>0.108072</td>\n",
       "      <td>0.001201</td>\n",
       "      <td>0.211074</td>\n",
       "      <td>0.002535</td>\n",
       "      <td>0.460040</td>\n",
       "      <td>0.030754</td>\n",
       "      <td>0.471781</td>\n",
       "      <td>0.051634</td>\n",
       "      <td>0.054236</td>\n",
       "      <td>0.090127</td>\n",
       "    </tr>\n",
       "    <tr>\n",
       "      <th>std</th>\n",
       "      <td>271.764876</td>\n",
       "      <td>26.617304</td>\n",
       "      <td>37284.577857</td>\n",
       "      <td>0.340042</td>\n",
       "      <td>0.274660</td>\n",
       "      <td>0.347786</td>\n",
       "      <td>0.454878</td>\n",
       "      <td>0.314482</td>\n",
       "      <td>0.293496</td>\n",
       "      <td>0.495328</td>\n",
       "      <td>...</td>\n",
       "      <td>0.310482</td>\n",
       "      <td>0.034633</td>\n",
       "      <td>0.408084</td>\n",
       "      <td>0.050287</td>\n",
       "      <td>0.498417</td>\n",
       "      <td>0.172656</td>\n",
       "      <td>0.499220</td>\n",
       "      <td>0.221295</td>\n",
       "      <td>0.226491</td>\n",
       "      <td>0.286373</td>\n",
       "    </tr>\n",
       "    <tr>\n",
       "      <th>min</th>\n",
       "      <td>890.000000</td>\n",
       "      <td>40.000000</td>\n",
       "      <td>0.000000</td>\n",
       "      <td>0.000000</td>\n",
       "      <td>0.000000</td>\n",
       "      <td>0.000000</td>\n",
       "      <td>0.000000</td>\n",
       "      <td>0.000000</td>\n",
       "      <td>0.000000</td>\n",
       "      <td>0.000000</td>\n",
       "      <td>...</td>\n",
       "      <td>0.000000</td>\n",
       "      <td>0.000000</td>\n",
       "      <td>0.000000</td>\n",
       "      <td>0.000000</td>\n",
       "      <td>0.000000</td>\n",
       "      <td>0.000000</td>\n",
       "      <td>0.000000</td>\n",
       "      <td>0.000000</td>\n",
       "      <td>0.000000</td>\n",
       "      <td>0.000000</td>\n",
       "    </tr>\n",
       "    <tr>\n",
       "      <th>25%</th>\n",
       "      <td>1229.000000</td>\n",
       "      <td>66.000000</td>\n",
       "      <td>5000.000000</td>\n",
       "      <td>0.000000</td>\n",
       "      <td>0.000000</td>\n",
       "      <td>1.000000</td>\n",
       "      <td>0.000000</td>\n",
       "      <td>1.000000</td>\n",
       "      <td>0.000000</td>\n",
       "      <td>0.000000</td>\n",
       "      <td>...</td>\n",
       "      <td>0.000000</td>\n",
       "      <td>0.000000</td>\n",
       "      <td>0.000000</td>\n",
       "      <td>0.000000</td>\n",
       "      <td>0.000000</td>\n",
       "      <td>0.000000</td>\n",
       "      <td>0.000000</td>\n",
       "      <td>0.000000</td>\n",
       "      <td>0.000000</td>\n",
       "      <td>0.000000</td>\n",
       "    </tr>\n",
       "    <tr>\n",
       "      <th>50%</th>\n",
       "      <td>1461.000000</td>\n",
       "      <td>85.000000</td>\n",
       "      <td>22487.000000</td>\n",
       "      <td>0.000000</td>\n",
       "      <td>0.000000</td>\n",
       "      <td>1.000000</td>\n",
       "      <td>1.000000</td>\n",
       "      <td>1.000000</td>\n",
       "      <td>0.000000</td>\n",
       "      <td>1.000000</td>\n",
       "      <td>...</td>\n",
       "      <td>0.000000</td>\n",
       "      <td>0.000000</td>\n",
       "      <td>0.000000</td>\n",
       "      <td>0.000000</td>\n",
       "      <td>0.000000</td>\n",
       "      <td>0.000000</td>\n",
       "      <td>0.000000</td>\n",
       "      <td>0.000000</td>\n",
       "      <td>0.000000</td>\n",
       "      <td>0.000000</td>\n",
       "    </tr>\n",
       "    <tr>\n",
       "      <th>75%</th>\n",
       "      <td>1598.000000</td>\n",
       "      <td>100.000000</td>\n",
       "      <td>49264.500000</td>\n",
       "      <td>0.000000</td>\n",
       "      <td>0.000000</td>\n",
       "      <td>1.000000</td>\n",
       "      <td>1.000000</td>\n",
       "      <td>1.000000</td>\n",
       "      <td>0.000000</td>\n",
       "      <td>1.000000</td>\n",
       "      <td>...</td>\n",
       "      <td>0.000000</td>\n",
       "      <td>0.000000</td>\n",
       "      <td>0.000000</td>\n",
       "      <td>0.000000</td>\n",
       "      <td>1.000000</td>\n",
       "      <td>0.000000</td>\n",
       "      <td>1.000000</td>\n",
       "      <td>0.000000</td>\n",
       "      <td>0.000000</td>\n",
       "      <td>0.000000</td>\n",
       "    </tr>\n",
       "    <tr>\n",
       "      <th>max</th>\n",
       "      <td>2967.000000</td>\n",
       "      <td>294.000000</td>\n",
       "      <td>317000.000000</td>\n",
       "      <td>1.000000</td>\n",
       "      <td>1.000000</td>\n",
       "      <td>1.000000</td>\n",
       "      <td>1.000000</td>\n",
       "      <td>1.000000</td>\n",
       "      <td>1.000000</td>\n",
       "      <td>1.000000</td>\n",
       "      <td>...</td>\n",
       "      <td>1.000000</td>\n",
       "      <td>1.000000</td>\n",
       "      <td>1.000000</td>\n",
       "      <td>1.000000</td>\n",
       "      <td>1.000000</td>\n",
       "      <td>1.000000</td>\n",
       "      <td>1.000000</td>\n",
       "      <td>1.000000</td>\n",
       "      <td>1.000000</td>\n",
       "      <td>1.000000</td>\n",
       "    </tr>\n",
       "  </tbody>\n",
       "</table>\n",
       "<p>8 rows × 91 columns</p>\n",
       "</div>"
      ],
      "text/plain": [
       "       displacement            hp             km  ss_adaptive_headlights  \\\n",
       "count  14990.000000  14990.000000   14990.000000            14990.000000   \n",
       "mean    1432.258843     88.231744   33894.105203                0.133422   \n",
       "std      271.764876     26.617304   37284.577857                0.340042   \n",
       "min      890.000000     40.000000       0.000000                0.000000   \n",
       "25%     1229.000000     66.000000    5000.000000                0.000000   \n",
       "50%     1461.000000     85.000000   22487.000000                0.000000   \n",
       "75%     1598.000000    100.000000   49264.500000                0.000000   \n",
       "max     2967.000000    294.000000  317000.000000                1.000000   \n",
       "\n",
       "       ss_blind_spot_monitor  ss_central_door_lock  ss_daytime_running_lights  \\\n",
       "count           14990.000000          14990.000000               14990.000000   \n",
       "mean                0.082188              0.859239                   0.707605   \n",
       "std                 0.274660              0.347786                   0.454878   \n",
       "min                 0.000000              0.000000                   0.000000   \n",
       "25%                 0.000000              1.000000                   0.000000   \n",
       "50%                 0.000000              1.000000                   1.000000   \n",
       "75%                 0.000000              1.000000                   1.000000   \n",
       "max                 1.000000              1.000000                   1.000000   \n",
       "\n",
       "       ss_electronic_stability_control  ss_emergency_system  ss_fog_lights  \\\n",
       "count                     14990.000000         14990.000000   14990.000000   \n",
       "mean                          0.888726             0.095197       0.568312   \n",
       "std                           0.314482             0.293496       0.495328   \n",
       "min                           0.000000             0.000000       0.000000   \n",
       "25%                           1.000000             0.000000       0.000000   \n",
       "50%                           1.000000             0.000000       1.000000   \n",
       "75%                           1.000000             0.000000       1.000000   \n",
       "max                           1.000000             1.000000       1.000000   \n",
       "\n",
       "       ...  body_color_Silver  body_color_Violet  body_color_White  \\\n",
       "count  ...       14990.000000       14990.000000      14990.000000   \n",
       "mean   ...           0.108072           0.001201          0.211074   \n",
       "std    ...           0.310482           0.034633          0.408084   \n",
       "min    ...           0.000000           0.000000          0.000000   \n",
       "25%    ...           0.000000           0.000000          0.000000   \n",
       "50%    ...           0.000000           0.000000          0.000000   \n",
       "75%    ...           0.000000           0.000000          0.000000   \n",
       "max    ...           1.000000           1.000000          1.000000   \n",
       "\n",
       "       body_color_Yellow  gearing_type_Automatic  gearing_type_Semi-automatic  \\\n",
       "count       14990.000000            14990.000000                 14990.000000   \n",
       "mean            0.002535                0.460040                     0.030754   \n",
       "std             0.050287                0.498417                     0.172656   \n",
       "min             0.000000                0.000000                     0.000000   \n",
       "25%             0.000000                0.000000                     0.000000   \n",
       "50%             0.000000                0.000000                     0.000000   \n",
       "75%             0.000000                1.000000                     0.000000   \n",
       "max             1.000000                1.000000                     1.000000   \n",
       "\n",
       "        fuel_diesel  type_Demonstration      type_New  type_Pre-registered  \n",
       "count  14990.000000        14990.000000  14990.000000         14990.000000  \n",
       "mean       0.471781            0.051634      0.054236             0.090127  \n",
       "std        0.499220            0.221295      0.226491             0.286373  \n",
       "min        0.000000            0.000000      0.000000             0.000000  \n",
       "25%        0.000000            0.000000      0.000000             0.000000  \n",
       "50%        0.000000            0.000000      0.000000             0.000000  \n",
       "75%        1.000000            0.000000      0.000000             0.000000  \n",
       "max        1.000000            1.000000      1.000000             1.000000  \n",
       "\n",
       "[8 rows x 91 columns]"
      ]
     },
     "execution_count": 350,
     "metadata": {},
     "output_type": "execute_result"
    }
   ],
   "source": [
    "df.describe()"
   ]
  },
  {
   "cell_type": "markdown",
   "metadata": {},
   "source": [
    "**MODEL**"
   ]
  },
  {
   "cell_type": "markdown",
   "metadata": {},
   "source": [
    "**1.RF**"
   ]
  },
  {
   "cell_type": "code",
   "execution_count": 351,
   "metadata": {},
   "outputs": [],
   "source": [
    "#during backward elemination we seperated price column from df. now we join it to df."
   ]
  },
  {
   "cell_type": "code",
   "execution_count": 27,
   "metadata": {},
   "outputs": [],
   "source": [
    "df=df.join(y)"
   ]
  },
  {
   "cell_type": "code",
   "execution_count": 28,
   "metadata": {},
   "outputs": [
    {
     "data": {
      "text/plain": [
       "(14990, 92)"
      ]
     },
     "execution_count": 28,
     "metadata": {},
     "output_type": "execute_result"
    }
   ],
   "source": [
    "df.shape"
   ]
  },
  {
   "cell_type": "code",
   "execution_count": 29,
   "metadata": {},
   "outputs": [],
   "source": [
    "df.to_pickle('golden_data_reduced_16june.pkl')"
   ]
  },
  {
   "cell_type": "code",
   "execution_count": 30,
   "metadata": {},
   "outputs": [],
   "source": [
    "X=df.drop(['price'], axis=1)\n",
    "y=df['price']"
   ]
  },
  {
   "cell_type": "code",
   "execution_count": 31,
   "metadata": {},
   "outputs": [
    {
     "data": {
      "text/plain": [
       "(14990, 91)"
      ]
     },
     "execution_count": 31,
     "metadata": {},
     "output_type": "execute_result"
    }
   ],
   "source": [
    "X.shape"
   ]
  },
  {
   "cell_type": "code",
   "execution_count": 32,
   "metadata": {},
   "outputs": [
    {
     "data": {
      "text/plain": [
       "(14990,)"
      ]
     },
     "execution_count": 32,
     "metadata": {},
     "output_type": "execute_result"
    }
   ],
   "source": [
    "y.shape"
   ]
  },
  {
   "cell_type": "code",
   "execution_count": 356,
   "metadata": {},
   "outputs": [],
   "source": [
    "#now we will make our first model to predict price by using 93 selected independent columns."
   ]
  },
  {
   "cell_type": "code",
   "execution_count": 33,
   "metadata": {},
   "outputs": [],
   "source": [
    "from sklearn.model_selection import train_test_split\n",
    "X_train, X_test, y_train, y_test = train_test_split(X, y, test_size=0.2, random_state=0)"
   ]
  },
  {
   "cell_type": "code",
   "execution_count": 34,
   "metadata": {},
   "outputs": [
    {
     "data": {
      "text/plain": [
       "RandomForestRegressor(bootstrap=True, criterion='mse', max_depth=None,\n",
       "           max_features='auto', max_leaf_nodes=None,\n",
       "           min_impurity_decrease=0.0, min_impurity_split=None,\n",
       "           min_samples_leaf=1, min_samples_split=2,\n",
       "           min_weight_fraction_leaf=0.0, n_estimators=100, n_jobs=None,\n",
       "           oob_score=False, random_state=10, verbose=0, warm_start=False)"
      ]
     },
     "execution_count": 34,
     "metadata": {},
     "output_type": "execute_result"
    }
   ],
   "source": [
    "from sklearn.ensemble import RandomForestRegressor\n",
    "regressor=RandomForestRegressor(n_estimators=100, random_state=10)\n",
    "regressor.fit(X_train, y_train)"
   ]
  },
  {
   "cell_type": "code",
   "execution_count": 35,
   "metadata": {},
   "outputs": [
    {
     "name": "stdout",
     "output_type": "stream",
     "text": [
      "0.955957083296823\n"
     ]
    }
   ],
   "source": [
    "print(regressor.score(X_test,y_test))"
   ]
  },
  {
   "cell_type": "code",
   "execution_count": null,
   "metadata": {},
   "outputs": [],
   "source": [
    "from sklearn.model_selection import cross_val_score\n",
    "accuraries = cross_val_score(estimator=regressor, X=X_train, y=y_train, cv=10)"
   ]
  },
  {
   "cell_type": "code",
   "execution_count": 332,
   "metadata": {},
   "outputs": [
    {
     "data": {
      "text/plain": [
       "0.9527053689703878"
      ]
     },
     "execution_count": 332,
     "metadata": {},
     "output_type": "execute_result"
    }
   ],
   "source": [
    "accuraries.mean()"
   ]
  },
  {
   "cell_type": "markdown",
   "metadata": {},
   "source": [
    "**2. XG BOOST**"
   ]
  },
  {
   "cell_type": "code",
   "execution_count": 9,
   "metadata": {},
   "outputs": [
    {
     "name": "stdout",
     "output_type": "stream",
     "text": [
      "[02:16:43] WARNING: src/objective/regression_obj.cu:152: reg:linear is now deprecated in favor of reg:squarederror.\n"
     ]
    },
    {
     "data": {
      "text/plain": [
       "XGBRegressor(base_score=0.5, booster='gbtree', colsample_bylevel=1,\n",
       "       colsample_bynode=1, colsample_bytree=1, gamma=0,\n",
       "       importance_type='gain', learning_rate=0.1, max_delta_step=0,\n",
       "       max_depth=3, min_child_weight=1, missing=None, n_estimators=100,\n",
       "       n_jobs=1, nthread=None, objective='reg:linear', random_state=0,\n",
       "       reg_alpha=0, reg_lambda=1, scale_pos_weight=1, seed=None,\n",
       "       silent=None, subsample=1, verbosity=1)"
      ]
     },
     "execution_count": 9,
     "metadata": {},
     "output_type": "execute_result"
    }
   ],
   "source": [
    "import xgboost\n",
    "model = xgboost.XGBRegressor()\n",
    "from sklearn.model_selection import train_test_split\n",
    "X_train, X_test, y_train, y_test = train_test_split(X, y, test_size=0.2, random_state=0)\n",
    "model.fit(X_train, y_train)"
   ]
  },
  {
   "cell_type": "code",
   "execution_count": 10,
   "metadata": {},
   "outputs": [
    {
     "data": {
      "text/plain": [
       "0.9340952852755392"
      ]
     },
     "execution_count": 10,
     "metadata": {},
     "output_type": "execute_result"
    }
   ],
   "source": [
    "model.score(X_test, y_test)"
   ]
  },
  {
   "cell_type": "markdown",
   "metadata": {},
   "source": [
    "**CATBOOST**"
   ]
  },
  {
   "cell_type": "code",
   "execution_count": 36,
   "metadata": {},
   "outputs": [
    {
     "name": "stdout",
     "output_type": "stream",
     "text": [
      "0:\tlearn: 6212.8358803\ttotal: 28.2ms\tremaining: 28.2ms\n",
      "1:\tlearn: 4730.6813581\ttotal: 47.6ms\tremaining: 0us\n"
     ]
    },
    {
     "data": {
      "text/plain": [
       "<catboost.core.CatBoostRegressor at 0x20f00fb8e10>"
      ]
     },
     "execution_count": 36,
     "metadata": {},
     "output_type": "execute_result"
    }
   ],
   "source": [
    "from catboost import CatBoostRegressor\n",
    "model = CatBoostRegressor(iterations=2,\n",
    "                          learning_rate=1,\n",
    "                          depth=2)\n",
    "from sklearn.model_selection import train_test_split\n",
    "X_train, X_test, y_train, y_test = train_test_split(X, y, test_size=0.2, random_state=0)\n",
    "model.fit(X_train, y_train)"
   ]
  },
  {
   "cell_type": "code",
   "execution_count": 37,
   "metadata": {},
   "outputs": [
    {
     "data": {
      "text/plain": [
       "4553.967153255164"
      ]
     },
     "execution_count": 37,
     "metadata": {},
     "output_type": "execute_result"
    }
   ],
   "source": [
    "model.score(X_test, y_test)"
   ]
  },
  {
   "cell_type": "code",
   "execution_count": null,
   "metadata": {},
   "outputs": [],
   "source": []
  }
 ],
 "metadata": {
  "kernelspec": {
   "display_name": "Python 3",
   "language": "python",
   "name": "python3"
  },
  "language_info": {
   "codemirror_mode": {
    "name": "ipython",
    "version": 3
   },
   "file_extension": ".py",
   "mimetype": "text/x-python",
   "name": "python",
   "nbconvert_exporter": "python",
   "pygments_lexer": "ipython3",
   "version": "3.7.3"
  },
  "toc": {
   "base_numbering": 1,
   "nav_menu": {},
   "number_sections": true,
   "sideBar": true,
   "skip_h1_title": false,
   "title_cell": "Table of Contents",
   "title_sidebar": "Contents",
   "toc_cell": false,
   "toc_position": {
    "height": "47.71px",
    "left": "1207.24px",
    "top": "111.14px",
    "width": "212px"
   },
   "toc_section_display": true,
   "toc_window_display": true
  },
  "toc-autonumbering": true,
  "toc-showcode": false,
  "toc-showmarkdowntxt": true,
  "toc-showtags": false
 },
 "nbformat": 4,
 "nbformat_minor": 2
}
